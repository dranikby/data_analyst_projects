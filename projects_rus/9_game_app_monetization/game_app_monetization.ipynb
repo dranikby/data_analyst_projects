{
 "cells": [
  {
   "cell_type": "markdown",
   "id": "2c993aec",
   "metadata": {},
   "source": [
    "# Презентация"
   ]
  },
  {
   "cell_type": "markdown",
   "id": "90a97cec",
   "metadata": {},
   "source": [
    "Презентация: https://drive.google.com/file/d/1d5Zor3xASjfhD7HuFdGZTH9XfMi9qdRc/view?usp=sharing"
   ]
  },
  {
   "cell_type": "markdown",
   "id": "4ff112a5",
   "metadata": {},
   "source": [
    "# Задача: сформировать модель монетизации игрового приложения."
   ]
  },
  {
   "cell_type": "markdown",
   "id": "31612d81",
   "metadata": {},
   "source": [
    "**Цель исследования:**\n",
    "1. сформулировать модель монетизации игрового приложения.\n",
    "\n",
    "**Ход исследования**\n",
    "\n",
    "Исследование пройдёт по следующим этапам:\n",
    " 1. Загрузка и первичный обзор данных.\n",
    " 2. Предобработка данных - поиск пропущенных значений, изменение типов данных, поиск дубликатов, корректировка названий столбцов, добавление новых столбцов для исследования.\n",
    " 3. Исследовательский анализ данных.\n",
    " 4. Формирование модели окупаемости рекламы.\n",
    " 5. Проверка гипотез.\n",
    " 7. Выводы.\n",
    " 8. Дэшборд.\n",
    "\n",
    "**Оглавление**\n",
    "<a id='section_id8'></a>\n",
    "1. [Загрузка и первичный обзор данных](#section_id1)\n",
    "2. [Предобработка данных](#section_id2)\n",
    "3. [Исследовательский анализ данных](#section_id3)\n",
    "4. [Модель окупаемости рекламы](#section_id4)\n",
    "5. [Проверка гипотез](#section_id5)\n",
    "6. [Выводы](#section_id6)\n",
    "7. [Дэшборд](#section_id7)"
   ]
  },
  {
   "cell_type": "code",
   "execution_count": 1,
   "id": "b161665b",
   "metadata": {},
   "outputs": [],
   "source": [
    "# загружаем необходимые библиотеки\n",
    "import pandas as pd\n",
    "import numpy as np\n",
    "import seaborn as sns\n",
    "import matplotlib.pyplot as plt\n",
    "import datetime as dt\n",
    "import scipy.stats as stats"
   ]
  },
  {
   "cell_type": "code",
   "execution_count": 2,
   "id": "71101de4",
   "metadata": {},
   "outputs": [],
   "source": [
    "pd.options.display.float_format = '{:,.2f}'.format # установим удобный формат отображения чисел"
   ]
  },
  {
   "cell_type": "markdown",
   "id": "558c41df",
   "metadata": {},
   "source": [
    "<a id='section_id1'></a>\n",
    "## Загрузка и первичный обзор данных"
   ]
  },
  {
   "cell_type": "code",
   "execution_count": 3,
   "id": "8aa545c4",
   "metadata": {},
   "outputs": [],
   "source": [
    "# загружаем датасеты\n",
    "game_actions = pd.read_csv('datasets/game_actions.csv')\n",
    "ad_costs = pd.read_csv('datasets/ad_costs.csv')\n",
    "user_source = pd.read_csv('datasets/user_source.csv')"
   ]
  },
  {
   "cell_type": "markdown",
   "id": "115ab512",
   "metadata": {},
   "source": [
    "### game_actions"
   ]
  },
  {
   "cell_type": "code",
   "execution_count": 4,
   "id": "ed4a386e",
   "metadata": {},
   "outputs": [
    {
     "data": {
      "text/html": [
       "<div>\n",
       "<style scoped>\n",
       "    .dataframe tbody tr th:only-of-type {\n",
       "        vertical-align: middle;\n",
       "    }\n",
       "\n",
       "    .dataframe tbody tr th {\n",
       "        vertical-align: top;\n",
       "    }\n",
       "\n",
       "    .dataframe thead th {\n",
       "        text-align: right;\n",
       "    }\n",
       "</style>\n",
       "<table border=\"1\" class=\"dataframe\">\n",
       "  <thead>\n",
       "    <tr style=\"text-align: right;\">\n",
       "      <th></th>\n",
       "      <th>event_datetime</th>\n",
       "      <th>event</th>\n",
       "      <th>building_type</th>\n",
       "      <th>user_id</th>\n",
       "      <th>project_type</th>\n",
       "    </tr>\n",
       "  </thead>\n",
       "  <tbody>\n",
       "    <tr>\n",
       "      <th>0</th>\n",
       "      <td>2020-05-04 00:00:01</td>\n",
       "      <td>building</td>\n",
       "      <td>assembly_shop</td>\n",
       "      <td>55e92310-cb8e-4754-b622-597e124b03de</td>\n",
       "      <td>NaN</td>\n",
       "    </tr>\n",
       "    <tr>\n",
       "      <th>1</th>\n",
       "      <td>2020-05-04 00:00:03</td>\n",
       "      <td>building</td>\n",
       "      <td>assembly_shop</td>\n",
       "      <td>c07b1c10-f477-44dc-81dc-ec82254b1347</td>\n",
       "      <td>NaN</td>\n",
       "    </tr>\n",
       "    <tr>\n",
       "      <th>2</th>\n",
       "      <td>2020-05-04 00:00:16</td>\n",
       "      <td>building</td>\n",
       "      <td>assembly_shop</td>\n",
       "      <td>6edd42cc-e753-4ff6-a947-2107cd560710</td>\n",
       "      <td>NaN</td>\n",
       "    </tr>\n",
       "    <tr>\n",
       "      <th>3</th>\n",
       "      <td>2020-05-04 00:00:16</td>\n",
       "      <td>building</td>\n",
       "      <td>assembly_shop</td>\n",
       "      <td>92c69003-d60a-444a-827f-8cc51bf6bf4c</td>\n",
       "      <td>NaN</td>\n",
       "    </tr>\n",
       "    <tr>\n",
       "      <th>4</th>\n",
       "      <td>2020-05-04 00:00:35</td>\n",
       "      <td>building</td>\n",
       "      <td>assembly_shop</td>\n",
       "      <td>cdc6bb92-0ccb-4490-9866-ef142f09139d</td>\n",
       "      <td>NaN</td>\n",
       "    </tr>\n",
       "  </tbody>\n",
       "</table>\n",
       "</div>"
      ],
      "text/plain": [
       "        event_datetime     event  building_type  \\\n",
       "0  2020-05-04 00:00:01  building  assembly_shop   \n",
       "1  2020-05-04 00:00:03  building  assembly_shop   \n",
       "2  2020-05-04 00:00:16  building  assembly_shop   \n",
       "3  2020-05-04 00:00:16  building  assembly_shop   \n",
       "4  2020-05-04 00:00:35  building  assembly_shop   \n",
       "\n",
       "                                user_id project_type  \n",
       "0  55e92310-cb8e-4754-b622-597e124b03de          NaN  \n",
       "1  c07b1c10-f477-44dc-81dc-ec82254b1347          NaN  \n",
       "2  6edd42cc-e753-4ff6-a947-2107cd560710          NaN  \n",
       "3  92c69003-d60a-444a-827f-8cc51bf6bf4c          NaN  \n",
       "4  cdc6bb92-0ccb-4490-9866-ef142f09139d          NaN  "
      ]
     },
     "execution_count": 4,
     "metadata": {},
     "output_type": "execute_result"
    }
   ],
   "source": [
    "game_actions.head()"
   ]
  },
  {
   "cell_type": "code",
   "execution_count": 5,
   "id": "eac252c8",
   "metadata": {
    "scrolled": true
   },
   "outputs": [
    {
     "name": "stdout",
     "output_type": "stream",
     "text": [
      "<class 'pandas.core.frame.DataFrame'>\n",
      "RangeIndex: 135640 entries, 0 to 135639\n",
      "Data columns (total 5 columns):\n",
      " #   Column          Non-Null Count   Dtype \n",
      "---  ------          --------------   ----- \n",
      " 0   event_datetime  135640 non-null  object\n",
      " 1   event           135640 non-null  object\n",
      " 2   building_type   127957 non-null  object\n",
      " 3   user_id         135640 non-null  object\n",
      " 4   project_type    1866 non-null    object\n",
      "dtypes: object(5)\n",
      "memory usage: 5.2+ MB\n"
     ]
    }
   ],
   "source": [
    "game_actions.info()"
   ]
  },
  {
   "cell_type": "code",
   "execution_count": 6,
   "id": "83ce43d3",
   "metadata": {
    "scrolled": true
   },
   "outputs": [
    {
     "name": "stdout",
     "output_type": "stream",
     "text": [
      "['2020-05-04 00:00:01' '2020-05-04 00:00:03' '2020-05-04 00:00:16' ...\n",
      " '2020-06-05 08:57:52' '2020-06-05 12:12:27' '2020-06-05 12:32:49']\n",
      "\n",
      "['building' 'finished_stage_1' 'project']\n",
      "\n",
      "['assembly_shop' 'spaceport' nan 'research_center']\n",
      "\n",
      "['55e92310-cb8e-4754-b622-597e124b03de'\n",
      " 'c07b1c10-f477-44dc-81dc-ec82254b1347'\n",
      " '6edd42cc-e753-4ff6-a947-2107cd560710' ...\n",
      " '7b225969-375a-455e-a14a-ed1ab373fb65'\n",
      " 'cafd1b8b-507b-49ae-abf0-89fe863a8b03'\n",
      " 'bdc53e19-462a-4dc3-8b55-b4a34278af6a']\n",
      "\n",
      "[nan 'satellite_orbital_assembly']\n",
      "\n"
     ]
    }
   ],
   "source": [
    "# посмотрим на уникальные значения в колонках. Интересуют event, building_type, project_type\n",
    "for column in game_actions.columns:\n",
    "    print(game_actions[column].unique())\n",
    "    print()"
   ]
  },
  {
   "cell_type": "markdown",
   "id": "5267c595",
   "metadata": {},
   "source": [
    "### ad_costs"
   ]
  },
  {
   "cell_type": "code",
   "execution_count": 7,
   "id": "52a32bd5",
   "metadata": {
    "scrolled": true
   },
   "outputs": [
    {
     "data": {
      "text/html": [
       "<div>\n",
       "<style scoped>\n",
       "    .dataframe tbody tr th:only-of-type {\n",
       "        vertical-align: middle;\n",
       "    }\n",
       "\n",
       "    .dataframe tbody tr th {\n",
       "        vertical-align: top;\n",
       "    }\n",
       "\n",
       "    .dataframe thead th {\n",
       "        text-align: right;\n",
       "    }\n",
       "</style>\n",
       "<table border=\"1\" class=\"dataframe\">\n",
       "  <thead>\n",
       "    <tr style=\"text-align: right;\">\n",
       "      <th></th>\n",
       "      <th>source</th>\n",
       "      <th>day</th>\n",
       "      <th>cost</th>\n",
       "    </tr>\n",
       "  </thead>\n",
       "  <tbody>\n",
       "    <tr>\n",
       "      <th>0</th>\n",
       "      <td>facebook_ads</td>\n",
       "      <td>2020-05-03</td>\n",
       "      <td>935.88</td>\n",
       "    </tr>\n",
       "    <tr>\n",
       "      <th>1</th>\n",
       "      <td>facebook_ads</td>\n",
       "      <td>2020-05-04</td>\n",
       "      <td>548.35</td>\n",
       "    </tr>\n",
       "    <tr>\n",
       "      <th>2</th>\n",
       "      <td>facebook_ads</td>\n",
       "      <td>2020-05-05</td>\n",
       "      <td>260.19</td>\n",
       "    </tr>\n",
       "    <tr>\n",
       "      <th>3</th>\n",
       "      <td>facebook_ads</td>\n",
       "      <td>2020-05-06</td>\n",
       "      <td>177.98</td>\n",
       "    </tr>\n",
       "    <tr>\n",
       "      <th>4</th>\n",
       "      <td>facebook_ads</td>\n",
       "      <td>2020-05-07</td>\n",
       "      <td>111.77</td>\n",
       "    </tr>\n",
       "  </tbody>\n",
       "</table>\n",
       "</div>"
      ],
      "text/plain": [
       "         source         day   cost\n",
       "0  facebook_ads  2020-05-03 935.88\n",
       "1  facebook_ads  2020-05-04 548.35\n",
       "2  facebook_ads  2020-05-05 260.19\n",
       "3  facebook_ads  2020-05-06 177.98\n",
       "4  facebook_ads  2020-05-07 111.77"
      ]
     },
     "execution_count": 7,
     "metadata": {},
     "output_type": "execute_result"
    }
   ],
   "source": [
    "ad_costs.head()"
   ]
  },
  {
   "cell_type": "code",
   "execution_count": 8,
   "id": "e6cb36f0",
   "metadata": {
    "scrolled": true
   },
   "outputs": [
    {
     "name": "stdout",
     "output_type": "stream",
     "text": [
      "<class 'pandas.core.frame.DataFrame'>\n",
      "RangeIndex: 28 entries, 0 to 27\n",
      "Data columns (total 3 columns):\n",
      " #   Column  Non-Null Count  Dtype  \n",
      "---  ------  --------------  -----  \n",
      " 0   source  28 non-null     object \n",
      " 1   day     28 non-null     object \n",
      " 2   cost    28 non-null     float64\n",
      "dtypes: float64(1), object(2)\n",
      "memory usage: 804.0+ bytes\n"
     ]
    }
   ],
   "source": [
    "ad_costs.info()"
   ]
  },
  {
   "cell_type": "code",
   "execution_count": 9,
   "id": "705f467c",
   "metadata": {},
   "outputs": [
    {
     "data": {
      "text/plain": [
       "array(['facebook_ads', 'instagram_new_adverts', 'yandex_direct',\n",
       "       'youtube_channel_reklama'], dtype=object)"
      ]
     },
     "execution_count": 9,
     "metadata": {},
     "output_type": "execute_result"
    }
   ],
   "source": [
    "# посмотрим на уникальные значения в колонке source\n",
    "ad_costs.source.unique()"
   ]
  },
  {
   "cell_type": "markdown",
   "id": "221e8ef0",
   "metadata": {},
   "source": [
    "### user_source"
   ]
  },
  {
   "cell_type": "code",
   "execution_count": 10,
   "id": "3ac8a4a5",
   "metadata": {},
   "outputs": [
    {
     "data": {
      "text/html": [
       "<div>\n",
       "<style scoped>\n",
       "    .dataframe tbody tr th:only-of-type {\n",
       "        vertical-align: middle;\n",
       "    }\n",
       "\n",
       "    .dataframe tbody tr th {\n",
       "        vertical-align: top;\n",
       "    }\n",
       "\n",
       "    .dataframe thead th {\n",
       "        text-align: right;\n",
       "    }\n",
       "</style>\n",
       "<table border=\"1\" class=\"dataframe\">\n",
       "  <thead>\n",
       "    <tr style=\"text-align: right;\">\n",
       "      <th></th>\n",
       "      <th>user_id</th>\n",
       "      <th>source</th>\n",
       "    </tr>\n",
       "  </thead>\n",
       "  <tbody>\n",
       "    <tr>\n",
       "      <th>0</th>\n",
       "      <td>0001f83c-c6ac-4621-b7f0-8a28b283ac30</td>\n",
       "      <td>facebook_ads</td>\n",
       "    </tr>\n",
       "    <tr>\n",
       "      <th>1</th>\n",
       "      <td>00151b4f-ba38-44a8-a650-d7cf130a0105</td>\n",
       "      <td>yandex_direct</td>\n",
       "    </tr>\n",
       "    <tr>\n",
       "      <th>2</th>\n",
       "      <td>001aaea6-3d14-43f1-8ca8-7f48820f17aa</td>\n",
       "      <td>youtube_channel_reklama</td>\n",
       "    </tr>\n",
       "    <tr>\n",
       "      <th>3</th>\n",
       "      <td>001d39dc-366c-4021-9604-6a3b9ff01e25</td>\n",
       "      <td>instagram_new_adverts</td>\n",
       "    </tr>\n",
       "    <tr>\n",
       "      <th>4</th>\n",
       "      <td>002f508f-67b6-479f-814b-b05f00d4e995</td>\n",
       "      <td>facebook_ads</td>\n",
       "    </tr>\n",
       "  </tbody>\n",
       "</table>\n",
       "</div>"
      ],
      "text/plain": [
       "                                user_id                   source\n",
       "0  0001f83c-c6ac-4621-b7f0-8a28b283ac30             facebook_ads\n",
       "1  00151b4f-ba38-44a8-a650-d7cf130a0105            yandex_direct\n",
       "2  001aaea6-3d14-43f1-8ca8-7f48820f17aa  youtube_channel_reklama\n",
       "3  001d39dc-366c-4021-9604-6a3b9ff01e25    instagram_new_adverts\n",
       "4  002f508f-67b6-479f-814b-b05f00d4e995             facebook_ads"
      ]
     },
     "execution_count": 10,
     "metadata": {},
     "output_type": "execute_result"
    }
   ],
   "source": [
    "user_source.head()"
   ]
  },
  {
   "cell_type": "code",
   "execution_count": 11,
   "id": "0f2b01ff",
   "metadata": {},
   "outputs": [
    {
     "name": "stdout",
     "output_type": "stream",
     "text": [
      "<class 'pandas.core.frame.DataFrame'>\n",
      "RangeIndex: 13576 entries, 0 to 13575\n",
      "Data columns (total 2 columns):\n",
      " #   Column   Non-Null Count  Dtype \n",
      "---  ------   --------------  ----- \n",
      " 0   user_id  13576 non-null  object\n",
      " 1   source   13576 non-null  object\n",
      "dtypes: object(2)\n",
      "memory usage: 212.3+ KB\n"
     ]
    }
   ],
   "source": [
    "user_source.info()"
   ]
  },
  {
   "cell_type": "code",
   "execution_count": 12,
   "id": "31cf591a",
   "metadata": {},
   "outputs": [
    {
     "data": {
      "text/plain": [
       "array(['facebook_ads', 'yandex_direct', 'youtube_channel_reklama',\n",
       "       'instagram_new_adverts'], dtype=object)"
      ]
     },
     "execution_count": 12,
     "metadata": {},
     "output_type": "execute_result"
    }
   ],
   "source": [
    "# посмотрим на уникальные значения в колонке source\n",
    "user_source.source.unique()"
   ]
  },
  {
   "cell_type": "markdown",
   "id": "ffec7dc1",
   "metadata": {},
   "source": [
    "**Выводы:**\n",
    "1. Проверим на наличие явных дубликатов во всех 3 таблицах.\n",
    "2. В таблице game_actions приведем формат колонки event_datetime к дате.\n",
    "3. В таблице game_actions исследуем пропуски на хорошие и плохие. Хорошими будем считать пропуски в колонке building_type, если им соответствует finished_stage_1 или project в колонке event. Плохими если пропуску в колонке building_type соответствует building по колонке event. Также проверим, что  значению satellity_ordbital_assembly в колонке project_type соответствует event project.\n",
    "4. В таблице ad_costs приведем формат колонки day к дате."
   ]
  },
  {
   "cell_type": "markdown",
   "id": "2f667f8b-98ed-4a5d-a298-ab8efd0a0a12",
   "metadata": {},
   "source": [
    "[Оглавление](#section_id8)"
   ]
  },
  {
   "cell_type": "markdown",
   "id": "f72ecf76",
   "metadata": {},
   "source": [
    "<a id='section_id2'></a>\n",
    "## Предобработка данных"
   ]
  },
  {
   "cell_type": "markdown",
   "id": "6c7a399c",
   "metadata": {},
   "source": [
    "### game_actions"
   ]
  },
  {
   "cell_type": "code",
   "execution_count": 13,
   "id": "588a5bf4",
   "metadata": {
    "scrolled": true
   },
   "outputs": [
    {
     "data": {
      "text/plain": [
       "1"
      ]
     },
     "execution_count": 13,
     "metadata": {},
     "output_type": "execute_result"
    }
   ],
   "source": [
    "# проверим на наличие явных дубликатов\n",
    "game_actions.duplicated().sum()"
   ]
  },
  {
   "cell_type": "code",
   "execution_count": 14,
   "id": "d4b7ebfe",
   "metadata": {
    "scrolled": true
   },
   "outputs": [
    {
     "data": {
      "text/plain": [
       "0"
      ]
     },
     "execution_count": 14,
     "metadata": {},
     "output_type": "execute_result"
    }
   ],
   "source": [
    "# удалим дубликат и убедимся, что их не осталось\n",
    "game_actions = game_actions.drop_duplicates()\n",
    "game_actions.duplicated().sum()"
   ]
  },
  {
   "cell_type": "code",
   "execution_count": 15,
   "id": "ba19be07",
   "metadata": {},
   "outputs": [
    {
     "data": {
      "text/plain": [
       "0"
      ]
     },
     "execution_count": 15,
     "metadata": {},
     "output_type": "execute_result"
    }
   ],
   "source": [
    "ad_costs.duplicated().sum()"
   ]
  },
  {
   "cell_type": "code",
   "execution_count": 16,
   "id": "9203da29",
   "metadata": {},
   "outputs": [],
   "source": [
    "# переводим формат в datetime\n",
    "game_actions.event_datetime = pd.to_datetime(game_actions.event_datetime)"
   ]
  },
  {
   "cell_type": "code",
   "execution_count": 17,
   "id": "522c7adf",
   "metadata": {},
   "outputs": [
    {
     "name": "stdout",
     "output_type": "stream",
     "text": [
      "<class 'pandas.core.frame.DataFrame'>\n",
      "Index: 135639 entries, 0 to 135639\n",
      "Data columns (total 5 columns):\n",
      " #   Column          Non-Null Count   Dtype         \n",
      "---  ------          --------------   -----         \n",
      " 0   event_datetime  135639 non-null  datetime64[ns]\n",
      " 1   event           135639 non-null  object        \n",
      " 2   building_type   127956 non-null  object        \n",
      " 3   user_id         135639 non-null  object        \n",
      " 4   project_type    1866 non-null    object        \n",
      "dtypes: datetime64[ns](1), object(4)\n",
      "memory usage: 6.2+ MB\n"
     ]
    }
   ],
   "source": [
    "game_actions.info()"
   ]
  },
  {
   "cell_type": "code",
   "execution_count": 18,
   "id": "6b4ed0ac",
   "metadata": {},
   "outputs": [
    {
     "data": {
      "text/plain": [
       "array(['building', 'finished_stage_1'], dtype=object)"
      ]
     },
     "execution_count": 18,
     "metadata": {},
     "output_type": "execute_result"
    }
   ],
   "source": [
    "# проверяем, что пропускам в колонке project_type соответствуют только значения building и finished_stage_1 в колонке event\n",
    "game_actions.query('project_type.isna()').event.unique()"
   ]
  },
  {
   "cell_type": "code",
   "execution_count": 19,
   "id": "355feb8f",
   "metadata": {},
   "outputs": [
    {
     "data": {
      "text/plain": [
       "array(['project'], dtype=object)"
      ]
     },
     "execution_count": 19,
     "metadata": {},
     "output_type": "execute_result"
    }
   ],
   "source": [
    "# проверяем, что значению satellity_ordbital_assembly в колонке project_type соответствует event project\n",
    "game_actions.query('project_type == \"satellite_orbital_assembly\"').event.unique()"
   ]
  },
  {
   "cell_type": "markdown",
   "id": "744f1bb1",
   "metadata": {},
   "source": [
    "### ad_costs"
   ]
  },
  {
   "cell_type": "code",
   "execution_count": 20,
   "id": "88bf48d0",
   "metadata": {
    "scrolled": true
   },
   "outputs": [],
   "source": [
    "# переводим формат в datetime\n",
    "ad_costs.day = pd.to_datetime(ad_costs.day)"
   ]
  },
  {
   "cell_type": "code",
   "execution_count": 21,
   "id": "e8ce75e0",
   "metadata": {},
   "outputs": [
    {
     "name": "stdout",
     "output_type": "stream",
     "text": [
      "<class 'pandas.core.frame.DataFrame'>\n",
      "RangeIndex: 28 entries, 0 to 27\n",
      "Data columns (total 3 columns):\n",
      " #   Column  Non-Null Count  Dtype         \n",
      "---  ------  --------------  -----         \n",
      " 0   source  28 non-null     object        \n",
      " 1   day     28 non-null     datetime64[ns]\n",
      " 2   cost    28 non-null     float64       \n",
      "dtypes: datetime64[ns](1), float64(1), object(1)\n",
      "memory usage: 804.0+ bytes\n"
     ]
    }
   ],
   "source": [
    "ad_costs.info()"
   ]
  },
  {
   "cell_type": "markdown",
   "id": "8d8a9f7d",
   "metadata": {},
   "source": [
    "**Выводы:**\n",
    "1. Приведены форматы данных в колонках с датой и временем.\n",
    "2. Удален один дубликат в таблице game_actions.\n",
    "3. Проверены пропуски в таблице game_actions - плохих не обнаружено."
   ]
  },
  {
   "cell_type": "markdown",
   "id": "bc383cb6-0fd9-46a2-bbae-ae1e8c184738",
   "metadata": {},
   "source": [
    "[Оглавление](#section_id8)"
   ]
  },
  {
   "cell_type": "markdown",
   "id": "2b6bb6a6",
   "metadata": {},
   "source": [
    "<a id='section_id3'></a>\n",
    "## Исследовательский анализ данных"
   ]
  },
  {
   "cell_type": "markdown",
   "id": "5b2c24c3",
   "metadata": {},
   "source": [
    "### Количество действий, совершаемых игроком для прохождения уровня."
   ]
  },
  {
   "cell_type": "code",
   "execution_count": 22,
   "id": "7367554a",
   "metadata": {
    "scrolled": true
   },
   "outputs": [
    {
     "name": "stdout",
     "output_type": "stream",
     "text": [
      "<class 'pandas.core.frame.DataFrame'>\n",
      "Index: 135639 entries, 0 to 135639\n",
      "Data columns (total 5 columns):\n",
      " #   Column          Non-Null Count   Dtype         \n",
      "---  ------          --------------   -----         \n",
      " 0   event_datetime  135639 non-null  datetime64[ns]\n",
      " 1   event           135639 non-null  object        \n",
      " 2   building_type   127956 non-null  object        \n",
      " 3   user_id         135639 non-null  object        \n",
      " 4   project_type    1866 non-null    object        \n",
      "dtypes: datetime64[ns](1), object(4)\n",
      "memory usage: 6.2+ MB\n"
     ]
    }
   ],
   "source": [
    "game_actions.info()"
   ]
  },
  {
   "cell_type": "code",
   "execution_count": 23,
   "id": "87236d2a",
   "metadata": {},
   "outputs": [
    {
     "data": {
      "text/plain": [
       "5817"
      ]
     },
     "execution_count": 23,
     "metadata": {},
     "output_type": "execute_result"
    }
   ],
   "source": [
    "# получим список игроков, которые прошли первый уровень и посчитаем количество таких игроков\n",
    "users_finished = game_actions.query('event == \"finished_stage_1\"').user_id.unique()\n",
    "pd.Series(users_finished).count()"
   ]
  },
  {
   "cell_type": "code",
   "execution_count": 24,
   "id": "d7f05457",
   "metadata": {},
   "outputs": [],
   "source": [
    "# напишем функцию для разбивки пользователей на закончивших 1 уровень и не закончивших его\n",
    "def finished(user_id):\n",
    "    if user_id in users_finished:\n",
    "        return True\n",
    "    else:\n",
    "        return False\n",
    "\n",
    "game_actions['finished_stage_1'] = game_actions['user_id'].apply(finished)"
   ]
  },
  {
   "cell_type": "code",
   "execution_count": 25,
   "id": "f1f2501b",
   "metadata": {
    "scrolled": true
   },
   "outputs": [
    {
     "data": {
      "text/html": [
       "<div>\n",
       "<style scoped>\n",
       "    .dataframe tbody tr th:only-of-type {\n",
       "        vertical-align: middle;\n",
       "    }\n",
       "\n",
       "    .dataframe tbody tr th {\n",
       "        vertical-align: top;\n",
       "    }\n",
       "\n",
       "    .dataframe thead th {\n",
       "        text-align: right;\n",
       "    }\n",
       "</style>\n",
       "<table border=\"1\" class=\"dataframe\">\n",
       "  <thead>\n",
       "    <tr style=\"text-align: right;\">\n",
       "      <th></th>\n",
       "      <th>event_datetime</th>\n",
       "      <th>event</th>\n",
       "      <th>building_type</th>\n",
       "      <th>user_id</th>\n",
       "      <th>project_type</th>\n",
       "      <th>finished_stage_1</th>\n",
       "    </tr>\n",
       "  </thead>\n",
       "  <tbody>\n",
       "    <tr>\n",
       "      <th>0</th>\n",
       "      <td>2020-05-04 00:00:01</td>\n",
       "      <td>building</td>\n",
       "      <td>assembly_shop</td>\n",
       "      <td>55e92310-cb8e-4754-b622-597e124b03de</td>\n",
       "      <td>NaN</td>\n",
       "      <td>False</td>\n",
       "    </tr>\n",
       "    <tr>\n",
       "      <th>1</th>\n",
       "      <td>2020-05-04 00:00:03</td>\n",
       "      <td>building</td>\n",
       "      <td>assembly_shop</td>\n",
       "      <td>c07b1c10-f477-44dc-81dc-ec82254b1347</td>\n",
       "      <td>NaN</td>\n",
       "      <td>True</td>\n",
       "    </tr>\n",
       "    <tr>\n",
       "      <th>2</th>\n",
       "      <td>2020-05-04 00:00:16</td>\n",
       "      <td>building</td>\n",
       "      <td>assembly_shop</td>\n",
       "      <td>6edd42cc-e753-4ff6-a947-2107cd560710</td>\n",
       "      <td>NaN</td>\n",
       "      <td>True</td>\n",
       "    </tr>\n",
       "    <tr>\n",
       "      <th>3</th>\n",
       "      <td>2020-05-04 00:00:16</td>\n",
       "      <td>building</td>\n",
       "      <td>assembly_shop</td>\n",
       "      <td>92c69003-d60a-444a-827f-8cc51bf6bf4c</td>\n",
       "      <td>NaN</td>\n",
       "      <td>False</td>\n",
       "    </tr>\n",
       "    <tr>\n",
       "      <th>4</th>\n",
       "      <td>2020-05-04 00:00:35</td>\n",
       "      <td>building</td>\n",
       "      <td>assembly_shop</td>\n",
       "      <td>cdc6bb92-0ccb-4490-9866-ef142f09139d</td>\n",
       "      <td>NaN</td>\n",
       "      <td>True</td>\n",
       "    </tr>\n",
       "  </tbody>\n",
       "</table>\n",
       "</div>"
      ],
      "text/plain": [
       "       event_datetime     event  building_type  \\\n",
       "0 2020-05-04 00:00:01  building  assembly_shop   \n",
       "1 2020-05-04 00:00:03  building  assembly_shop   \n",
       "2 2020-05-04 00:00:16  building  assembly_shop   \n",
       "3 2020-05-04 00:00:16  building  assembly_shop   \n",
       "4 2020-05-04 00:00:35  building  assembly_shop   \n",
       "\n",
       "                                user_id project_type  finished_stage_1  \n",
       "0  55e92310-cb8e-4754-b622-597e124b03de          NaN             False  \n",
       "1  c07b1c10-f477-44dc-81dc-ec82254b1347          NaN              True  \n",
       "2  6edd42cc-e753-4ff6-a947-2107cd560710          NaN              True  \n",
       "3  92c69003-d60a-444a-827f-8cc51bf6bf4c          NaN             False  \n",
       "4  cdc6bb92-0ccb-4490-9866-ef142f09139d          NaN              True  "
      ]
     },
     "execution_count": 25,
     "metadata": {},
     "output_type": "execute_result"
    }
   ],
   "source": [
    "game_actions.head()"
   ]
  },
  {
   "cell_type": "code",
   "execution_count": 26,
   "id": "0365e30d",
   "metadata": {
    "scrolled": true
   },
   "outputs": [
    {
     "data": {
      "text/plain": [
       "True"
      ]
     },
     "execution_count": 26,
     "metadata": {},
     "output_type": "execute_result"
    }
   ],
   "source": [
    "# проверяем, что количество пользователей, которые прошли первый уровень соответствует расчету выше\n",
    "game_actions[game_actions.finished_stage_1 == True].user_id.nunique() == pd.Series(users_finished).count()"
   ]
  },
  {
   "cell_type": "code",
   "execution_count": 27,
   "id": "2afcf662",
   "metadata": {
    "scrolled": true
   },
   "outputs": [
    {
     "data": {
      "text/plain": [
       "True"
      ]
     },
     "execution_count": 27,
     "metadata": {},
     "output_type": "execute_result"
    }
   ],
   "source": [
    "# проверяем, что общее число уникальных пользователей сходится\n",
    "(game_actions[game_actions.finished_stage_1 == False].user_id.nunique()\\\n",
    "+ game_actions[game_actions.finished_stage_1 == True].user_id.nunique())\\\n",
    "== user_source.user_id.nunique()"
   ]
  },
  {
   "cell_type": "code",
   "execution_count": 28,
   "id": "f8df05ba",
   "metadata": {},
   "outputs": [],
   "source": [
    "avg_events = game_actions.query('finished_stage_1 == True & event == \"building\"').event.count() / pd.Series(users_finished).count()"
   ]
  },
  {
   "cell_type": "code",
   "execution_count": 29,
   "id": "aab43785",
   "metadata": {},
   "outputs": [
    {
     "data": {
      "text/html": [
       "<div>\n",
       "<style scoped>\n",
       "    .dataframe tbody tr th:only-of-type {\n",
       "        vertical-align: middle;\n",
       "    }\n",
       "\n",
       "    .dataframe tbody tr th {\n",
       "        vertical-align: top;\n",
       "    }\n",
       "\n",
       "    .dataframe thead th {\n",
       "        text-align: right;\n",
       "    }\n",
       "</style>\n",
       "<table border=\"1\" class=\"dataframe\">\n",
       "  <thead>\n",
       "    <tr style=\"text-align: right;\">\n",
       "      <th></th>\n",
       "      <th>user_id</th>\n",
       "      <th>finished_stage_1</th>\n",
       "      <th>events</th>\n",
       "    </tr>\n",
       "  </thead>\n",
       "  <tbody>\n",
       "    <tr>\n",
       "      <th>0</th>\n",
       "      <td>0001f83c-c6ac-4621-b7f0-8a28b283ac30</td>\n",
       "      <td>False</td>\n",
       "      <td>13</td>\n",
       "    </tr>\n",
       "    <tr>\n",
       "      <th>1</th>\n",
       "      <td>00151b4f-ba38-44a8-a650-d7cf130a0105</td>\n",
       "      <td>False</td>\n",
       "      <td>9</td>\n",
       "    </tr>\n",
       "    <tr>\n",
       "      <th>2</th>\n",
       "      <td>001aaea6-3d14-43f1-8ca8-7f48820f17aa</td>\n",
       "      <td>False</td>\n",
       "      <td>4</td>\n",
       "    </tr>\n",
       "    <tr>\n",
       "      <th>3</th>\n",
       "      <td>001d39dc-366c-4021-9604-6a3b9ff01e25</td>\n",
       "      <td>True</td>\n",
       "      <td>8</td>\n",
       "    </tr>\n",
       "    <tr>\n",
       "      <th>4</th>\n",
       "      <td>002f508f-67b6-479f-814b-b05f00d4e995</td>\n",
       "      <td>False</td>\n",
       "      <td>12</td>\n",
       "    </tr>\n",
       "    <tr>\n",
       "      <th>...</th>\n",
       "      <td>...</td>\n",
       "      <td>...</td>\n",
       "      <td>...</td>\n",
       "    </tr>\n",
       "    <tr>\n",
       "      <th>13571</th>\n",
       "      <td>ffef4fed-164c-40e1-bde1-3980f76d0fb5</td>\n",
       "      <td>True</td>\n",
       "      <td>9</td>\n",
       "    </tr>\n",
       "    <tr>\n",
       "      <th>13572</th>\n",
       "      <td>fffab3da-da0e-4e30-ae62-10d0a2e24a4e</td>\n",
       "      <td>False</td>\n",
       "      <td>16</td>\n",
       "    </tr>\n",
       "    <tr>\n",
       "      <th>13573</th>\n",
       "      <td>fffb626c-5ab6-47c9-8113-2062a2f18494</td>\n",
       "      <td>True</td>\n",
       "      <td>9</td>\n",
       "    </tr>\n",
       "    <tr>\n",
       "      <th>13574</th>\n",
       "      <td>ffff194a-56b7-4c12-860d-3485242ae7f5</td>\n",
       "      <td>False</td>\n",
       "      <td>7</td>\n",
       "    </tr>\n",
       "    <tr>\n",
       "      <th>13575</th>\n",
       "      <td>ffff69cc-fec1-4fd3-9f98-93be1112a6b8</td>\n",
       "      <td>True</td>\n",
       "      <td>12</td>\n",
       "    </tr>\n",
       "  </tbody>\n",
       "</table>\n",
       "<p>13576 rows × 3 columns</p>\n",
       "</div>"
      ],
      "text/plain": [
       "                                    user_id  finished_stage_1  events\n",
       "0      0001f83c-c6ac-4621-b7f0-8a28b283ac30             False      13\n",
       "1      00151b4f-ba38-44a8-a650-d7cf130a0105             False       9\n",
       "2      001aaea6-3d14-43f1-8ca8-7f48820f17aa             False       4\n",
       "3      001d39dc-366c-4021-9604-6a3b9ff01e25              True       8\n",
       "4      002f508f-67b6-479f-814b-b05f00d4e995             False      12\n",
       "...                                     ...               ...     ...\n",
       "13571  ffef4fed-164c-40e1-bde1-3980f76d0fb5              True       9\n",
       "13572  fffab3da-da0e-4e30-ae62-10d0a2e24a4e             False      16\n",
       "13573  fffb626c-5ab6-47c9-8113-2062a2f18494              True       9\n",
       "13574  ffff194a-56b7-4c12-860d-3485242ae7f5             False       7\n",
       "13575  ffff69cc-fec1-4fd3-9f98-93be1112a6b8              True      12\n",
       "\n",
       "[13576 rows x 3 columns]"
      ]
     },
     "execution_count": 29,
     "metadata": {},
     "output_type": "execute_result"
    }
   ],
   "source": [
    "# посчитаем сколько действий строительства совершил каждый игрок до завершения уровня\n",
    "game_actions_by_users = game_actions.query('event == \"building\"') \\\n",
    "                                    .groupby(['user_id', 'finished_stage_1'], as_index=False)\\\n",
    "                                    .agg({'event_datetime':'count'})\n",
    "game_actions_by_users = game_actions_by_users.rename(columns={'event_datetime':'events'})\n",
    "game_actions_by_users"
   ]
  },
  {
   "cell_type": "code",
   "execution_count": 30,
   "id": "b0fe5fc7",
   "metadata": {},
   "outputs": [
    {
     "data": {
      "text/plain": [
       "count   5,817.00\n",
       "mean       10.45\n",
       "std         3.18\n",
       "min         2.00\n",
       "25%         9.00\n",
       "50%        11.00\n",
       "75%        12.00\n",
       "max        20.00\n",
       "Name: events, dtype: float64"
      ]
     },
     "execution_count": 30,
     "metadata": {},
     "output_type": "execute_result"
    }
   ],
   "source": [
    "# посмотрим информацию о количестве событий, сделанных игроками, прошедшими первый уровень\n",
    "game_actions_by_users.query('finished_stage_1 == True').events.describe()"
   ]
  },
  {
   "cell_type": "code",
   "execution_count": 31,
   "id": "fa9bb9c6",
   "metadata": {},
   "outputs": [
    {
     "data": {
      "text/plain": [
       "count   7,759.00\n",
       "mean        8.66\n",
       "std         4.14\n",
       "min         1.00\n",
       "25%         5.00\n",
       "50%         8.00\n",
       "75%        12.00\n",
       "max        20.00\n",
       "Name: events, dtype: float64"
      ]
     },
     "execution_count": 31,
     "metadata": {},
     "output_type": "execute_result"
    }
   ],
   "source": [
    "# посмотрим информацию о количестве событий, сделанных игроками, не прошедшими первый уровень\n",
    "game_actions_by_users.query('finished_stage_1 == False').events.describe()"
   ]
  },
  {
   "cell_type": "code",
   "execution_count": 32,
   "id": "ea39ca6f",
   "metadata": {},
   "outputs": [
    {
     "name": "stdout",
     "output_type": "stream",
     "text": [
      "Среднее число построек для прохождения первого уровня: 10.45\n"
     ]
    }
   ],
   "source": [
    "print('Среднее число построек для прохождения первого уровня:', '{:.2f}'.format(avg_events))"
   ]
  },
  {
   "cell_type": "code",
   "execution_count": 33,
   "id": "16aae4be",
   "metadata": {},
   "outputs": [],
   "source": [
    "avg_events_failed = game_actions.query('finished_stage_1 == False & event == \"building\"').event.count() / game_actions.query('finished_stage_1 == False').user_id.nunique()"
   ]
  },
  {
   "cell_type": "code",
   "execution_count": 34,
   "id": "3d86e3f3",
   "metadata": {},
   "outputs": [
    {
     "name": "stdout",
     "output_type": "stream",
     "text": [
      "Среднее число построек у игроков, которые не прошли первый уровень: 8.66\n"
     ]
    }
   ],
   "source": [
    "print('Среднее число построек у игроков, которые не прошли первый уровень:', '{:.2f}'.format(avg_events_failed))"
   ]
  },
  {
   "cell_type": "code",
   "execution_count": 35,
   "id": "2775d38c",
   "metadata": {},
   "outputs": [
    {
     "data": {
      "image/png": "[encoded data removed]",
      "text/plain": [
       "<Figure size 400x500 with 1 Axes>"
      ]
     },
     "metadata": {},
     "output_type": "display_data"
    }
   ],
   "source": [
    "plt.figure(figsize=(4,5))\n",
    "ax = sns.barplot(data=game_actions_by_users, x='finished_stage_1', y='events');\n",
    "plt.title('Среднее количество построек')\n",
    "plt.xlabel('Завершение первого уровня')\n",
    "plt.ylabel('')\n",
    "for p in ax.patches:\n",
    "    ax.annotate(format(p.get_height(), '.2f'), \n",
    "                (p.get_x() + p.get_width() / 2., p.get_height() / 2.), \n",
    "                ha = 'center', va = 'center', \n",
    "                xytext = (0, 0), \n",
    "                textcoords = 'offset points')\n"
   ]
  },
  {
   "cell_type": "markdown",
   "id": "beb270ce",
   "metadata": {},
   "source": [
    "**Выводы:**\n",
    "игроки, которые прошли первый уровень, в среднем совершают на 2 постройки больше, чем те, которые его не прошли."
   ]
  },
  {
   "cell_type": "markdown",
   "id": "2208aca3",
   "metadata": {},
   "source": [
    "### Процент игроков, которые проходят первый уровень"
   ]
  },
  {
   "cell_type": "code",
   "execution_count": 36,
   "id": "49385c01",
   "metadata": {
    "scrolled": true
   },
   "outputs": [
    {
     "name": "stdout",
     "output_type": "stream",
     "text": [
      "Процент игроков, которые проходят первый уровень: 42.85\n"
     ]
    }
   ],
   "source": [
    "print('Процент игроков, которые проходят первый уровень:', '{:.2f}'.format((pd.Series(users_finished).count() / game_actions.user_id.nunique())*100))"
   ]
  },
  {
   "cell_type": "markdown",
   "id": "d04a38fd",
   "metadata": {},
   "source": [
    "**Выводы:** первый уровень прошли почти 43% игроков."
   ]
  },
  {
   "cell_type": "markdown",
   "id": "e481f486",
   "metadata": {},
   "source": [
    "### Определить на какой день отсеивается больше всего игроков"
   ]
  },
  {
   "cell_type": "code",
   "execution_count": 37,
   "id": "6a0af696",
   "metadata": {},
   "outputs": [
    {
     "data": {
      "text/html": [
       "<div>\n",
       "<style scoped>\n",
       "    .dataframe tbody tr th:only-of-type {\n",
       "        vertical-align: middle;\n",
       "    }\n",
       "\n",
       "    .dataframe tbody tr th {\n",
       "        vertical-align: top;\n",
       "    }\n",
       "\n",
       "    .dataframe thead th {\n",
       "        text-align: right;\n",
       "    }\n",
       "</style>\n",
       "<table border=\"1\" class=\"dataframe\">\n",
       "  <thead>\n",
       "    <tr style=\"text-align: right;\">\n",
       "      <th></th>\n",
       "      <th>event_datetime</th>\n",
       "      <th>event</th>\n",
       "      <th>building_type</th>\n",
       "      <th>user_id</th>\n",
       "      <th>project_type</th>\n",
       "      <th>finished_stage_1</th>\n",
       "    </tr>\n",
       "  </thead>\n",
       "  <tbody>\n",
       "    <tr>\n",
       "      <th>0</th>\n",
       "      <td>2020-05-04 00:00:01</td>\n",
       "      <td>building</td>\n",
       "      <td>assembly_shop</td>\n",
       "      <td>55e92310-cb8e-4754-b622-597e124b03de</td>\n",
       "      <td>NaN</td>\n",
       "      <td>False</td>\n",
       "    </tr>\n",
       "    <tr>\n",
       "      <th>1</th>\n",
       "      <td>2020-05-04 00:00:03</td>\n",
       "      <td>building</td>\n",
       "      <td>assembly_shop</td>\n",
       "      <td>c07b1c10-f477-44dc-81dc-ec82254b1347</td>\n",
       "      <td>NaN</td>\n",
       "      <td>True</td>\n",
       "    </tr>\n",
       "    <tr>\n",
       "      <th>2</th>\n",
       "      <td>2020-05-04 00:00:16</td>\n",
       "      <td>building</td>\n",
       "      <td>assembly_shop</td>\n",
       "      <td>6edd42cc-e753-4ff6-a947-2107cd560710</td>\n",
       "      <td>NaN</td>\n",
       "      <td>True</td>\n",
       "    </tr>\n",
       "    <tr>\n",
       "      <th>3</th>\n",
       "      <td>2020-05-04 00:00:16</td>\n",
       "      <td>building</td>\n",
       "      <td>assembly_shop</td>\n",
       "      <td>92c69003-d60a-444a-827f-8cc51bf6bf4c</td>\n",
       "      <td>NaN</td>\n",
       "      <td>False</td>\n",
       "    </tr>\n",
       "    <tr>\n",
       "      <th>4</th>\n",
       "      <td>2020-05-04 00:00:35</td>\n",
       "      <td>building</td>\n",
       "      <td>assembly_shop</td>\n",
       "      <td>cdc6bb92-0ccb-4490-9866-ef142f09139d</td>\n",
       "      <td>NaN</td>\n",
       "      <td>True</td>\n",
       "    </tr>\n",
       "  </tbody>\n",
       "</table>\n",
       "</div>"
      ],
      "text/plain": [
       "       event_datetime     event  building_type  \\\n",
       "0 2020-05-04 00:00:01  building  assembly_shop   \n",
       "1 2020-05-04 00:00:03  building  assembly_shop   \n",
       "2 2020-05-04 00:00:16  building  assembly_shop   \n",
       "3 2020-05-04 00:00:16  building  assembly_shop   \n",
       "4 2020-05-04 00:00:35  building  assembly_shop   \n",
       "\n",
       "                                user_id project_type  finished_stage_1  \n",
       "0  55e92310-cb8e-4754-b622-597e124b03de          NaN             False  \n",
       "1  c07b1c10-f477-44dc-81dc-ec82254b1347          NaN              True  \n",
       "2  6edd42cc-e753-4ff6-a947-2107cd560710          NaN              True  \n",
       "3  92c69003-d60a-444a-827f-8cc51bf6bf4c          NaN             False  \n",
       "4  cdc6bb92-0ccb-4490-9866-ef142f09139d          NaN              True  "
      ]
     },
     "execution_count": 37,
     "metadata": {},
     "output_type": "execute_result"
    }
   ],
   "source": [
    "game_actions.head()"
   ]
  },
  {
   "cell_type": "code",
   "execution_count": 38,
   "id": "2b22fa28",
   "metadata": {},
   "outputs": [],
   "source": [
    "# добавим колонку с датой для подсчета дней в игре каждого игрока\n",
    "game_actions['date'] = pd.to_datetime(game_actions['event_datetime'], format='%Y-%m-%d').dt.floor('D')"
   ]
  },
  {
   "cell_type": "code",
   "execution_count": 39,
   "id": "268f86ad",
   "metadata": {},
   "outputs": [
    {
     "data": {
      "text/html": [
       "<div>\n",
       "<style scoped>\n",
       "    .dataframe tbody tr th:only-of-type {\n",
       "        vertical-align: middle;\n",
       "    }\n",
       "\n",
       "    .dataframe tbody tr th {\n",
       "        vertical-align: top;\n",
       "    }\n",
       "\n",
       "    .dataframe thead th {\n",
       "        text-align: right;\n",
       "    }\n",
       "</style>\n",
       "<table border=\"1\" class=\"dataframe\">\n",
       "  <thead>\n",
       "    <tr style=\"text-align: right;\">\n",
       "      <th></th>\n",
       "      <th>event_datetime</th>\n",
       "      <th>event</th>\n",
       "      <th>building_type</th>\n",
       "      <th>user_id</th>\n",
       "      <th>project_type</th>\n",
       "      <th>finished_stage_1</th>\n",
       "      <th>date</th>\n",
       "    </tr>\n",
       "  </thead>\n",
       "  <tbody>\n",
       "    <tr>\n",
       "      <th>0</th>\n",
       "      <td>2020-05-04 00:00:01</td>\n",
       "      <td>building</td>\n",
       "      <td>assembly_shop</td>\n",
       "      <td>55e92310-cb8e-4754-b622-597e124b03de</td>\n",
       "      <td>NaN</td>\n",
       "      <td>False</td>\n",
       "      <td>2020-05-04</td>\n",
       "    </tr>\n",
       "    <tr>\n",
       "      <th>1</th>\n",
       "      <td>2020-05-04 00:00:03</td>\n",
       "      <td>building</td>\n",
       "      <td>assembly_shop</td>\n",
       "      <td>c07b1c10-f477-44dc-81dc-ec82254b1347</td>\n",
       "      <td>NaN</td>\n",
       "      <td>True</td>\n",
       "      <td>2020-05-04</td>\n",
       "    </tr>\n",
       "    <tr>\n",
       "      <th>2</th>\n",
       "      <td>2020-05-04 00:00:16</td>\n",
       "      <td>building</td>\n",
       "      <td>assembly_shop</td>\n",
       "      <td>6edd42cc-e753-4ff6-a947-2107cd560710</td>\n",
       "      <td>NaN</td>\n",
       "      <td>True</td>\n",
       "      <td>2020-05-04</td>\n",
       "    </tr>\n",
       "    <tr>\n",
       "      <th>3</th>\n",
       "      <td>2020-05-04 00:00:16</td>\n",
       "      <td>building</td>\n",
       "      <td>assembly_shop</td>\n",
       "      <td>92c69003-d60a-444a-827f-8cc51bf6bf4c</td>\n",
       "      <td>NaN</td>\n",
       "      <td>False</td>\n",
       "      <td>2020-05-04</td>\n",
       "    </tr>\n",
       "    <tr>\n",
       "      <th>4</th>\n",
       "      <td>2020-05-04 00:00:35</td>\n",
       "      <td>building</td>\n",
       "      <td>assembly_shop</td>\n",
       "      <td>cdc6bb92-0ccb-4490-9866-ef142f09139d</td>\n",
       "      <td>NaN</td>\n",
       "      <td>True</td>\n",
       "      <td>2020-05-04</td>\n",
       "    </tr>\n",
       "  </tbody>\n",
       "</table>\n",
       "</div>"
      ],
      "text/plain": [
       "       event_datetime     event  building_type  \\\n",
       "0 2020-05-04 00:00:01  building  assembly_shop   \n",
       "1 2020-05-04 00:00:03  building  assembly_shop   \n",
       "2 2020-05-04 00:00:16  building  assembly_shop   \n",
       "3 2020-05-04 00:00:16  building  assembly_shop   \n",
       "4 2020-05-04 00:00:35  building  assembly_shop   \n",
       "\n",
       "                                user_id project_type  finished_stage_1  \\\n",
       "0  55e92310-cb8e-4754-b622-597e124b03de          NaN             False   \n",
       "1  c07b1c10-f477-44dc-81dc-ec82254b1347          NaN              True   \n",
       "2  6edd42cc-e753-4ff6-a947-2107cd560710          NaN              True   \n",
       "3  92c69003-d60a-444a-827f-8cc51bf6bf4c          NaN             False   \n",
       "4  cdc6bb92-0ccb-4490-9866-ef142f09139d          NaN              True   \n",
       "\n",
       "        date  \n",
       "0 2020-05-04  \n",
       "1 2020-05-04  \n",
       "2 2020-05-04  \n",
       "3 2020-05-04  \n",
       "4 2020-05-04  "
      ]
     },
     "execution_count": 39,
     "metadata": {},
     "output_type": "execute_result"
    }
   ],
   "source": [
    "game_actions.head()"
   ]
  },
  {
   "cell_type": "code",
   "execution_count": 40,
   "id": "876e233b",
   "metadata": {},
   "outputs": [
    {
     "data": {
      "text/plain": [
       "Index(['user_id', 'min', 'max'], dtype='object')"
      ]
     },
     "execution_count": 40,
     "metadata": {},
     "output_type": "execute_result"
    }
   ],
   "source": [
    "# сделаем сводную таблицу по игрокам для расчета количества календарных дней в игре\n",
    "game_duration = game_actions.query('finished_stage_1 == False') \\\n",
    "                              .pivot_table(index='user_id', values='event_datetime', aggfunc=['min', 'max'])\\\n",
    "                              .reset_index()\n",
    "# переименуем колонки\n",
    "game_duration.columns = ['user_id', 'min', 'max']\n",
    "# проверим наименования колонок\n",
    "game_duration.columns"
   ]
  },
  {
   "cell_type": "code",
   "execution_count": 41,
   "id": "60586736",
   "metadata": {},
   "outputs": [],
   "source": [
    "game_duration['game_time'] = (game_duration['max'] - game_duration['min']).dt.days"
   ]
  },
  {
   "cell_type": "code",
   "execution_count": 42,
   "id": "d95313d4",
   "metadata": {
    "scrolled": true
   },
   "outputs": [
    {
     "data": {
      "text/plain": [
       "count   7,759.00\n",
       "mean        9.29\n",
       "std         4.35\n",
       "min         0.00\n",
       "25%         6.00\n",
       "50%         9.00\n",
       "75%        12.00\n",
       "max        29.00\n",
       "Name: game_time, dtype: float64"
      ]
     },
     "execution_count": 42,
     "metadata": {},
     "output_type": "execute_result"
    }
   ],
   "source": [
    "game_duration.game_time.describe()"
   ]
  },
  {
   "cell_type": "code",
   "execution_count": 43,
   "id": "2076fe6a",
   "metadata": {},
   "outputs": [
    {
     "data": {
      "image/png": "[encoded data removed]",
      "text/plain": [
       "<Figure size 800x400 with 1 Axes>"
      ]
     },
     "metadata": {},
     "output_type": "display_data"
    }
   ],
   "source": [
    "plt.figure(figsize=(8, 4))\n",
    "sns.histplot(data=game_duration, x='game_time', bins = 29)\n",
    "plt.ylabel('Кол-во игроков')\n",
    "plt.xlabel('Кол-во календарных дней в игре')\n",
    "plt.title('Распределение числа календарных дней между первым и последним действием игрока');"
   ]
  },
  {
   "cell_type": "code",
   "execution_count": 44,
   "id": "95f6d55e",
   "metadata": {},
   "outputs": [
    {
     "data": {
      "text/plain": [
       "Index(['user_id', 'days_played'], dtype='object')"
      ]
     },
     "execution_count": 44,
     "metadata": {},
     "output_type": "execute_result"
    }
   ],
   "source": [
    "# сделаем сводную таблицу по игрокам для расчета количества дней в игре (когда совершалось игровое действие)\n",
    "game_duration_fact = game_actions.query('finished_stage_1 == False') \\\n",
    "                              .pivot_table(index='user_id', values='date', aggfunc='nunique')\\\n",
    "                              .reset_index()\n",
    "# переименуем колонки\n",
    "game_duration_fact.columns = ['user_id', 'days_played']\n",
    "# проверим наименования колонок\n",
    "game_duration_fact.columns"
   ]
  },
  {
   "cell_type": "code",
   "execution_count": 45,
   "id": "d36a3fe2",
   "metadata": {
    "scrolled": true
   },
   "outputs": [
    {
     "data": {
      "image/png": "[encoded data removed]",
      "text/plain": [
       "<Figure size 800x400 with 1 Axes>"
      ]
     },
     "metadata": {},
     "output_type": "display_data"
    }
   ],
   "source": [
    "plt.figure(figsize=(8, 4))\n",
    "sns.histplot(data=game_duration_fact, x='days_played', bins = 14)\n",
    "plt.ylabel('Кол-во игроков')\n",
    "plt.xlabel('Кол-во дней в игре')\n",
    "plt.title('Распределение числа игровых дней у игроков не прошедших первый уровень');"
   ]
  },
  {
   "cell_type": "code",
   "execution_count": 46,
   "id": "732586dd",
   "metadata": {
    "scrolled": true
   },
   "outputs": [
    {
     "data": {
      "text/plain": [
       "count   7,759.00\n",
       "mean        6.24\n",
       "std         2.57\n",
       "min         1.00\n",
       "25%         4.00\n",
       "50%         6.00\n",
       "75%         8.00\n",
       "max        15.00\n",
       "Name: days_played, dtype: float64"
      ]
     },
     "execution_count": 46,
     "metadata": {},
     "output_type": "execute_result"
    }
   ],
   "source": [
    "game_duration_fact.days_played.describe()"
   ]
  },
  {
   "cell_type": "markdown",
   "id": "0d750006",
   "metadata": {},
   "source": [
    "**Выводы:**\n",
    "1. 75% процентов игроков, которые не прошли первый уровень, не делали построек после 8 игрового дня.\n",
    "2. 75% процентов игроков, которые не прошли первый уровень, не делали построек после 12 календарного дня."
   ]
  },
  {
   "cell_type": "markdown",
   "id": "92a50ac8",
   "metadata": {},
   "source": [
    "### Затраты на рекламу"
   ]
  },
  {
   "cell_type": "code",
   "execution_count": 47,
   "id": "ffcd56dd",
   "metadata": {},
   "outputs": [
    {
     "name": "stdout",
     "output_type": "stream",
     "text": [
      "Средняя стоимость привлечения одного игрока: 0.56\n"
     ]
    }
   ],
   "source": [
    "# рассчитаем стоимость привлечения одного игрока\n",
    "cac = ad_costs.cost.sum() / game_actions.user_id.nunique()\n",
    "print('Средняя стоимость привлечения одного игрока:', '{:.2f}'.format(cac))"
   ]
  },
  {
   "cell_type": "code",
   "execution_count": 48,
   "id": "f04cef40",
   "metadata": {},
   "outputs": [],
   "source": [
    "# зададим переменную со стоимостью показа одной рекламы\n",
    "rev_per_ad = 0.07"
   ]
  },
  {
   "cell_type": "code",
   "execution_count": 49,
   "id": "efcb44c8",
   "metadata": {},
   "outputs": [
    {
     "name": "stdout",
     "output_type": "stream",
     "text": [
      "Количество показов рекламы одному игроку для окупаемости привлечения игроков: 8.00\n"
     ]
    }
   ],
   "source": [
    "# рассчитаем кол-во показов рекламы для окупаемости привлечения игроков\n",
    "print('Количество показов рекламы одному игроку для окупаемости привлечения игроков:', '{:.2f}'.format(cac / rev_per_ad))"
   ]
  },
  {
   "cell_type": "code",
   "execution_count": 57,
   "id": "63217281",
   "metadata": {},
   "outputs": [
    {
     "data": {
      "text/html": [
       "<div>\n",
       "<style scoped>\n",
       "    .dataframe tbody tr th:only-of-type {\n",
       "        vertical-align: middle;\n",
       "    }\n",
       "\n",
       "    .dataframe tbody tr th {\n",
       "        vertical-align: top;\n",
       "    }\n",
       "\n",
       "    .dataframe thead th {\n",
       "        text-align: right;\n",
       "    }\n",
       "</style>\n",
       "<table border=\"1\" class=\"dataframe\">\n",
       "  <thead>\n",
       "    <tr style=\"text-align: right;\">\n",
       "      <th></th>\n",
       "      <th>source</th>\n",
       "      <th>day</th>\n",
       "      <th>cost</th>\n",
       "    </tr>\n",
       "  </thead>\n",
       "  <tbody>\n",
       "    <tr>\n",
       "      <th>0</th>\n",
       "      <td>facebook_ads</td>\n",
       "      <td>7</td>\n",
       "      <td>2,140.90</td>\n",
       "    </tr>\n",
       "    <tr>\n",
       "      <th>1</th>\n",
       "      <td>instagram_new_adverts</td>\n",
       "      <td>7</td>\n",
       "      <td>2,161.44</td>\n",
       "    </tr>\n",
       "    <tr>\n",
       "      <th>2</th>\n",
       "      <td>yandex_direct</td>\n",
       "      <td>7</td>\n",
       "      <td>2,233.11</td>\n",
       "    </tr>\n",
       "    <tr>\n",
       "      <th>3</th>\n",
       "      <td>youtube_channel_reklama</td>\n",
       "      <td>7</td>\n",
       "      <td>1,068.12</td>\n",
       "    </tr>\n",
       "  </tbody>\n",
       "</table>\n",
       "</div>"
      ],
      "text/plain": [
       "                    source  day     cost\n",
       "0             facebook_ads    7 2,140.90\n",
       "1    instagram_new_adverts    7 2,161.44\n",
       "2            yandex_direct    7 2,233.11\n",
       "3  youtube_channel_reklama    7 1,068.12"
      ]
     },
     "execution_count": 57,
     "metadata": {},
     "output_type": "execute_result"
    }
   ],
   "source": [
    "# агрегируем затраты на рекламу по площадкам\n",
    "ad_costs_by_source = ad_costs.groupby('source', as_index=False).agg({'day':'count', 'cost':'sum'})\n",
    "ad_costs_by_source"
   ]
  },
  {
   "cell_type": "code",
   "execution_count": 58,
   "id": "9fc7082f",
   "metadata": {},
   "outputs": [
    {
     "data": {
      "text/html": [
       "<div>\n",
       "<style scoped>\n",
       "    .dataframe tbody tr th:only-of-type {\n",
       "        vertical-align: middle;\n",
       "    }\n",
       "\n",
       "    .dataframe tbody tr th {\n",
       "        vertical-align: top;\n",
       "    }\n",
       "\n",
       "    .dataframe thead th {\n",
       "        text-align: right;\n",
       "    }\n",
       "</style>\n",
       "<table border=\"1\" class=\"dataframe\">\n",
       "  <thead>\n",
       "    <tr style=\"text-align: right;\">\n",
       "      <th></th>\n",
       "      <th>source</th>\n",
       "      <th>users</th>\n",
       "    </tr>\n",
       "  </thead>\n",
       "  <tbody>\n",
       "    <tr>\n",
       "      <th>0</th>\n",
       "      <td>facebook_ads</td>\n",
       "      <td>2726</td>\n",
       "    </tr>\n",
       "    <tr>\n",
       "      <th>1</th>\n",
       "      <td>instagram_new_adverts</td>\n",
       "      <td>3347</td>\n",
       "    </tr>\n",
       "    <tr>\n",
       "      <th>2</th>\n",
       "      <td>yandex_direct</td>\n",
       "      <td>4817</td>\n",
       "    </tr>\n",
       "    <tr>\n",
       "      <th>3</th>\n",
       "      <td>youtube_channel_reklama</td>\n",
       "      <td>2686</td>\n",
       "    </tr>\n",
       "  </tbody>\n",
       "</table>\n",
       "</div>"
      ],
      "text/plain": [
       "                    source  users\n",
       "0             facebook_ads   2726\n",
       "1    instagram_new_adverts   3347\n",
       "2            yandex_direct   4817\n",
       "3  youtube_channel_reklama   2686"
      ]
     },
     "execution_count": 58,
     "metadata": {},
     "output_type": "execute_result"
    }
   ],
   "source": [
    "# посчитаем количество привелченных пользователей по площадкам\n",
    "users_by_source = user_source.groupby('source', as_index=False).agg('count').rename(columns={'user_id':'users'})\n",
    "users_by_source"
   ]
  },
  {
   "cell_type": "code",
   "execution_count": 59,
   "id": "e08e1b06",
   "metadata": {},
   "outputs": [
    {
     "data": {
      "text/html": [
       "<div>\n",
       "<style scoped>\n",
       "    .dataframe tbody tr th:only-of-type {\n",
       "        vertical-align: middle;\n",
       "    }\n",
       "\n",
       "    .dataframe tbody tr th {\n",
       "        vertical-align: top;\n",
       "    }\n",
       "\n",
       "    .dataframe thead th {\n",
       "        text-align: right;\n",
       "    }\n",
       "</style>\n",
       "<table border=\"1\" class=\"dataframe\">\n",
       "  <thead>\n",
       "    <tr style=\"text-align: right;\">\n",
       "      <th></th>\n",
       "      <th>source</th>\n",
       "      <th>day</th>\n",
       "      <th>cost</th>\n",
       "      <th>users</th>\n",
       "    </tr>\n",
       "  </thead>\n",
       "  <tbody>\n",
       "    <tr>\n",
       "      <th>0</th>\n",
       "      <td>facebook_ads</td>\n",
       "      <td>7</td>\n",
       "      <td>2,140.90</td>\n",
       "      <td>2726</td>\n",
       "    </tr>\n",
       "    <tr>\n",
       "      <th>1</th>\n",
       "      <td>instagram_new_adverts</td>\n",
       "      <td>7</td>\n",
       "      <td>2,161.44</td>\n",
       "      <td>3347</td>\n",
       "    </tr>\n",
       "    <tr>\n",
       "      <th>2</th>\n",
       "      <td>yandex_direct</td>\n",
       "      <td>7</td>\n",
       "      <td>2,233.11</td>\n",
       "      <td>4817</td>\n",
       "    </tr>\n",
       "    <tr>\n",
       "      <th>3</th>\n",
       "      <td>youtube_channel_reklama</td>\n",
       "      <td>7</td>\n",
       "      <td>1,068.12</td>\n",
       "      <td>2686</td>\n",
       "    </tr>\n",
       "  </tbody>\n",
       "</table>\n",
       "</div>"
      ],
      "text/plain": [
       "                    source  day     cost  users\n",
       "0             facebook_ads    7 2,140.90   2726\n",
       "1    instagram_new_adverts    7 2,161.44   3347\n",
       "2            yandex_direct    7 2,233.11   4817\n",
       "3  youtube_channel_reklama    7 1,068.12   2686"
      ]
     },
     "execution_count": 59,
     "metadata": {},
     "output_type": "execute_result"
    }
   ],
   "source": [
    "# соединяем две таблицы в одну\n",
    "ad_costs_by_source_with_users = ad_costs_by_source.merge(users_by_source, how='left', on='source')\n",
    "ad_costs_by_source_with_users"
   ]
  },
  {
   "cell_type": "code",
   "execution_count": 60,
   "id": "26471393",
   "metadata": {
    "scrolled": true
   },
   "outputs": [
    {
     "data": {
      "text/html": [
       "<div>\n",
       "<style scoped>\n",
       "    .dataframe tbody tr th:only-of-type {\n",
       "        vertical-align: middle;\n",
       "    }\n",
       "\n",
       "    .dataframe tbody tr th {\n",
       "        vertical-align: top;\n",
       "    }\n",
       "\n",
       "    .dataframe thead th {\n",
       "        text-align: right;\n",
       "    }\n",
       "</style>\n",
       "<table border=\"1\" class=\"dataframe\">\n",
       "  <thead>\n",
       "    <tr style=\"text-align: right;\">\n",
       "      <th></th>\n",
       "      <th>source</th>\n",
       "      <th>day</th>\n",
       "      <th>cost</th>\n",
       "      <th>users</th>\n",
       "      <th>cost_per_user</th>\n",
       "      <th>avg_cost_per_user</th>\n",
       "    </tr>\n",
       "  </thead>\n",
       "  <tbody>\n",
       "    <tr>\n",
       "      <th>3</th>\n",
       "      <td>youtube_channel_reklama</td>\n",
       "      <td>7</td>\n",
       "      <td>1,068.12</td>\n",
       "      <td>2686</td>\n",
       "      <td>0.40</td>\n",
       "      <td>0.56</td>\n",
       "    </tr>\n",
       "    <tr>\n",
       "      <th>2</th>\n",
       "      <td>yandex_direct</td>\n",
       "      <td>7</td>\n",
       "      <td>2,233.11</td>\n",
       "      <td>4817</td>\n",
       "      <td>0.46</td>\n",
       "      <td>0.56</td>\n",
       "    </tr>\n",
       "    <tr>\n",
       "      <th>1</th>\n",
       "      <td>instagram_new_adverts</td>\n",
       "      <td>7</td>\n",
       "      <td>2,161.44</td>\n",
       "      <td>3347</td>\n",
       "      <td>0.65</td>\n",
       "      <td>0.56</td>\n",
       "    </tr>\n",
       "    <tr>\n",
       "      <th>0</th>\n",
       "      <td>facebook_ads</td>\n",
       "      <td>7</td>\n",
       "      <td>2,140.90</td>\n",
       "      <td>2726</td>\n",
       "      <td>0.79</td>\n",
       "      <td>0.56</td>\n",
       "    </tr>\n",
       "  </tbody>\n",
       "</table>\n",
       "</div>"
      ],
      "text/plain": [
       "                    source  day     cost  users  cost_per_user  \\\n",
       "3  youtube_channel_reklama    7 1,068.12   2686           0.40   \n",
       "2            yandex_direct    7 2,233.11   4817           0.46   \n",
       "1    instagram_new_adverts    7 2,161.44   3347           0.65   \n",
       "0             facebook_ads    7 2,140.90   2726           0.79   \n",
       "\n",
       "   avg_cost_per_user  \n",
       "3               0.56  \n",
       "2               0.56  \n",
       "1               0.56  \n",
       "0               0.56  "
      ]
     },
     "execution_count": 60,
     "metadata": {},
     "output_type": "execute_result"
    }
   ],
   "source": [
    "# считаем среднюю стоимость привлечения пользователя\n",
    "ad_costs_by_source_with_users['cost_per_user'] = ad_costs_by_source_with_users['cost'] / ad_costs_by_source_with_users['users']\n",
    "ad_costs_by_source_with_users['avg_cost_per_user'] = cac\n",
    "ad_costs_by_source_with_users.sort_values(by='cost_per_user')"
   ]
  },
  {
   "cell_type": "code",
   "execution_count": 61,
   "id": "c654fa60",
   "metadata": {},
   "outputs": [
    {
     "data": {
      "image/png": "[encoded data removed]",
      "text/plain": [
       "<Figure size 640x480 with 1 Axes>"
      ]
     },
     "metadata": {},
     "output_type": "display_data"
    }
   ],
   "source": [
    "ad_costs_by_source_with_users.plot(kind='bar',\n",
    "                                   x='source',\n",
    "                                   y='cost_per_user',\n",
    "                                   title='Стоимость привлечения пользователя',\n",
    "                                   legend=True,\n",
    "                                   rot=45,\n",
    "                                   ylim=[0.3, 0.8])\n",
    "plt.xlabel('')\n",
    "plt.ylabel('у.е. на одного пользователя')\n",
    "plt.axhline(y=0.7, color='g', linestyle='--')\n",
    "plt.legend(labels = ['Показ рекламы пользователю', 'Стоимость привлечения пользователя']);"
   ]
  },
  {
   "cell_type": "code",
   "execution_count": 62,
   "id": "f0e03d22",
   "metadata": {},
   "outputs": [
    {
     "data": {
      "text/html": [
       "<div>\n",
       "<style scoped>\n",
       "    .dataframe tbody tr th:only-of-type {\n",
       "        vertical-align: middle;\n",
       "    }\n",
       "\n",
       "    .dataframe tbody tr th {\n",
       "        vertical-align: top;\n",
       "    }\n",
       "\n",
       "    .dataframe thead th {\n",
       "        text-align: right;\n",
       "    }\n",
       "</style>\n",
       "<table border=\"1\" class=\"dataframe\">\n",
       "  <thead>\n",
       "    <tr style=\"text-align: right;\">\n",
       "      <th></th>\n",
       "      <th>event_datetime</th>\n",
       "      <th>event</th>\n",
       "      <th>building_type</th>\n",
       "      <th>user_id</th>\n",
       "      <th>project_type</th>\n",
       "      <th>finished_stage_1</th>\n",
       "      <th>date</th>\n",
       "      <th>source</th>\n",
       "    </tr>\n",
       "  </thead>\n",
       "  <tbody>\n",
       "    <tr>\n",
       "      <th>0</th>\n",
       "      <td>2020-05-04 00:00:01</td>\n",
       "      <td>building</td>\n",
       "      <td>assembly_shop</td>\n",
       "      <td>55e92310-cb8e-4754-b622-597e124b03de</td>\n",
       "      <td>NaN</td>\n",
       "      <td>False</td>\n",
       "      <td>2020-05-04</td>\n",
       "      <td>youtube_channel_reklama</td>\n",
       "    </tr>\n",
       "    <tr>\n",
       "      <th>1</th>\n",
       "      <td>2020-05-04 00:00:03</td>\n",
       "      <td>building</td>\n",
       "      <td>assembly_shop</td>\n",
       "      <td>c07b1c10-f477-44dc-81dc-ec82254b1347</td>\n",
       "      <td>NaN</td>\n",
       "      <td>True</td>\n",
       "      <td>2020-05-04</td>\n",
       "      <td>facebook_ads</td>\n",
       "    </tr>\n",
       "    <tr>\n",
       "      <th>2</th>\n",
       "      <td>2020-05-04 00:00:16</td>\n",
       "      <td>building</td>\n",
       "      <td>assembly_shop</td>\n",
       "      <td>6edd42cc-e753-4ff6-a947-2107cd560710</td>\n",
       "      <td>NaN</td>\n",
       "      <td>True</td>\n",
       "      <td>2020-05-04</td>\n",
       "      <td>instagram_new_adverts</td>\n",
       "    </tr>\n",
       "    <tr>\n",
       "      <th>3</th>\n",
       "      <td>2020-05-04 00:00:16</td>\n",
       "      <td>building</td>\n",
       "      <td>assembly_shop</td>\n",
       "      <td>92c69003-d60a-444a-827f-8cc51bf6bf4c</td>\n",
       "      <td>NaN</td>\n",
       "      <td>False</td>\n",
       "      <td>2020-05-04</td>\n",
       "      <td>facebook_ads</td>\n",
       "    </tr>\n",
       "    <tr>\n",
       "      <th>4</th>\n",
       "      <td>2020-05-04 00:00:35</td>\n",
       "      <td>building</td>\n",
       "      <td>assembly_shop</td>\n",
       "      <td>cdc6bb92-0ccb-4490-9866-ef142f09139d</td>\n",
       "      <td>NaN</td>\n",
       "      <td>True</td>\n",
       "      <td>2020-05-04</td>\n",
       "      <td>yandex_direct</td>\n",
       "    </tr>\n",
       "  </tbody>\n",
       "</table>\n",
       "</div>"
      ],
      "text/plain": [
       "       event_datetime     event  building_type  \\\n",
       "0 2020-05-04 00:00:01  building  assembly_shop   \n",
       "1 2020-05-04 00:00:03  building  assembly_shop   \n",
       "2 2020-05-04 00:00:16  building  assembly_shop   \n",
       "3 2020-05-04 00:00:16  building  assembly_shop   \n",
       "4 2020-05-04 00:00:35  building  assembly_shop   \n",
       "\n",
       "                                user_id project_type  finished_stage_1  \\\n",
       "0  55e92310-cb8e-4754-b622-597e124b03de          NaN             False   \n",
       "1  c07b1c10-f477-44dc-81dc-ec82254b1347          NaN              True   \n",
       "2  6edd42cc-e753-4ff6-a947-2107cd560710          NaN              True   \n",
       "3  92c69003-d60a-444a-827f-8cc51bf6bf4c          NaN             False   \n",
       "4  cdc6bb92-0ccb-4490-9866-ef142f09139d          NaN              True   \n",
       "\n",
       "        date                   source  \n",
       "0 2020-05-04  youtube_channel_reklama  \n",
       "1 2020-05-04             facebook_ads  \n",
       "2 2020-05-04    instagram_new_adverts  \n",
       "3 2020-05-04             facebook_ads  \n",
       "4 2020-05-04            yandex_direct  "
      ]
     },
     "execution_count": 62,
     "metadata": {},
     "output_type": "execute_result"
    }
   ],
   "source": [
    "game_actions = game_actions.merge(user_source, how='left', on='user_id')\n",
    "game_actions.head()"
   ]
  },
  {
   "cell_type": "code",
   "execution_count": 63,
   "id": "dcf8b57c",
   "metadata": {
    "scrolled": true
   },
   "outputs": [
    {
     "data": {
      "text/html": [
       "<div>\n",
       "<style scoped>\n",
       "    .dataframe tbody tr th:only-of-type {\n",
       "        vertical-align: middle;\n",
       "    }\n",
       "\n",
       "    .dataframe tbody tr th {\n",
       "        vertical-align: top;\n",
       "    }\n",
       "\n",
       "    .dataframe thead th {\n",
       "        text-align: right;\n",
       "    }\n",
       "</style>\n",
       "<table border=\"1\" class=\"dataframe\">\n",
       "  <thead>\n",
       "    <tr style=\"text-align: right;\">\n",
       "      <th></th>\n",
       "      <th>source</th>\n",
       "      <th>finished_stage_1</th>\n",
       "      <th>events</th>\n",
       "      <th>users</th>\n",
       "      <th>events_per_user</th>\n",
       "    </tr>\n",
       "  </thead>\n",
       "  <tbody>\n",
       "    <tr>\n",
       "      <th>1</th>\n",
       "      <td>facebook_ads</td>\n",
       "      <td>True</td>\n",
       "      <td>13644</td>\n",
       "      <td>1150</td>\n",
       "      <td>11.86</td>\n",
       "    </tr>\n",
       "    <tr>\n",
       "      <th>3</th>\n",
       "      <td>instagram_new_adverts</td>\n",
       "      <td>True</td>\n",
       "      <td>17320</td>\n",
       "      <td>1466</td>\n",
       "      <td>11.81</td>\n",
       "    </tr>\n",
       "    <tr>\n",
       "      <th>5</th>\n",
       "      <td>yandex_direct</td>\n",
       "      <td>True</td>\n",
       "      <td>23803</td>\n",
       "      <td>2042</td>\n",
       "      <td>11.66</td>\n",
       "    </tr>\n",
       "    <tr>\n",
       "      <th>7</th>\n",
       "      <td>youtube_channel_reklama</td>\n",
       "      <td>True</td>\n",
       "      <td>13702</td>\n",
       "      <td>1159</td>\n",
       "      <td>11.82</td>\n",
       "    </tr>\n",
       "    <tr>\n",
       "      <th>0</th>\n",
       "      <td>facebook_ads</td>\n",
       "      <td>False</td>\n",
       "      <td>14028</td>\n",
       "      <td>1576</td>\n",
       "      <td>8.90</td>\n",
       "    </tr>\n",
       "    <tr>\n",
       "      <th>2</th>\n",
       "      <td>instagram_new_adverts</td>\n",
       "      <td>False</td>\n",
       "      <td>16437</td>\n",
       "      <td>1881</td>\n",
       "      <td>8.74</td>\n",
       "    </tr>\n",
       "    <tr>\n",
       "      <th>4</th>\n",
       "      <td>yandex_direct</td>\n",
       "      <td>False</td>\n",
       "      <td>23891</td>\n",
       "      <td>2775</td>\n",
       "      <td>8.61</td>\n",
       "    </tr>\n",
       "    <tr>\n",
       "      <th>6</th>\n",
       "      <td>youtube_channel_reklama</td>\n",
       "      <td>False</td>\n",
       "      <td>12814</td>\n",
       "      <td>1527</td>\n",
       "      <td>8.39</td>\n",
       "    </tr>\n",
       "  </tbody>\n",
       "</table>\n",
       "</div>"
      ],
      "text/plain": [
       "                    source  finished_stage_1  events  users  events_per_user\n",
       "1             facebook_ads              True   13644   1150            11.86\n",
       "3    instagram_new_adverts              True   17320   1466            11.81\n",
       "5            yandex_direct              True   23803   2042            11.66\n",
       "7  youtube_channel_reklama              True   13702   1159            11.82\n",
       "0             facebook_ads             False   14028   1576             8.90\n",
       "2    instagram_new_adverts             False   16437   1881             8.74\n",
       "4            yandex_direct             False   23891   2775             8.61\n",
       "6  youtube_channel_reklama             False   12814   1527             8.39"
      ]
     },
     "execution_count": 63,
     "metadata": {},
     "output_type": "execute_result"
    }
   ],
   "source": [
    "# проверим отличается ли среднее количество построек между игроками, пришедшими из разных источников\n",
    "events_by_source = game_actions.pivot_table(index=['source', 'finished_stage_1'],\\\n",
    "                                            values=['event_datetime','user_id'],\\\n",
    "                                            aggfunc={'event_datetime':'count','user_id':'nunique'})\\\n",
    "                                .reset_index()\\\n",
    "                                .rename(columns={'event_datetime':'events', 'user_id':'users'}) \n",
    "events_by_source['events_per_user'] = events_by_source['events'] / events_by_source['users']\n",
    "events_by_source.sort_values('finished_stage_1', ascending=False)"
   ]
  },
  {
   "cell_type": "code",
   "execution_count": 64,
   "id": "05506cd3",
   "metadata": {},
   "outputs": [
    {
     "data": {
      "text/plain": [
       "(array([0, 1, 2, 3]),\n",
       " [Text(0, 0, 'facebook_ads'),\n",
       "  Text(1, 0, 'instagram_new_adverts'),\n",
       "  Text(2, 0, 'yandex_direct'),\n",
       "  Text(3, 0, 'youtube_channel_reklama')])"
      ]
     },
     "execution_count": 64,
     "metadata": {},
     "output_type": "execute_result"
    },
    {
     "data": {
      "image/png": "[encoded data removed]",
      "text/plain": [
       "<Figure size 600x500 with 1 Axes>"
      ]
     },
     "metadata": {},
     "output_type": "display_data"
    }
   ],
   "source": [
    "plt.figure(figsize=(6,5))\n",
    "ax = sns.barplot(data=events_by_source, x='source', y='events_per_user', hue='finished_stage_1');\n",
    "plt.title('Среднее количество построек')\n",
    "plt.xlabel('')\n",
    "plt.ylabel('')\n",
    "for p in ax.patches:\n",
    "    ax.annotate(format(p.get_height(), '.2f'), \n",
    "                (p.get_x() + p.get_width() / 2., p.get_height() / 2.), \n",
    "                ha = 'center', va = 'center', \n",
    "                xytext = (0, 0), \n",
    "                textcoords = 'offset points')\n",
    "plt.xticks(rotation=45)"
   ]
  },
  {
   "cell_type": "code",
   "execution_count": 65,
   "id": "461fc6a8",
   "metadata": {},
   "outputs": [],
   "source": [
    "# посчитаем процент прохождения первого уровня игроков по источникам\n",
    "events_by_source = events_by_source.query('finished_stage_1 == True').merge(ad_costs_by_source_with_users, how='left', on = 'source')"
   ]
  },
  {
   "cell_type": "code",
   "execution_count": 66,
   "id": "fa58914b",
   "metadata": {},
   "outputs": [
    {
     "data": {
      "text/html": [
       "<div>\n",
       "<style scoped>\n",
       "    .dataframe tbody tr th:only-of-type {\n",
       "        vertical-align: middle;\n",
       "    }\n",
       "\n",
       "    .dataframe tbody tr th {\n",
       "        vertical-align: top;\n",
       "    }\n",
       "\n",
       "    .dataframe thead th {\n",
       "        text-align: right;\n",
       "    }\n",
       "</style>\n",
       "<table border=\"1\" class=\"dataframe\">\n",
       "  <thead>\n",
       "    <tr style=\"text-align: right;\">\n",
       "      <th></th>\n",
       "      <th>source</th>\n",
       "      <th>finished_stage_1</th>\n",
       "      <th>events</th>\n",
       "      <th>users_x</th>\n",
       "      <th>events_per_user</th>\n",
       "      <th>day</th>\n",
       "      <th>cost</th>\n",
       "      <th>users_y</th>\n",
       "      <th>cost_per_user</th>\n",
       "      <th>avg_cost_per_user</th>\n",
       "    </tr>\n",
       "  </thead>\n",
       "  <tbody>\n",
       "    <tr>\n",
       "      <th>0</th>\n",
       "      <td>facebook_ads</td>\n",
       "      <td>True</td>\n",
       "      <td>13644</td>\n",
       "      <td>1150</td>\n",
       "      <td>11.86</td>\n",
       "      <td>7</td>\n",
       "      <td>2,140.90</td>\n",
       "      <td>2726</td>\n",
       "      <td>0.79</td>\n",
       "      <td>0.56</td>\n",
       "    </tr>\n",
       "    <tr>\n",
       "      <th>1</th>\n",
       "      <td>instagram_new_adverts</td>\n",
       "      <td>True</td>\n",
       "      <td>17320</td>\n",
       "      <td>1466</td>\n",
       "      <td>11.81</td>\n",
       "      <td>7</td>\n",
       "      <td>2,161.44</td>\n",
       "      <td>3347</td>\n",
       "      <td>0.65</td>\n",
       "      <td>0.56</td>\n",
       "    </tr>\n",
       "    <tr>\n",
       "      <th>2</th>\n",
       "      <td>yandex_direct</td>\n",
       "      <td>True</td>\n",
       "      <td>23803</td>\n",
       "      <td>2042</td>\n",
       "      <td>11.66</td>\n",
       "      <td>7</td>\n",
       "      <td>2,233.11</td>\n",
       "      <td>4817</td>\n",
       "      <td>0.46</td>\n",
       "      <td>0.56</td>\n",
       "    </tr>\n",
       "    <tr>\n",
       "      <th>3</th>\n",
       "      <td>youtube_channel_reklama</td>\n",
       "      <td>True</td>\n",
       "      <td>13702</td>\n",
       "      <td>1159</td>\n",
       "      <td>11.82</td>\n",
       "      <td>7</td>\n",
       "      <td>1,068.12</td>\n",
       "      <td>2686</td>\n",
       "      <td>0.40</td>\n",
       "      <td>0.56</td>\n",
       "    </tr>\n",
       "  </tbody>\n",
       "</table>\n",
       "</div>"
      ],
      "text/plain": [
       "                    source  finished_stage_1  events  users_x  \\\n",
       "0             facebook_ads              True   13644     1150   \n",
       "1    instagram_new_adverts              True   17320     1466   \n",
       "2            yandex_direct              True   23803     2042   \n",
       "3  youtube_channel_reklama              True   13702     1159   \n",
       "\n",
       "   events_per_user  day     cost  users_y  cost_per_user  avg_cost_per_user  \n",
       "0            11.86    7 2,140.90     2726           0.79               0.56  \n",
       "1            11.81    7 2,161.44     3347           0.65               0.56  \n",
       "2            11.66    7 2,233.11     4817           0.46               0.56  \n",
       "3            11.82    7 1,068.12     2686           0.40               0.56  "
      ]
     },
     "execution_count": 66,
     "metadata": {},
     "output_type": "execute_result"
    }
   ],
   "source": [
    "events_by_source"
   ]
  },
  {
   "cell_type": "code",
   "execution_count": 67,
   "id": "068f5eb5",
   "metadata": {
    "scrolled": true
   },
   "outputs": [
    {
     "data": {
      "text/html": [
       "<div>\n",
       "<style scoped>\n",
       "    .dataframe tbody tr th:only-of-type {\n",
       "        vertical-align: middle;\n",
       "    }\n",
       "\n",
       "    .dataframe tbody tr th {\n",
       "        vertical-align: top;\n",
       "    }\n",
       "\n",
       "    .dataframe thead th {\n",
       "        text-align: right;\n",
       "    }\n",
       "</style>\n",
       "<table border=\"1\" class=\"dataframe\">\n",
       "  <thead>\n",
       "    <tr style=\"text-align: right;\">\n",
       "      <th></th>\n",
       "      <th>source</th>\n",
       "      <th>finished_stage_1</th>\n",
       "      <th>events</th>\n",
       "      <th>users_x</th>\n",
       "      <th>events_per_user</th>\n",
       "      <th>day</th>\n",
       "      <th>cost</th>\n",
       "      <th>users_y</th>\n",
       "      <th>cost_per_user</th>\n",
       "      <th>avg_cost_per_user</th>\n",
       "      <th>fininshed_share</th>\n",
       "    </tr>\n",
       "  </thead>\n",
       "  <tbody>\n",
       "    <tr>\n",
       "      <th>0</th>\n",
       "      <td>facebook_ads</td>\n",
       "      <td>True</td>\n",
       "      <td>13644</td>\n",
       "      <td>1150</td>\n",
       "      <td>11.86</td>\n",
       "      <td>7</td>\n",
       "      <td>2,140.90</td>\n",
       "      <td>2726</td>\n",
       "      <td>0.79</td>\n",
       "      <td>0.56</td>\n",
       "      <td>0.42</td>\n",
       "    </tr>\n",
       "    <tr>\n",
       "      <th>1</th>\n",
       "      <td>instagram_new_adverts</td>\n",
       "      <td>True</td>\n",
       "      <td>17320</td>\n",
       "      <td>1466</td>\n",
       "      <td>11.81</td>\n",
       "      <td>7</td>\n",
       "      <td>2,161.44</td>\n",
       "      <td>3347</td>\n",
       "      <td>0.65</td>\n",
       "      <td>0.56</td>\n",
       "      <td>0.44</td>\n",
       "    </tr>\n",
       "    <tr>\n",
       "      <th>2</th>\n",
       "      <td>yandex_direct</td>\n",
       "      <td>True</td>\n",
       "      <td>23803</td>\n",
       "      <td>2042</td>\n",
       "      <td>11.66</td>\n",
       "      <td>7</td>\n",
       "      <td>2,233.11</td>\n",
       "      <td>4817</td>\n",
       "      <td>0.46</td>\n",
       "      <td>0.56</td>\n",
       "      <td>0.42</td>\n",
       "    </tr>\n",
       "    <tr>\n",
       "      <th>3</th>\n",
       "      <td>youtube_channel_reklama</td>\n",
       "      <td>True</td>\n",
       "      <td>13702</td>\n",
       "      <td>1159</td>\n",
       "      <td>11.82</td>\n",
       "      <td>7</td>\n",
       "      <td>1,068.12</td>\n",
       "      <td>2686</td>\n",
       "      <td>0.40</td>\n",
       "      <td>0.56</td>\n",
       "      <td>0.43</td>\n",
       "    </tr>\n",
       "  </tbody>\n",
       "</table>\n",
       "</div>"
      ],
      "text/plain": [
       "                    source  finished_stage_1  events  users_x  \\\n",
       "0             facebook_ads              True   13644     1150   \n",
       "1    instagram_new_adverts              True   17320     1466   \n",
       "2            yandex_direct              True   23803     2042   \n",
       "3  youtube_channel_reklama              True   13702     1159   \n",
       "\n",
       "   events_per_user  day     cost  users_y  cost_per_user  avg_cost_per_user  \\\n",
       "0            11.86    7 2,140.90     2726           0.79               0.56   \n",
       "1            11.81    7 2,161.44     3347           0.65               0.56   \n",
       "2            11.66    7 2,233.11     4817           0.46               0.56   \n",
       "3            11.82    7 1,068.12     2686           0.40               0.56   \n",
       "\n",
       "   fininshed_share  \n",
       "0             0.42  \n",
       "1             0.44  \n",
       "2             0.42  \n",
       "3             0.43  "
      ]
     },
     "execution_count": 67,
     "metadata": {},
     "output_type": "execute_result"
    }
   ],
   "source": [
    "events_by_source['fininshed_share'] = events_by_source['users_x'] / events_by_source['users_y']\n",
    "events_by_source"
   ]
  },
  {
   "cell_type": "markdown",
   "id": "aed80fcf",
   "metadata": {},
   "source": [
    "**Выводы:**\n",
    "1. Самая дорогая реклама в facebook_ads (0.79) - в два раза больше, чем на youtube (0.4)\n",
    "2. Источник привлечения игроков не влияет на количество построек.\n",
    "3. Процент завершения первого уровня по источникам привлечения игроков примерно одинаковый.\n",
    "4. Для окупаемости рекламы каждому игроку необходимо показать ее не менее 8 раз."
   ]
  },
  {
   "cell_type": "markdown",
   "id": "0000daf7-f377-4801-ab79-640037bb50bb",
   "metadata": {},
   "source": [
    "[Оглавление](#section_id8)"
   ]
  },
  {
   "cell_type": "markdown",
   "id": "7e5db5ac",
   "metadata": {},
   "source": [
    "<a id='section_id4'></a>\n",
    "## Модель окупаемости рекламы"
   ]
  },
  {
   "cell_type": "code",
   "execution_count": 68,
   "id": "ef2b580b",
   "metadata": {},
   "outputs": [
    {
     "name": "stdout",
     "output_type": "stream",
     "text": [
      "Количество показов рекламы одному игроку для окупаемости привлечения игроков: 8.00\n"
     ]
    }
   ],
   "source": [
    "# ранее мы выяснили следующее:\n",
    "print('Количество показов рекламы одному игроку для окупаемости привлечения игроков:', '{:.2f}'.format(cac / rev_per_ad))"
   ]
  },
  {
   "cell_type": "code",
   "execution_count": 69,
   "id": "91ba2f44",
   "metadata": {},
   "outputs": [
    {
     "data": {
      "text/plain": [
       "count   13,576.00\n",
       "mean         9.43\n",
       "std          3.86\n",
       "min          1.00\n",
       "25%          6.00\n",
       "50%         10.00\n",
       "75%         12.00\n",
       "max         20.00\n",
       "Name: events, dtype: float64"
      ]
     },
     "execution_count": 69,
     "metadata": {},
     "output_type": "execute_result"
    }
   ],
   "source": [
    "# посмотрим медианное и среднее значение числа построек игроками\n",
    "game_actions_by_users.events.describe()"
   ]
  },
  {
   "cell_type": "markdown",
   "id": "098a9e4c",
   "metadata": {},
   "source": [
    "Таким образом получается, чтобы окупить рекламу, показывать нужно со второй постройки всем без исключения пользователям."
   ]
  },
  {
   "cell_type": "code",
   "execution_count": 70,
   "id": "77e0c792",
   "metadata": {},
   "outputs": [
    {
     "name": "stdout",
     "output_type": "stream",
     "text": [
      "ROI при показе рекламы с первой постройки: 17.80%\n",
      "ROI при показе рекламы со второй постройки: 5.30%\n",
      "ROI при показе рекламы с третьей постройки: -7.15%\n"
     ]
    }
   ],
   "source": [
    "# посчитаем roi по разным сценариям:\n",
    "# 1. показ с первой постройки\n",
    "ltv_first_building = ((game_actions_by_users.events.sum() * rev_per_ad) / ad_costs.cost.sum() - 1)\n",
    "print('ROI при показе рекламы с первой постройки:', '{:.2%}'.format(ltv_first_building))\n",
    "# 2. показ со второй постройки\n",
    "ltv_second_building = (((game_actions_by_users.events.sum() - game_actions_by_users.user_id.nunique()) * rev_per_ad) / ad_costs.cost.sum() - 1)\n",
    "print('ROI при показе рекламы со второй постройки:', '{:.2%}'.format(ltv_second_building))\n",
    "# 3. показ с третьей постройки\n",
    "ltv_third_building = (((game_actions_by_users.events.sum()\\\n",
    "                        - game_actions_by_users.user_id.nunique() * 2\\\n",
    "                        + game_actions_by_users.query('events == 1').user_id.nunique())\\\n",
    "                        * rev_per_ad) / ad_costs.cost.sum() - 1)\n",
    "print('ROI при показе рекламы с третьей постройки:', '{:.2%}'.format(ltv_third_building))"
   ]
  },
  {
   "cell_type": "markdown",
   "id": "558da2e3",
   "metadata": {},
   "source": [
    "**Выводы:**\n",
    "1. ROI при показе рекламы с первой постройки: 17.80%\n",
    "2. ROI при показе рекламы со второй постройки: 5.30%\n",
    "3. ROI при показе рекламы с третьей постройки: -7.15%"
   ]
  },
  {
   "cell_type": "markdown",
   "id": "c619cb0f-975a-47c3-8744-edee5a7d5343",
   "metadata": {},
   "source": [
    "[Оглавление](#section_id8)"
   ]
  },
  {
   "cell_type": "markdown",
   "id": "db256b28",
   "metadata": {},
   "source": [
    "<a id='section_id5'></a>\n",
    "## Проверка гипотез"
   ]
  },
  {
   "cell_type": "markdown",
   "id": "37d67f9e",
   "metadata": {},
   "source": [
    "### Проверить гипотезу различия времени прохождения уровня между пользователями, которые заканчивают уровень через реализацию проекта, и пользователями, которые заканчивают уровень победой над другим игроком."
   ]
  },
  {
   "cell_type": "markdown",
   "id": "783ec8e6",
   "metadata": {},
   "source": [
    "Формулируем гипотезы:\n",
    "1. H0: различия во времени прохождения первого уровня между группам нет\n",
    "2. H1: есть различия во времени прохождения первого уровня между группами"
   ]
  },
  {
   "cell_type": "code",
   "execution_count": 71,
   "id": "19ac4ac8",
   "metadata": {},
   "outputs": [
    {
     "data": {
      "text/plain": [
       "Index(['user_id', 'finished_stage_1', 'days_played'], dtype='object')"
      ]
     },
     "execution_count": 71,
     "metadata": {},
     "output_type": "execute_result"
    }
   ],
   "source": [
    "# сделаем сводную таблицу по игрокам для расчета количества дней в игре (когда совершалось игровое действие)\n",
    "game_duration_all = game_actions \\\n",
    "                              .pivot_table(index=['user_id','finished_stage_1',], values='date', aggfunc='nunique')\\\n",
    "                              .reset_index()\n",
    "# переименуем колонки\n",
    "game_duration_all.columns = ['user_id', 'finished_stage_1', 'days_played']\n",
    "# проверим наименования колонок\n",
    "game_duration_all.columns"
   ]
  },
  {
   "cell_type": "code",
   "execution_count": 72,
   "id": "7095a362",
   "metadata": {},
   "outputs": [
    {
     "data": {
      "text/html": [
       "<div>\n",
       "<style scoped>\n",
       "    .dataframe tbody tr th:only-of-type {\n",
       "        vertical-align: middle;\n",
       "    }\n",
       "\n",
       "    .dataframe tbody tr th {\n",
       "        vertical-align: top;\n",
       "    }\n",
       "\n",
       "    .dataframe thead th {\n",
       "        text-align: right;\n",
       "    }\n",
       "</style>\n",
       "<table border=\"1\" class=\"dataframe\">\n",
       "  <thead>\n",
       "    <tr style=\"text-align: right;\">\n",
       "      <th></th>\n",
       "      <th>event_datetime</th>\n",
       "      <th>event</th>\n",
       "      <th>building_type</th>\n",
       "      <th>user_id</th>\n",
       "      <th>project_type</th>\n",
       "      <th>finished_stage_1</th>\n",
       "      <th>date</th>\n",
       "      <th>source</th>\n",
       "    </tr>\n",
       "  </thead>\n",
       "  <tbody>\n",
       "    <tr>\n",
       "      <th>0</th>\n",
       "      <td>2020-05-04 00:00:01</td>\n",
       "      <td>building</td>\n",
       "      <td>assembly_shop</td>\n",
       "      <td>55e92310-cb8e-4754-b622-597e124b03de</td>\n",
       "      <td>NaN</td>\n",
       "      <td>False</td>\n",
       "      <td>2020-05-04</td>\n",
       "      <td>youtube_channel_reklama</td>\n",
       "    </tr>\n",
       "    <tr>\n",
       "      <th>1</th>\n",
       "      <td>2020-05-04 00:00:03</td>\n",
       "      <td>building</td>\n",
       "      <td>assembly_shop</td>\n",
       "      <td>c07b1c10-f477-44dc-81dc-ec82254b1347</td>\n",
       "      <td>NaN</td>\n",
       "      <td>True</td>\n",
       "      <td>2020-05-04</td>\n",
       "      <td>facebook_ads</td>\n",
       "    </tr>\n",
       "    <tr>\n",
       "      <th>2</th>\n",
       "      <td>2020-05-04 00:00:16</td>\n",
       "      <td>building</td>\n",
       "      <td>assembly_shop</td>\n",
       "      <td>6edd42cc-e753-4ff6-a947-2107cd560710</td>\n",
       "      <td>NaN</td>\n",
       "      <td>True</td>\n",
       "      <td>2020-05-04</td>\n",
       "      <td>instagram_new_adverts</td>\n",
       "    </tr>\n",
       "    <tr>\n",
       "      <th>3</th>\n",
       "      <td>2020-05-04 00:00:16</td>\n",
       "      <td>building</td>\n",
       "      <td>assembly_shop</td>\n",
       "      <td>92c69003-d60a-444a-827f-8cc51bf6bf4c</td>\n",
       "      <td>NaN</td>\n",
       "      <td>False</td>\n",
       "      <td>2020-05-04</td>\n",
       "      <td>facebook_ads</td>\n",
       "    </tr>\n",
       "    <tr>\n",
       "      <th>4</th>\n",
       "      <td>2020-05-04 00:00:35</td>\n",
       "      <td>building</td>\n",
       "      <td>assembly_shop</td>\n",
       "      <td>cdc6bb92-0ccb-4490-9866-ef142f09139d</td>\n",
       "      <td>NaN</td>\n",
       "      <td>True</td>\n",
       "      <td>2020-05-04</td>\n",
       "      <td>yandex_direct</td>\n",
       "    </tr>\n",
       "  </tbody>\n",
       "</table>\n",
       "</div>"
      ],
      "text/plain": [
       "       event_datetime     event  building_type  \\\n",
       "0 2020-05-04 00:00:01  building  assembly_shop   \n",
       "1 2020-05-04 00:00:03  building  assembly_shop   \n",
       "2 2020-05-04 00:00:16  building  assembly_shop   \n",
       "3 2020-05-04 00:00:16  building  assembly_shop   \n",
       "4 2020-05-04 00:00:35  building  assembly_shop   \n",
       "\n",
       "                                user_id project_type  finished_stage_1  \\\n",
       "0  55e92310-cb8e-4754-b622-597e124b03de          NaN             False   \n",
       "1  c07b1c10-f477-44dc-81dc-ec82254b1347          NaN              True   \n",
       "2  6edd42cc-e753-4ff6-a947-2107cd560710          NaN              True   \n",
       "3  92c69003-d60a-444a-827f-8cc51bf6bf4c          NaN             False   \n",
       "4  cdc6bb92-0ccb-4490-9866-ef142f09139d          NaN              True   \n",
       "\n",
       "        date                   source  \n",
       "0 2020-05-04  youtube_channel_reklama  \n",
       "1 2020-05-04             facebook_ads  \n",
       "2 2020-05-04    instagram_new_adverts  \n",
       "3 2020-05-04             facebook_ads  \n",
       "4 2020-05-04            yandex_direct  "
      ]
     },
     "execution_count": 72,
     "metadata": {},
     "output_type": "execute_result"
    }
   ],
   "source": [
    "game_actions.head()"
   ]
  },
  {
   "cell_type": "code",
   "execution_count": 73,
   "id": "a723f0bf",
   "metadata": {},
   "outputs": [
    {
     "data": {
      "text/plain": [
       "array(['e3c66498-9d45-4000-9392-f81e6796e7da',\n",
       "       '936e7af6-8338-4703-a1df-fc6c3f5b8e34',\n",
       "       'a4491c86-c498-4f74-a56e-65c136d0e9a1', ...,\n",
       "       '82e46f34-e243-4728-8e20-2e171fc33ea4',\n",
       "       'fe032991-71e0-48c5-889f-4c3805ba4c9b',\n",
       "       'd477dde8-7c22-4f23-9c4f-4ec31a1aa4c8'], dtype=object)"
      ]
     },
     "execution_count": 73,
     "metadata": {},
     "output_type": "execute_result"
    }
   ],
   "source": [
    "# определим тех, кто закончил уровень через проект\n",
    "project_users = game_actions.query('event == \"project\"').user_id.unique()\n",
    "project_users"
   ]
  },
  {
   "cell_type": "code",
   "execution_count": 74,
   "id": "a9c70613",
   "metadata": {},
   "outputs": [],
   "source": [
    "# напишем функцию для разбивки пользователей на закончивших через проект и через победу над другим игроком\n",
    "def project(user_id):\n",
    "    if user_id in project_users:\n",
    "        return True\n",
    "    else:\n",
    "        return False\n",
    "\n",
    "game_actions['finished_via_project'] = game_actions['user_id'].apply(project)"
   ]
  },
  {
   "cell_type": "code",
   "execution_count": 75,
   "id": "57b902cc",
   "metadata": {},
   "outputs": [
    {
     "data": {
      "text/plain": [
       "Index(['finished_via_project', 'user_id', 'days_played', 'events'], dtype='object')"
      ]
     },
     "execution_count": 75,
     "metadata": {},
     "output_type": "execute_result"
    }
   ],
   "source": [
    "# посчитаем количество дней, необходимых для прохождения первого уровня по пользователям и группам finished_via_project\n",
    "first_level_comp = game_actions.query('finished_stage_1 == True')\\\n",
    "                .pivot_table(index=['finished_via_project', 'user_id'], values=['date','event'],\\\n",
    "                            aggfunc={'date':'nunique', 'event':'count'})\\\n",
    "                .reset_index()\n",
    "# переименуем колонки\n",
    "first_level_comp.columns = ['finished_via_project', 'user_id', 'days_played', 'events']\n",
    "# проверим наименования колонок\n",
    "first_level_comp.columns"
   ]
  },
  {
   "cell_type": "code",
   "execution_count": 76,
   "id": "4d47476f",
   "metadata": {},
   "outputs": [
    {
     "data": {
      "text/html": [
       "<div>\n",
       "<style scoped>\n",
       "    .dataframe tbody tr th:only-of-type {\n",
       "        vertical-align: middle;\n",
       "    }\n",
       "\n",
       "    .dataframe tbody tr th {\n",
       "        vertical-align: top;\n",
       "    }\n",
       "\n",
       "    .dataframe thead th {\n",
       "        text-align: right;\n",
       "    }\n",
       "</style>\n",
       "<table border=\"1\" class=\"dataframe\">\n",
       "  <thead>\n",
       "    <tr style=\"text-align: right;\">\n",
       "      <th></th>\n",
       "      <th>finished_via_project</th>\n",
       "      <th>user_id</th>\n",
       "      <th>days_played</th>\n",
       "      <th>events</th>\n",
       "    </tr>\n",
       "  </thead>\n",
       "  <tbody>\n",
       "    <tr>\n",
       "      <th>0</th>\n",
       "      <td>False</td>\n",
       "      <td>001d39dc-366c-4021-9604-6a3b9ff01e25</td>\n",
       "      <td>6</td>\n",
       "      <td>9</td>\n",
       "    </tr>\n",
       "    <tr>\n",
       "      <th>1</th>\n",
       "      <td>False</td>\n",
       "      <td>003ee7e8-6356-4286-a715-62f22a18d2a1</td>\n",
       "      <td>6</td>\n",
       "      <td>9</td>\n",
       "    </tr>\n",
       "    <tr>\n",
       "      <th>2</th>\n",
       "      <td>False</td>\n",
       "      <td>004074f8-251a-4776-922c-8348dca1a2f6</td>\n",
       "      <td>8</td>\n",
       "      <td>13</td>\n",
       "    </tr>\n",
       "    <tr>\n",
       "      <th>3</th>\n",
       "      <td>False</td>\n",
       "      <td>00464e5e-28ed-4be6-bf44-517ef7b3937b</td>\n",
       "      <td>6</td>\n",
       "      <td>9</td>\n",
       "    </tr>\n",
       "    <tr>\n",
       "      <th>4</th>\n",
       "      <td>False</td>\n",
       "      <td>0056c007-c082-43cc-bdef-afc49bca4cb9</td>\n",
       "      <td>4</td>\n",
       "      <td>4</td>\n",
       "    </tr>\n",
       "    <tr>\n",
       "      <th>...</th>\n",
       "      <td>...</td>\n",
       "      <td>...</td>\n",
       "      <td>...</td>\n",
       "      <td>...</td>\n",
       "    </tr>\n",
       "    <tr>\n",
       "      <th>5812</th>\n",
       "      <td>True</td>\n",
       "      <td>ff50f63a-c4b3-494e-8bf9-3f19dbfc513e</td>\n",
       "      <td>16</td>\n",
       "      <td>20</td>\n",
       "    </tr>\n",
       "    <tr>\n",
       "      <th>5813</th>\n",
       "      <td>True</td>\n",
       "      <td>ff60fcd1-4329-494e-b82d-461fbdf5b5eb</td>\n",
       "      <td>7</td>\n",
       "      <td>13</td>\n",
       "    </tr>\n",
       "    <tr>\n",
       "      <th>5814</th>\n",
       "      <td>True</td>\n",
       "      <td>ff83bdd8-f49a-49fd-8aad-9fa1fb30d516</td>\n",
       "      <td>8</td>\n",
       "      <td>15</td>\n",
       "    </tr>\n",
       "    <tr>\n",
       "      <th>5815</th>\n",
       "      <td>True</td>\n",
       "      <td>ff841992-d93b-462e-bc6e-18c24a514f36</td>\n",
       "      <td>12</td>\n",
       "      <td>22</td>\n",
       "    </tr>\n",
       "    <tr>\n",
       "      <th>5816</th>\n",
       "      <td>True</td>\n",
       "      <td>ffff69cc-fec1-4fd3-9f98-93be1112a6b8</td>\n",
       "      <td>10</td>\n",
       "      <td>14</td>\n",
       "    </tr>\n",
       "  </tbody>\n",
       "</table>\n",
       "<p>5817 rows × 4 columns</p>\n",
       "</div>"
      ],
      "text/plain": [
       "      finished_via_project                               user_id  days_played  \\\n",
       "0                    False  001d39dc-366c-4021-9604-6a3b9ff01e25            6   \n",
       "1                    False  003ee7e8-6356-4286-a715-62f22a18d2a1            6   \n",
       "2                    False  004074f8-251a-4776-922c-8348dca1a2f6            8   \n",
       "3                    False  00464e5e-28ed-4be6-bf44-517ef7b3937b            6   \n",
       "4                    False  0056c007-c082-43cc-bdef-afc49bca4cb9            4   \n",
       "...                    ...                                   ...          ...   \n",
       "5812                  True  ff50f63a-c4b3-494e-8bf9-3f19dbfc513e           16   \n",
       "5813                  True  ff60fcd1-4329-494e-b82d-461fbdf5b5eb            7   \n",
       "5814                  True  ff83bdd8-f49a-49fd-8aad-9fa1fb30d516            8   \n",
       "5815                  True  ff841992-d93b-462e-bc6e-18c24a514f36           12   \n",
       "5816                  True  ffff69cc-fec1-4fd3-9f98-93be1112a6b8           10   \n",
       "\n",
       "      events  \n",
       "0          9  \n",
       "1          9  \n",
       "2         13  \n",
       "3          9  \n",
       "4          4  \n",
       "...      ...  \n",
       "5812      20  \n",
       "5813      13  \n",
       "5814      15  \n",
       "5815      22  \n",
       "5816      14  \n",
       "\n",
       "[5817 rows x 4 columns]"
      ]
     },
     "execution_count": 76,
     "metadata": {},
     "output_type": "execute_result"
    }
   ],
   "source": [
    "first_level_comp"
   ]
  },
  {
   "cell_type": "code",
   "execution_count": 77,
   "id": "699e55f2",
   "metadata": {
    "scrolled": true
   },
   "outputs": [
    {
     "name": "stdout",
     "output_type": "stream",
     "text": [
      "p-value: 0.00\n",
      "Относительное различие среднего количества дней прохождения уровня между группами: 32.16%\n"
     ]
    }
   ],
   "source": [
    "print('p-value:','{0:.2f}'.format(stats.mannwhitneyu(first_level_comp[first_level_comp['finished_via_project']==False]['days_played'],\n",
    "                                          first_level_comp[first_level_comp['finished_via_project']==True]['days_played'])[1]))\n",
    "print('Относительное различие среднего количества дней прохождения уровня между группами:','{0:.2%}'.format(first_level_comp[first_level_comp['finished_via_project']==True]['days_played']\\\n",
    "               .mean()/first_level_comp[first_level_comp['finished_via_project']==False]['days_played']\\\n",
    "               .mean() -1))"
   ]
  },
  {
   "cell_type": "markdown",
   "id": "ac49fb49",
   "metadata": {},
   "source": [
    "**Вывод:** есть статистически значимое различие между группами игроков PvP и PvE во времени прохождения уровня."
   ]
  },
  {
   "cell_type": "markdown",
   "id": "dd6bc39c",
   "metadata": {},
   "source": [
    "### Проверить гипотезу различия количества событий для прохождения уровня между пользователями, которые заканчивают уровень через реализацию проекта, и пользователями, которые заканчивают уровень победой над другим игроком."
   ]
  },
  {
   "cell_type": "markdown",
   "id": "2f3c71f1",
   "metadata": {},
   "source": [
    "Формулируем гипотезы:\n",
    "1. H0: различий в количестве событий при прохождении первого уровня между группам нет\n",
    "2. H1: есть различия в количестве событий для прохождения первого уровня между группами"
   ]
  },
  {
   "cell_type": "code",
   "execution_count": 78,
   "id": "0b8c6898",
   "metadata": {
    "scrolled": true
   },
   "outputs": [
    {
     "name": "stdout",
     "output_type": "stream",
     "text": [
      "p-value: 0.00\n",
      "Относительное различие среднего количества событий при прохождении уровня между группами: 40.69%\n"
     ]
    }
   ],
   "source": [
    "print('p-value:','{0:.2f}'.format(stats.mannwhitneyu(first_level_comp[first_level_comp['finished_via_project']==False]['events'],\n",
    "                                          first_level_comp[first_level_comp['finished_via_project']==True]['events'])[1]))\n",
    "print('Относительное различие среднего количества событий при прохождении уровня между группами:','{0:.2%}'.format(first_level_comp[first_level_comp['finished_via_project']==True]['events']\\\n",
    "               .mean()/first_level_comp[first_level_comp['finished_via_project']==False]['events']\\\n",
    "               .mean() -1))"
   ]
  },
  {
   "cell_type": "markdown",
   "id": "42e6c68e",
   "metadata": {},
   "source": [
    "**Вывод:** есть статистически значимое различие между группами игроков PvP и PvE во времени прохождения уровня."
   ]
  },
  {
   "cell_type": "markdown",
   "id": "de7dda85-f72b-4b36-bfcb-64fc648e0733",
   "metadata": {},
   "source": [
    "[Оглавление](#section_id8)"
   ]
  },
  {
   "cell_type": "markdown",
   "id": "746bea19",
   "metadata": {},
   "source": [
    "<a id='section_id6'></a>\n",
    "## Выводы"
   ]
  },
  {
   "cell_type": "markdown",
   "id": "1b4a9128",
   "metadata": {},
   "source": [
    "1. Для окупаемости рекламы необходимо в среднем 8 показов каждому пользователю.\n",
    "2. ROI 5% при показе рекламы начиная со второго экрана стройки и 18% при показе начиная с первого экрана.\n",
    "3. При показе рекламы начиная с третьего экрана стройки ROI -7%.\n",
    "4. Для разработки более глубокой модели можно рассмотреть возможность размещения рекламы не только на экранах строительства, но и перед битвами с врагом, так как PvP игроки статистически быстрее и с меньшим количеством строек проходят первый уровень.\n",
    "5. Также имеет смысл обратить внимание на источники рекламы, так самый дешевый youtube почти в два раза дешевле самого дорого facebook. При этом среднее количество экранов строительства у игроков по этим источникам почти не отличается."
   ]
  },
  {
   "cell_type": "markdown",
   "id": "3b1279b9",
   "metadata": {},
   "source": [
    "<a id='section_id7'></a>\n",
    "## Дэшборд"
   ]
  },
  {
   "cell_type": "markdown",
   "id": "e0e9208e",
   "metadata": {},
   "source": [
    "Dashboard: https://public.tableau.com/views/GamesDashboard_16819982490650/Dashboard1?:language=en-US&:display_count=n&:origin=viz_share_link"
   ]
  },
  {
   "cell_type": "markdown",
   "id": "6ca19469-7e35-438e-a059-aef2d1a85adc",
   "metadata": {},
   "source": [
    "[Оглавление](#section_id8)"
   ]
  }
 ],
 "metadata": {
  "ExecuteTimeLog": [
   {
    "duration": 255,
    "start_time": "2023-04-27T05:17:35.879Z"
   },
   {
    "duration": 63,
    "start_time": "2023-04-27T05:39:56.453Z"
   },
   {
    "duration": 49,
    "start_time": "2023-04-27T15:39:48.055Z"
   },
   {
    "duration": 9,
    "start_time": "2023-04-27T15:40:08.260Z"
   },
   {
    "duration": 1454,
    "start_time": "2023-04-27T15:40:19.098Z"
   },
   {
    "duration": 3,
    "start_time": "2023-04-27T15:40:20.554Z"
   },
   {
    "duration": 1201,
    "start_time": "2023-04-27T15:40:20.558Z"
   },
   {
    "duration": 15,
    "start_time": "2023-04-27T15:40:21.762Z"
   },
   {
    "duration": 46,
    "start_time": "2023-04-27T15:40:21.779Z"
   },
   {
    "duration": 98,
    "start_time": "2023-04-27T15:40:21.828Z"
   },
   {
    "duration": 10,
    "start_time": "2023-04-27T15:40:21.928Z"
   },
   {
    "duration": 40,
    "start_time": "2023-04-27T15:40:21.940Z"
   },
   {
    "duration": 33,
    "start_time": "2023-04-27T15:40:21.982Z"
   },
   {
    "duration": 12,
    "start_time": "2023-04-27T15:40:22.019Z"
   },
   {
    "duration": 28,
    "start_time": "2023-04-27T15:40:22.033Z"
   },
   {
    "duration": 14,
    "start_time": "2023-04-27T15:40:22.064Z"
   },
   {
    "duration": 88,
    "start_time": "2023-04-27T15:40:22.080Z"
   },
   {
    "duration": 199,
    "start_time": "2023-04-27T15:40:22.169Z"
   },
   {
    "duration": 6,
    "start_time": "2023-04-27T15:40:22.369Z"
   },
   {
    "duration": 48,
    "start_time": "2023-04-27T15:40:22.377Z"
   },
   {
    "duration": 37,
    "start_time": "2023-04-27T15:40:22.427Z"
   },
   {
    "duration": 50,
    "start_time": "2023-04-27T15:40:22.466Z"
   },
   {
    "duration": 9,
    "start_time": "2023-04-27T15:40:22.518Z"
   },
   {
    "duration": 18,
    "start_time": "2023-04-27T15:40:22.528Z"
   },
   {
    "duration": 24,
    "start_time": "2023-04-27T15:40:22.548Z"
   },
   {
    "duration": 44,
    "start_time": "2023-04-27T15:40:22.573Z"
   },
   {
    "duration": 16,
    "start_time": "2023-04-27T15:40:22.618Z"
   },
   {
    "duration": 15713,
    "start_time": "2023-04-27T15:40:22.636Z"
   },
   {
    "duration": 10,
    "start_time": "2023-04-27T15:40:38.351Z"
   },
   {
    "duration": 36,
    "start_time": "2023-04-27T15:40:38.363Z"
   },
   {
    "duration": 41,
    "start_time": "2023-04-27T15:40:38.401Z"
   },
   {
    "duration": 17,
    "start_time": "2023-04-27T15:40:38.446Z"
   },
   {
    "duration": 86,
    "start_time": "2023-04-27T15:40:38.465Z"
   },
   {
    "duration": 10,
    "start_time": "2023-04-27T15:40:38.552Z"
   },
   {
    "duration": 10,
    "start_time": "2023-04-27T15:40:38.564Z"
   },
   {
    "duration": 4,
    "start_time": "2023-04-27T15:40:38.593Z"
   },
   {
    "duration": 62,
    "start_time": "2023-04-27T15:40:38.599Z"
   },
   {
    "duration": 4,
    "start_time": "2023-04-27T15:40:38.663Z"
   },
   {
    "duration": 56,
    "start_time": "2023-04-27T15:40:38.669Z"
   },
   {
    "duration": 10,
    "start_time": "2023-04-27T15:40:38.726Z"
   },
   {
    "duration": 16,
    "start_time": "2023-04-27T15:40:38.738Z"
   },
   {
    "duration": 19,
    "start_time": "2023-04-27T15:40:38.756Z"
   },
   {
    "duration": 73,
    "start_time": "2023-04-27T15:40:38.777Z"
   },
   {
    "duration": 5,
    "start_time": "2023-04-27T15:40:38.852Z"
   },
   {
    "duration": 12,
    "start_time": "2023-04-27T15:40:38.859Z"
   },
   {
    "duration": 208,
    "start_time": "2023-04-27T15:40:38.894Z"
   },
   {
    "duration": 41,
    "start_time": "2023-04-27T15:40:39.104Z"
   },
   {
    "duration": 182,
    "start_time": "2023-04-27T15:40:39.147Z"
   },
   {
    "duration": 8,
    "start_time": "2023-04-27T15:40:39.330Z"
   },
   {
    "duration": 51,
    "start_time": "2023-04-27T15:40:39.340Z"
   },
   {
    "duration": 2,
    "start_time": "2023-04-27T15:40:39.393Z"
   },
   {
    "duration": 18,
    "start_time": "2023-04-27T15:40:39.396Z"
   },
   {
    "duration": 21,
    "start_time": "2023-04-27T15:40:39.416Z"
   },
   {
    "duration": 16,
    "start_time": "2023-04-27T15:40:39.439Z"
   },
   {
    "duration": 26,
    "start_time": "2023-04-27T15:40:39.457Z"
   },
   {
    "duration": 21,
    "start_time": "2023-04-27T15:40:39.485Z"
   },
   {
    "duration": 139,
    "start_time": "2023-04-27T15:40:39.507Z"
   },
   {
    "duration": 54,
    "start_time": "2023-04-27T15:40:39.647Z"
   },
   {
    "duration": 105,
    "start_time": "2023-04-27T15:40:39.703Z"
   },
   {
    "duration": 9,
    "start_time": "2023-04-27T15:40:39.810Z"
   },
   {
    "duration": 17,
    "start_time": "2023-04-27T15:40:39.821Z"
   },
   {
    "duration": 20,
    "start_time": "2023-04-27T15:40:39.840Z"
   },
   {
    "duration": 6,
    "start_time": "2023-04-27T15:40:39.861Z"
   },
   {
    "duration": 27,
    "start_time": "2023-04-27T15:40:39.869Z"
   },
   {
    "duration": 16,
    "start_time": "2023-04-27T15:40:39.898Z"
   },
   {
    "duration": 491,
    "start_time": "2023-04-27T15:40:39.916Z"
   },
   {
    "duration": 0,
    "start_time": "2023-04-27T15:40:40.409Z"
   },
   {
    "duration": 0,
    "start_time": "2023-04-27T15:40:40.411Z"
   },
   {
    "duration": 0,
    "start_time": "2023-04-27T15:40:40.413Z"
   },
   {
    "duration": 0,
    "start_time": "2023-04-27T15:40:40.414Z"
   },
   {
    "duration": 0,
    "start_time": "2023-04-27T15:40:40.415Z"
   },
   {
    "duration": 0,
    "start_time": "2023-04-27T15:40:40.417Z"
   },
   {
    "duration": 0,
    "start_time": "2023-04-27T15:40:40.418Z"
   },
   {
    "duration": 69,
    "start_time": "2023-04-27T15:41:19.226Z"
   },
   {
    "duration": 67,
    "start_time": "2023-04-27T15:41:27.851Z"
   },
   {
    "duration": 12,
    "start_time": "2023-04-27T15:41:30.117Z"
   },
   {
    "duration": 11,
    "start_time": "2023-04-27T15:41:30.509Z"
   },
   {
    "duration": 26,
    "start_time": "2023-04-27T15:41:32.341Z"
   },
   {
    "duration": 9,
    "start_time": "2023-04-27T15:41:32.605Z"
   },
   {
    "duration": 10,
    "start_time": "2023-04-27T15:41:32.767Z"
   },
   {
    "duration": 31,
    "start_time": "2023-04-27T15:41:54.538Z"
   },
   {
    "duration": 4700,
    "start_time": "2023-04-27T15:41:59.125Z"
   },
   {
    "duration": 54,
    "start_time": "2023-04-27T15:42:03.828Z"
   },
   {
    "duration": 11,
    "start_time": "2023-04-27T15:42:03.893Z"
   },
   {
    "duration": 1161,
    "start_time": "2023-04-27T15:42:05.993Z"
   },
   {
    "duration": 56,
    "start_time": "2023-04-27T15:42:25.327Z"
   },
   {
    "duration": 12,
    "start_time": "2023-04-27T15:42:27.621Z"
   },
   {
    "duration": 13,
    "start_time": "2023-04-27T15:42:28.453Z"
   },
   {
    "duration": 20,
    "start_time": "2023-04-27T15:42:31.063Z"
   },
   {
    "duration": 1104,
    "start_time": "2023-04-27T15:42:38.151Z"
   },
   {
    "duration": 3,
    "start_time": "2023-04-27T15:42:39.257Z"
   },
   {
    "duration": 280,
    "start_time": "2023-04-27T15:42:39.261Z"
   },
   {
    "duration": 12,
    "start_time": "2023-04-27T15:42:39.542Z"
   },
   {
    "duration": 34,
    "start_time": "2023-04-27T15:42:39.557Z"
   },
   {
    "duration": 61,
    "start_time": "2023-04-27T15:42:39.592Z"
   },
   {
    "duration": 7,
    "start_time": "2023-04-27T15:42:39.655Z"
   },
   {
    "duration": 14,
    "start_time": "2023-04-27T15:42:39.664Z"
   },
   {
    "duration": 4,
    "start_time": "2023-04-27T15:42:39.694Z"
   },
   {
    "duration": 7,
    "start_time": "2023-04-27T15:42:39.700Z"
   },
   {
    "duration": 13,
    "start_time": "2023-04-27T15:42:39.709Z"
   },
   {
    "duration": 4,
    "start_time": "2023-04-27T15:42:39.723Z"
   },
   {
    "duration": 104,
    "start_time": "2023-04-27T15:42:39.729Z"
   },
   {
    "duration": 170,
    "start_time": "2023-04-27T15:42:39.836Z"
   },
   {
    "duration": 6,
    "start_time": "2023-04-27T15:42:40.008Z"
   },
   {
    "duration": 47,
    "start_time": "2023-04-27T15:42:40.016Z"
   },
   {
    "duration": 32,
    "start_time": "2023-04-27T15:42:40.065Z"
   },
   {
    "duration": 28,
    "start_time": "2023-04-27T15:42:40.099Z"
   },
   {
    "duration": 8,
    "start_time": "2023-04-27T15:42:40.128Z"
   },
   {
    "duration": 4,
    "start_time": "2023-04-27T15:42:40.138Z"
   },
   {
    "duration": 13,
    "start_time": "2023-04-27T15:42:40.144Z"
   },
   {
    "duration": 59,
    "start_time": "2023-04-27T15:42:40.158Z"
   },
   {
    "duration": 14,
    "start_time": "2023-04-27T15:42:40.219Z"
   },
   {
    "duration": 14941,
    "start_time": "2023-04-27T15:42:40.235Z"
   },
   {
    "duration": 10,
    "start_time": "2023-04-27T15:42:55.178Z"
   },
   {
    "duration": 24,
    "start_time": "2023-04-27T15:42:55.193Z"
   },
   {
    "duration": 45,
    "start_time": "2023-04-27T15:42:55.219Z"
   },
   {
    "duration": 35,
    "start_time": "2023-04-27T15:42:55.266Z"
   },
   {
    "duration": 65,
    "start_time": "2023-04-27T15:42:55.302Z"
   },
   {
    "duration": 30,
    "start_time": "2023-04-27T15:42:55.369Z"
   },
   {
    "duration": 20,
    "start_time": "2023-04-27T15:42:55.400Z"
   },
   {
    "duration": 18,
    "start_time": "2023-04-27T15:42:55.421Z"
   },
   {
    "duration": 34,
    "start_time": "2023-04-27T15:42:55.441Z"
   },
   {
    "duration": 3,
    "start_time": "2023-04-27T15:42:55.477Z"
   },
   {
    "duration": 31,
    "start_time": "2023-04-27T15:42:55.482Z"
   },
   {
    "duration": 10,
    "start_time": "2023-04-27T15:42:55.515Z"
   },
   {
    "duration": 16,
    "start_time": "2023-04-27T15:42:55.527Z"
   },
   {
    "duration": 11,
    "start_time": "2023-04-27T15:42:55.544Z"
   },
   {
    "duration": 84,
    "start_time": "2023-04-27T15:42:55.557Z"
   },
   {
    "duration": 4,
    "start_time": "2023-04-27T15:42:55.643Z"
   },
   {
    "duration": 28,
    "start_time": "2023-04-27T15:42:55.651Z"
   },
   {
    "duration": 197,
    "start_time": "2023-04-27T15:42:55.681Z"
   },
   {
    "duration": 52,
    "start_time": "2023-04-27T15:42:55.879Z"
   },
   {
    "duration": 167,
    "start_time": "2023-04-27T15:42:55.932Z"
   },
   {
    "duration": 7,
    "start_time": "2023-04-27T15:42:56.101Z"
   },
   {
    "duration": 36,
    "start_time": "2023-04-27T15:42:56.109Z"
   },
   {
    "duration": 7,
    "start_time": "2023-04-27T15:42:56.147Z"
   },
   {
    "duration": 21,
    "start_time": "2023-04-27T15:42:56.156Z"
   },
   {
    "duration": 16,
    "start_time": "2023-04-27T15:42:56.178Z"
   },
   {
    "duration": 13,
    "start_time": "2023-04-27T15:42:56.196Z"
   },
   {
    "duration": 17,
    "start_time": "2023-04-27T15:42:56.210Z"
   },
   {
    "duration": 22,
    "start_time": "2023-04-27T15:42:56.229Z"
   },
   {
    "duration": 144,
    "start_time": "2023-04-27T15:42:56.253Z"
   },
   {
    "duration": 48,
    "start_time": "2023-04-27T15:42:56.398Z"
   },
   {
    "duration": 110,
    "start_time": "2023-04-27T15:42:56.447Z"
   },
   {
    "duration": 8,
    "start_time": "2023-04-27T15:42:56.558Z"
   },
   {
    "duration": 22,
    "start_time": "2023-04-27T15:42:56.568Z"
   },
   {
    "duration": 22,
    "start_time": "2023-04-27T15:42:56.593Z"
   },
   {
    "duration": 5,
    "start_time": "2023-04-27T15:42:56.617Z"
   },
   {
    "duration": 14,
    "start_time": "2023-04-27T15:42:56.624Z"
   },
   {
    "duration": 47,
    "start_time": "2023-04-27T15:42:56.640Z"
   },
   {
    "duration": 83,
    "start_time": "2023-04-27T15:42:56.689Z"
   },
   {
    "duration": 11,
    "start_time": "2023-04-27T15:42:56.774Z"
   },
   {
    "duration": 19,
    "start_time": "2023-04-27T15:42:56.786Z"
   },
   {
    "duration": 4264,
    "start_time": "2023-04-27T15:42:56.807Z"
   },
   {
    "duration": 69,
    "start_time": "2023-04-27T15:43:01.073Z"
   },
   {
    "duration": 11,
    "start_time": "2023-04-27T15:43:01.143Z"
   },
   {
    "duration": 27,
    "start_time": "2023-04-27T15:43:01.156Z"
   },
   {
    "duration": 27,
    "start_time": "2023-04-27T15:43:01.184Z"
   },
   {
    "duration": 15,
    "start_time": "2023-04-27T16:16:24.318Z"
   },
   {
    "duration": 8,
    "start_time": "2023-04-27T16:16:56.666Z"
   },
   {
    "duration": 12,
    "start_time": "2023-04-27T16:17:08.722Z"
   },
   {
    "duration": 17,
    "start_time": "2023-04-27T16:17:34.522Z"
   },
   {
    "duration": 19,
    "start_time": "2023-04-27T16:17:47.283Z"
   },
   {
    "duration": 130,
    "start_time": "2023-04-27T16:19:33.740Z"
   },
   {
    "duration": 39,
    "start_time": "2023-04-27T16:20:19.417Z"
   },
   {
    "duration": 19,
    "start_time": "2023-04-27T16:20:37.557Z"
   },
   {
    "duration": 22,
    "start_time": "2023-04-27T16:20:46.090Z"
   },
   {
    "duration": 24,
    "start_time": "2023-04-27T16:20:50.496Z"
   },
   {
    "duration": 19,
    "start_time": "2023-04-27T16:22:07.866Z"
   },
   {
    "duration": 10,
    "start_time": "2023-04-27T16:22:33.381Z"
   },
   {
    "duration": 8,
    "start_time": "2023-04-27T16:22:48.884Z"
   },
   {
    "duration": 22,
    "start_time": "2023-04-27T16:23:02.682Z"
   },
   {
    "duration": 131,
    "start_time": "2023-04-27T16:43:05.727Z"
   },
   {
    "duration": 136,
    "start_time": "2023-04-27T16:43:20.297Z"
   },
   {
    "duration": 125,
    "start_time": "2023-04-27T16:44:00.570Z"
   },
   {
    "duration": 131,
    "start_time": "2023-04-27T16:44:45.413Z"
   },
   {
    "duration": 210,
    "start_time": "2023-04-27T16:44:58.301Z"
   },
   {
    "duration": 140,
    "start_time": "2023-04-27T16:45:07.395Z"
   },
   {
    "duration": 136,
    "start_time": "2023-04-27T16:45:15.667Z"
   },
   {
    "duration": 150,
    "start_time": "2023-04-27T16:45:27.569Z"
   },
   {
    "duration": 151,
    "start_time": "2023-04-27T16:45:33.089Z"
   },
   {
    "duration": 132,
    "start_time": "2023-04-27T16:45:35.813Z"
   },
   {
    "duration": 138,
    "start_time": "2023-04-27T16:45:57.268Z"
   },
   {
    "duration": 159,
    "start_time": "2023-04-27T16:47:03.315Z"
   },
   {
    "duration": 204,
    "start_time": "2023-04-27T16:47:23.099Z"
   },
   {
    "duration": 191,
    "start_time": "2023-04-27T16:47:33.050Z"
   },
   {
    "duration": 161,
    "start_time": "2023-04-27T16:47:42.855Z"
   },
   {
    "duration": 251,
    "start_time": "2023-04-27T16:48:05.544Z"
   },
   {
    "duration": 220,
    "start_time": "2023-04-27T17:15:59.798Z"
   },
   {
    "duration": 222,
    "start_time": "2023-04-27T17:18:10.821Z"
   },
   {
    "duration": 212,
    "start_time": "2023-04-27T17:18:56.642Z"
   },
   {
    "duration": 225,
    "start_time": "2023-04-27T17:19:55.973Z"
   },
   {
    "duration": 238,
    "start_time": "2023-04-27T17:20:23.080Z"
   },
   {
    "duration": 246,
    "start_time": "2023-04-27T17:20:30.100Z"
   },
   {
    "duration": 215,
    "start_time": "2023-04-27T17:20:42.368Z"
   },
   {
    "duration": 237,
    "start_time": "2023-04-27T17:21:18.405Z"
   },
   {
    "duration": 222,
    "start_time": "2023-04-27T17:21:35.636Z"
   },
   {
    "duration": 216,
    "start_time": "2023-04-27T17:21:46.531Z"
   },
   {
    "duration": 225,
    "start_time": "2023-04-27T17:21:51.036Z"
   },
   {
    "duration": 208,
    "start_time": "2023-04-27T17:21:56.252Z"
   },
   {
    "duration": 292,
    "start_time": "2023-04-27T17:21:59.355Z"
   },
   {
    "duration": 224,
    "start_time": "2023-04-27T17:22:06.142Z"
   },
   {
    "duration": 147,
    "start_time": "2023-04-27T17:33:33.492Z"
   },
   {
    "duration": 248,
    "start_time": "2023-04-27T17:34:38.507Z"
   },
   {
    "duration": 225,
    "start_time": "2023-04-27T17:34:44.139Z"
   },
   {
    "duration": 159,
    "start_time": "2023-04-27T17:34:49.972Z"
   },
   {
    "duration": 154,
    "start_time": "2023-04-27T17:34:55.855Z"
   },
   {
    "duration": 243,
    "start_time": "2023-04-27T17:35:01.204Z"
   },
   {
    "duration": 244,
    "start_time": "2023-04-27T17:35:11.297Z"
   },
   {
    "duration": 265,
    "start_time": "2023-04-27T17:36:06.981Z"
   },
   {
    "duration": 280,
    "start_time": "2023-04-27T17:37:03.690Z"
   },
   {
    "duration": 300,
    "start_time": "2023-04-27T17:37:21.155Z"
   },
   {
    "duration": 71,
    "start_time": "2023-04-27T17:38:16.245Z"
   },
   {
    "duration": 251,
    "start_time": "2023-04-27T17:38:24.620Z"
   },
   {
    "duration": 362,
    "start_time": "2023-04-27T17:38:34.689Z"
   },
   {
    "duration": 360,
    "start_time": "2023-04-27T17:38:51.805Z"
   },
   {
    "duration": 285,
    "start_time": "2023-04-27T17:45:38.559Z"
   },
   {
    "duration": 247,
    "start_time": "2023-04-27T17:45:49.827Z"
   },
   {
    "duration": 119,
    "start_time": "2023-04-27T17:46:09.807Z"
   },
   {
    "duration": 172,
    "start_time": "2023-04-27T17:46:57.215Z"
   },
   {
    "duration": 176,
    "start_time": "2023-04-27T17:48:14.142Z"
   },
   {
    "duration": 1202,
    "start_time": "2023-04-27T17:48:55.611Z"
   },
   {
    "duration": 3,
    "start_time": "2023-04-27T17:48:56.816Z"
   },
   {
    "duration": 297,
    "start_time": "2023-04-27T17:48:56.821Z"
   },
   {
    "duration": 12,
    "start_time": "2023-04-27T17:48:57.120Z"
   },
   {
    "duration": 32,
    "start_time": "2023-04-27T17:48:57.134Z"
   },
   {
    "duration": 101,
    "start_time": "2023-04-27T17:48:57.169Z"
   },
   {
    "duration": 10,
    "start_time": "2023-04-27T17:48:57.273Z"
   },
   {
    "duration": 13,
    "start_time": "2023-04-27T17:48:57.294Z"
   },
   {
    "duration": 6,
    "start_time": "2023-04-27T17:48:57.309Z"
   },
   {
    "duration": 9,
    "start_time": "2023-04-27T17:48:57.319Z"
   },
   {
    "duration": 14,
    "start_time": "2023-04-27T17:48:57.329Z"
   },
   {
    "duration": 6,
    "start_time": "2023-04-27T17:48:57.345Z"
   },
   {
    "duration": 117,
    "start_time": "2023-04-27T17:48:57.352Z"
   },
   {
    "duration": 171,
    "start_time": "2023-04-27T17:48:57.471Z"
   },
   {
    "duration": 6,
    "start_time": "2023-04-27T17:48:57.644Z"
   },
   {
    "duration": 50,
    "start_time": "2023-04-27T17:48:57.652Z"
   },
   {
    "duration": 30,
    "start_time": "2023-04-27T17:48:57.704Z"
   },
   {
    "duration": 29,
    "start_time": "2023-04-27T17:48:57.736Z"
   },
   {
    "duration": 31,
    "start_time": "2023-04-27T17:48:57.767Z"
   },
   {
    "duration": 4,
    "start_time": "2023-04-27T17:48:57.799Z"
   },
   {
    "duration": 17,
    "start_time": "2023-04-27T17:48:57.804Z"
   },
   {
    "duration": 30,
    "start_time": "2023-04-27T17:48:57.823Z"
   },
   {
    "duration": 39,
    "start_time": "2023-04-27T17:48:57.855Z"
   },
   {
    "duration": 16681,
    "start_time": "2023-04-27T17:48:57.896Z"
   },
   {
    "duration": 16,
    "start_time": "2023-04-27T17:49:14.579Z"
   },
   {
    "duration": 37,
    "start_time": "2023-04-27T17:49:14.597Z"
   },
   {
    "duration": 62,
    "start_time": "2023-04-27T17:49:14.637Z"
   },
   {
    "duration": 26,
    "start_time": "2023-04-27T17:49:14.706Z"
   },
   {
    "duration": 97,
    "start_time": "2023-04-27T17:49:14.734Z"
   },
   {
    "duration": 18,
    "start_time": "2023-04-27T17:49:14.834Z"
   },
   {
    "duration": 21,
    "start_time": "2023-04-27T17:49:14.853Z"
   },
   {
    "duration": 5,
    "start_time": "2023-04-27T17:49:14.876Z"
   },
   {
    "duration": 46,
    "start_time": "2023-04-27T17:49:14.894Z"
   },
   {
    "duration": 5,
    "start_time": "2023-04-27T17:49:14.942Z"
   },
   {
    "duration": 340,
    "start_time": "2023-04-27T17:49:14.949Z"
   },
   {
    "duration": 33,
    "start_time": "2023-04-27T17:49:15.290Z"
   },
   {
    "duration": 17,
    "start_time": "2023-04-27T17:49:15.326Z"
   },
   {
    "duration": 42,
    "start_time": "2023-04-27T17:49:15.345Z"
   },
   {
    "duration": 33,
    "start_time": "2023-04-27T17:49:15.389Z"
   },
   {
    "duration": 72,
    "start_time": "2023-04-27T17:49:15.424Z"
   },
   {
    "duration": 5,
    "start_time": "2023-04-27T17:49:15.498Z"
   },
   {
    "duration": 29,
    "start_time": "2023-04-27T17:49:15.505Z"
   },
   {
    "duration": 205,
    "start_time": "2023-04-27T17:49:15.536Z"
   },
   {
    "duration": 58,
    "start_time": "2023-04-27T17:49:15.743Z"
   },
   {
    "duration": 186,
    "start_time": "2023-04-27T17:49:15.803Z"
   },
   {
    "duration": 12,
    "start_time": "2023-04-27T17:49:15.991Z"
   },
   {
    "duration": 44,
    "start_time": "2023-04-27T17:49:16.006Z"
   },
   {
    "duration": 3,
    "start_time": "2023-04-27T17:49:16.052Z"
   },
   {
    "duration": 36,
    "start_time": "2023-04-27T17:49:16.057Z"
   },
   {
    "duration": 15,
    "start_time": "2023-04-27T17:49:16.096Z"
   },
   {
    "duration": 17,
    "start_time": "2023-04-27T17:49:16.114Z"
   },
   {
    "duration": 12,
    "start_time": "2023-04-27T17:49:16.134Z"
   },
   {
    "duration": 21,
    "start_time": "2023-04-27T17:49:16.148Z"
   },
   {
    "duration": 314,
    "start_time": "2023-04-27T17:49:16.193Z"
   },
   {
    "duration": 67,
    "start_time": "2023-04-27T17:49:16.510Z"
   },
   {
    "duration": 141,
    "start_time": "2023-04-27T17:49:16.593Z"
   },
   {
    "duration": 252,
    "start_time": "2023-04-27T17:49:16.736Z"
   },
   {
    "duration": 11,
    "start_time": "2023-04-27T17:49:16.989Z"
   },
   {
    "duration": 20,
    "start_time": "2023-04-27T17:49:17.003Z"
   },
   {
    "duration": 19,
    "start_time": "2023-04-27T17:49:17.024Z"
   },
   {
    "duration": 23,
    "start_time": "2023-04-27T17:49:17.045Z"
   },
   {
    "duration": 28,
    "start_time": "2023-04-27T17:49:17.070Z"
   },
   {
    "duration": 23,
    "start_time": "2023-04-27T17:49:17.100Z"
   },
   {
    "duration": 119,
    "start_time": "2023-04-27T17:49:17.126Z"
   },
   {
    "duration": 13,
    "start_time": "2023-04-27T17:49:17.247Z"
   },
   {
    "duration": 26,
    "start_time": "2023-04-27T17:49:17.261Z"
   },
   {
    "duration": 5213,
    "start_time": "2023-04-27T17:49:17.294Z"
   },
   {
    "duration": 58,
    "start_time": "2023-04-27T17:49:22.509Z"
   },
   {
    "duration": 25,
    "start_time": "2023-04-27T17:49:22.569Z"
   },
   {
    "duration": 18,
    "start_time": "2023-04-27T17:49:22.597Z"
   },
   {
    "duration": 16,
    "start_time": "2023-04-27T17:49:22.617Z"
   },
   {
    "duration": 200,
    "start_time": "2023-04-27T17:49:33.683Z"
   },
   {
    "duration": 1180,
    "start_time": "2023-04-27T17:49:45.249Z"
   },
   {
    "duration": 3,
    "start_time": "2023-04-27T17:49:46.431Z"
   },
   {
    "duration": 290,
    "start_time": "2023-04-27T17:49:46.436Z"
   },
   {
    "duration": 13,
    "start_time": "2023-04-27T17:49:46.728Z"
   },
   {
    "duration": 47,
    "start_time": "2023-04-27T17:49:46.743Z"
   },
   {
    "duration": 70,
    "start_time": "2023-04-27T17:49:46.792Z"
   },
   {
    "duration": 8,
    "start_time": "2023-04-27T17:49:46.864Z"
   },
   {
    "duration": 31,
    "start_time": "2023-04-27T17:49:46.874Z"
   },
   {
    "duration": 6,
    "start_time": "2023-04-27T17:49:46.908Z"
   },
   {
    "duration": 9,
    "start_time": "2023-04-27T17:49:46.916Z"
   },
   {
    "duration": 12,
    "start_time": "2023-04-27T17:49:46.927Z"
   },
   {
    "duration": 8,
    "start_time": "2023-04-27T17:49:46.941Z"
   },
   {
    "duration": 122,
    "start_time": "2023-04-27T17:49:46.951Z"
   },
   {
    "duration": 193,
    "start_time": "2023-04-27T17:49:47.078Z"
   },
   {
    "duration": 6,
    "start_time": "2023-04-27T17:49:47.273Z"
   },
   {
    "duration": 76,
    "start_time": "2023-04-27T17:49:47.294Z"
   },
   {
    "duration": 63,
    "start_time": "2023-04-27T17:49:47.372Z"
   },
   {
    "duration": 42,
    "start_time": "2023-04-27T17:49:47.437Z"
   },
   {
    "duration": 9,
    "start_time": "2023-04-27T17:49:47.481Z"
   },
   {
    "duration": 11,
    "start_time": "2023-04-27T17:49:47.492Z"
   },
   {
    "duration": 18,
    "start_time": "2023-04-27T17:49:47.505Z"
   },
   {
    "duration": 42,
    "start_time": "2023-04-27T17:49:47.525Z"
   },
   {
    "duration": 29,
    "start_time": "2023-04-27T17:49:47.569Z"
   },
   {
    "duration": 17683,
    "start_time": "2023-04-27T17:49:47.601Z"
   },
   {
    "duration": 11,
    "start_time": "2023-04-27T17:50:05.286Z"
   },
   {
    "duration": 40,
    "start_time": "2023-04-27T17:50:05.299Z"
   },
   {
    "duration": 45,
    "start_time": "2023-04-27T17:50:05.341Z"
   },
   {
    "duration": 17,
    "start_time": "2023-04-27T17:50:05.387Z"
   },
   {
    "duration": 67,
    "start_time": "2023-04-27T17:50:05.405Z"
   },
   {
    "duration": 24,
    "start_time": "2023-04-27T17:50:05.474Z"
   },
   {
    "duration": 10,
    "start_time": "2023-04-27T17:50:05.500Z"
   },
   {
    "duration": 3,
    "start_time": "2023-04-27T17:50:05.512Z"
   },
   {
    "duration": 52,
    "start_time": "2023-04-27T17:50:05.516Z"
   },
   {
    "duration": 4,
    "start_time": "2023-04-27T17:50:05.570Z"
   },
   {
    "duration": 261,
    "start_time": "2023-04-27T17:50:05.576Z"
   },
   {
    "duration": 34,
    "start_time": "2023-04-27T17:50:05.839Z"
   },
   {
    "duration": 27,
    "start_time": "2023-04-27T17:50:05.875Z"
   },
   {
    "duration": 37,
    "start_time": "2023-04-27T17:50:05.905Z"
   },
   {
    "duration": 30,
    "start_time": "2023-04-27T17:50:05.944Z"
   },
   {
    "duration": 75,
    "start_time": "2023-04-27T17:50:05.976Z"
   },
   {
    "duration": 5,
    "start_time": "2023-04-27T17:50:06.055Z"
   },
   {
    "duration": 13,
    "start_time": "2023-04-27T17:50:06.061Z"
   },
   {
    "duration": 254,
    "start_time": "2023-04-27T17:50:06.076Z"
   },
   {
    "duration": 69,
    "start_time": "2023-04-27T17:50:06.332Z"
   },
   {
    "duration": 191,
    "start_time": "2023-04-27T17:50:06.402Z"
   },
   {
    "duration": 9,
    "start_time": "2023-04-27T17:50:06.595Z"
   },
   {
    "duration": 30,
    "start_time": "2023-04-27T17:50:06.606Z"
   },
   {
    "duration": 3,
    "start_time": "2023-04-27T17:50:06.638Z"
   },
   {
    "duration": 20,
    "start_time": "2023-04-27T17:50:06.643Z"
   },
   {
    "duration": 33,
    "start_time": "2023-04-27T17:50:06.665Z"
   },
   {
    "duration": 33,
    "start_time": "2023-04-27T17:50:06.700Z"
   },
   {
    "duration": 15,
    "start_time": "2023-04-27T17:50:06.736Z"
   },
   {
    "duration": 14,
    "start_time": "2023-04-27T17:50:06.753Z"
   },
   {
    "duration": 299,
    "start_time": "2023-04-27T17:50:06.769Z"
   },
   {
    "duration": 58,
    "start_time": "2023-04-27T17:50:07.070Z"
   },
   {
    "duration": 113,
    "start_time": "2023-04-27T17:50:07.130Z"
   },
   {
    "duration": 240,
    "start_time": "2023-04-27T17:50:07.245Z"
   },
   {
    "duration": 10,
    "start_time": "2023-04-27T17:50:07.487Z"
   },
   {
    "duration": 22,
    "start_time": "2023-04-27T17:50:07.499Z"
   },
   {
    "duration": 34,
    "start_time": "2023-04-27T17:50:07.523Z"
   },
   {
    "duration": 24,
    "start_time": "2023-04-27T17:50:07.559Z"
   },
   {
    "duration": 24,
    "start_time": "2023-04-27T17:50:07.585Z"
   },
   {
    "duration": 30,
    "start_time": "2023-04-27T17:50:07.611Z"
   },
   {
    "duration": 73,
    "start_time": "2023-04-27T17:50:07.644Z"
   },
   {
    "duration": 11,
    "start_time": "2023-04-27T17:50:07.719Z"
   },
   {
    "duration": 13,
    "start_time": "2023-04-27T17:50:07.733Z"
   },
   {
    "duration": 4865,
    "start_time": "2023-04-27T17:50:07.747Z"
   },
   {
    "duration": 50,
    "start_time": "2023-04-27T17:50:12.614Z"
   },
   {
    "duration": 28,
    "start_time": "2023-04-27T17:50:12.666Z"
   },
   {
    "duration": 15,
    "start_time": "2023-04-27T17:50:12.696Z"
   },
   {
    "duration": 21,
    "start_time": "2023-04-27T17:50:12.713Z"
   },
   {
    "duration": 242,
    "start_time": "2023-04-27T17:50:56.823Z"
   },
   {
    "duration": 182,
    "start_time": "2023-04-27T17:51:46.753Z"
   },
   {
    "duration": 1263,
    "start_time": "2023-04-27T17:51:55.609Z"
   },
   {
    "duration": 4,
    "start_time": "2023-04-27T17:51:56.874Z"
   },
   {
    "duration": 278,
    "start_time": "2023-04-27T17:51:56.880Z"
   },
   {
    "duration": 17,
    "start_time": "2023-04-27T17:51:57.160Z"
   },
   {
    "duration": 56,
    "start_time": "2023-04-27T17:51:57.180Z"
   },
   {
    "duration": 99,
    "start_time": "2023-04-27T17:51:57.238Z"
   },
   {
    "duration": 9,
    "start_time": "2023-04-27T17:51:57.339Z"
   },
   {
    "duration": 13,
    "start_time": "2023-04-27T17:51:57.350Z"
   },
   {
    "duration": 31,
    "start_time": "2023-04-27T17:51:57.365Z"
   },
   {
    "duration": 8,
    "start_time": "2023-04-27T17:51:57.398Z"
   },
   {
    "duration": 12,
    "start_time": "2023-04-27T17:51:57.408Z"
   },
   {
    "duration": 7,
    "start_time": "2023-04-27T17:51:57.423Z"
   },
   {
    "duration": 117,
    "start_time": "2023-04-27T17:51:57.432Z"
   },
   {
    "duration": 179,
    "start_time": "2023-04-27T17:51:57.553Z"
   },
   {
    "duration": 8,
    "start_time": "2023-04-27T17:51:57.734Z"
   },
   {
    "duration": 55,
    "start_time": "2023-04-27T17:51:57.743Z"
   },
   {
    "duration": 34,
    "start_time": "2023-04-27T17:51:57.800Z"
   },
   {
    "duration": 29,
    "start_time": "2023-04-27T17:51:57.837Z"
   },
   {
    "duration": 33,
    "start_time": "2023-04-27T17:51:57.869Z"
   },
   {
    "duration": 7,
    "start_time": "2023-04-27T17:51:57.904Z"
   },
   {
    "duration": 20,
    "start_time": "2023-04-27T17:51:57.913Z"
   },
   {
    "duration": 64,
    "start_time": "2023-04-27T17:51:57.936Z"
   },
   {
    "duration": 17,
    "start_time": "2023-04-27T17:51:58.003Z"
   },
   {
    "duration": 17057,
    "start_time": "2023-04-27T17:51:58.023Z"
   },
   {
    "duration": 13,
    "start_time": "2023-04-27T17:52:15.081Z"
   },
   {
    "duration": 27,
    "start_time": "2023-04-27T17:52:15.096Z"
   },
   {
    "duration": 41,
    "start_time": "2023-04-27T17:52:15.125Z"
   },
   {
    "duration": 47,
    "start_time": "2023-04-27T17:52:15.168Z"
   },
   {
    "duration": 99,
    "start_time": "2023-04-27T17:52:15.217Z"
   },
   {
    "duration": 12,
    "start_time": "2023-04-27T17:52:15.318Z"
   },
   {
    "duration": 11,
    "start_time": "2023-04-27T17:52:15.332Z"
   },
   {
    "duration": 4,
    "start_time": "2023-04-27T17:52:15.344Z"
   },
   {
    "duration": 69,
    "start_time": "2023-04-27T17:52:15.349Z"
   },
   {
    "duration": 3,
    "start_time": "2023-04-27T17:52:15.421Z"
   },
   {
    "duration": 242,
    "start_time": "2023-04-27T17:52:15.426Z"
   },
   {
    "duration": 40,
    "start_time": "2023-04-27T17:52:15.669Z"
   },
   {
    "duration": 11,
    "start_time": "2023-04-27T17:52:15.711Z"
   },
   {
    "duration": 15,
    "start_time": "2023-04-27T17:52:15.724Z"
   },
   {
    "duration": 22,
    "start_time": "2023-04-27T17:52:15.741Z"
   },
   {
    "duration": 92,
    "start_time": "2023-04-27T17:52:15.765Z"
   },
   {
    "duration": 6,
    "start_time": "2023-04-27T17:52:15.863Z"
   },
   {
    "duration": 24,
    "start_time": "2023-04-27T17:52:15.871Z"
   },
   {
    "duration": 221,
    "start_time": "2023-04-27T17:52:15.897Z"
   },
   {
    "duration": 45,
    "start_time": "2023-04-27T17:52:16.120Z"
   },
   {
    "duration": 190,
    "start_time": "2023-04-27T17:52:16.167Z"
   },
   {
    "duration": 11,
    "start_time": "2023-04-27T17:52:16.358Z"
   },
   {
    "duration": 58,
    "start_time": "2023-04-27T17:52:16.372Z"
   },
   {
    "duration": 2,
    "start_time": "2023-04-27T17:52:16.433Z"
   },
   {
    "duration": 18,
    "start_time": "2023-04-27T17:52:16.437Z"
   },
   {
    "duration": 14,
    "start_time": "2023-04-27T17:52:16.457Z"
   },
   {
    "duration": 26,
    "start_time": "2023-04-27T17:52:16.473Z"
   },
   {
    "duration": 11,
    "start_time": "2023-04-27T17:52:16.501Z"
   },
   {
    "duration": 13,
    "start_time": "2023-04-27T17:52:16.514Z"
   },
   {
    "duration": 336,
    "start_time": "2023-04-27T17:52:16.529Z"
   },
   {
    "duration": 58,
    "start_time": "2023-04-27T17:52:16.867Z"
   },
   {
    "duration": 114,
    "start_time": "2023-04-27T17:52:16.927Z"
   },
   {
    "duration": 318,
    "start_time": "2023-04-27T17:52:17.042Z"
   },
   {
    "duration": 9,
    "start_time": "2023-04-27T17:52:17.362Z"
   },
   {
    "duration": 27,
    "start_time": "2023-04-27T17:52:17.373Z"
   },
   {
    "duration": 14,
    "start_time": "2023-04-27T17:52:17.402Z"
   },
   {
    "duration": 21,
    "start_time": "2023-04-27T17:52:17.418Z"
   },
   {
    "duration": 14,
    "start_time": "2023-04-27T17:52:17.441Z"
   },
   {
    "duration": 43,
    "start_time": "2023-04-27T17:52:17.457Z"
   },
   {
    "duration": 91,
    "start_time": "2023-04-27T17:52:17.503Z"
   },
   {
    "duration": 13,
    "start_time": "2023-04-27T17:52:17.596Z"
   },
   {
    "duration": 13,
    "start_time": "2023-04-27T17:52:17.611Z"
   },
   {
    "duration": 4683,
    "start_time": "2023-04-27T17:52:17.625Z"
   },
   {
    "duration": 60,
    "start_time": "2023-04-27T17:52:22.310Z"
   },
   {
    "duration": 32,
    "start_time": "2023-04-27T17:52:22.372Z"
   },
   {
    "duration": 19,
    "start_time": "2023-04-27T17:52:22.406Z"
   },
   {
    "duration": 14,
    "start_time": "2023-04-27T17:52:22.426Z"
   },
   {
    "duration": 1228,
    "start_time": "2023-04-27T18:01:34.226Z"
   },
   {
    "duration": 2,
    "start_time": "2023-04-27T18:01:35.457Z"
   },
   {
    "duration": 295,
    "start_time": "2023-04-27T18:01:35.461Z"
   },
   {
    "duration": 14,
    "start_time": "2023-04-27T18:01:35.758Z"
   },
   {
    "duration": 34,
    "start_time": "2023-04-27T18:01:35.774Z"
   },
   {
    "duration": 61,
    "start_time": "2023-04-27T18:01:35.810Z"
   },
   {
    "duration": 26,
    "start_time": "2023-04-27T18:01:35.873Z"
   },
   {
    "duration": 19,
    "start_time": "2023-04-27T18:01:35.901Z"
   },
   {
    "duration": 11,
    "start_time": "2023-04-27T18:01:35.922Z"
   },
   {
    "duration": 21,
    "start_time": "2023-04-27T18:01:35.936Z"
   },
   {
    "duration": 15,
    "start_time": "2023-04-27T18:01:35.959Z"
   },
   {
    "duration": 20,
    "start_time": "2023-04-27T18:01:35.975Z"
   },
   {
    "duration": 101,
    "start_time": "2023-04-27T18:01:35.997Z"
   },
   {
    "duration": 179,
    "start_time": "2023-04-27T18:01:36.100Z"
   },
   {
    "duration": 5,
    "start_time": "2023-04-27T18:01:36.281Z"
   },
   {
    "duration": 45,
    "start_time": "2023-04-27T18:01:36.288Z"
   },
   {
    "duration": 30,
    "start_time": "2023-04-27T18:01:36.334Z"
   },
   {
    "duration": 31,
    "start_time": "2023-04-27T18:01:36.392Z"
   },
   {
    "duration": 9,
    "start_time": "2023-04-27T18:01:36.425Z"
   },
   {
    "duration": 3,
    "start_time": "2023-04-27T18:01:36.436Z"
   },
   {
    "duration": 14,
    "start_time": "2023-04-27T18:01:36.440Z"
   },
   {
    "duration": 28,
    "start_time": "2023-04-27T18:01:36.494Z"
   },
   {
    "duration": 12,
    "start_time": "2023-04-27T18:01:36.524Z"
   },
   {
    "duration": 17043,
    "start_time": "2023-04-27T18:01:36.538Z"
   },
   {
    "duration": 16,
    "start_time": "2023-04-27T18:01:53.584Z"
   },
   {
    "duration": 54,
    "start_time": "2023-04-27T18:01:53.602Z"
   },
   {
    "duration": 55,
    "start_time": "2023-04-27T18:01:53.659Z"
   },
   {
    "duration": 19,
    "start_time": "2023-04-27T18:01:53.718Z"
   },
   {
    "duration": 89,
    "start_time": "2023-04-27T18:01:53.739Z"
   },
   {
    "duration": 12,
    "start_time": "2023-04-27T18:01:53.830Z"
   },
   {
    "duration": 17,
    "start_time": "2023-04-27T18:01:53.845Z"
   },
   {
    "duration": 32,
    "start_time": "2023-04-27T18:01:53.864Z"
   },
   {
    "duration": 59,
    "start_time": "2023-04-27T18:01:53.898Z"
   },
   {
    "duration": 4,
    "start_time": "2023-04-27T18:01:53.958Z"
   },
   {
    "duration": 261,
    "start_time": "2023-04-27T18:01:53.964Z"
   },
   {
    "duration": 31,
    "start_time": "2023-04-27T18:01:54.227Z"
   },
   {
    "duration": 56,
    "start_time": "2023-04-27T18:01:54.260Z"
   },
   {
    "duration": 24,
    "start_time": "2023-04-27T18:01:54.318Z"
   },
   {
    "duration": 32,
    "start_time": "2023-04-27T18:01:54.344Z"
   },
   {
    "duration": 71,
    "start_time": "2023-04-27T18:01:54.379Z"
   },
   {
    "duration": 5,
    "start_time": "2023-04-27T18:01:54.452Z"
   },
   {
    "duration": 27,
    "start_time": "2023-04-27T18:01:54.458Z"
   },
   {
    "duration": 226,
    "start_time": "2023-04-27T18:01:54.486Z"
   },
   {
    "duration": 47,
    "start_time": "2023-04-27T18:01:54.714Z"
   },
   {
    "duration": 200,
    "start_time": "2023-04-27T18:01:54.763Z"
   },
   {
    "duration": 10,
    "start_time": "2023-04-27T18:01:54.965Z"
   },
   {
    "duration": 59,
    "start_time": "2023-04-27T18:01:54.993Z"
   },
   {
    "duration": 3,
    "start_time": "2023-04-27T18:01:55.055Z"
   },
   {
    "duration": 27,
    "start_time": "2023-04-27T18:01:55.060Z"
   },
   {
    "duration": 21,
    "start_time": "2023-04-27T18:01:55.089Z"
   },
   {
    "duration": 21,
    "start_time": "2023-04-27T18:01:55.112Z"
   },
   {
    "duration": 12,
    "start_time": "2023-04-27T18:01:55.134Z"
   },
   {
    "duration": 21,
    "start_time": "2023-04-27T18:01:55.147Z"
   },
   {
    "duration": 356,
    "start_time": "2023-04-27T18:01:55.170Z"
   },
   {
    "duration": 66,
    "start_time": "2023-04-27T18:01:55.528Z"
   },
   {
    "duration": 126,
    "start_time": "2023-04-27T18:01:55.597Z"
   },
   {
    "duration": 284,
    "start_time": "2023-04-27T18:01:55.726Z"
   },
   {
    "duration": 10,
    "start_time": "2023-04-27T18:01:56.012Z"
   },
   {
    "duration": 18,
    "start_time": "2023-04-27T18:01:56.024Z"
   },
   {
    "duration": 52,
    "start_time": "2023-04-27T18:01:56.044Z"
   },
   {
    "duration": 8,
    "start_time": "2023-04-27T18:01:56.099Z"
   },
   {
    "duration": 13,
    "start_time": "2023-04-27T18:01:56.109Z"
   },
   {
    "duration": 26,
    "start_time": "2023-04-27T18:01:56.124Z"
   },
   {
    "duration": 149,
    "start_time": "2023-04-27T18:01:56.153Z"
   },
   {
    "duration": 13,
    "start_time": "2023-04-27T18:01:56.304Z"
   },
   {
    "duration": 15,
    "start_time": "2023-04-27T18:01:56.319Z"
   },
   {
    "duration": 1218,
    "start_time": "2023-04-27T20:52:01.404Z"
   },
   {
    "duration": 2,
    "start_time": "2023-04-27T20:52:02.624Z"
   },
   {
    "duration": 737,
    "start_time": "2023-04-27T20:52:02.627Z"
   },
   {
    "duration": 11,
    "start_time": "2023-04-27T20:52:03.366Z"
   },
   {
    "duration": 28,
    "start_time": "2023-04-27T20:52:03.378Z"
   },
   {
    "duration": 56,
    "start_time": "2023-04-27T20:52:03.408Z"
   },
   {
    "duration": 7,
    "start_time": "2023-04-27T20:52:03.471Z"
   },
   {
    "duration": 13,
    "start_time": "2023-04-27T20:52:03.479Z"
   },
   {
    "duration": 6,
    "start_time": "2023-04-27T20:52:03.493Z"
   },
   {
    "duration": 7,
    "start_time": "2023-04-27T20:52:03.500Z"
   },
   {
    "duration": 15,
    "start_time": "2023-04-27T20:52:03.508Z"
   },
   {
    "duration": 5,
    "start_time": "2023-04-27T20:52:03.524Z"
   },
   {
    "duration": 73,
    "start_time": "2023-04-27T20:52:03.530Z"
   },
   {
    "duration": 138,
    "start_time": "2023-04-27T20:52:03.605Z"
   },
   {
    "duration": 5,
    "start_time": "2023-04-27T20:52:03.744Z"
   },
   {
    "duration": 42,
    "start_time": "2023-04-27T20:52:03.750Z"
   },
   {
    "duration": 23,
    "start_time": "2023-04-27T20:52:03.793Z"
   },
   {
    "duration": 24,
    "start_time": "2023-04-27T20:52:03.818Z"
   },
   {
    "duration": 9,
    "start_time": "2023-04-27T20:52:03.843Z"
   },
   {
    "duration": 20,
    "start_time": "2023-04-27T20:52:03.854Z"
   },
   {
    "duration": 20,
    "start_time": "2023-04-27T20:52:03.875Z"
   },
   {
    "duration": 28,
    "start_time": "2023-04-27T20:52:03.896Z"
   },
   {
    "duration": 10,
    "start_time": "2023-04-27T20:52:03.926Z"
   },
   {
    "duration": 11779,
    "start_time": "2023-04-27T20:52:03.937Z"
   },
   {
    "duration": 12,
    "start_time": "2023-04-27T20:52:15.719Z"
   },
   {
    "duration": 22,
    "start_time": "2023-04-27T20:52:15.732Z"
   },
   {
    "duration": 39,
    "start_time": "2023-04-27T20:52:15.772Z"
   },
   {
    "duration": 14,
    "start_time": "2023-04-27T20:52:15.813Z"
   },
   {
    "duration": 72,
    "start_time": "2023-04-27T20:52:15.829Z"
   },
   {
    "duration": 8,
    "start_time": "2023-04-27T20:52:15.903Z"
   },
   {
    "duration": 12,
    "start_time": "2023-04-27T20:52:15.912Z"
   },
   {
    "duration": 4,
    "start_time": "2023-04-27T20:52:15.925Z"
   },
   {
    "duration": 51,
    "start_time": "2023-04-27T20:52:15.931Z"
   },
   {
    "duration": 4,
    "start_time": "2023-04-27T20:52:15.984Z"
   },
   {
    "duration": 260,
    "start_time": "2023-04-27T20:52:15.990Z"
   },
   {
    "duration": 44,
    "start_time": "2023-04-27T20:52:16.251Z"
   },
   {
    "duration": 14,
    "start_time": "2023-04-27T20:52:16.297Z"
   },
   {
    "duration": 20,
    "start_time": "2023-04-27T20:52:16.313Z"
   },
   {
    "duration": 14,
    "start_time": "2023-04-27T20:52:16.334Z"
   },
   {
    "duration": 70,
    "start_time": "2023-04-27T20:52:16.349Z"
   },
   {
    "duration": 4,
    "start_time": "2023-04-27T20:52:16.423Z"
   },
   {
    "duration": 11,
    "start_time": "2023-04-27T20:52:16.428Z"
   },
   {
    "duration": 181,
    "start_time": "2023-04-27T20:52:16.441Z"
   },
   {
    "duration": 49,
    "start_time": "2023-04-27T20:52:16.623Z"
   },
   {
    "duration": 154,
    "start_time": "2023-04-27T20:52:16.674Z"
   },
   {
    "duration": 6,
    "start_time": "2023-04-27T20:52:16.830Z"
   },
   {
    "duration": 38,
    "start_time": "2023-04-27T20:52:16.838Z"
   },
   {
    "duration": 3,
    "start_time": "2023-04-27T20:52:16.877Z"
   },
   {
    "duration": 6,
    "start_time": "2023-04-27T20:52:16.881Z"
   },
   {
    "duration": 10,
    "start_time": "2023-04-27T20:52:16.889Z"
   },
   {
    "duration": 17,
    "start_time": "2023-04-27T20:52:16.900Z"
   },
   {
    "duration": 12,
    "start_time": "2023-04-27T20:52:16.918Z"
   },
   {
    "duration": 17,
    "start_time": "2023-04-27T20:52:16.932Z"
   },
   {
    "duration": 310,
    "start_time": "2023-04-27T20:52:16.972Z"
   },
   {
    "duration": 41,
    "start_time": "2023-04-27T20:52:17.284Z"
   },
   {
    "duration": 101,
    "start_time": "2023-04-27T20:52:17.327Z"
   },
   {
    "duration": 206,
    "start_time": "2023-04-27T20:52:17.430Z"
   },
   {
    "duration": 9,
    "start_time": "2023-04-27T20:52:17.638Z"
   },
   {
    "duration": 23,
    "start_time": "2023-04-27T20:52:17.649Z"
   },
   {
    "duration": 10,
    "start_time": "2023-04-27T20:52:17.674Z"
   },
   {
    "duration": 4,
    "start_time": "2023-04-27T20:52:17.686Z"
   },
   {
    "duration": 8,
    "start_time": "2023-04-27T20:52:17.691Z"
   },
   {
    "duration": 19,
    "start_time": "2023-04-27T20:52:17.701Z"
   },
   {
    "duration": 94,
    "start_time": "2023-04-27T20:52:17.721Z"
   },
   {
    "duration": 10,
    "start_time": "2023-04-27T20:52:17.817Z"
   },
   {
    "duration": 12,
    "start_time": "2023-04-27T20:52:17.829Z"
   },
   {
    "duration": 4500,
    "start_time": "2023-04-27T20:52:17.842Z"
   },
   {
    "duration": 52,
    "start_time": "2023-04-27T20:52:22.343Z"
   },
   {
    "duration": 9,
    "start_time": "2023-04-27T20:52:22.396Z"
   },
   {
    "duration": 25,
    "start_time": "2023-04-27T20:52:22.406Z"
   },
   {
    "duration": 10,
    "start_time": "2023-04-27T20:52:22.433Z"
   },
   {
    "duration": 51,
    "start_time": "2023-04-28T10:11:46.416Z"
   },
   {
    "duration": 1312,
    "start_time": "2023-04-28T10:11:55.951Z"
   },
   {
    "duration": 3,
    "start_time": "2023-04-28T10:11:57.265Z"
   },
   {
    "duration": 609,
    "start_time": "2023-04-28T10:11:57.269Z"
   },
   {
    "duration": 13,
    "start_time": "2023-04-28T10:11:57.881Z"
   },
   {
    "duration": 41,
    "start_time": "2023-04-28T10:11:57.895Z"
   },
   {
    "duration": 57,
    "start_time": "2023-04-28T10:11:57.938Z"
   },
   {
    "duration": 7,
    "start_time": "2023-04-28T10:11:57.997Z"
   },
   {
    "duration": 25,
    "start_time": "2023-04-28T10:11:58.005Z"
   },
   {
    "duration": 13,
    "start_time": "2023-04-28T10:11:58.032Z"
   },
   {
    "duration": 28,
    "start_time": "2023-04-28T10:11:58.049Z"
   },
   {
    "duration": 12,
    "start_time": "2023-04-28T10:11:58.078Z"
   },
   {
    "duration": 11,
    "start_time": "2023-04-28T10:11:58.091Z"
   },
   {
    "duration": 75,
    "start_time": "2023-04-28T10:11:58.103Z"
   },
   {
    "duration": 157,
    "start_time": "2023-04-28T10:11:58.180Z"
   },
   {
    "duration": 11,
    "start_time": "2023-04-28T10:11:58.338Z"
   },
   {
    "duration": 37,
    "start_time": "2023-04-28T10:11:58.350Z"
   },
   {
    "duration": 26,
    "start_time": "2023-04-28T10:11:58.388Z"
   },
   {
    "duration": 46,
    "start_time": "2023-04-28T10:11:58.416Z"
   },
   {
    "duration": 11,
    "start_time": "2023-04-28T10:11:58.463Z"
   },
   {
    "duration": 3,
    "start_time": "2023-04-28T10:11:58.476Z"
   },
   {
    "duration": 15,
    "start_time": "2023-04-28T10:11:58.481Z"
   },
   {
    "duration": 34,
    "start_time": "2023-04-28T10:11:58.498Z"
   },
   {
    "duration": 24,
    "start_time": "2023-04-28T10:11:58.534Z"
   },
   {
    "duration": 12476,
    "start_time": "2023-04-28T10:11:58.560Z"
   },
   {
    "duration": 19,
    "start_time": "2023-04-28T10:12:11.038Z"
   },
   {
    "duration": 24,
    "start_time": "2023-04-28T10:12:11.059Z"
   },
   {
    "duration": 36,
    "start_time": "2023-04-28T10:12:11.084Z"
   },
   {
    "duration": 29,
    "start_time": "2023-04-28T10:12:11.123Z"
   },
   {
    "duration": 55,
    "start_time": "2023-04-28T10:12:11.153Z"
   },
   {
    "duration": 9,
    "start_time": "2023-04-28T10:12:11.209Z"
   },
   {
    "duration": 30,
    "start_time": "2023-04-28T10:12:11.219Z"
   },
   {
    "duration": 3,
    "start_time": "2023-04-28T10:12:11.251Z"
   },
   {
    "duration": 33,
    "start_time": "2023-04-28T10:12:11.255Z"
   },
   {
    "duration": 3,
    "start_time": "2023-04-28T10:12:11.290Z"
   },
   {
    "duration": 224,
    "start_time": "2023-04-28T10:12:11.295Z"
   },
   {
    "duration": 35,
    "start_time": "2023-04-28T10:12:11.521Z"
   },
   {
    "duration": 9,
    "start_time": "2023-04-28T10:12:11.557Z"
   },
   {
    "duration": 13,
    "start_time": "2023-04-28T10:12:11.568Z"
   },
   {
    "duration": 16,
    "start_time": "2023-04-28T10:12:11.582Z"
   },
   {
    "duration": 67,
    "start_time": "2023-04-28T10:12:11.600Z"
   },
   {
    "duration": 4,
    "start_time": "2023-04-28T10:12:11.669Z"
   },
   {
    "duration": 10,
    "start_time": "2023-04-28T10:12:11.674Z"
   },
   {
    "duration": 183,
    "start_time": "2023-04-28T10:12:11.685Z"
   },
   {
    "duration": 39,
    "start_time": "2023-04-28T10:12:11.870Z"
   },
   {
    "duration": 159,
    "start_time": "2023-04-28T10:12:11.911Z"
   },
   {
    "duration": 7,
    "start_time": "2023-04-28T10:12:12.072Z"
   },
   {
    "duration": 26,
    "start_time": "2023-04-28T10:12:12.081Z"
   },
   {
    "duration": 3,
    "start_time": "2023-04-28T10:12:12.109Z"
   },
   {
    "duration": 3,
    "start_time": "2023-04-28T10:12:12.114Z"
   },
   {
    "duration": 39,
    "start_time": "2023-04-28T10:12:12.119Z"
   },
   {
    "duration": 16,
    "start_time": "2023-04-28T10:12:12.160Z"
   },
   {
    "duration": 12,
    "start_time": "2023-04-28T10:12:12.178Z"
   },
   {
    "duration": 10,
    "start_time": "2023-04-28T10:12:12.192Z"
   },
   {
    "duration": 349,
    "start_time": "2023-04-28T10:12:12.204Z"
   },
   {
    "duration": 40,
    "start_time": "2023-04-28T10:12:12.555Z"
   },
   {
    "duration": 98,
    "start_time": "2023-04-28T10:12:12.597Z"
   },
   {
    "duration": 210,
    "start_time": "2023-04-28T10:12:12.697Z"
   },
   {
    "duration": 8,
    "start_time": "2023-04-28T10:12:12.909Z"
   },
   {
    "duration": 33,
    "start_time": "2023-04-28T10:12:12.919Z"
   },
   {
    "duration": 14,
    "start_time": "2023-04-28T10:12:12.954Z"
   },
   {
    "duration": 17,
    "start_time": "2023-04-28T10:12:12.970Z"
   },
   {
    "duration": 31,
    "start_time": "2023-04-28T10:12:12.989Z"
   },
   {
    "duration": 33,
    "start_time": "2023-04-28T10:12:13.022Z"
   },
   {
    "duration": 87,
    "start_time": "2023-04-28T10:12:13.057Z"
   },
   {
    "duration": 10,
    "start_time": "2023-04-28T10:12:13.146Z"
   },
   {
    "duration": 14,
    "start_time": "2023-04-28T10:12:13.157Z"
   },
   {
    "duration": 4564,
    "start_time": "2023-04-28T10:12:13.172Z"
   },
   {
    "duration": 53,
    "start_time": "2023-04-28T10:12:17.738Z"
   },
   {
    "duration": 9,
    "start_time": "2023-04-28T10:12:17.793Z"
   },
   {
    "duration": 37,
    "start_time": "2023-04-28T10:12:17.803Z"
   },
   {
    "duration": 18,
    "start_time": "2023-04-28T10:12:17.841Z"
   },
   {
    "duration": 59,
    "start_time": "2023-04-28T10:12:47.778Z"
   }
  ],
  "kernelspec": {
   "display_name": "Python 3 (ipykernel)",
   "language": "python",
   "name": "python3"
  },
  "language_info": {
   "codemirror_mode": {
    "name": "ipython",
    "version": 3
   },
   "file_extension": ".py",
   "mimetype": "text/x-python",
   "name": "python",
   "nbconvert_exporter": "python",
   "pygments_lexer": "ipython3",
   "version": "3.11.4"
  },
  "toc": {
   "base_numbering": 1,
   "nav_menu": {},
   "number_sections": true,
   "sideBar": true,
   "skip_h1_title": true,
   "title_cell": "Table of Contents",
   "title_sidebar": "Contents",
   "toc_cell": false,
   "toc_position": {},
   "toc_section_display": true,
   "toc_window_display": false
  }
 },
 "nbformat": 4,
 "nbformat_minor": 5
}
