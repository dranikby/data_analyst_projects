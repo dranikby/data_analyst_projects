{
 "cells": [
  {
   "cell_type": "markdown",
   "metadata": {
    "deletable": false,
    "editable": false,
    "id": "E0vqbgi9ay0H"
   },
   "source": [
    "# Яндекс Музыка"
   ]
  },
  {
   "cell_type": "markdown",
   "metadata": {
    "deletable": false,
    "editable": false,
    "id": "VUC88oWjTJw2"
   },
   "source": [
    "Сравнение Москвы и Петербурга окружено мифами. Например:\n",
    " * Москва — мегаполис, подчинённый жёсткому ритму рабочей недели;\n",
    " * Петербург — культурная столица, со своими вкусами.\n",
    "\n",
    "На данных Яндекс Музыки вы сравните поведение пользователей двух столиц.\n",
    "\n",
    "**Цель исследования** — проверьте три гипотезы:\n",
    "1. Активность пользователей зависит от дня недели. Причём в Москве и Петербурге это проявляется по-разному.\n",
    "2. В понедельник утром в Москве преобладают одни жанры, а в Петербурге — другие. Так же и вечером пятницы преобладают разные жанры — в зависимости от города. \n",
    "3. Москва и Петербург предпочитают разные жанры музыки. В Москве чаще слушают поп-музыку, в Петербурге — русский рэп.\n",
    "\n",
    "**Ход исследования**\n",
    "\n",
    "Данные о поведении пользователей вы получите из файла `yandex_music_project.csv`. О качестве данных ничего не известно. Поэтому перед проверкой гипотез понадобится обзор данных. \n",
    "\n",
    "Вы проверите данные на ошибки и оцените их влияние на исследование. Затем, на этапе предобработки вы поищете возможность исправить самые критичные ошибки данных.\n",
    " \n",
    "Таким образом, исследование пройдёт в три этапа:\n",
    " 1. Обзор данных.\n",
    " 2. Предобработка данных.\n",
    " 3. Проверка гипотез.\n",
    "\n"
   ]
  },
  {
   "cell_type": "markdown",
   "metadata": {
    "deletable": false,
    "editable": false,
    "id": "Ml1hmfXC_Zcs"
   },
   "source": [
    "## Обзор данных\n",
    "\n",
    "Составьте первое представление о данных Яндекс Музыки.\n",
    "\n",
    "\n"
   ]
  },
  {
   "cell_type": "markdown",
   "metadata": {
    "deletable": false,
    "editable": false,
    "id": "57eAOGIz_Zcs",
    "tags": [
     "start_task"
    ]
   },
   "source": [
    "**Задание 1**\n",
    "\n",
    "Основной инструмент аналитика — `pandas`. Импортируйте эту библиотеку."
   ]
  },
  {
   "cell_type": "code",
   "execution_count": 1,
   "metadata": {
    "deletable": false,
    "id": "AXN7PHPN_Zcs"
   },
   "outputs": [],
   "source": [
    "import pandas as pd # импорт библиотеки pandas"
   ]
  },
  {
   "cell_type": "markdown",
   "metadata": {
    "deletable": false,
    "editable": false,
    "id": "SG23P8tt_Zcs",
    "tags": [
     "start_task"
    ]
   },
   "source": [
    "**Задание 2**\n",
    "\n",
    "Прочитайте файл `yandex_music_project.csv` из папки `/datasets` и сохраните его в переменной `df`:"
   ]
  },
  {
   "cell_type": "code",
   "execution_count": 2,
   "metadata": {
    "deletable": false,
    "id": "fFVu7vqh_Zct"
   },
   "outputs": [],
   "source": [
    "df = pd.read_csv('/datasets/yandex_music_project.csv') # чтение файла с данными и сохранение в df"
   ]
  },
  {
   "cell_type": "markdown",
   "metadata": {
    "deletable": false,
    "editable": false,
    "id": "rDoOMd3uTqnZ",
    "tags": [
     "start_task"
    ]
   },
   "source": [
    "**Задание 3**\n",
    "\n",
    "\n",
    "Выведите на экран первые десять строк таблицы:"
   ]
  },
  {
   "cell_type": "code",
   "execution_count": 3,
   "metadata": {
    "deletable": false,
    "id": "oWTVX3gW_Zct"
   },
   "outputs": [
    {
     "data": {
      "text/html": [
       "<div>\n",
       "<style scoped>\n",
       "    .dataframe tbody tr th:only-of-type {\n",
       "        vertical-align: middle;\n",
       "    }\n",
       "\n",
       "    .dataframe tbody tr th {\n",
       "        vertical-align: top;\n",
       "    }\n",
       "\n",
       "    .dataframe thead th {\n",
       "        text-align: right;\n",
       "    }\n",
       "</style>\n",
       "<table border=\"1\" class=\"dataframe\">\n",
       "  <thead>\n",
       "    <tr style=\"text-align: right;\">\n",
       "      <th></th>\n",
       "      <th>userID</th>\n",
       "      <th>Track</th>\n",
       "      <th>artist</th>\n",
       "      <th>genre</th>\n",
       "      <th>City</th>\n",
       "      <th>time</th>\n",
       "      <th>Day</th>\n",
       "    </tr>\n",
       "  </thead>\n",
       "  <tbody>\n",
       "    <tr>\n",
       "      <th>0</th>\n",
       "      <td>FFB692EC</td>\n",
       "      <td>Kamigata To Boots</td>\n",
       "      <td>The Mass Missile</td>\n",
       "      <td>rock</td>\n",
       "      <td>Saint-Petersburg</td>\n",
       "      <td>20:28:33</td>\n",
       "      <td>Wednesday</td>\n",
       "    </tr>\n",
       "    <tr>\n",
       "      <th>1</th>\n",
       "      <td>55204538</td>\n",
       "      <td>Delayed Because of Accident</td>\n",
       "      <td>Andreas Rönnberg</td>\n",
       "      <td>rock</td>\n",
       "      <td>Moscow</td>\n",
       "      <td>14:07:09</td>\n",
       "      <td>Friday</td>\n",
       "    </tr>\n",
       "    <tr>\n",
       "      <th>2</th>\n",
       "      <td>20EC38</td>\n",
       "      <td>Funiculì funiculà</td>\n",
       "      <td>Mario Lanza</td>\n",
       "      <td>pop</td>\n",
       "      <td>Saint-Petersburg</td>\n",
       "      <td>20:58:07</td>\n",
       "      <td>Wednesday</td>\n",
       "    </tr>\n",
       "    <tr>\n",
       "      <th>3</th>\n",
       "      <td>A3DD03C9</td>\n",
       "      <td>Dragons in the Sunset</td>\n",
       "      <td>Fire + Ice</td>\n",
       "      <td>folk</td>\n",
       "      <td>Saint-Petersburg</td>\n",
       "      <td>08:37:09</td>\n",
       "      <td>Monday</td>\n",
       "    </tr>\n",
       "    <tr>\n",
       "      <th>4</th>\n",
       "      <td>E2DC1FAE</td>\n",
       "      <td>Soul People</td>\n",
       "      <td>Space Echo</td>\n",
       "      <td>dance</td>\n",
       "      <td>Moscow</td>\n",
       "      <td>08:34:34</td>\n",
       "      <td>Monday</td>\n",
       "    </tr>\n",
       "    <tr>\n",
       "      <th>5</th>\n",
       "      <td>842029A1</td>\n",
       "      <td>Преданная</td>\n",
       "      <td>IMPERVTOR</td>\n",
       "      <td>rusrap</td>\n",
       "      <td>Saint-Petersburg</td>\n",
       "      <td>13:09:41</td>\n",
       "      <td>Friday</td>\n",
       "    </tr>\n",
       "    <tr>\n",
       "      <th>6</th>\n",
       "      <td>4CB90AA5</td>\n",
       "      <td>True</td>\n",
       "      <td>Roman Messer</td>\n",
       "      <td>dance</td>\n",
       "      <td>Moscow</td>\n",
       "      <td>13:00:07</td>\n",
       "      <td>Wednesday</td>\n",
       "    </tr>\n",
       "    <tr>\n",
       "      <th>7</th>\n",
       "      <td>F03E1C1F</td>\n",
       "      <td>Feeling This Way</td>\n",
       "      <td>Polina Griffith</td>\n",
       "      <td>dance</td>\n",
       "      <td>Moscow</td>\n",
       "      <td>20:47:49</td>\n",
       "      <td>Wednesday</td>\n",
       "    </tr>\n",
       "    <tr>\n",
       "      <th>8</th>\n",
       "      <td>8FA1D3BE</td>\n",
       "      <td>И вновь продолжается бой</td>\n",
       "      <td>NaN</td>\n",
       "      <td>ruspop</td>\n",
       "      <td>Moscow</td>\n",
       "      <td>09:17:40</td>\n",
       "      <td>Friday</td>\n",
       "    </tr>\n",
       "    <tr>\n",
       "      <th>9</th>\n",
       "      <td>E772D5C0</td>\n",
       "      <td>Pessimist</td>\n",
       "      <td>NaN</td>\n",
       "      <td>dance</td>\n",
       "      <td>Saint-Petersburg</td>\n",
       "      <td>21:20:49</td>\n",
       "      <td>Wednesday</td>\n",
       "    </tr>\n",
       "  </tbody>\n",
       "</table>\n",
       "</div>"
      ],
      "text/plain": [
       "     userID                        Track            artist   genre  \\\n",
       "0  FFB692EC            Kamigata To Boots  The Mass Missile    rock   \n",
       "1  55204538  Delayed Because of Accident  Andreas Rönnberg    rock   \n",
       "2    20EC38            Funiculì funiculà       Mario Lanza     pop   \n",
       "3  A3DD03C9        Dragons in the Sunset        Fire + Ice    folk   \n",
       "4  E2DC1FAE                  Soul People        Space Echo   dance   \n",
       "5  842029A1                    Преданная         IMPERVTOR  rusrap   \n",
       "6  4CB90AA5                         True      Roman Messer   dance   \n",
       "7  F03E1C1F             Feeling This Way   Polina Griffith   dance   \n",
       "8  8FA1D3BE     И вновь продолжается бой               NaN  ruspop   \n",
       "9  E772D5C0                    Pessimist               NaN   dance   \n",
       "\n",
       "             City        time        Day  \n",
       "0  Saint-Petersburg  20:28:33  Wednesday  \n",
       "1            Moscow  14:07:09     Friday  \n",
       "2  Saint-Petersburg  20:58:07  Wednesday  \n",
       "3  Saint-Petersburg  08:37:09     Monday  \n",
       "4            Moscow  08:34:34     Monday  \n",
       "5  Saint-Petersburg  13:09:41     Friday  \n",
       "6            Moscow  13:00:07  Wednesday  \n",
       "7            Moscow  20:47:49  Wednesday  \n",
       "8            Moscow  09:17:40     Friday  \n",
       "9  Saint-Petersburg  21:20:49  Wednesday  "
      ]
     },
     "execution_count": 3,
     "metadata": {},
     "output_type": "execute_result"
    }
   ],
   "source": [
    "df.head(10) # получение первых 10 строк таблицы df"
   ]
  },
  {
   "cell_type": "markdown",
   "metadata": {
    "deletable": false,
    "editable": false,
    "id": "EO73Kwic_Zct",
    "tags": [
     "start_task"
    ]
   },
   "source": [
    "**Задание 4**\n",
    "\n",
    "\n",
    "Одной командой получить общую информацию о таблице c помощью метода `info()`:"
   ]
  },
  {
   "cell_type": "code",
   "execution_count": 4,
   "metadata": {
    "deletable": false,
    "id": "DSf2kIb-_Zct"
   },
   "outputs": [
    {
     "name": "stdout",
     "output_type": "stream",
     "text": [
      "<class 'pandas.core.frame.DataFrame'>\n",
      "RangeIndex: 65079 entries, 0 to 65078\n",
      "Data columns (total 7 columns):\n",
      " #   Column    Non-Null Count  Dtype \n",
      "---  ------    --------------  ----- \n",
      " 0     userID  65079 non-null  object\n",
      " 1   Track     63848 non-null  object\n",
      " 2   artist    57876 non-null  object\n",
      " 3   genre     63881 non-null  object\n",
      " 4     City    65079 non-null  object\n",
      " 5   time      65079 non-null  object\n",
      " 6   Day       65079 non-null  object\n",
      "dtypes: object(7)\n",
      "memory usage: 3.5+ MB\n"
     ]
    }
   ],
   "source": [
    "df.info() # получение общей информации о данных в таблице df"
   ]
  },
  {
   "cell_type": "markdown",
   "metadata": {
    "deletable": false,
    "editable": false,
    "id": "TaQ2Iwbr_Zct"
   },
   "source": [
    "Итак, в таблице семь столбцов. Тип данных во всех столбцах — `object`.\n",
    "\n",
    "Согласно документации к данным:\n",
    "* `userID` — идентификатор пользователя;\n",
    "* `Track` — название трека;  \n",
    "* `artist` — имя исполнителя;\n",
    "* `genre` — название жанра;\n",
    "* `City` — город пользователя;\n",
    "* `time` — время начала прослушивания;\n",
    "* `Day` — день недели.\n",
    "\n",
    "Количество значений в столбцах различается. Значит, в данных есть пропущенные значения."
   ]
  },
  {
   "cell_type": "markdown",
   "metadata": {
    "deletable": false,
    "editable": false,
    "id": "rAfziTBDmf2h",
    "tags": [
     "start_task"
    ]
   },
   "source": [
    "**Задание 5**\n",
    "\n",
    "**Вопрос со свободной формой ответа**\n",
    "\n",
    "В названиях колонок видны нарушения стиля:\n",
    "* Строчные буквы сочетаются с прописными.\n",
    "* Встречаются пробелы.\n",
    "\n",
    "Какое третье нарушение?"
   ]
  },
  {
   "cell_type": "code",
   "execution_count": 5,
   "metadata": {
    "id": "jD8EXEIvmf2h"
   },
   "outputs": [],
   "source": [
    "# Напишите ваш ответ здесь комментарием. Не удаляйте символ #. Не меняйте тип этой ячейки на Markdown."
   ]
  },
  {
   "cell_type": "markdown",
   "metadata": {
    "deletable": false,
    "editable": false,
    "id": "MCB6-dXG_Zct"
   },
   "source": [
    "**Выводы**\n",
    "\n",
    "В каждой строке таблицы — данные о прослушанном треке. Часть колонок описывает саму композицию: название, исполнителя и жанр. Остальные данные рассказывают о пользователе: из какого он города, когда он слушал музыку. \n",
    "\n",
    "Предварительно можно утверждать, что данных достаточно для проверки гипотез. Но встречаются пропуски в данных, а в названиях колонок — расхождения с хорошим стилем.\n",
    "\n",
    "Чтобы двигаться дальше, нужно устранить проблемы в данных."
   ]
  },
  {
   "cell_type": "markdown",
   "metadata": {
    "deletable": false,
    "editable": false,
    "id": "SjYF6Ub9_Zct"
   },
   "source": [
    "## Предобработка данных\n",
    "Исправьте стиль в заголовках столбцов, исключите пропуски. Затем проверьте данные на дубликаты."
   ]
  },
  {
   "cell_type": "markdown",
   "metadata": {
    "deletable": false,
    "editable": false,
    "id": "dIaKXr29_Zct",
    "tags": [
     "start_task"
    ]
   },
   "source": [
    "### Стиль заголовков\n",
    "\n",
    "**Задание 6**\n",
    "\n",
    "Выведите на экран названия столбцов:"
   ]
  },
  {
   "cell_type": "code",
   "execution_count": 6,
   "metadata": {
    "deletable": false,
    "id": "oKOTdF_Q_Zct"
   },
   "outputs": [
    {
     "data": {
      "text/plain": [
       "Index(['  userID', 'Track', 'artist', 'genre', '  City  ', 'time', 'Day'], dtype='object')"
      ]
     },
     "execution_count": 6,
     "metadata": {},
     "output_type": "execute_result"
    }
   ],
   "source": [
    "df.columns # перечень названий столбцов таблицы df"
   ]
  },
  {
   "cell_type": "markdown",
   "metadata": {
    "deletable": false,
    "editable": false,
    "id": "zj5534cv_Zct",
    "tags": [
     "start_task"
    ]
   },
   "source": [
    "**Задание 7**\n",
    "\n",
    "\n",
    "Приведите названия в соответствие с хорошим стилем:\n",
    "* несколько слов в названии запишите в «змеином_регистре»,\n",
    "* все символы сделайте строчными,\n",
    "* устраните пробелы.\n",
    "\n",
    "Для этого переименуйте колонки так:\n",
    "* `'  userID'` → `'user_id'`;\n",
    "* `'Track'` → `'track'`;\n",
    "* `'  City  '` → `'city'`;\n",
    "* `'Day'` → `'day'`."
   ]
  },
  {
   "cell_type": "code",
   "execution_count": 7,
   "metadata": {
    "deletable": false,
    "id": "ISlFqs5y_Zct"
   },
   "outputs": [],
   "source": [
    "df = df.rename(columns={'  userID':'user_id', 'Track':'track','  City  ':'city', 'Day':'day'}) # переименование столбцов"
   ]
  },
  {
   "cell_type": "markdown",
   "metadata": {
    "deletable": false,
    "editable": false,
    "id": "1dqbh00J_Zct",
    "tags": [
     "start_task"
    ]
   },
   "source": [
    "**Задание 8**\n",
    "\n",
    "\n",
    "Проверьте результат. Для этого ещё раз выведите на экран названия столбцов:"
   ]
  },
  {
   "cell_type": "code",
   "execution_count": 8,
   "metadata": {
    "deletable": false,
    "id": "d4NOAmTW_Zct"
   },
   "outputs": [
    {
     "data": {
      "text/plain": [
       "Index(['user_id', 'track', 'artist', 'genre', 'city', 'time', 'day'], dtype='object')"
      ]
     },
     "execution_count": 8,
     "metadata": {},
     "output_type": "execute_result"
    }
   ],
   "source": [
    "df.columns # проверка результатов - перечень названий столбцов"
   ]
  },
  {
   "cell_type": "markdown",
   "metadata": {
    "deletable": false,
    "editable": false,
    "id": "5ISfbcfY_Zct",
    "tags": [
     "start_task"
    ]
   },
   "source": [
    "### Пропуски значений\n",
    "\n",
    "**Задание 9**\n",
    "\n",
    "Сначала посчитайте, сколько в таблице пропущенных значений. Для этого достаточно двух методов `pandas`:"
   ]
  },
  {
   "cell_type": "code",
   "execution_count": 9,
   "metadata": {
    "deletable": false,
    "id": "RskX29qr_Zct",
    "scrolled": true
   },
   "outputs": [
    {
     "data": {
      "text/plain": [
       "user_id       0\n",
       "track      1231\n",
       "artist     7203\n",
       "genre      1198\n",
       "city          0\n",
       "time          0\n",
       "day           0\n",
       "dtype: int64"
      ]
     },
     "execution_count": 9,
     "metadata": {},
     "output_type": "execute_result"
    }
   ],
   "source": [
    "df.isna().sum() # подсчёт пропусков"
   ]
  },
  {
   "cell_type": "markdown",
   "metadata": {
    "deletable": false,
    "editable": false,
    "id": "qubhgnlO_Zct"
   },
   "source": [
    "Не все пропущенные значения влияют на исследование. Так в `track` и `artist` пропуски не важны для вашей работы. Достаточно заменить их явными обозначениями.\n",
    "\n",
    "Но пропуски в `genre` могут помешать сравнению музыкальных вкусов в Москве и Санкт-Петербурге. На практике было бы правильно установить причину пропусков и восстановить данные. Такой возможности нет в учебном проекте. Придётся:\n",
    "* заполнить и эти пропуски явными обозначениями;\n",
    "* оценить, насколько они повредят расчётам. "
   ]
  },
  {
   "cell_type": "markdown",
   "metadata": {
    "deletable": false,
    "editable": false,
    "id": "fSv2laPA_Zct",
    "tags": [
     "start_task"
    ]
   },
   "source": [
    "**Задание 10**\n",
    "\n",
    "Замените пропущенные значения в столбцах `track`, `artist` и `genre` на строку `'unknown'`. Для этого создайте список `columns_to_replace`, переберите его элементы циклом `for` и для каждого столбца выполните замену пропущенных значений:"
   ]
  },
  {
   "cell_type": "code",
   "execution_count": 10,
   "metadata": {
    "deletable": false,
    "id": "KplB5qWs_Zct"
   },
   "outputs": [],
   "source": [
    "columns_to_replace = ['track', 'artist', 'genre']\n",
    "for column in columns_to_replace:\n",
    "    df[column] = df[column].fillna('unknown') # перебор названий столбцов в цикле и замена пропущенных значений на 'unknown'"
   ]
  },
  {
   "cell_type": "markdown",
   "metadata": {
    "deletable": false,
    "editable": false,
    "id": "Ilsm-MZo_Zct",
    "tags": [
     "start_task"
    ]
   },
   "source": [
    "**Задание 11**\n",
    "\n",
    "Убедитесь, что в таблице не осталось пропусков. Для этого ещё раз посчитайте пропущенные значения."
   ]
  },
  {
   "cell_type": "code",
   "execution_count": 11,
   "metadata": {
    "deletable": false,
    "id": "Tq4nYRX4_Zct"
   },
   "outputs": [
    {
     "data": {
      "text/plain": [
       "user_id    0\n",
       "track      0\n",
       "artist     0\n",
       "genre      0\n",
       "city       0\n",
       "time       0\n",
       "day        0\n",
       "dtype: int64"
      ]
     },
     "execution_count": 11,
     "metadata": {},
     "output_type": "execute_result"
    }
   ],
   "source": [
    "df.isna().sum() # подсчёт пропусков"
   ]
  },
  {
   "cell_type": "markdown",
   "metadata": {
    "deletable": false,
    "editable": false,
    "id": "BWKRtBJ3_Zct",
    "tags": [
     "start_task"
    ]
   },
   "source": [
    "### Дубликаты\n",
    "\n",
    "**Задание 12**\n",
    "\n",
    "Посчитайте явные дубликаты в таблице одной командой:"
   ]
  },
  {
   "cell_type": "code",
   "execution_count": 12,
   "metadata": {
    "deletable": false,
    "id": "36eES_S0_Zct"
   },
   "outputs": [
    {
     "data": {
      "text/plain": [
       "3826"
      ]
     },
     "execution_count": 12,
     "metadata": {},
     "output_type": "execute_result"
    }
   ],
   "source": [
    "df.duplicated().sum() # подсчёт явных дубликатов"
   ]
  },
  {
   "cell_type": "markdown",
   "metadata": {
    "deletable": false,
    "editable": false,
    "id": "Ot25h6XR_Zct",
    "tags": [
     "start_task"
    ]
   },
   "source": [
    "**Задание 13**\n",
    "\n",
    "Вызовите специальный метод `pandas`, чтобы удалить явные дубликаты:"
   ]
  },
  {
   "cell_type": "markdown",
   "metadata": {
    "deletable": false,
    "editable": false,
    "id": "QlFBsxAr_Zct"
   },
   "source": [
    "Теперь избавьтесь от неявных дубликатов в колонке `genre`. Например, название одного и того же жанра может быть записано немного по-разному. Такие ошибки тоже повлияют на результат исследования."
   ]
  },
  {
   "cell_type": "code",
   "execution_count": 13,
   "metadata": {
    "deletable": false,
    "id": "exFHq6tt_Zct"
   },
   "outputs": [],
   "source": [
    "df = df.drop_duplicates() # удаление явных дубликатов"
   ]
  },
  {
   "cell_type": "markdown",
   "metadata": {
    "deletable": false,
    "editable": false,
    "id": "Im2YwBEG_Zct",
    "tags": [
     "start_task"
    ]
   },
   "source": [
    "**Задание 14**\n",
    "\n",
    "Ещё раз посчитайте явные дубликаты в таблице — убедитесь, что полностью от них избавились:"
   ]
  },
  {
   "cell_type": "code",
   "execution_count": 14,
   "metadata": {
    "deletable": false,
    "id": "-8PuNWQ0_Zct"
   },
   "outputs": [
    {
     "data": {
      "text/plain": [
       "0"
      ]
     },
     "execution_count": 14,
     "metadata": {},
     "output_type": "execute_result"
    }
   ],
   "source": [
    "df.duplicated().sum() # проверка на отсутствие дубликатов"
   ]
  },
  {
   "cell_type": "markdown",
   "metadata": {
    "deletable": false,
    "editable": false,
    "id": "eSjWwsOh_Zct",
    "tags": [
     "start_task"
    ]
   },
   "source": [
    "**Задание 15**\n",
    "\n",
    "Выведите на экран список уникальных названий жанров, отсортированный в алфавитном порядке. Для этого:\n",
    "1. извлеките нужный столбец датафрейма; \n",
    "2. примените к нему метод сортировки;\n",
    "3. для отсортированного столбца вызовите метод, который вернёт уникальные значения из столбца."
   ]
  },
  {
   "cell_type": "code",
   "execution_count": 15,
   "metadata": {
    "deletable": false,
    "id": "JIUcqzZN_Zct"
   },
   "outputs": [
    {
     "data": {
      "text/plain": [
       "array(['acid', 'acoustic', 'action', 'adult', 'africa', 'afrikaans',\n",
       "       'alternative', 'alternativepunk', 'ambient', 'americana',\n",
       "       'animated', 'anime', 'arabesk', 'arabic', 'arena',\n",
       "       'argentinetango', 'art', 'audiobook', 'author', 'avantgarde',\n",
       "       'axé', 'baile', 'balkan', 'beats', 'bigroom', 'black', 'bluegrass',\n",
       "       'blues', 'bollywood', 'bossa', 'brazilian', 'breakbeat', 'breaks',\n",
       "       'broadway', 'cantautori', 'cantopop', 'canzone', 'caribbean',\n",
       "       'caucasian', 'celtic', 'chamber', 'chanson', 'children', 'chill',\n",
       "       'chinese', 'choral', 'christian', 'christmas', 'classical',\n",
       "       'classicmetal', 'club', 'colombian', 'comedy', 'conjazz',\n",
       "       'contemporary', 'country', 'cuban', 'dance', 'dancehall',\n",
       "       'dancepop', 'dark', 'death', 'deep', 'deutschrock', 'deutschspr',\n",
       "       'dirty', 'disco', 'dnb', 'documentary', 'downbeat', 'downtempo',\n",
       "       'drum', 'dub', 'dubstep', 'eastern', 'easy', 'electronic',\n",
       "       'electropop', 'emo', 'entehno', 'epicmetal', 'estrada', 'ethnic',\n",
       "       'eurofolk', 'european', 'experimental', 'extrememetal', 'fado',\n",
       "       'fairytail', 'film', 'fitness', 'flamenco', 'folk', 'folklore',\n",
       "       'folkmetal', 'folkrock', 'folktronica', 'forró', 'frankreich',\n",
       "       'französisch', 'french', 'funk', 'future', 'gangsta', 'garage',\n",
       "       'german', 'ghazal', 'gitarre', 'glitch', 'gospel', 'gothic',\n",
       "       'grime', 'grunge', 'gypsy', 'handsup', \"hard'n'heavy\", 'hardcore',\n",
       "       'hardstyle', 'hardtechno', 'hip', 'hip-hop', 'hiphop',\n",
       "       'historisch', 'holiday', 'hop', 'horror', 'house', 'hymn', 'idm',\n",
       "       'independent', 'indian', 'indie', 'indipop', 'industrial',\n",
       "       'inspirational', 'instrumental', 'international', 'irish', 'jam',\n",
       "       'japanese', 'jazz', 'jewish', 'jpop', 'jungle', 'k-pop',\n",
       "       'karadeniz', 'karaoke', 'kayokyoku', 'korean', 'laiko', 'latin',\n",
       "       'latino', 'leftfield', 'local', 'lounge', 'loungeelectronic',\n",
       "       'lovers', 'malaysian', 'mandopop', 'marschmusik', 'meditative',\n",
       "       'mediterranean', 'melodic', 'metal', 'metalcore', 'mexican',\n",
       "       'middle', 'minimal', 'miscellaneous', 'modern', 'mood', 'mpb',\n",
       "       'muslim', 'native', 'neoklassik', 'neue', 'new', 'newage',\n",
       "       'newwave', 'nu', 'nujazz', 'numetal', 'oceania', 'old', 'opera',\n",
       "       'orchestral', 'other', 'piano', 'podcasts', 'pop', 'popdance',\n",
       "       'popelectronic', 'popeurodance', 'poprussian', 'post',\n",
       "       'posthardcore', 'postrock', 'power', 'progmetal', 'progressive',\n",
       "       'psychedelic', 'punjabi', 'punk', 'quebecois', 'ragga', 'ram',\n",
       "       'rancheras', 'rap', 'rave', 'reggae', 'reggaeton', 'regional',\n",
       "       'relax', 'religious', 'retro', 'rhythm', 'rnb', 'rnr', 'rock',\n",
       "       'rockabilly', 'rockalternative', 'rockindie', 'rockother',\n",
       "       'romance', 'roots', 'ruspop', 'rusrap', 'rusrock', 'russian',\n",
       "       'salsa', 'samba', 'scenic', 'schlager', 'self', 'sertanejo',\n",
       "       'shanson', 'shoegazing', 'showtunes', 'singer', 'ska', 'skarock',\n",
       "       'slow', 'smooth', 'soft', 'soul', 'soulful', 'sound', 'soundtrack',\n",
       "       'southern', 'specialty', 'speech', 'spiritual', 'sport',\n",
       "       'stonerrock', 'surf', 'swing', 'synthpop', 'synthrock',\n",
       "       'sängerportrait', 'tango', 'tanzorchester', 'taraftar', 'tatar',\n",
       "       'tech', 'techno', 'teen', 'thrash', 'top', 'traditional',\n",
       "       'tradjazz', 'trance', 'tribal', 'trip', 'triphop', 'tropical',\n",
       "       'türk', 'türkçe', 'ukrrock', 'unknown', 'urban', 'uzbek',\n",
       "       'variété', 'vi', 'videogame', 'vocal', 'western', 'world',\n",
       "       'worldbeat', 'ïîï', 'электроника'], dtype=object)"
      ]
     },
     "execution_count": 15,
     "metadata": {},
     "output_type": "execute_result"
    }
   ],
   "source": [
    "df['genre'].sort_values().unique() # Просмотр уникальных названий жанров"
   ]
  },
  {
   "cell_type": "markdown",
   "metadata": {
    "deletable": false,
    "editable": false,
    "id": "qej-Qmuo_Zct",
    "tags": [
     "start_task"
    ]
   },
   "source": [
    "**Задание 16**\n",
    "\n",
    "Просмотрите список и найдите неявные дубликаты названия `hiphop`. Это могут быть названия с ошибками или альтернативные названия того же жанра.\n",
    "\n",
    "Вы увидите следующие неявные дубликаты:\n",
    "* *hip*,\n",
    "* *hop*,\n",
    "* *hip-hop*.\n",
    "\n",
    "Чтобы очистить от них таблицу используйте метод `replace()` с двумя аргументами: списком строк-дубликатов (включащий *hip*, *hop* и *hip-hop*) и строкой с правильным значением. Вам нужно исправить колонку `genre` в таблице `df`: заменить каждое значение из списка дубликатов на верное. Вместо `hip`, `hop` и `hip-hop` в таблице должно быть значение `hiphop`:"
   ]
  },
  {
   "cell_type": "code",
   "execution_count": 16,
   "metadata": {
    "deletable": false,
    "id": "ErNDkmns_Zct",
    "scrolled": true
   },
   "outputs": [],
   "source": [
    "duplicates = ['hip', 'hop', 'hip-hop']\n",
    "name = 'hiphop'\n",
    "df['genre'] = df['genre'].replace(duplicates, name) # Устранение неявных дубликатов"
   ]
  },
  {
   "cell_type": "markdown",
   "metadata": {
    "deletable": false,
    "editable": false,
    "id": "zQKF16_RG15m",
    "tags": [
     "start_task"
    ]
   },
   "source": [
    "**Задание 17**\n",
    "\n",
    "Проверьте, что заменили неправильные названия:\n",
    "\n",
    "*   hip,\n",
    "*   hop,\n",
    "*   hip-hop.\n",
    "\n",
    "Выведите отсортированный список уникальных значений столбца `genre`:"
   ]
  },
  {
   "cell_type": "code",
   "execution_count": 17,
   "metadata": {
    "deletable": false,
    "id": "wvixALnFG15m"
   },
   "outputs": [
    {
     "data": {
      "text/plain": [
       "array(['acid', 'acoustic', 'action', 'adult', 'africa', 'afrikaans',\n",
       "       'alternative', 'alternativepunk', 'ambient', 'americana',\n",
       "       'animated', 'anime', 'arabesk', 'arabic', 'arena',\n",
       "       'argentinetango', 'art', 'audiobook', 'author', 'avantgarde',\n",
       "       'axé', 'baile', 'balkan', 'beats', 'bigroom', 'black', 'bluegrass',\n",
       "       'blues', 'bollywood', 'bossa', 'brazilian', 'breakbeat', 'breaks',\n",
       "       'broadway', 'cantautori', 'cantopop', 'canzone', 'caribbean',\n",
       "       'caucasian', 'celtic', 'chamber', 'chanson', 'children', 'chill',\n",
       "       'chinese', 'choral', 'christian', 'christmas', 'classical',\n",
       "       'classicmetal', 'club', 'colombian', 'comedy', 'conjazz',\n",
       "       'contemporary', 'country', 'cuban', 'dance', 'dancehall',\n",
       "       'dancepop', 'dark', 'death', 'deep', 'deutschrock', 'deutschspr',\n",
       "       'dirty', 'disco', 'dnb', 'documentary', 'downbeat', 'downtempo',\n",
       "       'drum', 'dub', 'dubstep', 'eastern', 'easy', 'electronic',\n",
       "       'electropop', 'emo', 'entehno', 'epicmetal', 'estrada', 'ethnic',\n",
       "       'eurofolk', 'european', 'experimental', 'extrememetal', 'fado',\n",
       "       'fairytail', 'film', 'fitness', 'flamenco', 'folk', 'folklore',\n",
       "       'folkmetal', 'folkrock', 'folktronica', 'forró', 'frankreich',\n",
       "       'französisch', 'french', 'funk', 'future', 'gangsta', 'garage',\n",
       "       'german', 'ghazal', 'gitarre', 'glitch', 'gospel', 'gothic',\n",
       "       'grime', 'grunge', 'gypsy', 'handsup', \"hard'n'heavy\", 'hardcore',\n",
       "       'hardstyle', 'hardtechno', 'hiphop', 'historisch', 'holiday',\n",
       "       'horror', 'house', 'hymn', 'idm', 'independent', 'indian', 'indie',\n",
       "       'indipop', 'industrial', 'inspirational', 'instrumental',\n",
       "       'international', 'irish', 'jam', 'japanese', 'jazz', 'jewish',\n",
       "       'jpop', 'jungle', 'k-pop', 'karadeniz', 'karaoke', 'kayokyoku',\n",
       "       'korean', 'laiko', 'latin', 'latino', 'leftfield', 'local',\n",
       "       'lounge', 'loungeelectronic', 'lovers', 'malaysian', 'mandopop',\n",
       "       'marschmusik', 'meditative', 'mediterranean', 'melodic', 'metal',\n",
       "       'metalcore', 'mexican', 'middle', 'minimal', 'miscellaneous',\n",
       "       'modern', 'mood', 'mpb', 'muslim', 'native', 'neoklassik', 'neue',\n",
       "       'new', 'newage', 'newwave', 'nu', 'nujazz', 'numetal', 'oceania',\n",
       "       'old', 'opera', 'orchestral', 'other', 'piano', 'podcasts', 'pop',\n",
       "       'popdance', 'popelectronic', 'popeurodance', 'poprussian', 'post',\n",
       "       'posthardcore', 'postrock', 'power', 'progmetal', 'progressive',\n",
       "       'psychedelic', 'punjabi', 'punk', 'quebecois', 'ragga', 'ram',\n",
       "       'rancheras', 'rap', 'rave', 'reggae', 'reggaeton', 'regional',\n",
       "       'relax', 'religious', 'retro', 'rhythm', 'rnb', 'rnr', 'rock',\n",
       "       'rockabilly', 'rockalternative', 'rockindie', 'rockother',\n",
       "       'romance', 'roots', 'ruspop', 'rusrap', 'rusrock', 'russian',\n",
       "       'salsa', 'samba', 'scenic', 'schlager', 'self', 'sertanejo',\n",
       "       'shanson', 'shoegazing', 'showtunes', 'singer', 'ska', 'skarock',\n",
       "       'slow', 'smooth', 'soft', 'soul', 'soulful', 'sound', 'soundtrack',\n",
       "       'southern', 'specialty', 'speech', 'spiritual', 'sport',\n",
       "       'stonerrock', 'surf', 'swing', 'synthpop', 'synthrock',\n",
       "       'sängerportrait', 'tango', 'tanzorchester', 'taraftar', 'tatar',\n",
       "       'tech', 'techno', 'teen', 'thrash', 'top', 'traditional',\n",
       "       'tradjazz', 'trance', 'tribal', 'trip', 'triphop', 'tropical',\n",
       "       'türk', 'türkçe', 'ukrrock', 'unknown', 'urban', 'uzbek',\n",
       "       'variété', 'vi', 'videogame', 'vocal', 'western', 'world',\n",
       "       'worldbeat', 'ïîï', 'электроника'], dtype=object)"
      ]
     },
     "execution_count": 17,
     "metadata": {},
     "output_type": "execute_result"
    }
   ],
   "source": [
    "df['genre'].sort_values().unique() # Проверка на неявные дубликаты"
   ]
  },
  {
   "cell_type": "markdown",
   "metadata": {
    "deletable": false,
    "editable": false,
    "id": "jz6a9-7HQUDd"
   },
   "source": [
    "**Выводы**\n",
    "\n",
    "Предобработка обнаружила три проблемы в данных:\n",
    "\n",
    "- нарушения в стиле заголовков,\n",
    "- пропущенные значения,\n",
    "- дубликаты — явные и неявные.\n",
    "\n",
    "Вы исправили заголовки, чтобы упростить работу с таблицей. Без дубликатов исследование станет более точным.\n",
    "\n",
    "Пропущенные значения вы заменили на `'unknown'`. Ещё предстоит увидеть, не повредят ли исследованию пропуски в колонке `genre`.\n",
    "\n",
    "Теперь можно перейти к проверке гипотез. "
   ]
  },
  {
   "cell_type": "markdown",
   "metadata": {
    "deletable": false,
    "editable": false,
    "id": "WttZHXH0SqKk"
   },
   "source": [
    "## Проверка гипотез"
   ]
  },
  {
   "cell_type": "markdown",
   "metadata": {
    "deletable": false,
    "editable": false,
    "id": "Im936VVi_Zcu"
   },
   "source": [
    "### Сравнение поведения пользователей двух столиц"
   ]
  },
  {
   "cell_type": "markdown",
   "metadata": {
    "deletable": false,
    "editable": false,
    "id": "nwt_MuaL_Zcu"
   },
   "source": [
    "Первая гипотеза утверждает, что пользователи по-разному слушают музыку в Москве и Санкт-Петербурге. Проверьте это предположение по данным о трёх днях недели — понедельнике, среде и пятнице. Для этого:\n",
    "\n",
    "* Разделите пользователей Москвы и Санкт-Петербурга.\n",
    "* Сравните, сколько треков послушала каждая группа пользователей в понедельник, среду и пятницу.\n"
   ]
  },
  {
   "cell_type": "markdown",
   "metadata": {
    "deletable": false,
    "editable": false,
    "id": "8Dw_YMmT_Zcu",
    "tags": [
     "start_task"
    ]
   },
   "source": [
    "**Задание 18**\n",
    "\n",
    "Для тренировки сначала выполните каждый из расчётов по отдельности. \n",
    "\n",
    "Оцените активность пользователей в каждом городе. Сгруппируйте данные по городу и посчитайте прослушивания в каждой группе.\n",
    "\n"
   ]
  },
  {
   "cell_type": "code",
   "execution_count": 18,
   "metadata": {
    "deletable": false,
    "id": "0_Qs96oh_Zcu"
   },
   "outputs": [
    {
     "data": {
      "text/plain": [
       "city\n",
       "Moscow              42741\n",
       "Saint-Petersburg    18512\n",
       "Name: user_id, dtype: int64"
      ]
     },
     "execution_count": 18,
     "metadata": {},
     "output_type": "execute_result"
    }
   ],
   "source": [
    "df.groupby('city')['user_id'].count() # Подсчёт прослушиваний в каждом городе"
   ]
  },
  {
   "cell_type": "markdown",
   "metadata": {
    "deletable": false,
    "editable": false,
    "id": "dzli3w8o_Zcu",
    "tags": [
     "start_task"
    ]
   },
   "source": [
    "В Москве прослушиваний больше, чем в Петербурге. Из этого не следует, что московские пользователи чаще слушают музыку. Просто самих пользователей в Москве больше.\n",
    "\n",
    "**Задание 19**\n",
    "\n",
    "Теперь сгруппируйте данные по дню недели и посчитайте прослушивания в понедельник, среду и пятницу. Учтите, что в данных есть информация о прослушиваниях только за эти дни.\n"
   ]
  },
  {
   "cell_type": "code",
   "execution_count": 19,
   "metadata": {
    "deletable": false,
    "id": "uZMKjiJz_Zcu"
   },
   "outputs": [
    {
     "data": {
      "text/plain": [
       "day\n",
       "Friday       21840\n",
       "Monday       21354\n",
       "Wednesday    18059\n",
       "Name: user_id, dtype: int64"
      ]
     },
     "execution_count": 19,
     "metadata": {},
     "output_type": "execute_result"
    }
   ],
   "source": [
    "df.groupby('day')['user_id'].count() # Подсчёт прослушиваний в каждый из трёх дней"
   ]
  },
  {
   "cell_type": "markdown",
   "metadata": {
    "deletable": false,
    "editable": false,
    "id": "cC2tNrlL_Zcu"
   },
   "source": [
    "В среднем пользователи из двух городов менее активны по средам. Но картина может измениться, если рассмотреть каждый город в отдельности."
   ]
  },
  {
   "cell_type": "markdown",
   "metadata": {
    "deletable": false,
    "editable": false,
    "id": "POzs8bGa_Zcu",
    "tags": [
     "start_task"
    ]
   },
   "source": [
    "**Задание 20**\n",
    "\n",
    "\n",
    "Вы видели, как работает группировка по городу и по дням недели. Теперь напишите функцию, которая объединит два эти расчёта.\n",
    "\n",
    "Создайте функцию `number_tracks()`, которая посчитает прослушивания для заданного дня и города. Ей понадобятся два параметра:\n",
    "* день недели,\n",
    "* название города.\n",
    "\n",
    "В функции сохраните в переменную строки исходной таблицы, у которых значение:\n",
    "  * в колонке `day` равно параметру `day`,\n",
    "  * в колонке `city` равно параметру `city`.\n",
    "\n",
    "Для этого примените последовательную фильтрацию с логической индексацией (или сложные логические выражения в одну строку, если вы уже знакомы с ними).\n",
    "\n",
    "Затем посчитайте значения в столбце `user_id` получившейся таблицы. Результат сохраните в новую переменную. Верните эту переменную из функции."
   ]
  },
  {
   "cell_type": "code",
   "execution_count": 20,
   "metadata": {
    "deletable": false,
    "id": "Nz3GdQB1_Zcu"
   },
   "outputs": [],
   "source": [
    "def number_tracks(day, city): # <создание функции number_tracks()>\n",
    " # Объявляется функция с двумя параметрами: day, city.\n",
    "    track_list = df[df['day'] == day] # В переменной track_list сохраняются те строки таблицы df, для которых \n",
    "    track_list = track_list[track_list['city'] == city] # значение в столбце 'day' равно параметру day и одновременно значение\n",
    "                                                        # в столбце 'city' равно параметру city (используйте последовательную фильтрацию\n",
    "                                                        # с помощью логической индексации или сложные логические выражения в одну строку, если вы уже знакомы с ними).\n",
    "    track_list_count = track_list['user_id'].count() # В переменной track_list_count сохраняется число значений столбца 'user_id',\n",
    "                                                     # рассчитанное методом count() для таблицы track_list.\n",
    "    return track_list_count # Функция возвращает число - значение track_list_count.\n",
    "\n",
    "# Функция для подсчёта прослушиваний для конкретного города и дня.\n",
    "# С помощью последовательной фильтрации с логической индексацией она \n",
    "# сначала получит из исходной таблицы строки с нужным днём,\n",
    "# затем из результата отфильтрует строки с нужным городом,\n",
    "# методом count() посчитает количество значений в колонке user_id. \n",
    "# Это количество функция вернёт в качестве результата"
   ]
  },
  {
   "cell_type": "markdown",
   "metadata": {
    "deletable": false,
    "editable": false,
    "id": "ytf7xFrFJQ2r",
    "tags": [
     "start_task"
    ]
   },
   "source": [
    "**Задание 21**\n",
    "\n",
    "Вызовите `number_tracks()` шесть раз, меняя значение параметров — так, чтобы получить данные для каждого города в каждый из трёх дней."
   ]
  },
  {
   "cell_type": "code",
   "execution_count": 21,
   "metadata": {
    "deletable": false,
    "id": "rJcRATNQ_Zcu"
   },
   "outputs": [
    {
     "data": {
      "text/plain": [
       "15740"
      ]
     },
     "execution_count": 21,
     "metadata": {},
     "output_type": "execute_result"
    }
   ],
   "source": [
    "number_tracks('Monday', 'Moscow') # количество прослушиваний в Москве по понедельникам"
   ]
  },
  {
   "cell_type": "code",
   "execution_count": 22,
   "metadata": {
    "deletable": false,
    "id": "hq_ncZ5T_Zcu"
   },
   "outputs": [
    {
     "data": {
      "text/plain": [
       "5614"
      ]
     },
     "execution_count": 22,
     "metadata": {},
     "output_type": "execute_result"
    }
   ],
   "source": [
    "number_tracks('Monday', 'Saint-Petersburg') # количество прослушиваний в Санкт-Петербурге по понедельникам"
   ]
  },
  {
   "cell_type": "code",
   "execution_count": 23,
   "metadata": {
    "deletable": false,
    "id": "_NTy2VPU_Zcu"
   },
   "outputs": [
    {
     "data": {
      "text/plain": [
       "11056"
      ]
     },
     "execution_count": 23,
     "metadata": {},
     "output_type": "execute_result"
    }
   ],
   "source": [
    "number_tracks('Wednesday', 'Moscow')# количество прослушиваний в Москве по средам"
   ]
  },
  {
   "cell_type": "code",
   "execution_count": 24,
   "metadata": {
    "deletable": false,
    "id": "j2y3TAwo_Zcu"
   },
   "outputs": [
    {
     "data": {
      "text/plain": [
       "7003"
      ]
     },
     "execution_count": 24,
     "metadata": {},
     "output_type": "execute_result"
    }
   ],
   "source": [
    "number_tracks('Wednesday', 'Saint-Petersburg')# количество прослушиваний в Санкт-Петербурге по средам"
   ]
  },
  {
   "cell_type": "code",
   "execution_count": 25,
   "metadata": {
    "deletable": false,
    "id": "vYDw5u_K_Zcu"
   },
   "outputs": [
    {
     "data": {
      "text/plain": [
       "15945"
      ]
     },
     "execution_count": 25,
     "metadata": {},
     "output_type": "execute_result"
    }
   ],
   "source": [
    "number_tracks('Friday', 'Moscow')# количество прослушиваний в Москве по пятницам"
   ]
  },
  {
   "cell_type": "code",
   "execution_count": 26,
   "metadata": {
    "deletable": false,
    "id": "8_yzFtW3_Zcu"
   },
   "outputs": [
    {
     "data": {
      "text/plain": [
       "5895"
      ]
     },
     "execution_count": 26,
     "metadata": {},
     "output_type": "execute_result"
    }
   ],
   "source": [
    "number_tracks('Friday', 'Saint-Petersburg')# количество прослушиваний в Санкт-Петербурге по пятницам"
   ]
  },
  {
   "cell_type": "markdown",
   "metadata": {
    "deletable": false,
    "editable": false,
    "id": "7QXffbO-_Zcu",
    "tags": [
     "start_task"
    ]
   },
   "source": [
    "**Задание 22**\n",
    "\n",
    "Создайте c помощью конструктора `pd.DataFrame` таблицу, где\n",
    "* названия колонок — `['city', 'monday', 'wednesday', 'friday']`;\n",
    "* данные — результаты, которые вы получили с помощью `number_tracks`."
   ]
  },
  {
   "cell_type": "code",
   "execution_count": 27,
   "metadata": {
    "deletable": false,
    "id": "APAcLpOr_Zcu",
    "scrolled": true
   },
   "outputs": [
    {
     "data": {
      "text/html": [
       "<div>\n",
       "<style scoped>\n",
       "    .dataframe tbody tr th:only-of-type {\n",
       "        vertical-align: middle;\n",
       "    }\n",
       "\n",
       "    .dataframe tbody tr th {\n",
       "        vertical-align: top;\n",
       "    }\n",
       "\n",
       "    .dataframe thead th {\n",
       "        text-align: right;\n",
       "    }\n",
       "</style>\n",
       "<table border=\"1\" class=\"dataframe\">\n",
       "  <thead>\n",
       "    <tr style=\"text-align: right;\">\n",
       "      <th></th>\n",
       "      <th>city</th>\n",
       "      <th>monday</th>\n",
       "      <th>wednesday</th>\n",
       "      <th>friday</th>\n",
       "    </tr>\n",
       "  </thead>\n",
       "  <tbody>\n",
       "    <tr>\n",
       "      <th>0</th>\n",
       "      <td>Moscow</td>\n",
       "      <td>15740</td>\n",
       "      <td>11056</td>\n",
       "      <td>15945</td>\n",
       "    </tr>\n",
       "    <tr>\n",
       "      <th>1</th>\n",
       "      <td>Saint-Petersburg</td>\n",
       "      <td>5614</td>\n",
       "      <td>7003</td>\n",
       "      <td>5895</td>\n",
       "    </tr>\n",
       "  </tbody>\n",
       "</table>\n",
       "</div>"
      ],
      "text/plain": [
       "               city  monday  wednesday  friday\n",
       "0            Moscow   15740      11056   15945\n",
       "1  Saint-Petersburg    5614       7003    5895"
      ]
     },
     "execution_count": 27,
     "metadata": {},
     "output_type": "execute_result"
    }
   ],
   "source": [
    "columns = ['city', 'monday', 'wednesday', 'friday']\n",
    "# num_tracks = [['Moscow', 15740, 11056, 15945], ['Saint-Petersburg', 5614, 0, 5895]]\n",
    "pd.DataFrame(data=[['Moscow', 15740, 11056, 15945], ['Saint-Petersburg', 5614, 7003, 5895]], columns=columns) # Таблица с результатами"
   ]
  },
  {
   "cell_type": "markdown",
   "metadata": {
    "deletable": false,
    "editable": false,
    "id": "-EgPIHYu_Zcu"
   },
   "source": [
    "**Выводы**\n",
    "\n",
    "Данные показывают разницу поведения пользователей:\n",
    "\n",
    "- В Москве пик прослушиваний приходится на понедельник и пятницу, а в среду заметен спад.\n",
    "- В Петербурге, наоборот, больше слушают музыку по средам. Активность в понедельник и пятницу здесь почти в равной мере уступает среде.\n",
    "\n",
    "Значит, данные говорят в пользу первой гипотезы."
   ]
  },
  {
   "cell_type": "markdown",
   "metadata": {
    "deletable": false,
    "editable": false,
    "id": "atZAxtq4_Zcu"
   },
   "source": [
    "### Музыка в начале и в конце недели"
   ]
  },
  {
   "cell_type": "markdown",
   "metadata": {
    "deletable": false,
    "editable": false,
    "id": "eXrQqXFH_Zcu"
   },
   "source": [
    "Согласно второй гипотезе, утром в понедельник в Москве преобладают одни жанры, а в Петербурге — другие. Так же и вечером пятницы преобладают разные жанры — в зависимости от города."
   ]
  },
  {
   "cell_type": "markdown",
   "metadata": {
    "deletable": false,
    "editable": false,
    "id": "S8UcW6Hw_Zcu",
    "tags": [
     "start_task"
    ]
   },
   "source": [
    "**Задание 23**\n",
    "\n",
    "Сохраните таблицы с данными в две переменные:\n",
    "* по Москве — в `moscow_general`;\n",
    "* по Санкт-Петербургу — в `spb_general`."
   ]
  },
  {
   "cell_type": "code",
   "execution_count": 28,
   "metadata": {
    "deletable": false,
    "id": "qeaFfM_P_Zcu"
   },
   "outputs": [],
   "source": [
    "moscow_general = df[df['city'] == 'Moscow'] # получение таблицы moscow_general из тех строк таблицы df, \n",
    "                                            # для которых значение в столбце 'city' равно 'Moscow'\n"
   ]
  },
  {
   "cell_type": "code",
   "execution_count": 29,
   "metadata": {
    "deletable": false,
    "id": "ORaVRKto_Zcu"
   },
   "outputs": [],
   "source": [
    "spb_general = df[df['city'] == 'Saint-Petersburg'] # получение таблицы spb_general из тех строк таблицы df,\n",
    "                                                   # для которых значение в столбце 'city' равно 'Saint-Petersburg'\n"
   ]
  },
  {
   "cell_type": "markdown",
   "metadata": {
    "deletable": false,
    "editable": false,
    "id": "MEJV-CX2_Zcu",
    "tags": [
     "start_task"
    ]
   },
   "source": [
    "**Задание 24**\n",
    "\n",
    "Создайте функцию `genre_weekday()` с четырьмя параметрами:\n",
    "* таблица (датафрейм) с данными,\n",
    "* день недели,\n",
    "* начальная временная метка в формате 'hh:mm', \n",
    "* последняя временная метка в формате 'hh:mm'.\n",
    "\n",
    "Функция должна вернуть информацию о топ-10 жанров тех треков, которые прослушивали в указанный день, в промежутке между двумя отметками времени."
   ]
  },
  {
   "cell_type": "code",
   "execution_count": 36,
   "metadata": {
    "deletable": false,
    "id": "laJT9BYl_Zcu"
   },
   "outputs": [],
   "source": [
    "# Объявление функции genre_weekday() с параметрами table, day, time1, time2,\n",
    "# которая возвращает информацию о самых популярных жанрах в указанный день в\n",
    "# заданное время:\n",
    "# 1) в переменную genre_df сохраняются те строки переданного датафрейма table, для\n",
    "#    которых одновременно:\n",
    "#    - значение в столбце day равно значению аргумента day\n",
    "#    - значение в столбце time больше значения аргумента time1\n",
    "#    - значение в столбце time меньше значения аргумента time2\n",
    "#    Используйте последовательную фильтрацию с помощью логической индексации.\n",
    "# 2) сгруппировать датафрейм genre_df по столбцу genre, взять один из его\n",
    "#    столбцов и посчитать методом count() количество записей для каждого из\n",
    "#    присутствующих жанров, получившийся Series записать в переменную\n",
    "#    genre_df_count\n",
    "# 3) отсортировать genre_df_count по убыванию встречаемости и сохранить\n",
    "#    в переменную genre_df_sorted\n",
    "# 4) вернуть Series из 10 первых значений genre_df_sorted, это будут топ-10\n",
    "                                #    популярных жанров (в указанный день, в заданное время)\n",
    "\n",
    "def genre_weekday(df, day, time1, time2):\n",
    "    # последовательная фильтрация\n",
    "    # оставляем в genre_df только те строки df, у которых день равен day\n",
    "    genre_df = df[df['day'] == day] # ваш код здесь\n",
    "    # оставляем в genre_df только те строки genre_df, у которых время меньше time2\n",
    "    genre_df = genre_df[genre_df['time'] < time2] # ваш код здесь\n",
    "    # оставляем в genre_df только те строки genre_df, у которых время больше time1\n",
    "    genre_df = genre_df[genre_df['time'] > time1] # ваш код здесь\n",
    "    # сгруппируем отфильтрованный датафрейм по столбцу с названиями жанров, возьмём столбец genre и посчитаем кол-во строк для каждого жанра методом count()\n",
    "    genre_df_grouped = genre_df.groupby('genre')['genre'].count() # ваш код здесь\n",
    "    # отсортируем результат по убыванию (чтобы в начале Series оказались самые популярные жанры)\n",
    "    genre_df_sorted = genre_df_grouped.sort_values(ascending = False) # ваш код здесь\n",
    "    # вернём Series с 10 самыми популярными жанрами в указанный отрезок времени заданного дня\n",
    "    return genre_df_sorted[:10]"
   ]
  },
  {
   "cell_type": "markdown",
   "metadata": {
    "deletable": false,
    "editable": false,
    "id": "la2s2_PF_Zcu",
    "tags": [
     "start_task"
    ]
   },
   "source": [
    "**Задание 25**\n",
    "\n",
    "\n",
    "Cравните результаты функции `genre_weekday()` для Москвы и Санкт-Петербурга в понедельник утром (с 7:00 до 11:00) и в пятницу вечером (с 17:00 до 23:00):"
   ]
  },
  {
   "cell_type": "code",
   "execution_count": null,
   "metadata": {
    "deletable": false,
    "id": "yz7itPUQ_Zcu"
   },
   "outputs": [],
   "source": [
    "genre_weekday(moscow_general, 'Monday', '07:00', '11:00') # вызов функции для утра понедельника в Москве (вместо df — таблица moscow_general)\n",
    "# объекты, хранящие время, являются строками и сравниваются как строки\n",
    "# пример вызова: genre_weekday(moscow_general, 'Monday', '07:00', '11:00')"
   ]
  },
  {
   "cell_type": "code",
   "execution_count": null,
   "metadata": {
    "deletable": false,
    "id": "kwUcHPdy_Zcu"
   },
   "outputs": [],
   "source": [
    "genre_weekday(spb_general, 'Monday', '07:00', '11:00') # вызов функции для утра понедельника в Петербурге (вместо df — таблица spb_general)"
   ]
  },
  {
   "cell_type": "code",
   "execution_count": null,
   "metadata": {
    "deletable": false,
    "id": "EzXVRE1o_Zcu"
   },
   "outputs": [],
   "source": [
    "genre_weekday(moscow_general, 'Friday', '17:00', '23:00') # вызов функции для вечера пятницы в Москве"
   ]
  },
  {
   "cell_type": "code",
   "execution_count": 37,
   "metadata": {
    "deletable": false,
    "id": "JZaEKu5v_Zcu"
   },
   "outputs": [
    {
     "data": {
      "text/plain": [
       "genre\n",
       "pop            256\n",
       "electronic     216\n",
       "rock           216\n",
       "dance          210\n",
       "hiphop          97\n",
       "alternative     63\n",
       "jazz            61\n",
       "classical       60\n",
       "rusrap          59\n",
       "world           54\n",
       "Name: genre, dtype: int64"
      ]
     },
     "execution_count": 37,
     "metadata": {},
     "output_type": "execute_result"
    }
   ],
   "source": [
    "genre_weekday(spb_general, 'Friday', '17:00', '23:00') # вызов функции для вечера пятницы в Петербурге"
   ]
  },
  {
   "cell_type": "markdown",
   "metadata": {
    "deletable": false,
    "editable": false,
    "id": "wrCe4MNX_Zcu"
   },
   "source": [
    "**Выводы**\n",
    "\n",
    "Если сравнить топ-10 жанров в понедельник утром, можно сделать такие выводы:\n",
    "\n",
    "1. В Москве и Петербурге слушают похожую музыку. Единственное отличие — в московский рейтинг вошёл жанр “world”, а в петербургский — джаз и классика.\n",
    "\n",
    "2. В Москве пропущенных значений оказалось так много, что значение `'unknown'` заняло десятое место среди самых популярных жанров. Значит, пропущенные значения занимают существенную долю в данных и угрожают достоверности исследования.\n",
    "\n",
    "Вечер пятницы не меняет эту картину. Некоторые жанры поднимаются немного выше, другие спускаются, но в целом топ-10 остаётся тем же самым.\n",
    "\n",
    "Таким образом, вторая гипотеза подтвердилась лишь частично:\n",
    "* Пользователи слушают похожую музыку в начале недели и в конце.\n",
    "* Разница между Москвой и Петербургом не слишком выражена. В Москве чаще слушают русскую популярную музыку, в Петербурге — джаз.\n",
    "\n",
    "Однако пропуски в данных ставят под сомнение этот результат. В Москве их так много, что рейтинг топ-10 мог бы выглядеть иначе, если бы не утерянные  данные о жанрах."
   ]
  },
  {
   "cell_type": "markdown",
   "metadata": {
    "deletable": false,
    "editable": false,
    "id": "JolODAqr_Zcu"
   },
   "source": [
    "### Жанровые предпочтения в Москве и Петербурге\n",
    "\n",
    "Гипотеза: Петербург — столица рэпа, музыку этого жанра там слушают чаще, чем в Москве.  А Москва — город контрастов, в котором, тем не менее, преобладает поп-музыка."
   ]
  },
  {
   "cell_type": "markdown",
   "metadata": {
    "deletable": false,
    "editable": false,
    "id": "DlegSvaT_Zcu",
    "tags": [
     "start_task"
    ]
   },
   "source": [
    "**Задание 26**\n",
    "\n",
    "Сгруппируйте таблицу `moscow_general` по жанру и посчитайте прослушивания треков каждого жанра методом `count()`. Затем отсортируйте результат в порядке убывания и сохраните его в таблице `moscow_genres`."
   ]
  },
  {
   "cell_type": "code",
   "execution_count": 39,
   "metadata": {
    "deletable": false,
    "id": "r19lIPke_Zcu"
   },
   "outputs": [],
   "source": [
    "moscow_genres = moscow_general.groupby('genre')['genre'].count().sort_values(ascending = False) # одной строкой: группировка таблицы moscow_general по столбцу 'genre', \n",
    "# подсчёт числа значений 'genre' в этой группировке методом count(), \n",
    "# сортировка получившегося Series в порядке убывания и сохранение в moscow_genres"
   ]
  },
  {
   "cell_type": "markdown",
   "metadata": {
    "deletable": false,
    "editable": false,
    "id": "6kMuomxTiIr8",
    "tags": [
     "start_task"
    ]
   },
   "source": [
    "**Задание 27**\n",
    "\n",
    "Выведите на экран первые десять строк `moscow_genres`:"
   ]
  },
  {
   "cell_type": "code",
   "execution_count": 40,
   "metadata": {
    "deletable": false,
    "id": "WhCSooF8_Zcv"
   },
   "outputs": [
    {
     "data": {
      "text/plain": [
       "genre\n",
       "pop            5892\n",
       "dance          4435\n",
       "rock           3965\n",
       "electronic     3786\n",
       "hiphop         2096\n",
       "classical      1616\n",
       "world          1432\n",
       "alternative    1379\n",
       "ruspop         1372\n",
       "rusrap         1161\n",
       "Name: genre, dtype: int64"
      ]
     },
     "execution_count": 40,
     "metadata": {},
     "output_type": "execute_result"
    }
   ],
   "source": [
    "moscow_genres.head(10) # просмотр первых 10 строк moscow_genres"
   ]
  },
  {
   "cell_type": "markdown",
   "metadata": {
    "deletable": false,
    "editable": false,
    "id": "cnPG2vnN_Zcv",
    "tags": [
     "start_task"
    ]
   },
   "source": [
    "**Задание 28**\n",
    "\n",
    "\n",
    "Теперь повторите то же и для Петербурга.\n",
    "\n",
    "Сгруппируйте таблицу `spb_general` по жанру. Посчитайте прослушивания треков каждого жанра. Результат отсортируйте в порядке убывания и сохраните в таблице `spb_genres`:\n"
   ]
  },
  {
   "cell_type": "code",
   "execution_count": 41,
   "metadata": {
    "deletable": false,
    "id": "gluLIpE7_Zcv"
   },
   "outputs": [
    {
     "data": {
      "text/plain": [
       "genre\n",
       "pop              2431\n",
       "dance            1932\n",
       "rock             1879\n",
       "electronic       1736\n",
       "hiphop            960\n",
       "                 ... \n",
       "international       1\n",
       "independent         1\n",
       "idm                 1\n",
       "gypsy               1\n",
       "электроника         1\n",
       "Name: genre, Length: 211, dtype: int64"
      ]
     },
     "execution_count": 41,
     "metadata": {},
     "output_type": "execute_result"
    }
   ],
   "source": [
    "spb_genres = spb_general.groupby('genre')['genre'].count().sort_values(ascending = False) # одной строкой: группировка таблицы spb_general по столбцу 'genre', \n",
    "# подсчёт числа значений 'genre' в этой группировке методом count(), \n",
    "# сортировка получившегося Series в порядке убывания и сохранение в spb_genres"
   ]
  },
  {
   "cell_type": "markdown",
   "metadata": {
    "deletable": false,
    "editable": false,
    "id": "5Doha_ODgyQ8",
    "tags": [
     "start_task"
    ]
   },
   "source": [
    "**Задание 29**\n",
    "\n",
    "Выведите на экран первые десять строк `spb_genres`:"
   ]
  },
  {
   "cell_type": "code",
   "execution_count": null,
   "metadata": {
    "deletable": false,
    "id": "uaGJHjVU_Zcv"
   },
   "outputs": [],
   "source": [
    "spb_genres.head(10) # просмотр первых 10 строк spb_genres"
   ]
  },
  {
   "cell_type": "markdown",
   "metadata": {
    "deletable": false,
    "editable": false,
    "id": "RY51YJYu_Zcv"
   },
   "source": [
    "**Выводы**"
   ]
  },
  {
   "cell_type": "markdown",
   "metadata": {
    "deletable": false,
    "editable": false,
    "id": "nVhnJEm__Zcv"
   },
   "source": [
    "Гипотеза частично подтвердилась:\n",
    "* Поп-музыка — самый популярный жанр в Москве, как и предполагала гипотеза. Более того, в топ-10 жанров встречается близкий жанр — русская популярная музыка.\n",
    "* Вопреки ожиданиям, рэп одинаково популярен в Москве и Петербурге. \n"
   ]
  },
  {
   "cell_type": "markdown",
   "metadata": {
    "deletable": false,
    "editable": false,
    "id": "ykKQ0N65_Zcv"
   },
   "source": [
    "## Итоги исследования"
   ]
  },
  {
   "cell_type": "markdown",
   "metadata": {
    "deletable": false,
    "editable": false,
    "id": "tjUwbHb3_Zcv"
   },
   "source": [
    "Вы проверили три гипотезы и установили:\n",
    "\n",
    "1. День недели по-разному влияет на активность пользователей в Москве и Петербурге. \n",
    "\n",
    "Первая гипотеза полностью подтвердилась.\n",
    "\n",
    "2. Музыкальные предпочтения не сильно меняются в течение недели — будь то Москва или Петербург. Небольшие различия заметны в начале недели, по понедельникам:\n",
    "* в Москве слушают музыку жанра “world”,\n",
    "* в Петербурге — джаз и классику.\n",
    "\n",
    "Таким образом, вторая гипотеза подтвердилась лишь отчасти. Этот результат мог оказаться иным, если бы не пропуски в данных.\n",
    "\n",
    "3. Во вкусах пользователей Москвы и Петербурга больше общего чем различий. Вопреки ожиданиям, предпочтения жанров в Петербурге напоминают московские.\n",
    "\n",
    "Третья гипотеза не подтвердилась. Если различия в предпочтениях и существуют, на основной массе пользователей они незаметны.\n",
    "\n",
    "**На практике исследования содержат проверки статистических гипотез.**\n",
    "Из данных одного сервиса не всегда можно сделать вывод о всех жителях города.\n",
    "Проверки статистических гипотез покажут, насколько они достоверны, исходя из имеющихся данных. \n",
    "С методами проверок гипотез вы ещё познакомитесь в следующих темах."
   ]
  }
 ],
 "metadata": {
  "ExecuteTimeLog": [
   {
    "duration": 416,
    "start_time": "2022-09-28T14:19:52.296Z"
   },
   {
    "duration": 224,
    "start_time": "2022-09-28T14:19:54.378Z"
   },
   {
    "duration": 16,
    "start_time": "2022-09-28T14:20:18.284Z"
   },
   {
    "duration": 29,
    "start_time": "2022-09-28T14:20:32.358Z"
   },
   {
    "duration": 61,
    "start_time": "2022-09-28T14:22:40.032Z"
   },
   {
    "duration": 9,
    "start_time": "2022-09-28T14:22:52.395Z"
   },
   {
    "duration": 9,
    "start_time": "2022-09-28T14:22:56.439Z"
   },
   {
    "duration": 959,
    "start_time": "2022-09-28T14:23:16.274Z"
   },
   {
    "duration": 8,
    "start_time": "2022-09-28T14:23:25.835Z"
   },
   {
    "duration": 7,
    "start_time": "2022-09-28T14:23:37.543Z"
   },
   {
    "duration": 5,
    "start_time": "2022-09-28T14:26:47.954Z"
   },
   {
    "duration": 56,
    "start_time": "2022-09-28T14:34:35.487Z"
   },
   {
    "duration": 10,
    "start_time": "2022-09-28T14:34:42.842Z"
   },
   {
    "duration": 14,
    "start_time": "2022-09-28T14:34:44.984Z"
   },
   {
    "duration": 5,
    "start_time": "2022-09-28T14:35:06.975Z"
   },
   {
    "duration": 25,
    "start_time": "2022-09-28T14:37:34.101Z"
   },
   {
    "duration": 57,
    "start_time": "2022-09-28T14:39:04.717Z"
   },
   {
    "duration": 2,
    "start_time": "2022-09-28T14:40:01.021Z"
   },
   {
    "duration": 25,
    "start_time": "2022-09-28T14:41:22.487Z"
   },
   {
    "duration": 26,
    "start_time": "2022-09-28T14:44:34.669Z"
   },
   {
    "duration": 18,
    "start_time": "2022-09-28T14:45:19.824Z"
   },
   {
    "duration": 27,
    "start_time": "2022-09-28T14:45:23.740Z"
   },
   {
    "duration": 69,
    "start_time": "2022-09-28T14:45:49.744Z"
   },
   {
    "duration": 79,
    "start_time": "2022-09-28T14:45:56.268Z"
   },
   {
    "duration": 59,
    "start_time": "2022-09-28T14:46:13.747Z"
   },
   {
    "duration": 80,
    "start_time": "2022-09-28T14:46:51.462Z"
   },
   {
    "duration": 9,
    "start_time": "2022-09-28T14:54:25.080Z"
   },
   {
    "duration": 54,
    "start_time": "2022-09-28T14:54:35.105Z"
   },
   {
    "duration": 2,
    "start_time": "2022-09-28T14:55:09.509Z"
   },
   {
    "duration": 174,
    "start_time": "2022-09-28T14:55:09.515Z"
   },
   {
    "duration": 11,
    "start_time": "2022-09-28T14:55:09.692Z"
   },
   {
    "duration": 52,
    "start_time": "2022-09-28T14:55:09.705Z"
   },
   {
    "duration": 6,
    "start_time": "2022-09-28T14:55:09.760Z"
   },
   {
    "duration": 16,
    "start_time": "2022-09-28T14:55:09.768Z"
   },
   {
    "duration": 23,
    "start_time": "2022-09-28T14:55:09.786Z"
   },
   {
    "duration": 13,
    "start_time": "2022-09-28T14:55:09.811Z"
   },
   {
    "duration": 34,
    "start_time": "2022-09-28T14:55:09.826Z"
   },
   {
    "duration": 19,
    "start_time": "2022-09-28T14:55:09.862Z"
   },
   {
    "duration": 25,
    "start_time": "2022-09-28T14:55:09.884Z"
   },
   {
    "duration": 81,
    "start_time": "2022-09-28T14:55:09.911Z"
   },
   {
    "duration": 76,
    "start_time": "2022-09-28T14:55:09.993Z"
   },
   {
    "duration": 69,
    "start_time": "2022-09-28T14:55:10.070Z"
   },
   {
    "duration": 3,
    "start_time": "2022-09-28T14:55:10.140Z"
   },
   {
    "duration": 8,
    "start_time": "2022-09-28T14:55:10.145Z"
   },
   {
    "duration": 8,
    "start_time": "2022-09-28T14:55:10.154Z"
   },
   {
    "duration": 13,
    "start_time": "2022-09-28T14:55:10.163Z"
   },
   {
    "duration": 10,
    "start_time": "2022-09-28T14:55:10.178Z"
   },
   {
    "duration": 8,
    "start_time": "2022-09-28T14:55:10.189Z"
   },
   {
    "duration": 8,
    "start_time": "2022-09-28T14:55:10.199Z"
   },
   {
    "duration": 11,
    "start_time": "2022-09-28T14:55:10.209Z"
   },
   {
    "duration": 7,
    "start_time": "2022-09-28T14:55:10.222Z"
   },
   {
    "duration": 11,
    "start_time": "2022-09-28T14:55:10.231Z"
   },
   {
    "duration": 18,
    "start_time": "2022-09-28T14:55:10.244Z"
   },
   {
    "duration": 7,
    "start_time": "2022-09-28T14:55:10.263Z"
   },
   {
    "duration": 10,
    "start_time": "2022-09-28T14:55:10.271Z"
   },
   {
    "duration": 6,
    "start_time": "2022-09-28T14:55:10.283Z"
   },
   {
    "duration": 6,
    "start_time": "2022-09-28T14:55:10.293Z"
   },
   {
    "duration": 92,
    "start_time": "2022-09-28T14:55:10.301Z"
   },
   {
    "duration": 0,
    "start_time": "2022-09-28T14:55:10.394Z"
   },
   {
    "duration": 0,
    "start_time": "2022-09-28T14:55:10.396Z"
   },
   {
    "duration": 0,
    "start_time": "2022-09-28T14:55:10.397Z"
   },
   {
    "duration": 0,
    "start_time": "2022-09-28T14:55:10.398Z"
   },
   {
    "duration": 0,
    "start_time": "2022-09-28T14:55:10.399Z"
   },
   {
    "duration": 1,
    "start_time": "2022-09-28T14:55:10.400Z"
   },
   {
    "duration": 0,
    "start_time": "2022-09-28T14:55:10.402Z"
   },
   {
    "duration": 0,
    "start_time": "2022-09-28T14:55:10.403Z"
   },
   {
    "duration": 57,
    "start_time": "2022-09-28T14:55:32.103Z"
   },
   {
    "duration": 75,
    "start_time": "2022-09-28T14:55:42.907Z"
   },
   {
    "duration": 65,
    "start_time": "2022-09-28T14:55:46.721Z"
   },
   {
    "duration": 63,
    "start_time": "2022-09-28T14:55:51.841Z"
   },
   {
    "duration": 72,
    "start_time": "2022-09-28T14:55:51.906Z"
   },
   {
    "duration": 70,
    "start_time": "2022-09-28T14:55:51.980Z"
   },
   {
    "duration": 3,
    "start_time": "2022-09-28T14:55:52.053Z"
   },
   {
    "duration": 14,
    "start_time": "2022-09-28T14:55:52.057Z"
   },
   {
    "duration": 13,
    "start_time": "2022-09-28T14:55:52.073Z"
   },
   {
    "duration": 20,
    "start_time": "2022-09-28T14:55:52.087Z"
   },
   {
    "duration": 10,
    "start_time": "2022-09-28T14:55:52.109Z"
   },
   {
    "duration": 15,
    "start_time": "2022-09-28T14:55:52.121Z"
   },
   {
    "duration": 22,
    "start_time": "2022-09-28T14:55:52.139Z"
   },
   {
    "duration": 14,
    "start_time": "2022-09-28T14:55:52.162Z"
   },
   {
    "duration": 15,
    "start_time": "2022-09-28T14:55:52.177Z"
   },
   {
    "duration": 18,
    "start_time": "2022-09-28T14:55:52.193Z"
   },
   {
    "duration": 8,
    "start_time": "2022-09-28T14:55:52.213Z"
   },
   {
    "duration": 8,
    "start_time": "2022-09-28T14:55:52.223Z"
   },
   {
    "duration": 6,
    "start_time": "2022-09-28T14:55:52.232Z"
   },
   {
    "duration": 21,
    "start_time": "2022-09-28T14:55:52.240Z"
   },
   {
    "duration": 9,
    "start_time": "2022-09-28T14:55:52.263Z"
   },
   {
    "duration": 57,
    "start_time": "2022-09-28T14:55:52.274Z"
   },
   {
    "duration": 0,
    "start_time": "2022-09-28T14:55:52.333Z"
   },
   {
    "duration": 0,
    "start_time": "2022-09-28T14:55:52.335Z"
   },
   {
    "duration": 0,
    "start_time": "2022-09-28T14:55:52.336Z"
   },
   {
    "duration": 0,
    "start_time": "2022-09-28T14:55:52.337Z"
   },
   {
    "duration": 0,
    "start_time": "2022-09-28T14:55:52.338Z"
   },
   {
    "duration": 0,
    "start_time": "2022-09-28T14:55:52.339Z"
   },
   {
    "duration": 0,
    "start_time": "2022-09-28T14:55:52.340Z"
   },
   {
    "duration": 0,
    "start_time": "2022-09-28T14:55:52.341Z"
   },
   {
    "duration": 11,
    "start_time": "2022-09-28T14:56:33.577Z"
   },
   {
    "duration": 10,
    "start_time": "2022-09-28T14:56:40.582Z"
   },
   {
    "duration": 28,
    "start_time": "2022-09-28T14:56:44.490Z"
   },
   {
    "duration": 58,
    "start_time": "2022-09-28T14:56:49.264Z"
   },
   {
    "duration": 70,
    "start_time": "2022-09-28T14:56:52.630Z"
   },
   {
    "duration": 60,
    "start_time": "2022-09-28T14:57:03.426Z"
   },
   {
    "duration": 413,
    "start_time": "2022-09-28T14:59:01.491Z"
   },
   {
    "duration": 183,
    "start_time": "2022-09-28T14:59:01.906Z"
   },
   {
    "duration": 21,
    "start_time": "2022-09-28T14:59:02.091Z"
   },
   {
    "duration": 72,
    "start_time": "2022-09-28T14:59:02.115Z"
   },
   {
    "duration": 7,
    "start_time": "2022-09-28T14:59:02.189Z"
   },
   {
    "duration": 25,
    "start_time": "2022-09-28T14:59:02.200Z"
   },
   {
    "duration": 24,
    "start_time": "2022-09-28T14:59:02.227Z"
   },
   {
    "duration": 18,
    "start_time": "2022-09-28T14:59:02.253Z"
   },
   {
    "duration": 57,
    "start_time": "2022-09-28T14:59:02.273Z"
   },
   {
    "duration": 29,
    "start_time": "2022-09-28T14:59:02.333Z"
   },
   {
    "duration": 41,
    "start_time": "2022-09-28T14:59:02.364Z"
   },
   {
    "duration": 105,
    "start_time": "2022-09-28T14:59:02.407Z"
   },
   {
    "duration": 83,
    "start_time": "2022-09-28T14:59:02.514Z"
   },
   {
    "duration": 74,
    "start_time": "2022-09-28T14:59:02.598Z"
   },
   {
    "duration": 3,
    "start_time": "2022-09-28T14:59:02.674Z"
   },
   {
    "duration": 5,
    "start_time": "2022-09-28T14:59:02.678Z"
   },
   {
    "duration": 5,
    "start_time": "2022-09-28T14:59:02.684Z"
   },
   {
    "duration": 8,
    "start_time": "2022-09-28T14:59:02.691Z"
   },
   {
    "duration": 7,
    "start_time": "2022-09-28T14:59:02.701Z"
   },
   {
    "duration": 4,
    "start_time": "2022-09-28T14:59:02.710Z"
   },
   {
    "duration": 17,
    "start_time": "2022-09-28T14:59:02.716Z"
   },
   {
    "duration": 12,
    "start_time": "2022-09-28T14:59:02.735Z"
   },
   {
    "duration": 10,
    "start_time": "2022-09-28T14:59:02.749Z"
   },
   {
    "duration": 15,
    "start_time": "2022-09-28T14:59:02.761Z"
   },
   {
    "duration": 5,
    "start_time": "2022-09-28T14:59:02.778Z"
   },
   {
    "duration": 7,
    "start_time": "2022-09-28T14:59:02.784Z"
   },
   {
    "duration": 7,
    "start_time": "2022-09-28T14:59:02.793Z"
   },
   {
    "duration": 3,
    "start_time": "2022-09-28T14:59:02.802Z"
   },
   {
    "duration": 10,
    "start_time": "2022-09-28T14:59:02.807Z"
   },
   {
    "duration": 56,
    "start_time": "2022-09-28T14:59:02.818Z"
   },
   {
    "duration": 0,
    "start_time": "2022-09-28T14:59:02.876Z"
   },
   {
    "duration": 0,
    "start_time": "2022-09-28T14:59:02.877Z"
   },
   {
    "duration": 0,
    "start_time": "2022-09-28T14:59:02.879Z"
   },
   {
    "duration": 0,
    "start_time": "2022-09-28T14:59:02.880Z"
   },
   {
    "duration": 0,
    "start_time": "2022-09-28T14:59:02.881Z"
   },
   {
    "duration": 0,
    "start_time": "2022-09-28T14:59:02.882Z"
   },
   {
    "duration": 0,
    "start_time": "2022-09-28T14:59:02.883Z"
   },
   {
    "duration": 0,
    "start_time": "2022-09-28T14:59:02.884Z"
   },
   {
    "duration": 422,
    "start_time": "2022-09-28T15:00:14.718Z"
   },
   {
    "duration": 171,
    "start_time": "2022-09-28T15:00:15.141Z"
   },
   {
    "duration": 16,
    "start_time": "2022-09-28T15:00:15.313Z"
   },
   {
    "duration": 42,
    "start_time": "2022-09-28T15:00:15.333Z"
   },
   {
    "duration": 20,
    "start_time": "2022-09-28T15:00:15.377Z"
   },
   {
    "duration": 25,
    "start_time": "2022-09-28T15:00:15.399Z"
   },
   {
    "duration": 17,
    "start_time": "2022-09-28T15:00:15.426Z"
   },
   {
    "duration": 25,
    "start_time": "2022-09-28T15:00:15.445Z"
   },
   {
    "duration": 91,
    "start_time": "2022-09-28T15:00:15.472Z"
   },
   {
    "duration": 64,
    "start_time": "2022-09-28T15:00:15.567Z"
   },
   {
    "duration": 31,
    "start_time": "2022-09-28T15:00:15.633Z"
   },
   {
    "duration": 77,
    "start_time": "2022-09-28T15:00:15.665Z"
   },
   {
    "duration": 76,
    "start_time": "2022-09-28T15:00:15.744Z"
   },
   {
    "duration": 61,
    "start_time": "2022-09-28T15:00:15.833Z"
   },
   {
    "duration": 2,
    "start_time": "2022-09-28T15:00:15.896Z"
   },
   {
    "duration": 20,
    "start_time": "2022-09-28T15:00:15.900Z"
   },
   {
    "duration": 23,
    "start_time": "2022-09-28T15:00:15.921Z"
   },
   {
    "duration": 16,
    "start_time": "2022-09-28T15:00:15.946Z"
   },
   {
    "duration": 20,
    "start_time": "2022-09-28T15:00:15.964Z"
   },
   {
    "duration": 20,
    "start_time": "2022-09-28T15:00:15.985Z"
   },
   {
    "duration": 39,
    "start_time": "2022-09-28T15:00:16.007Z"
   },
   {
    "duration": 20,
    "start_time": "2022-09-28T15:00:16.048Z"
   },
   {
    "duration": 33,
    "start_time": "2022-09-28T15:00:16.069Z"
   },
   {
    "duration": 18,
    "start_time": "2022-09-28T15:00:16.103Z"
   },
   {
    "duration": 45,
    "start_time": "2022-09-28T15:00:16.123Z"
   },
   {
    "duration": 23,
    "start_time": "2022-09-28T15:00:16.170Z"
   },
   {
    "duration": 31,
    "start_time": "2022-09-28T15:00:16.196Z"
   },
   {
    "duration": 18,
    "start_time": "2022-09-28T15:00:16.231Z"
   },
   {
    "duration": 31,
    "start_time": "2022-09-28T15:00:16.251Z"
   },
   {
    "duration": 87,
    "start_time": "2022-09-28T15:00:16.284Z"
   },
   {
    "duration": 1,
    "start_time": "2022-09-28T15:00:16.373Z"
   },
   {
    "duration": 0,
    "start_time": "2022-09-28T15:00:16.375Z"
   },
   {
    "duration": 0,
    "start_time": "2022-09-28T15:00:16.376Z"
   },
   {
    "duration": 0,
    "start_time": "2022-09-28T15:00:16.378Z"
   },
   {
    "duration": 0,
    "start_time": "2022-09-28T15:00:16.380Z"
   },
   {
    "duration": 0,
    "start_time": "2022-09-28T15:00:16.381Z"
   },
   {
    "duration": 0,
    "start_time": "2022-09-28T15:00:16.382Z"
   },
   {
    "duration": 0,
    "start_time": "2022-09-28T15:00:16.383Z"
   },
   {
    "duration": 62,
    "start_time": "2022-09-28T15:02:47.468Z"
   },
   {
    "duration": 39,
    "start_time": "2022-09-28T15:04:27.747Z"
   },
   {
    "duration": 13,
    "start_time": "2022-09-28T15:07:27.530Z"
   },
   {
    "duration": 11,
    "start_time": "2022-09-28T15:08:59.474Z"
   },
   {
    "duration": 910,
    "start_time": "2022-09-28T15:09:02.137Z"
   },
   {
    "duration": 679,
    "start_time": "2022-09-28T15:09:11.416Z"
   },
   {
    "duration": 532,
    "start_time": "2022-09-28T15:09:38.078Z"
   },
   {
    "duration": 563,
    "start_time": "2022-09-28T15:09:45.421Z"
   },
   {
    "duration": 1380,
    "start_time": "2022-09-28T15:10:00.797Z"
   },
   {
    "duration": 428,
    "start_time": "2022-09-28T15:10:18.111Z"
   },
   {
    "duration": 158,
    "start_time": "2022-09-28T15:10:18.541Z"
   },
   {
    "duration": 22,
    "start_time": "2022-09-28T15:10:18.701Z"
   },
   {
    "duration": 57,
    "start_time": "2022-09-28T15:10:18.726Z"
   },
   {
    "duration": 21,
    "start_time": "2022-09-28T15:10:18.786Z"
   },
   {
    "duration": 10,
    "start_time": "2022-09-28T15:10:18.809Z"
   },
   {
    "duration": 12,
    "start_time": "2022-09-28T15:10:18.821Z"
   },
   {
    "duration": 10,
    "start_time": "2022-09-28T15:10:18.834Z"
   },
   {
    "duration": 33,
    "start_time": "2022-09-28T15:10:18.846Z"
   },
   {
    "duration": 19,
    "start_time": "2022-09-28T15:10:18.881Z"
   },
   {
    "duration": 31,
    "start_time": "2022-09-28T15:10:18.902Z"
   },
   {
    "duration": 68,
    "start_time": "2022-09-28T15:10:18.935Z"
   },
   {
    "duration": 87,
    "start_time": "2022-09-28T15:10:19.005Z"
   },
   {
    "duration": 68,
    "start_time": "2022-09-28T15:10:19.094Z"
   },
   {
    "duration": 41,
    "start_time": "2022-09-28T15:10:19.163Z"
   },
   {
    "duration": 28,
    "start_time": "2022-09-28T15:10:19.206Z"
   },
   {
    "duration": 2,
    "start_time": "2022-09-28T15:10:19.236Z"
   },
   {
    "duration": 10,
    "start_time": "2022-09-28T15:10:19.240Z"
   },
   {
    "duration": 7,
    "start_time": "2022-09-28T15:10:19.251Z"
   },
   {
    "duration": 6,
    "start_time": "2022-09-28T15:10:19.259Z"
   },
   {
    "duration": 7,
    "start_time": "2022-09-28T15:10:19.266Z"
   },
   {
    "duration": 7,
    "start_time": "2022-09-28T15:10:19.275Z"
   },
   {
    "duration": 44,
    "start_time": "2022-09-28T15:10:19.284Z"
   },
   {
    "duration": 6,
    "start_time": "2022-09-28T15:10:19.330Z"
   },
   {
    "duration": 7,
    "start_time": "2022-09-28T15:10:19.337Z"
   },
   {
    "duration": 5,
    "start_time": "2022-09-28T15:10:19.346Z"
   },
   {
    "duration": 5,
    "start_time": "2022-09-28T15:10:19.352Z"
   },
   {
    "duration": 4,
    "start_time": "2022-09-28T15:10:19.360Z"
   },
   {
    "duration": 5,
    "start_time": "2022-09-28T15:10:19.366Z"
   },
   {
    "duration": 58,
    "start_time": "2022-09-28T15:10:19.372Z"
   },
   {
    "duration": 0,
    "start_time": "2022-09-28T15:10:19.432Z"
   },
   {
    "duration": 0,
    "start_time": "2022-09-28T15:10:19.433Z"
   },
   {
    "duration": 0,
    "start_time": "2022-09-28T15:10:19.434Z"
   },
   {
    "duration": 0,
    "start_time": "2022-09-28T15:10:19.435Z"
   },
   {
    "duration": 0,
    "start_time": "2022-09-28T15:10:19.435Z"
   },
   {
    "duration": 0,
    "start_time": "2022-09-28T15:10:19.436Z"
   },
   {
    "duration": 0,
    "start_time": "2022-09-28T15:10:19.438Z"
   },
   {
    "duration": 0,
    "start_time": "2022-09-28T15:10:19.439Z"
   },
   {
    "duration": 13,
    "start_time": "2022-09-28T15:10:42.100Z"
   },
   {
    "duration": 674,
    "start_time": "2022-09-28T15:10:49.156Z"
   },
   {
    "duration": 445,
    "start_time": "2022-09-28T15:10:56.508Z"
   },
   {
    "duration": 166,
    "start_time": "2022-09-28T15:10:56.955Z"
   },
   {
    "duration": 17,
    "start_time": "2022-09-28T15:10:57.124Z"
   },
   {
    "duration": 28,
    "start_time": "2022-09-28T15:10:57.143Z"
   },
   {
    "duration": 2,
    "start_time": "2022-09-28T15:10:57.173Z"
   },
   {
    "duration": 7,
    "start_time": "2022-09-28T15:10:57.176Z"
   },
   {
    "duration": 17,
    "start_time": "2022-09-28T15:10:57.185Z"
   },
   {
    "duration": 30,
    "start_time": "2022-09-28T15:10:57.204Z"
   },
   {
    "duration": 40,
    "start_time": "2022-09-28T15:10:57.236Z"
   },
   {
    "duration": 28,
    "start_time": "2022-09-28T15:10:57.279Z"
   },
   {
    "duration": 53,
    "start_time": "2022-09-28T15:10:57.309Z"
   },
   {
    "duration": 72,
    "start_time": "2022-09-28T15:10:57.365Z"
   },
   {
    "duration": 69,
    "start_time": "2022-09-28T15:10:57.439Z"
   },
   {
    "duration": 74,
    "start_time": "2022-09-28T15:10:57.510Z"
   },
   {
    "duration": 38,
    "start_time": "2022-09-28T15:10:57.586Z"
   },
   {
    "duration": 10,
    "start_time": "2022-09-28T15:10:57.634Z"
   },
   {
    "duration": 4,
    "start_time": "2022-09-28T15:10:57.645Z"
   },
   {
    "duration": 10,
    "start_time": "2022-09-28T15:10:57.650Z"
   },
   {
    "duration": 6,
    "start_time": "2022-09-28T15:10:57.662Z"
   },
   {
    "duration": 6,
    "start_time": "2022-09-28T15:10:57.669Z"
   },
   {
    "duration": 6,
    "start_time": "2022-09-28T15:10:57.676Z"
   },
   {
    "duration": 5,
    "start_time": "2022-09-28T15:10:57.683Z"
   },
   {
    "duration": 7,
    "start_time": "2022-09-28T15:10:57.690Z"
   },
   {
    "duration": 9,
    "start_time": "2022-09-28T15:10:57.698Z"
   },
   {
    "duration": 8,
    "start_time": "2022-09-28T15:10:57.709Z"
   },
   {
    "duration": 5,
    "start_time": "2022-09-28T15:10:57.719Z"
   },
   {
    "duration": 8,
    "start_time": "2022-09-28T15:10:57.726Z"
   },
   {
    "duration": 5,
    "start_time": "2022-09-28T15:10:57.737Z"
   },
   {
    "duration": 6,
    "start_time": "2022-09-28T15:10:57.743Z"
   },
   {
    "duration": 59,
    "start_time": "2022-09-28T15:10:57.750Z"
   },
   {
    "duration": 0,
    "start_time": "2022-09-28T15:10:57.811Z"
   },
   {
    "duration": 0,
    "start_time": "2022-09-28T15:10:57.812Z"
   },
   {
    "duration": 0,
    "start_time": "2022-09-28T15:10:57.813Z"
   },
   {
    "duration": 0,
    "start_time": "2022-09-28T15:10:57.814Z"
   },
   {
    "duration": 0,
    "start_time": "2022-09-28T15:10:57.815Z"
   },
   {
    "duration": 0,
    "start_time": "2022-09-28T15:10:57.816Z"
   },
   {
    "duration": 0,
    "start_time": "2022-09-28T15:10:57.817Z"
   },
   {
    "duration": 0,
    "start_time": "2022-09-28T15:10:57.818Z"
   },
   {
    "duration": 10,
    "start_time": "2022-09-28T15:11:03.848Z"
   },
   {
    "duration": 8,
    "start_time": "2022-09-28T15:11:50.105Z"
   },
   {
    "duration": 43,
    "start_time": "2022-09-28T15:12:00.096Z"
   },
   {
    "duration": 69,
    "start_time": "2022-09-28T15:17:24.781Z"
   },
   {
    "duration": 10,
    "start_time": "2022-09-28T15:17:48.167Z"
   },
   {
    "duration": 388,
    "start_time": "2022-09-28T15:18:23.660Z"
   },
   {
    "duration": 176,
    "start_time": "2022-09-28T15:18:24.049Z"
   },
   {
    "duration": 17,
    "start_time": "2022-09-28T15:18:24.227Z"
   },
   {
    "duration": 29,
    "start_time": "2022-09-28T15:18:24.246Z"
   },
   {
    "duration": 7,
    "start_time": "2022-09-28T15:18:24.276Z"
   },
   {
    "duration": 7,
    "start_time": "2022-09-28T15:18:24.284Z"
   },
   {
    "duration": 13,
    "start_time": "2022-09-28T15:18:24.293Z"
   },
   {
    "duration": 10,
    "start_time": "2022-09-28T15:18:24.308Z"
   },
   {
    "duration": 25,
    "start_time": "2022-09-28T15:18:24.332Z"
   },
   {
    "duration": 19,
    "start_time": "2022-09-28T15:18:24.359Z"
   },
   {
    "duration": 23,
    "start_time": "2022-09-28T15:18:24.380Z"
   },
   {
    "duration": 83,
    "start_time": "2022-09-28T15:18:24.405Z"
   },
   {
    "duration": 76,
    "start_time": "2022-09-28T15:18:24.489Z"
   },
   {
    "duration": 57,
    "start_time": "2022-09-28T15:18:24.567Z"
   },
   {
    "duration": 38,
    "start_time": "2022-09-28T15:18:24.634Z"
   },
   {
    "duration": 15,
    "start_time": "2022-09-28T15:18:24.673Z"
   },
   {
    "duration": 51,
    "start_time": "2022-09-28T15:18:24.689Z"
   },
   {
    "duration": 60,
    "start_time": "2022-09-28T15:18:24.742Z"
   },
   {
    "duration": 0,
    "start_time": "2022-09-28T15:18:24.804Z"
   },
   {
    "duration": 0,
    "start_time": "2022-09-28T15:18:24.805Z"
   },
   {
    "duration": 0,
    "start_time": "2022-09-28T15:18:24.806Z"
   },
   {
    "duration": 0,
    "start_time": "2022-09-28T15:18:24.807Z"
   },
   {
    "duration": 0,
    "start_time": "2022-09-28T15:18:24.808Z"
   },
   {
    "duration": 0,
    "start_time": "2022-09-28T15:18:24.809Z"
   },
   {
    "duration": 0,
    "start_time": "2022-09-28T15:18:24.810Z"
   },
   {
    "duration": 0,
    "start_time": "2022-09-28T15:18:24.811Z"
   },
   {
    "duration": 0,
    "start_time": "2022-09-28T15:18:24.834Z"
   },
   {
    "duration": 0,
    "start_time": "2022-09-28T15:18:24.835Z"
   },
   {
    "duration": 0,
    "start_time": "2022-09-28T15:18:24.836Z"
   },
   {
    "duration": 0,
    "start_time": "2022-09-28T15:18:24.838Z"
   },
   {
    "duration": 0,
    "start_time": "2022-09-28T15:18:24.839Z"
   },
   {
    "duration": 0,
    "start_time": "2022-09-28T15:18:24.841Z"
   },
   {
    "duration": 0,
    "start_time": "2022-09-28T15:18:24.843Z"
   },
   {
    "duration": 0,
    "start_time": "2022-09-28T15:18:24.844Z"
   },
   {
    "duration": 0,
    "start_time": "2022-09-28T15:18:24.845Z"
   },
   {
    "duration": 1,
    "start_time": "2022-09-28T15:18:24.846Z"
   },
   {
    "duration": 0,
    "start_time": "2022-09-28T15:18:24.848Z"
   },
   {
    "duration": 0,
    "start_time": "2022-09-28T15:18:24.849Z"
   },
   {
    "duration": 7,
    "start_time": "2022-09-28T15:21:03.172Z"
   },
   {
    "duration": 8,
    "start_time": "2022-09-28T15:21:08.881Z"
   },
   {
    "duration": 7,
    "start_time": "2022-09-28T15:21:12.640Z"
   },
   {
    "duration": 11,
    "start_time": "2022-09-28T16:49:28.962Z"
   },
   {
    "duration": 12,
    "start_time": "2022-09-28T16:51:51.568Z"
   },
   {
    "duration": 129,
    "start_time": "2022-09-28T17:01:00.642Z"
   },
   {
    "duration": 4,
    "start_time": "2022-09-28T17:01:28.950Z"
   },
   {
    "duration": 4,
    "start_time": "2022-09-28T17:03:22.203Z"
   },
   {
    "duration": 17,
    "start_time": "2022-09-28T17:05:19.822Z"
   },
   {
    "duration": 15,
    "start_time": "2022-09-28T17:06:28.670Z"
   },
   {
    "duration": 22,
    "start_time": "2022-09-28T17:06:29.461Z"
   },
   {
    "duration": 11,
    "start_time": "2022-09-28T17:06:30.000Z"
   },
   {
    "duration": 16,
    "start_time": "2022-09-28T17:06:30.411Z"
   },
   {
    "duration": 16,
    "start_time": "2022-09-28T17:06:30.958Z"
   },
   {
    "duration": 9,
    "start_time": "2022-09-28T17:08:41.425Z"
   },
   {
    "duration": 8,
    "start_time": "2022-09-28T17:08:59.639Z"
   },
   {
    "duration": 13,
    "start_time": "2022-09-28T17:14:27.109Z"
   },
   {
    "duration": 16,
    "start_time": "2022-09-28T17:15:06.167Z"
   },
   {
    "duration": 5,
    "start_time": "2022-09-28T17:19:15.249Z"
   },
   {
    "duration": 4,
    "start_time": "2022-09-28T17:19:19.096Z"
   },
   {
    "duration": 4,
    "start_time": "2022-09-28T17:22:04.353Z"
   },
   {
    "duration": 8,
    "start_time": "2022-09-28T17:22:10.351Z"
   },
   {
    "duration": 14,
    "start_time": "2022-09-28T17:22:34.306Z"
   },
   {
    "duration": 8,
    "start_time": "2022-09-28T17:22:41.399Z"
   },
   {
    "duration": 6,
    "start_time": "2022-09-28T17:24:44.686Z"
   },
   {
    "duration": 82,
    "start_time": "2022-09-28T17:26:16.868Z"
   },
   {
    "duration": 11,
    "start_time": "2022-09-28T17:26:21.159Z"
   },
   {
    "duration": 13,
    "start_time": "2022-09-28T17:26:22.800Z"
   },
   {
    "duration": 9,
    "start_time": "2022-09-28T17:26:40.706Z"
   },
   {
    "duration": 51,
    "start_time": "2022-09-28T17:42:47.389Z"
   },
   {
    "duration": 83,
    "start_time": "2022-09-28T17:43:27.878Z"
   },
   {
    "duration": 51,
    "start_time": "2022-09-28T17:43:40.054Z"
   },
   {
    "duration": 440,
    "start_time": "2022-09-28T17:44:15.497Z"
   },
   {
    "duration": 167,
    "start_time": "2022-09-28T17:44:15.940Z"
   },
   {
    "duration": 17,
    "start_time": "2022-09-28T17:44:16.109Z"
   },
   {
    "duration": 30,
    "start_time": "2022-09-28T17:44:16.128Z"
   },
   {
    "duration": 3,
    "start_time": "2022-09-28T17:44:16.159Z"
   },
   {
    "duration": 8,
    "start_time": "2022-09-28T17:44:16.163Z"
   },
   {
    "duration": 36,
    "start_time": "2022-09-28T17:44:16.172Z"
   },
   {
    "duration": 23,
    "start_time": "2022-09-28T17:44:16.210Z"
   },
   {
    "duration": 54,
    "start_time": "2022-09-28T17:44:16.235Z"
   },
   {
    "duration": 46,
    "start_time": "2022-09-28T17:44:16.293Z"
   },
   {
    "duration": 30,
    "start_time": "2022-09-28T17:44:16.341Z"
   },
   {
    "duration": 84,
    "start_time": "2022-09-28T17:44:16.373Z"
   },
   {
    "duration": 85,
    "start_time": "2022-09-28T17:44:16.459Z"
   },
   {
    "duration": 61,
    "start_time": "2022-09-28T17:44:16.546Z"
   },
   {
    "duration": 57,
    "start_time": "2022-09-28T17:44:16.609Z"
   },
   {
    "duration": 13,
    "start_time": "2022-09-28T17:44:16.668Z"
   },
   {
    "duration": 83,
    "start_time": "2022-09-28T17:44:16.683Z"
   },
   {
    "duration": 20,
    "start_time": "2022-09-28T17:44:16.767Z"
   },
   {
    "duration": 13,
    "start_time": "2022-09-28T17:44:16.789Z"
   },
   {
    "duration": 4,
    "start_time": "2022-09-28T17:44:16.804Z"
   },
   {
    "duration": 36,
    "start_time": "2022-09-28T17:44:16.809Z"
   },
   {
    "duration": 13,
    "start_time": "2022-09-28T17:44:16.847Z"
   },
   {
    "duration": 13,
    "start_time": "2022-09-28T17:44:16.862Z"
   },
   {
    "duration": 13,
    "start_time": "2022-09-28T17:44:16.877Z"
   },
   {
    "duration": 54,
    "start_time": "2022-09-28T17:44:16.892Z"
   },
   {
    "duration": 18,
    "start_time": "2022-09-28T17:44:16.948Z"
   },
   {
    "duration": 8,
    "start_time": "2022-09-28T17:44:16.968Z"
   },
   {
    "duration": 15,
    "start_time": "2022-09-28T17:44:16.979Z"
   },
   {
    "duration": 41,
    "start_time": "2022-09-28T17:44:16.996Z"
   },
   {
    "duration": 51,
    "start_time": "2022-09-28T17:44:17.039Z"
   },
   {
    "duration": 0,
    "start_time": "2022-09-28T17:44:17.092Z"
   },
   {
    "duration": 0,
    "start_time": "2022-09-28T17:44:17.093Z"
   },
   {
    "duration": 0,
    "start_time": "2022-09-28T17:44:17.095Z"
   },
   {
    "duration": 0,
    "start_time": "2022-09-28T17:44:17.097Z"
   },
   {
    "duration": 0,
    "start_time": "2022-09-28T17:44:17.098Z"
   },
   {
    "duration": 0,
    "start_time": "2022-09-28T17:44:17.099Z"
   },
   {
    "duration": 0,
    "start_time": "2022-09-28T17:44:17.101Z"
   },
   {
    "duration": 0,
    "start_time": "2022-09-28T17:44:17.102Z"
   },
   {
    "duration": 5,
    "start_time": "2022-09-28T17:48:49.593Z"
   },
   {
    "duration": 4,
    "start_time": "2022-09-28T17:50:01.258Z"
   },
   {
    "duration": 4,
    "start_time": "2022-09-28T17:50:23.804Z"
   },
   {
    "duration": 6,
    "start_time": "2022-09-28T17:51:40.648Z"
   },
   {
    "duration": 4,
    "start_time": "2022-09-28T17:52:28.065Z"
   },
   {
    "duration": 5,
    "start_time": "2022-09-28T17:53:08.951Z"
   },
   {
    "duration": 13,
    "start_time": "2022-09-28T17:59:04.753Z"
   },
   {
    "duration": 79,
    "start_time": "2022-09-28T18:00:51.332Z"
   },
   {
    "duration": 12,
    "start_time": "2022-09-28T18:01:16.461Z"
   },
   {
    "duration": 6,
    "start_time": "2022-09-28T18:01:47.812Z"
   },
   {
    "duration": 9,
    "start_time": "2022-09-28T18:05:27.455Z"
   }
  ],
  "colab": {
   "collapsed_sections": [
    "E0vqbgi9ay0H",
    "VUC88oWjTJw2"
   ],
   "name": "automatization_template_upd4.ipynb",
   "provenance": []
  },
  "kernelspec": {
   "display_name": "Python 3 (ipykernel)",
   "language": "python",
   "name": "python3"
  },
  "language_info": {
   "codemirror_mode": {
    "name": "ipython",
    "version": 3
   },
   "file_extension": ".py",
   "mimetype": "text/x-python",
   "name": "python",
   "nbconvert_exporter": "python",
   "pygments_lexer": "ipython3",
   "version": "3.9.5"
  },
  "toc": {
   "base_numbering": 1,
   "nav_menu": {
    "height": "215px",
    "width": "403px"
   },
   "number_sections": true,
   "sideBar": true,
   "skip_h1_title": true,
   "title_cell": "Table of Contents",
   "title_sidebar": "Contents",
   "toc_cell": false,
   "toc_position": {
    "height": "calc(100% - 180px)",
    "left": "10px",
    "top": "150px",
    "width": "285.825px"
   },
   "toc_section_display": true,
   "toc_window_display": false
  }
 },
 "nbformat": 4,
 "nbformat_minor": 1
}
