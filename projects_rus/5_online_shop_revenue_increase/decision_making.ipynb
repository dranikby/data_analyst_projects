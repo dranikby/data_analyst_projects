{
 "cells": [
  {
   "cell_type": "markdown",
   "metadata": {},
   "source": [
    "# Проведение A/B теста в крупном интернет магазине"
   ]
  },
  {
   "cell_type": "markdown",
   "metadata": {},
   "source": [
    "**Цель проекта:** необходимо приоритизировать гипотезы, запустить A/B-тест и проанализировать результат."
   ]
  },
  {
   "cell_type": "markdown",
   "metadata": {},
   "source": [
    "**Исходные данные:**\n",
    "- Гипотезы по увеличению выручки интернет-магазина.\n",
    "- Заказы и визиты пользователей."
   ]
  },
  {
   "cell_type": "markdown",
   "metadata": {},
   "source": [
    "**Оглавление**\n",
    "<a id='section_id5'></a>\n",
    "1. [Загрузка и предобработка данных](#section_id1)\n",
    "2. [Приоритизация гипотез](#section_id2)\n",
    "3. [Анализ A/B теста](#section_id3)\n",
    "4. [Результаты исследования](#section_id4)"
   ]
  },
  {
   "cell_type": "markdown",
   "metadata": {},
   "source": [
    "## Загрузка и предобработка данных\n",
    "<a id='section_id1'></a>"
   ]
  },
  {
   "cell_type": "code",
   "execution_count": 1,
   "metadata": {},
   "outputs": [],
   "source": [
    "# импортируем необходимые библиотеки\n",
    "import pandas as pd\n",
    "import datetime as dt\n",
    "import numpy as np\n",
    "import matplotlib.pyplot as plt\n",
    "from pandas.plotting import register_matplotlib_converters\n",
    "import warnings\n",
    "import scipy.stats as stats\n",
    "# конвертеры, которые позволяют использовать типы pandas в matplotlib  \n",
    "register_matplotlib_converters()\n",
    "from collections import Counter"
   ]
  },
  {
   "cell_type": "code",
   "execution_count": 2,
   "metadata": {},
   "outputs": [],
   "source": [
    "# установим максимальную ширину колонки, чтобы влезли названия гипотез\n",
    "pd.options.display.max_colwidth = 100"
   ]
  },
  {
   "cell_type": "code",
   "execution_count": 3,
   "metadata": {},
   "outputs": [],
   "source": [
    "pd.options.display.float_format = '{:,.3f}'.format # установим удобный формат отображения чисел"
   ]
  },
  {
   "cell_type": "code",
   "execution_count": 4,
   "metadata": {},
   "outputs": [],
   "source": [
    "# загружаем имеющиеся данные\n",
    "hypothesis, orders, visitors = (\n",
    "    pd.read_csv('datasets/hypothesis.csv'), # гипотезы\n",
    "    pd.read_csv('datasets/orders.csv'), # заказы\n",
    "    pd.read_csv('datasets/visitors.csv') # визиты\n",
    ")"
   ]
  },
  {
   "cell_type": "markdown",
   "metadata": {},
   "source": [
    "### Обзор данных"
   ]
  },
  {
   "cell_type": "code",
   "execution_count": 5,
   "metadata": {},
   "outputs": [
    {
     "data": {
      "text/html": [
       "<div>\n",
       "<style scoped>\n",
       "    .dataframe tbody tr th:only-of-type {\n",
       "        vertical-align: middle;\n",
       "    }\n",
       "\n",
       "    .dataframe tbody tr th {\n",
       "        vertical-align: top;\n",
       "    }\n",
       "\n",
       "    .dataframe thead th {\n",
       "        text-align: right;\n",
       "    }\n",
       "</style>\n",
       "<table border=\"1\" class=\"dataframe\">\n",
       "  <thead>\n",
       "    <tr style=\"text-align: right;\">\n",
       "      <th></th>\n",
       "      <th>Hypothesis</th>\n",
       "      <th>Reach</th>\n",
       "      <th>Impact</th>\n",
       "      <th>Confidence</th>\n",
       "      <th>Efforts</th>\n",
       "    </tr>\n",
       "  </thead>\n",
       "  <tbody>\n",
       "    <tr>\n",
       "      <th>0</th>\n",
       "      <td>Добавить два новых канала привлечения трафика, что позволит привлекать на 30% больше пользователей</td>\n",
       "      <td>3</td>\n",
       "      <td>10</td>\n",
       "      <td>8</td>\n",
       "      <td>6</td>\n",
       "    </tr>\n",
       "    <tr>\n",
       "      <th>1</th>\n",
       "      <td>Запустить собственную службу доставки, что сократит срок доставки заказов</td>\n",
       "      <td>2</td>\n",
       "      <td>5</td>\n",
       "      <td>4</td>\n",
       "      <td>10</td>\n",
       "    </tr>\n",
       "    <tr>\n",
       "      <th>2</th>\n",
       "      <td>Добавить блоки рекомендаций товаров на сайт интернет магазина, чтобы повысить конверсию и средни...</td>\n",
       "      <td>8</td>\n",
       "      <td>3</td>\n",
       "      <td>7</td>\n",
       "      <td>3</td>\n",
       "    </tr>\n",
       "    <tr>\n",
       "      <th>3</th>\n",
       "      <td>Изменить структура категорий, что увеличит конверсию, т.к. пользователи быстрее найдут нужный товар</td>\n",
       "      <td>8</td>\n",
       "      <td>3</td>\n",
       "      <td>3</td>\n",
       "      <td>8</td>\n",
       "    </tr>\n",
       "    <tr>\n",
       "      <th>4</th>\n",
       "      <td>Изменить цвет фона главной страницы, чтобы увеличить вовлеченность пользователей</td>\n",
       "      <td>3</td>\n",
       "      <td>1</td>\n",
       "      <td>1</td>\n",
       "      <td>1</td>\n",
       "    </tr>\n",
       "  </tbody>\n",
       "</table>\n",
       "</div>"
      ],
      "text/plain": [
       "                                                                                            Hypothesis  \\\n",
       "0   Добавить два новых канала привлечения трафика, что позволит привлекать на 30% больше пользователей   \n",
       "1                            Запустить собственную службу доставки, что сократит срок доставки заказов   \n",
       "2  Добавить блоки рекомендаций товаров на сайт интернет магазина, чтобы повысить конверсию и средни...   \n",
       "3  Изменить структура категорий, что увеличит конверсию, т.к. пользователи быстрее найдут нужный товар   \n",
       "4                     Изменить цвет фона главной страницы, чтобы увеличить вовлеченность пользователей   \n",
       "\n",
       "   Reach  Impact  Confidence  Efforts  \n",
       "0      3      10           8        6  \n",
       "1      2       5           4       10  \n",
       "2      8       3           7        3  \n",
       "3      8       3           3        8  \n",
       "4      3       1           1        1  "
      ]
     },
     "execution_count": 5,
     "metadata": {},
     "output_type": "execute_result"
    }
   ],
   "source": [
    "hypothesis.head()"
   ]
  },
  {
   "cell_type": "code",
   "execution_count": 6,
   "metadata": {},
   "outputs": [
    {
     "name": "stdout",
     "output_type": "stream",
     "text": [
      "<class 'pandas.core.frame.DataFrame'>\n",
      "RangeIndex: 9 entries, 0 to 8\n",
      "Data columns (total 5 columns):\n",
      " #   Column      Non-Null Count  Dtype \n",
      "---  ------      --------------  ----- \n",
      " 0   Hypothesis  9 non-null      object\n",
      " 1   Reach       9 non-null      int64 \n",
      " 2   Impact      9 non-null      int64 \n",
      " 3   Confidence  9 non-null      int64 \n",
      " 4   Efforts     9 non-null      int64 \n",
      "dtypes: int64(4), object(1)\n",
      "memory usage: 492.0+ bytes\n"
     ]
    }
   ],
   "source": [
    "hypothesis.info()"
   ]
  },
  {
   "cell_type": "code",
   "execution_count": 7,
   "metadata": {},
   "outputs": [
    {
     "data": {
      "text/html": [
       "<div>\n",
       "<style scoped>\n",
       "    .dataframe tbody tr th:only-of-type {\n",
       "        vertical-align: middle;\n",
       "    }\n",
       "\n",
       "    .dataframe tbody tr th {\n",
       "        vertical-align: top;\n",
       "    }\n",
       "\n",
       "    .dataframe thead th {\n",
       "        text-align: right;\n",
       "    }\n",
       "</style>\n",
       "<table border=\"1\" class=\"dataframe\">\n",
       "  <thead>\n",
       "    <tr style=\"text-align: right;\">\n",
       "      <th></th>\n",
       "      <th>transactionId</th>\n",
       "      <th>visitorId</th>\n",
       "      <th>date</th>\n",
       "      <th>revenue</th>\n",
       "      <th>group</th>\n",
       "    </tr>\n",
       "  </thead>\n",
       "  <tbody>\n",
       "    <tr>\n",
       "      <th>0</th>\n",
       "      <td>3667963787</td>\n",
       "      <td>3312258926</td>\n",
       "      <td>2019-08-15</td>\n",
       "      <td>1650</td>\n",
       "      <td>B</td>\n",
       "    </tr>\n",
       "    <tr>\n",
       "      <th>1</th>\n",
       "      <td>2804400009</td>\n",
       "      <td>3642806036</td>\n",
       "      <td>2019-08-15</td>\n",
       "      <td>730</td>\n",
       "      <td>B</td>\n",
       "    </tr>\n",
       "    <tr>\n",
       "      <th>2</th>\n",
       "      <td>2961555356</td>\n",
       "      <td>4069496402</td>\n",
       "      <td>2019-08-15</td>\n",
       "      <td>400</td>\n",
       "      <td>A</td>\n",
       "    </tr>\n",
       "    <tr>\n",
       "      <th>3</th>\n",
       "      <td>3797467345</td>\n",
       "      <td>1196621759</td>\n",
       "      <td>2019-08-15</td>\n",
       "      <td>9759</td>\n",
       "      <td>B</td>\n",
       "    </tr>\n",
       "    <tr>\n",
       "      <th>4</th>\n",
       "      <td>2282983706</td>\n",
       "      <td>2322279887</td>\n",
       "      <td>2019-08-15</td>\n",
       "      <td>2308</td>\n",
       "      <td>B</td>\n",
       "    </tr>\n",
       "  </tbody>\n",
       "</table>\n",
       "</div>"
      ],
      "text/plain": [
       "   transactionId   visitorId        date  revenue group\n",
       "0     3667963787  3312258926  2019-08-15     1650     B\n",
       "1     2804400009  3642806036  2019-08-15      730     B\n",
       "2     2961555356  4069496402  2019-08-15      400     A\n",
       "3     3797467345  1196621759  2019-08-15     9759     B\n",
       "4     2282983706  2322279887  2019-08-15     2308     B"
      ]
     },
     "execution_count": 7,
     "metadata": {},
     "output_type": "execute_result"
    }
   ],
   "source": [
    "orders.head()"
   ]
  },
  {
   "cell_type": "code",
   "execution_count": 8,
   "metadata": {},
   "outputs": [
    {
     "name": "stdout",
     "output_type": "stream",
     "text": [
      "<class 'pandas.core.frame.DataFrame'>\n",
      "RangeIndex: 1197 entries, 0 to 1196\n",
      "Data columns (total 5 columns):\n",
      " #   Column         Non-Null Count  Dtype \n",
      "---  ------         --------------  ----- \n",
      " 0   transactionId  1197 non-null   int64 \n",
      " 1   visitorId      1197 non-null   int64 \n",
      " 2   date           1197 non-null   object\n",
      " 3   revenue        1197 non-null   int64 \n",
      " 4   group          1197 non-null   object\n",
      "dtypes: int64(3), object(2)\n",
      "memory usage: 46.9+ KB\n"
     ]
    }
   ],
   "source": [
    "orders.info()"
   ]
  },
  {
   "cell_type": "code",
   "execution_count": 9,
   "metadata": {},
   "outputs": [
    {
     "data": {
      "text/html": [
       "<div>\n",
       "<style scoped>\n",
       "    .dataframe tbody tr th:only-of-type {\n",
       "        vertical-align: middle;\n",
       "    }\n",
       "\n",
       "    .dataframe tbody tr th {\n",
       "        vertical-align: top;\n",
       "    }\n",
       "\n",
       "    .dataframe thead th {\n",
       "        text-align: right;\n",
       "    }\n",
       "</style>\n",
       "<table border=\"1\" class=\"dataframe\">\n",
       "  <thead>\n",
       "    <tr style=\"text-align: right;\">\n",
       "      <th></th>\n",
       "      <th>date</th>\n",
       "      <th>group</th>\n",
       "      <th>visitors</th>\n",
       "    </tr>\n",
       "  </thead>\n",
       "  <tbody>\n",
       "    <tr>\n",
       "      <th>0</th>\n",
       "      <td>2019-08-01</td>\n",
       "      <td>A</td>\n",
       "      <td>719</td>\n",
       "    </tr>\n",
       "    <tr>\n",
       "      <th>1</th>\n",
       "      <td>2019-08-02</td>\n",
       "      <td>A</td>\n",
       "      <td>619</td>\n",
       "    </tr>\n",
       "    <tr>\n",
       "      <th>2</th>\n",
       "      <td>2019-08-03</td>\n",
       "      <td>A</td>\n",
       "      <td>507</td>\n",
       "    </tr>\n",
       "    <tr>\n",
       "      <th>3</th>\n",
       "      <td>2019-08-04</td>\n",
       "      <td>A</td>\n",
       "      <td>717</td>\n",
       "    </tr>\n",
       "    <tr>\n",
       "      <th>4</th>\n",
       "      <td>2019-08-05</td>\n",
       "      <td>A</td>\n",
       "      <td>756</td>\n",
       "    </tr>\n",
       "  </tbody>\n",
       "</table>\n",
       "</div>"
      ],
      "text/plain": [
       "         date group  visitors\n",
       "0  2019-08-01     A       719\n",
       "1  2019-08-02     A       619\n",
       "2  2019-08-03     A       507\n",
       "3  2019-08-04     A       717\n",
       "4  2019-08-05     A       756"
      ]
     },
     "execution_count": 9,
     "metadata": {},
     "output_type": "execute_result"
    }
   ],
   "source": [
    "visitors.head()"
   ]
  },
  {
   "cell_type": "code",
   "execution_count": 10,
   "metadata": {},
   "outputs": [
    {
     "name": "stdout",
     "output_type": "stream",
     "text": [
      "<class 'pandas.core.frame.DataFrame'>\n",
      "RangeIndex: 62 entries, 0 to 61\n",
      "Data columns (total 3 columns):\n",
      " #   Column    Non-Null Count  Dtype \n",
      "---  ------    --------------  ----- \n",
      " 0   date      62 non-null     object\n",
      " 1   group     62 non-null     object\n",
      " 2   visitors  62 non-null     int64 \n",
      "dtypes: int64(1), object(2)\n",
      "memory usage: 1.6+ KB\n"
     ]
    }
   ],
   "source": [
    "visitors.info()"
   ]
  },
  {
   "cell_type": "markdown",
   "metadata": {},
   "source": [
    "### Предобработка данных\n",
    "- В таблице hypothesis приведем наименование колонок к нижнему регистру.\n",
    "- В таблице orders колонку date переведем в формат даты.\n",
    "- В таблице visitors колонку date переведем в формат даты. "
   ]
  },
  {
   "cell_type": "code",
   "execution_count": 11,
   "metadata": {
    "scrolled": true
   },
   "outputs": [
    {
     "name": "stdout",
     "output_type": "stream",
     "text": [
      "<class 'pandas.core.frame.DataFrame'>\n",
      "RangeIndex: 9 entries, 0 to 8\n",
      "Data columns (total 5 columns):\n",
      " #   Column      Non-Null Count  Dtype \n",
      "---  ------      --------------  ----- \n",
      " 0   hypothesis  9 non-null      object\n",
      " 1   reach       9 non-null      int64 \n",
      " 2   impact      9 non-null      int64 \n",
      " 3   confidence  9 non-null      int64 \n",
      " 4   efforts     9 non-null      int64 \n",
      "dtypes: int64(4), object(1)\n",
      "memory usage: 492.0+ bytes\n"
     ]
    }
   ],
   "source": [
    "hypothesis.columns = hypothesis.columns.str.lower() # переводим наименования колонок в нижний регистр\n",
    "hypothesis.info() # проверим, что изменения произошли"
   ]
  },
  {
   "cell_type": "code",
   "execution_count": 12,
   "metadata": {},
   "outputs": [
    {
     "name": "stdout",
     "output_type": "stream",
     "text": [
      "0\n"
     ]
    }
   ],
   "source": [
    "print(hypothesis.duplicated().sum())"
   ]
  },
  {
   "cell_type": "code",
   "execution_count": 13,
   "metadata": {
    "scrolled": true
   },
   "outputs": [
    {
     "name": "stdout",
     "output_type": "stream",
     "text": [
      "<class 'pandas.core.frame.DataFrame'>\n",
      "RangeIndex: 1197 entries, 0 to 1196\n",
      "Data columns (total 5 columns):\n",
      " #   Column         Non-Null Count  Dtype         \n",
      "---  ------         --------------  -----         \n",
      " 0   transactionid  1197 non-null   int64         \n",
      " 1   visitorid      1197 non-null   int64         \n",
      " 2   date           1197 non-null   datetime64[ns]\n",
      " 3   revenue        1197 non-null   int64         \n",
      " 4   group          1197 non-null   object        \n",
      "dtypes: datetime64[ns](1), int64(3), object(1)\n",
      "memory usage: 46.9+ KB\n"
     ]
    }
   ],
   "source": [
    "# изменим тип данных времени заказа на формат даты, приведем наименования колонок в нижний регистр\n",
    "# и выполним проверку\n",
    "orders['date'] = pd.to_datetime(orders['date'])\n",
    "orders.columns = orders.columns.str.lower() \n",
    "orders.info()"
   ]
  },
  {
   "cell_type": "code",
   "execution_count": 14,
   "metadata": {},
   "outputs": [
    {
     "name": "stdout",
     "output_type": "stream",
     "text": [
      "0\n"
     ]
    }
   ],
   "source": [
    "print(orders.duplicated().sum())"
   ]
  },
  {
   "cell_type": "code",
   "execution_count": 15,
   "metadata": {},
   "outputs": [
    {
     "name": "stdout",
     "output_type": "stream",
     "text": [
      "<class 'pandas.core.frame.DataFrame'>\n",
      "RangeIndex: 62 entries, 0 to 61\n",
      "Data columns (total 3 columns):\n",
      " #   Column    Non-Null Count  Dtype         \n",
      "---  ------    --------------  -----         \n",
      " 0   date      62 non-null     datetime64[ns]\n",
      " 1   group     62 non-null     object        \n",
      " 2   visitors  62 non-null     int64         \n",
      "dtypes: datetime64[ns](1), int64(1), object(1)\n",
      "memory usage: 1.6+ KB\n"
     ]
    }
   ],
   "source": [
    "# изменим тип данных времени визита на формат даты и выполним проверку\n",
    "visitors['date'] = pd.to_datetime(visitors['date'])\n",
    "visitors.info()"
   ]
  },
  {
   "cell_type": "code",
   "execution_count": 16,
   "metadata": {
    "scrolled": true
   },
   "outputs": [
    {
     "name": "stdout",
     "output_type": "stream",
     "text": [
      "0\n"
     ]
    }
   ],
   "source": [
    "print(visitors.duplicated().sum())"
   ]
  },
  {
   "cell_type": "markdown",
   "metadata": {},
   "source": [
    "**Выводы:**\n",
    "- Привели наименования колонок к нижнему регистру в таблицах hypothesis и orders.\n",
    "- Изменили формат колонок с датой на datetime в таблицах orders и visitors.\n",
    "- Проверили все таблицы на наличие явных дубликатов."
   ]
  },
  {
   "cell_type": "markdown",
   "metadata": {},
   "source": [
    "### Проверка распределения пользователей по группам и периода тестирования"
   ]
  },
  {
   "cell_type": "code",
   "execution_count": 17,
   "metadata": {},
   "outputs": [
    {
     "name": "stdout",
     "output_type": "stream",
     "text": [
      "Количество уникальных пользователей: 1031\n",
      "Количество уникальных пользователей в группе A: 503\n",
      "Количество уникальных пользователей в группе B: 586\n"
     ]
    }
   ],
   "source": [
    "print('Количество уникальных пользователей:', len(orders['visitorid'].unique()))  # считаем кол-во уникальных пользователей\n",
    "visitors_a = orders.query('group == \"A\"')['visitorid'].unique()\n",
    "visitors_b = orders.query('group == \"B\"')['visitorid'].unique()\n",
    "print('Количество уникальных пользователей в группе A:', len(visitors_a))\n",
    "print('Количество уникальных пользователей в группе B:', len(visitors_b))"
   ]
  },
  {
   "cell_type": "code",
   "execution_count": 18,
   "metadata": {
    "scrolled": true
   },
   "outputs": [
    {
     "name": "stdout",
     "output_type": "stream",
     "text": [
      "Число пользователей в обоих группах: 58\n"
     ]
    }
   ],
   "source": [
    "common_items = list((Counter(visitors_a) & Counter(visitors_b)).elements())\n",
    "print('Число пользователей в обоих группах:', len(common_items))"
   ]
  },
  {
   "cell_type": "code",
   "execution_count": 19,
   "metadata": {},
   "outputs": [],
   "source": [
    "# убираем из теста тех пользователей, которые попали в обе группы\n",
    "orders = orders[~orders['visitorid'].isin(common_items)]"
   ]
  },
  {
   "cell_type": "code",
   "execution_count": 20,
   "metadata": {},
   "outputs": [
    {
     "name": "stdout",
     "output_type": "stream",
     "text": [
      "Количество уникальных пользователей: 973\n"
     ]
    }
   ],
   "source": [
    "# проверяем, что число уникальных пользователей уменьшилось на 58\n",
    "print('Количество уникальных пользователей:', len(orders['visitorid'].unique()))  # считаем кол-во уникальных пользователей"
   ]
  },
  {
   "cell_type": "code",
   "execution_count": 21,
   "metadata": {},
   "outputs": [
    {
     "name": "stdout",
     "output_type": "stream",
     "text": [
      "Группы для проведения теста: ['B' 'A']\n",
      "Дата начала проведения теста в группе A: 2019-08-01 00:00:00\n",
      "Дата начала проведения теста в группе B: 2019-08-01 00:00:00\n",
      "Дата окончания проведения теста в группе A: 2019-08-01 00:00:00\n",
      "Дата окончания проведения теста в группе B: 2019-08-01 00:00:00\n"
     ]
    }
   ],
   "source": [
    "print('Группы для проведения теста:', orders.group.unique())\n",
    "print('Дата начала проведения теста в группе A:', orders.query('group == \"A\"').date.min())\n",
    "print('Дата начала проведения теста в группе B:', orders.query('group == \"B\"').date.min())\n",
    "print('Дата окончания проведения теста в группе A:', orders.query('group == \"A\"').date.min())\n",
    "print('Дата окончания проведения теста в группе B:', orders.query('group == \"B\"').date.min())"
   ]
  },
  {
   "cell_type": "markdown",
   "metadata": {},
   "source": [
    "**Выводы:**\n",
    "- Даты начала и окончания теста совпадают в обоих группах.\n",
    "- Всего выделено две группы для анализа.\n",
    "- Данные по 58 пользователям, которые попали в обе группы, были исключены."
   ]
  },
  {
   "cell_type": "markdown",
   "metadata": {},
   "source": [
    "[Оглавление](#section_id5)"
   ]
  },
  {
   "cell_type": "markdown",
   "metadata": {},
   "source": [
    "## Приоритизация гипотез\n",
    "<a id='section_id2'></a>"
   ]
  },
  {
   "cell_type": "code",
   "execution_count": 22,
   "metadata": {},
   "outputs": [],
   "source": [
    "# добавим колонки ICE и RICE для дальнейшей приритизации гипотез\n",
    "hypothesis['ice'] = hypothesis['impact'] * hypothesis['confidence'] / hypothesis['efforts']\n",
    "hypothesis['rice'] = hypothesis['reach'] * hypothesis['impact'] * hypothesis['confidence'] / hypothesis['efforts']"
   ]
  },
  {
   "cell_type": "markdown",
   "metadata": {},
   "source": [
    "`ICE`"
   ]
  },
  {
   "cell_type": "code",
   "execution_count": 23,
   "metadata": {
    "scrolled": true
   },
   "outputs": [
    {
     "data": {
      "text/html": [
       "<div>\n",
       "<style scoped>\n",
       "    .dataframe tbody tr th:only-of-type {\n",
       "        vertical-align: middle;\n",
       "    }\n",
       "\n",
       "    .dataframe tbody tr th {\n",
       "        vertical-align: top;\n",
       "    }\n",
       "\n",
       "    .dataframe thead th {\n",
       "        text-align: right;\n",
       "    }\n",
       "</style>\n",
       "<table border=\"1\" class=\"dataframe\">\n",
       "  <thead>\n",
       "    <tr style=\"text-align: right;\">\n",
       "      <th></th>\n",
       "      <th>hypothesis</th>\n",
       "      <th>reach</th>\n",
       "      <th>impact</th>\n",
       "      <th>confidence</th>\n",
       "      <th>efforts</th>\n",
       "      <th>ice</th>\n",
       "      <th>rice</th>\n",
       "    </tr>\n",
       "  </thead>\n",
       "  <tbody>\n",
       "    <tr>\n",
       "      <th>8</th>\n",
       "      <td>Запустить акцию, дающую скидку на товар в день рождения</td>\n",
       "      <td>1</td>\n",
       "      <td>9</td>\n",
       "      <td>9</td>\n",
       "      <td>5</td>\n",
       "      <td>16.200</td>\n",
       "      <td>16.200</td>\n",
       "    </tr>\n",
       "    <tr>\n",
       "      <th>0</th>\n",
       "      <td>Добавить два новых канала привлечения трафика, что позволит привлекать на 30% больше пользователей</td>\n",
       "      <td>3</td>\n",
       "      <td>10</td>\n",
       "      <td>8</td>\n",
       "      <td>6</td>\n",
       "      <td>13.333</td>\n",
       "      <td>40.000</td>\n",
       "    </tr>\n",
       "    <tr>\n",
       "      <th>7</th>\n",
       "      <td>Добавить форму подписки на все основные страницы, чтобы собрать базу клиентов для email-рассылок</td>\n",
       "      <td>10</td>\n",
       "      <td>7</td>\n",
       "      <td>8</td>\n",
       "      <td>5</td>\n",
       "      <td>11.200</td>\n",
       "      <td>112.000</td>\n",
       "    </tr>\n",
       "    <tr>\n",
       "      <th>6</th>\n",
       "      <td>Показать на главной странице баннеры с актуальными акциями и распродажами, чтобы увеличить конве...</td>\n",
       "      <td>5</td>\n",
       "      <td>3</td>\n",
       "      <td>8</td>\n",
       "      <td>3</td>\n",
       "      <td>8.000</td>\n",
       "      <td>40.000</td>\n",
       "    </tr>\n",
       "    <tr>\n",
       "      <th>2</th>\n",
       "      <td>Добавить блоки рекомендаций товаров на сайт интернет магазина, чтобы повысить конверсию и средни...</td>\n",
       "      <td>8</td>\n",
       "      <td>3</td>\n",
       "      <td>7</td>\n",
       "      <td>3</td>\n",
       "      <td>7.000</td>\n",
       "      <td>56.000</td>\n",
       "    </tr>\n",
       "    <tr>\n",
       "      <th>1</th>\n",
       "      <td>Запустить собственную службу доставки, что сократит срок доставки заказов</td>\n",
       "      <td>2</td>\n",
       "      <td>5</td>\n",
       "      <td>4</td>\n",
       "      <td>10</td>\n",
       "      <td>2.000</td>\n",
       "      <td>4.000</td>\n",
       "    </tr>\n",
       "    <tr>\n",
       "      <th>5</th>\n",
       "      <td>Добавить страницу отзывов клиентов о магазине, что позволит увеличить количество заказов</td>\n",
       "      <td>3</td>\n",
       "      <td>2</td>\n",
       "      <td>2</td>\n",
       "      <td>3</td>\n",
       "      <td>1.333</td>\n",
       "      <td>4.000</td>\n",
       "    </tr>\n",
       "    <tr>\n",
       "      <th>3</th>\n",
       "      <td>Изменить структура категорий, что увеличит конверсию, т.к. пользователи быстрее найдут нужный товар</td>\n",
       "      <td>8</td>\n",
       "      <td>3</td>\n",
       "      <td>3</td>\n",
       "      <td>8</td>\n",
       "      <td>1.125</td>\n",
       "      <td>9.000</td>\n",
       "    </tr>\n",
       "    <tr>\n",
       "      <th>4</th>\n",
       "      <td>Изменить цвет фона главной страницы, чтобы увеличить вовлеченность пользователей</td>\n",
       "      <td>3</td>\n",
       "      <td>1</td>\n",
       "      <td>1</td>\n",
       "      <td>1</td>\n",
       "      <td>1.000</td>\n",
       "      <td>3.000</td>\n",
       "    </tr>\n",
       "  </tbody>\n",
       "</table>\n",
       "</div>"
      ],
      "text/plain": [
       "                                                                                            hypothesis  \\\n",
       "8                                              Запустить акцию, дающую скидку на товар в день рождения   \n",
       "0   Добавить два новых канала привлечения трафика, что позволит привлекать на 30% больше пользователей   \n",
       "7     Добавить форму подписки на все основные страницы, чтобы собрать базу клиентов для email-рассылок   \n",
       "6  Показать на главной странице баннеры с актуальными акциями и распродажами, чтобы увеличить конве...   \n",
       "2  Добавить блоки рекомендаций товаров на сайт интернет магазина, чтобы повысить конверсию и средни...   \n",
       "1                            Запустить собственную службу доставки, что сократит срок доставки заказов   \n",
       "5             Добавить страницу отзывов клиентов о магазине, что позволит увеличить количество заказов   \n",
       "3  Изменить структура категорий, что увеличит конверсию, т.к. пользователи быстрее найдут нужный товар   \n",
       "4                     Изменить цвет фона главной страницы, чтобы увеличить вовлеченность пользователей   \n",
       "\n",
       "   reach  impact  confidence  efforts    ice    rice  \n",
       "8      1       9           9        5 16.200  16.200  \n",
       "0      3      10           8        6 13.333  40.000  \n",
       "7     10       7           8        5 11.200 112.000  \n",
       "6      5       3           8        3  8.000  40.000  \n",
       "2      8       3           7        3  7.000  56.000  \n",
       "1      2       5           4       10  2.000   4.000  \n",
       "5      3       2           2        3  1.333   4.000  \n",
       "3      8       3           3        8  1.125   9.000  \n",
       "4      3       1           1        1  1.000   3.000  "
      ]
     },
     "execution_count": 23,
     "metadata": {},
     "output_type": "execute_result"
    }
   ],
   "source": [
    "hypothesis.sort_values(by='ice', ascending=False)"
   ]
  },
  {
   "cell_type": "markdown",
   "metadata": {},
   "source": [
    "`RICE`"
   ]
  },
  {
   "cell_type": "code",
   "execution_count": 24,
   "metadata": {},
   "outputs": [
    {
     "data": {
      "text/html": [
       "<div>\n",
       "<style scoped>\n",
       "    .dataframe tbody tr th:only-of-type {\n",
       "        vertical-align: middle;\n",
       "    }\n",
       "\n",
       "    .dataframe tbody tr th {\n",
       "        vertical-align: top;\n",
       "    }\n",
       "\n",
       "    .dataframe thead th {\n",
       "        text-align: right;\n",
       "    }\n",
       "</style>\n",
       "<table border=\"1\" class=\"dataframe\">\n",
       "  <thead>\n",
       "    <tr style=\"text-align: right;\">\n",
       "      <th></th>\n",
       "      <th>hypothesis</th>\n",
       "      <th>reach</th>\n",
       "      <th>impact</th>\n",
       "      <th>confidence</th>\n",
       "      <th>efforts</th>\n",
       "      <th>ice</th>\n",
       "      <th>rice</th>\n",
       "    </tr>\n",
       "  </thead>\n",
       "  <tbody>\n",
       "    <tr>\n",
       "      <th>7</th>\n",
       "      <td>Добавить форму подписки на все основные страницы, чтобы собрать базу клиентов для email-рассылок</td>\n",
       "      <td>10</td>\n",
       "      <td>7</td>\n",
       "      <td>8</td>\n",
       "      <td>5</td>\n",
       "      <td>11.200</td>\n",
       "      <td>112.000</td>\n",
       "    </tr>\n",
       "    <tr>\n",
       "      <th>2</th>\n",
       "      <td>Добавить блоки рекомендаций товаров на сайт интернет магазина, чтобы повысить конверсию и средни...</td>\n",
       "      <td>8</td>\n",
       "      <td>3</td>\n",
       "      <td>7</td>\n",
       "      <td>3</td>\n",
       "      <td>7.000</td>\n",
       "      <td>56.000</td>\n",
       "    </tr>\n",
       "    <tr>\n",
       "      <th>0</th>\n",
       "      <td>Добавить два новых канала привлечения трафика, что позволит привлекать на 30% больше пользователей</td>\n",
       "      <td>3</td>\n",
       "      <td>10</td>\n",
       "      <td>8</td>\n",
       "      <td>6</td>\n",
       "      <td>13.333</td>\n",
       "      <td>40.000</td>\n",
       "    </tr>\n",
       "    <tr>\n",
       "      <th>6</th>\n",
       "      <td>Показать на главной странице баннеры с актуальными акциями и распродажами, чтобы увеличить конве...</td>\n",
       "      <td>5</td>\n",
       "      <td>3</td>\n",
       "      <td>8</td>\n",
       "      <td>3</td>\n",
       "      <td>8.000</td>\n",
       "      <td>40.000</td>\n",
       "    </tr>\n",
       "    <tr>\n",
       "      <th>8</th>\n",
       "      <td>Запустить акцию, дающую скидку на товар в день рождения</td>\n",
       "      <td>1</td>\n",
       "      <td>9</td>\n",
       "      <td>9</td>\n",
       "      <td>5</td>\n",
       "      <td>16.200</td>\n",
       "      <td>16.200</td>\n",
       "    </tr>\n",
       "    <tr>\n",
       "      <th>3</th>\n",
       "      <td>Изменить структура категорий, что увеличит конверсию, т.к. пользователи быстрее найдут нужный товар</td>\n",
       "      <td>8</td>\n",
       "      <td>3</td>\n",
       "      <td>3</td>\n",
       "      <td>8</td>\n",
       "      <td>1.125</td>\n",
       "      <td>9.000</td>\n",
       "    </tr>\n",
       "    <tr>\n",
       "      <th>1</th>\n",
       "      <td>Запустить собственную службу доставки, что сократит срок доставки заказов</td>\n",
       "      <td>2</td>\n",
       "      <td>5</td>\n",
       "      <td>4</td>\n",
       "      <td>10</td>\n",
       "      <td>2.000</td>\n",
       "      <td>4.000</td>\n",
       "    </tr>\n",
       "    <tr>\n",
       "      <th>5</th>\n",
       "      <td>Добавить страницу отзывов клиентов о магазине, что позволит увеличить количество заказов</td>\n",
       "      <td>3</td>\n",
       "      <td>2</td>\n",
       "      <td>2</td>\n",
       "      <td>3</td>\n",
       "      <td>1.333</td>\n",
       "      <td>4.000</td>\n",
       "    </tr>\n",
       "    <tr>\n",
       "      <th>4</th>\n",
       "      <td>Изменить цвет фона главной страницы, чтобы увеличить вовлеченность пользователей</td>\n",
       "      <td>3</td>\n",
       "      <td>1</td>\n",
       "      <td>1</td>\n",
       "      <td>1</td>\n",
       "      <td>1.000</td>\n",
       "      <td>3.000</td>\n",
       "    </tr>\n",
       "  </tbody>\n",
       "</table>\n",
       "</div>"
      ],
      "text/plain": [
       "                                                                                            hypothesis  \\\n",
       "7     Добавить форму подписки на все основные страницы, чтобы собрать базу клиентов для email-рассылок   \n",
       "2  Добавить блоки рекомендаций товаров на сайт интернет магазина, чтобы повысить конверсию и средни...   \n",
       "0   Добавить два новых канала привлечения трафика, что позволит привлекать на 30% больше пользователей   \n",
       "6  Показать на главной странице баннеры с актуальными акциями и распродажами, чтобы увеличить конве...   \n",
       "8                                              Запустить акцию, дающую скидку на товар в день рождения   \n",
       "3  Изменить структура категорий, что увеличит конверсию, т.к. пользователи быстрее найдут нужный товар   \n",
       "1                            Запустить собственную службу доставки, что сократит срок доставки заказов   \n",
       "5             Добавить страницу отзывов клиентов о магазине, что позволит увеличить количество заказов   \n",
       "4                     Изменить цвет фона главной страницы, чтобы увеличить вовлеченность пользователей   \n",
       "\n",
       "   reach  impact  confidence  efforts    ice    rice  \n",
       "7     10       7           8        5 11.200 112.000  \n",
       "2      8       3           7        3  7.000  56.000  \n",
       "0      3      10           8        6 13.333  40.000  \n",
       "6      5       3           8        3  8.000  40.000  \n",
       "8      1       9           9        5 16.200  16.200  \n",
       "3      8       3           3        8  1.125   9.000  \n",
       "1      2       5           4       10  2.000   4.000  \n",
       "5      3       2           2        3  1.333   4.000  \n",
       "4      3       1           1        1  1.000   3.000  "
      ]
     },
     "execution_count": 24,
     "metadata": {},
     "output_type": "execute_result"
    }
   ],
   "source": [
    "hypothesis.sort_values(by='rice', ascending=False)"
   ]
  },
  {
   "cell_type": "markdown",
   "metadata": {},
   "source": [
    "**Выводы:**\n",
    "- По фреймворку ICE приоритетными являются гипотезы 8, 0, 7.\n",
    "- По фреймворку RICE приоритетными являются гипотезы 7, 2, 0.\n",
    "- Приоритет изменился, так как фреймворк RICE учитывает охват пользователей. У гипотезы 7 этот показатель составляет 10, у гипотезы 8 только 1. В связи с этим и изменилась приоритетность."
   ]
  },
  {
   "cell_type": "markdown",
   "metadata": {},
   "source": [
    "[Оглавление](#section_id5)"
   ]
  },
  {
   "cell_type": "markdown",
   "metadata": {},
   "source": [
    "## Анализ A/B теста\n",
    "<a id='section_id3'></a>"
   ]
  },
  {
   "cell_type": "code",
   "execution_count": 25,
   "metadata": {},
   "outputs": [],
   "source": [
    "# создаем массив уникальных пар дат и групп теста\n",
    "datesGroups = orders[['date', 'group']].drop_duplicates()"
   ]
  },
  {
   "cell_type": "code",
   "execution_count": 26,
   "metadata": {},
   "outputs": [],
   "source": [
    "# получаем агрегированные кумулятивные по дням данные о заказах\n",
    "ordersAggregated = datesGroups\\\n",
    "    .apply(lambda x:\n",
    "           orders[np.logical_and(orders['date'] <= x['date'],\n",
    "                                 orders['group'] == x['group'])]\\\n",
    "    .agg({\n",
    "        'date' : 'max',\n",
    "        'group': 'max',\n",
    "        'transactionid' : 'nunique',\n",
    "        'visitorid' : 'nunique',\n",
    "        'revenue' : 'sum'\n",
    "        }), axis=1)\\\n",
    "    .sort_values(by=['date','group'])"
   ]
  },
  {
   "cell_type": "code",
   "execution_count": 27,
   "metadata": {},
   "outputs": [],
   "source": [
    "# получаем агрегированные кумулятивные по дням данные о посетителях\n",
    "visitorsAggregated = datesGroups\\\n",
    "    .apply(lambda x:\n",
    "           visitors[np.logical_and(visitors['date'] <= x['date'],\n",
    "                                   visitors['group'] == x['group'])]\\\n",
    "    .agg({\n",
    "        'date' : 'max',\n",
    "        'group' : 'max',\n",
    "        'visitors' : 'sum'\n",
    "        }), axis=1)\\\n",
    "    .sort_values(by=['date', 'group'])"
   ]
  },
  {
   "cell_type": "code",
   "execution_count": 28,
   "metadata": {},
   "outputs": [],
   "source": [
    "# объединяем кумулятивные данные в одной таблице и присваиваем ее столбцам понятные названия\n",
    "cumulativeData = ordersAggregated.merge(visitorsAggregated,\n",
    "                                        left_on=['date','group'],\n",
    "                                        right_on=['date','group'])\n",
    "cumulativeData.columns = ['date', 'group', 'orders', 'buyers', 'revenue', 'visitors']"
   ]
  },
  {
   "cell_type": "code",
   "execution_count": 29,
   "metadata": {
    "scrolled": true
   },
   "outputs": [
    {
     "name": "stdout",
     "output_type": "stream",
     "text": [
      "        date group  orders  buyers  revenue  visitors\n",
      "0 2019-08-01     A      23      19   142779       719\n",
      "1 2019-08-01     B      17      17    59758       713\n",
      "2 2019-08-02     A      42      36   234381      1338\n",
      "3 2019-08-02     B      40      39   221801      1294\n",
      "4 2019-08-03     A      66      60   346854      1845\n"
     ]
    }
   ],
   "source": [
    "print(cumulativeData.head(5))"
   ]
  },
  {
   "cell_type": "code",
   "execution_count": 30,
   "metadata": {},
   "outputs": [],
   "source": [
    "# датафрейм с кумулятивным количеством заказов и кумулятивной выручкой по дням в группе A\n",
    "\n",
    "cumulativeRevenueA = cumulativeData[cumulativeData['group']=='A']\\\n",
    "    [['date','revenue','orders']]\n"
   ]
  },
  {
   "cell_type": "code",
   "execution_count": 31,
   "metadata": {},
   "outputs": [],
   "source": [
    "# датафрейм с кумулятивным количеством заказов и кумулятивной выручкой по дням в группе B\n",
    "\n",
    "cumulativeRevenueB = cumulativeData[cumulativeData['group']=='B']\\\n",
    "    [['date','revenue','orders']]\n"
   ]
  },
  {
   "cell_type": "code",
   "execution_count": 32,
   "metadata": {},
   "outputs": [
    {
     "data": {
      "text/html": [
       "<div>\n",
       "<style scoped>\n",
       "    .dataframe tbody tr th:only-of-type {\n",
       "        vertical-align: middle;\n",
       "    }\n",
       "\n",
       "    .dataframe tbody tr th {\n",
       "        vertical-align: top;\n",
       "    }\n",
       "\n",
       "    .dataframe thead th {\n",
       "        text-align: right;\n",
       "    }\n",
       "</style>\n",
       "<table border=\"1\" class=\"dataframe\">\n",
       "  <thead>\n",
       "    <tr style=\"text-align: right;\">\n",
       "      <th></th>\n",
       "      <th>date</th>\n",
       "      <th>revenue</th>\n",
       "      <th>orders</th>\n",
       "    </tr>\n",
       "  </thead>\n",
       "  <tbody>\n",
       "    <tr>\n",
       "      <th>1</th>\n",
       "      <td>2019-08-01</td>\n",
       "      <td>59758</td>\n",
       "      <td>17</td>\n",
       "    </tr>\n",
       "    <tr>\n",
       "      <th>3</th>\n",
       "      <td>2019-08-02</td>\n",
       "      <td>221801</td>\n",
       "      <td>40</td>\n",
       "    </tr>\n",
       "    <tr>\n",
       "      <th>5</th>\n",
       "      <td>2019-08-03</td>\n",
       "      <td>288850</td>\n",
       "      <td>54</td>\n",
       "    </tr>\n",
       "    <tr>\n",
       "      <th>7</th>\n",
       "      <td>2019-08-04</td>\n",
       "      <td>385740</td>\n",
       "      <td>68</td>\n",
       "    </tr>\n",
       "    <tr>\n",
       "      <th>9</th>\n",
       "      <td>2019-08-05</td>\n",
       "      <td>475648</td>\n",
       "      <td>89</td>\n",
       "    </tr>\n",
       "  </tbody>\n",
       "</table>\n",
       "</div>"
      ],
      "text/plain": [
       "        date  revenue  orders\n",
       "1 2019-08-01    59758      17\n",
       "3 2019-08-02   221801      40\n",
       "5 2019-08-03   288850      54\n",
       "7 2019-08-04   385740      68\n",
       "9 2019-08-05   475648      89"
      ]
     },
     "execution_count": 32,
     "metadata": {},
     "output_type": "execute_result"
    }
   ],
   "source": [
    "cumulativeRevenueB.head()"
   ]
  },
  {
   "cell_type": "markdown",
   "metadata": {},
   "source": [
    "### График кумулятивной выручки по группам"
   ]
  },
  {
   "cell_type": "code",
   "execution_count": 33,
   "metadata": {},
   "outputs": [
    {
     "data": {
      "image/png": "[encoded data removed]",
      "text/plain": [
       "<Figure size 1200x300 with 1 Axes>"
      ]
     },
     "metadata": {},
     "output_type": "display_data"
    }
   ],
   "source": [
    "# Строим график выручки группы A и B\n",
    "plt.figure(figsize=(12, 3))\n",
    "plt.plot(cumulativeRevenueA['date'], cumulativeRevenueA['revenue'], label='A')\n",
    "plt.plot(cumulativeRevenueB['date'], cumulativeRevenueB['revenue'], label='B')\n",
    "plt.title('Кумулятивная выручка по группам')\n",
    "plt.xlabel('Дата')\n",
    "plt.ylabel('Выручка')\n",
    "plt.legend()\n",
    "plt.show()"
   ]
  },
  {
   "cell_type": "markdown",
   "metadata": {},
   "source": [
    "**Выводы:**\n",
    "- Выручка растет на протяжении всего теста.\n",
    "- На графике группы B есть сильный всплеск. Это может говорить либо о резком росте числа заказов, либо о наличии крупной покупки."
   ]
  },
  {
   "cell_type": "markdown",
   "metadata": {},
   "source": [
    "### График кумулятивного среднего чека по группам"
   ]
  },
  {
   "cell_type": "code",
   "execution_count": 34,
   "metadata": {},
   "outputs": [
    {
     "data": {
      "image/png": "[encoded data removed]",
      "text/plain": [
       "<Figure size 1200x300 with 1 Axes>"
      ]
     },
     "metadata": {},
     "output_type": "display_data"
    }
   ],
   "source": [
    "# Строим график среднего чека группы A и B\n",
    "plt.figure(figsize=(12, 3))\n",
    "plt.plot(cumulativeRevenueA['date'], cumulativeRevenueA['revenue']/cumulativeRevenueA['orders'], label = 'A')\n",
    "plt.plot(cumulativeRevenueB['date'], cumulativeRevenueB['revenue']/cumulativeRevenueB['orders'], label = 'B')\n",
    "plt.title('Кумулятивный средний чек по группам')\n",
    "plt.xlabel('Дата')\n",
    "plt.ylabel('Средний чек')\n",
    "plt.legend()\n",
    "plt.show()"
   ]
  },
  {
   "cell_type": "markdown",
   "metadata": {},
   "source": [
    "**Выводы:**\n",
    "- Размер среднего чека выравнивается к середине теста, но наблюдается резкий всплеск в группе B. Вероятно это связано с дорогими покупками."
   ]
  },
  {
   "cell_type": "markdown",
   "metadata": {},
   "source": [
    "### График относительного изменения кумулятивного среднего чека группы B к группе A"
   ]
  },
  {
   "cell_type": "code",
   "execution_count": 35,
   "metadata": {},
   "outputs": [],
   "source": [
    "# собираем даннные в одном датафрейме\n",
    "mergedCumulativeRevenue = cumulativeRevenueA.merge(cumulativeRevenueB,\n",
    "                                                   left_on='date',\n",
    "                                                   right_on='date',\n",
    "                                                   how='left',\n",
    "                                                   suffixes=['A','B'])"
   ]
  },
  {
   "cell_type": "code",
   "execution_count": 36,
   "metadata": {},
   "outputs": [
    {
     "data": {
      "image/png": "[encoded data removed]",
      "text/plain": [
       "<Figure size 1200x300 with 1 Axes>"
      ]
     },
     "metadata": {},
     "output_type": "display_data"
    }
   ],
   "source": [
    "# строим график отношения средних чеков\n",
    "plt.figure(figsize=(12, 3))\n",
    "plt.plot(mergedCumulativeRevenue['date'], (mergedCumulativeRevenue['revenueB']/mergedCumulativeRevenue['ordersB'])/(mergedCumulativeRevenue['revenueA']/mergedCumulativeRevenue['ordersA'])-1)\n",
    "# добавляем ось Х\n",
    "plt.axhline(y=0, color='black', linestyle='--')\n",
    "plt.title('Изменение среднего чека группы B к группе A')\n",
    "plt.xlabel('Дата')\n",
    "plt.ylabel('Изменение, %')\n",
    "plt.show()"
   ]
  },
  {
   "cell_type": "markdown",
   "metadata": {},
   "source": [
    "**Выводы:**\n",
    "- График подтверждает, что в группе B есть аномально большой чек."
   ]
  },
  {
   "cell_type": "markdown",
   "metadata": {},
   "source": [
    "### График кумулятивного среднего количества заказов на посетителя по группам"
   ]
  },
  {
   "cell_type": "code",
   "execution_count": 37,
   "metadata": {},
   "outputs": [],
   "source": [
    "# считаем кумулятивную конверсию\n",
    "cumulativeData['conversion'] = cumulativeData['orders'] / cumulativeData['visitors']\n",
    "# отделяем данные по группе A\n",
    "cumulativeDataA = cumulativeData[cumulativeData['group']=='A']\n",
    "# отделяем данные по группе B\n",
    "cumulativeDataB = cumulativeData[cumulativeData['group']=='B']"
   ]
  },
  {
   "cell_type": "code",
   "execution_count": 38,
   "metadata": {},
   "outputs": [
    {
     "data": {
      "image/png": "[encoded data removed]",
      "text/plain": [
       "<Figure size 1200x300 with 1 Axes>"
      ]
     },
     "metadata": {},
     "output_type": "display_data"
    }
   ],
   "source": [
    "# строим графики кумулятивной средней конверсии\n",
    "plt.figure(figsize=(12, 3))\n",
    "plt.plot(cumulativeDataA['date'], cumulativeDataA['conversion'], label='A')\n",
    "plt.plot(cumulativeDataB['date'], cumulativeDataB['conversion'], label='B')\n",
    "plt.legend()\n",
    "plt.title('Кумулятивное среднее количество заказов на посетителя')\n",
    "plt.xlabel('Дата')\n",
    "plt.ylabel('Конверсия')\n",
    "plt.show()"
   ]
  },
  {
   "cell_type": "markdown",
   "metadata": {},
   "source": [
    "**Выводы:**\n",
    "- На протяжении почти всего теста конверсия группы B выглядит лучше."
   ]
  },
  {
   "cell_type": "markdown",
   "metadata": {},
   "source": [
    "### График относительного изменения кумулятивного среднего количества заказов на посетителя группы B к группе A"
   ]
  },
  {
   "cell_type": "code",
   "execution_count": 39,
   "metadata": {},
   "outputs": [],
   "source": [
    "# собираем даннные в одном датафрейме\n",
    "mergedCumulativeConversions = cumulativeDataA[['date','conversion']]\\\n",
    "    .merge(cumulativeDataB[['date','conversion']],\n",
    "           left_on='date',\n",
    "           right_on='date',\n",
    "           how='left',\n",
    "           suffixes=['A','B'])"
   ]
  },
  {
   "cell_type": "code",
   "execution_count": 40,
   "metadata": {
    "scrolled": true
   },
   "outputs": [
    {
     "data": {
      "image/png": "[encoded data removed]",
      "text/plain": [
       "<Figure size 1200x300 with 1 Axes>"
      ]
     },
     "metadata": {},
     "output_type": "display_data"
    }
   ],
   "source": [
    "# строим график относительного изменения кумулятивных конверсий\n",
    "plt.figure(figsize=(12, 3))\n",
    "plt.plot(mergedCumulativeConversions['date'], mergedCumulativeConversions['conversionB']/mergedCumulativeConversions['conversionA']-1, label='Относительный прирост конверсии группы B относительно группы A')\n",
    "plt.title('Относительное изменение кумулятивных конверсий')\n",
    "plt.xlabel('Дата')\n",
    "plt.ylabel('Изменение, %')\n",
    "plt.axhline(y=0, color='black', linestyle='--')\n",
    "plt.axhline(y=0.1, color='grey', linestyle='--')\n",
    "plt.show()"
   ]
  },
  {
   "cell_type": "markdown",
   "metadata": {},
   "source": [
    "**Выводы:**\n",
    "- В начале теста группа B проигрывала группе A, затем вырвалась вперед и до конца теста была лучше."
   ]
  },
  {
   "cell_type": "markdown",
   "metadata": {},
   "source": [
    "### Точечный график количества заказов по пользователям"
   ]
  },
  {
   "cell_type": "code",
   "execution_count": 41,
   "metadata": {
    "scrolled": true
   },
   "outputs": [
    {
     "data": {
      "text/html": [
       "<div>\n",
       "<style scoped>\n",
       "    .dataframe tbody tr th:only-of-type {\n",
       "        vertical-align: middle;\n",
       "    }\n",
       "\n",
       "    .dataframe tbody tr th {\n",
       "        vertical-align: top;\n",
       "    }\n",
       "\n",
       "    .dataframe thead th {\n",
       "        text-align: right;\n",
       "    }\n",
       "</style>\n",
       "<table border=\"1\" class=\"dataframe\">\n",
       "  <thead>\n",
       "    <tr style=\"text-align: right;\">\n",
       "      <th></th>\n",
       "      <th>transactionid</th>\n",
       "      <th>visitorid</th>\n",
       "      <th>date</th>\n",
       "      <th>revenue</th>\n",
       "      <th>group</th>\n",
       "    </tr>\n",
       "  </thead>\n",
       "  <tbody>\n",
       "    <tr>\n",
       "      <th>0</th>\n",
       "      <td>3667963787</td>\n",
       "      <td>3312258926</td>\n",
       "      <td>2019-08-15</td>\n",
       "      <td>1650</td>\n",
       "      <td>B</td>\n",
       "    </tr>\n",
       "    <tr>\n",
       "      <th>1</th>\n",
       "      <td>2804400009</td>\n",
       "      <td>3642806036</td>\n",
       "      <td>2019-08-15</td>\n",
       "      <td>730</td>\n",
       "      <td>B</td>\n",
       "    </tr>\n",
       "    <tr>\n",
       "      <th>3</th>\n",
       "      <td>3797467345</td>\n",
       "      <td>1196621759</td>\n",
       "      <td>2019-08-15</td>\n",
       "      <td>9759</td>\n",
       "      <td>B</td>\n",
       "    </tr>\n",
       "    <tr>\n",
       "      <th>4</th>\n",
       "      <td>2282983706</td>\n",
       "      <td>2322279887</td>\n",
       "      <td>2019-08-15</td>\n",
       "      <td>2308</td>\n",
       "      <td>B</td>\n",
       "    </tr>\n",
       "    <tr>\n",
       "      <th>5</th>\n",
       "      <td>182168103</td>\n",
       "      <td>935554773</td>\n",
       "      <td>2019-08-15</td>\n",
       "      <td>2210</td>\n",
       "      <td>B</td>\n",
       "    </tr>\n",
       "  </tbody>\n",
       "</table>\n",
       "</div>"
      ],
      "text/plain": [
       "   transactionid   visitorid       date  revenue group\n",
       "0     3667963787  3312258926 2019-08-15     1650     B\n",
       "1     2804400009  3642806036 2019-08-15      730     B\n",
       "3     3797467345  1196621759 2019-08-15     9759     B\n",
       "4     2282983706  2322279887 2019-08-15     2308     B\n",
       "5      182168103   935554773 2019-08-15     2210     B"
      ]
     },
     "execution_count": 41,
     "metadata": {},
     "output_type": "execute_result"
    }
   ],
   "source": [
    "orders.head()"
   ]
  },
  {
   "cell_type": "code",
   "execution_count": 42,
   "metadata": {},
   "outputs": [],
   "source": [
    "# считаем количество заказов по пользователям\n",
    "ordersByUsers = (\n",
    "    orders.groupby('visitorid', as_index=False)\n",
    "    .agg({'transactionid' : 'nunique'})\n",
    ")"
   ]
  },
  {
   "cell_type": "code",
   "execution_count": 43,
   "metadata": {},
   "outputs": [],
   "source": [
    "# переименовываем колонки\n",
    "ordersByUsers.columns = ['userId', 'orders']"
   ]
  },
  {
   "cell_type": "code",
   "execution_count": 44,
   "metadata": {},
   "outputs": [
    {
     "data": {
      "image/png": "[encoded data removed]",
      "text/plain": [
       "<Figure size 640x480 with 1 Axes>"
      ]
     },
     "metadata": {},
     "output_type": "display_data"
    }
   ],
   "source": [
    "# строим гистограмму\n",
    "plt.hist(ordersByUsers['orders'])\n",
    "plt.title('Гисторграмма распределения количества заказов по пользователям')\n",
    "plt.xlabel('Число заказов')\n",
    "plt.ylabel('Количество пользователей')\n",
    "plt.show()"
   ]
  },
  {
   "cell_type": "code",
   "execution_count": 45,
   "metadata": {},
   "outputs": [
    {
     "data": {
      "image/png": "[encoded data removed]",
      "text/plain": [
       "<Figure size 640x480 with 1 Axes>"
      ]
     },
     "metadata": {},
     "output_type": "display_data"
    }
   ],
   "source": [
    "# строим диаграмму рассеяния\n",
    "x_values = pd.Series(range(0, len(ordersByUsers)))\n",
    "plt.scatter(x_values, ordersByUsers['orders'])\n",
    "plt.title('Диаграмма рассеяния заказов по пользователям')\n",
    "plt.ylabel('Число заказов')\n",
    "plt.xlabel('Количество пользователей')\n",
    "plt.show()"
   ]
  },
  {
   "cell_type": "markdown",
   "metadata": {},
   "source": [
    "**Выводы:**\n",
    "- Основная часть пользователей делает 1 заказ."
   ]
  },
  {
   "cell_type": "markdown",
   "metadata": {},
   "source": [
    "### 95 и 99 перцентили количества заказов на пользователя"
   ]
  },
  {
   "cell_type": "code",
   "execution_count": 46,
   "metadata": {},
   "outputs": [
    {
     "name": "stdout",
     "output_type": "stream",
     "text": [
      "[1. 2.]\n"
     ]
    }
   ],
   "source": [
    "print(np.percentile(ordersByUsers['orders'], [95, 99]))\n",
    "orders_cnt = np.percentile(ordersByUsers['orders'], [95]) # создам переменную для отсеивания слишком большого числа заказов"
   ]
  },
  {
   "cell_type": "markdown",
   "metadata": {},
   "source": [
    "**Выводы:**\n",
    "- Не более 5% пользователей оформляли более 1 заказа.\n",
    "- Не более 1% пользователей оформляли более 2 заказов.\n",
    "- Выберем 2 заказа за верхнюю границу числа заказов и отсеим аномальных пользователей по ней."
   ]
  },
  {
   "cell_type": "markdown",
   "metadata": {},
   "source": [
    "### Точечный график стоимостей заказов"
   ]
  },
  {
   "cell_type": "code",
   "execution_count": 47,
   "metadata": {},
   "outputs": [
    {
     "data": {
      "image/png": "[encoded data removed]",
      "text/plain": [
       "<Figure size 640x480 with 1 Axes>"
      ]
     },
     "metadata": {},
     "output_type": "display_data"
    }
   ],
   "source": [
    "# строим гистограмму распределения стоимости заказов\n",
    "plt.hist(orders['revenue'])\n",
    "plt.title('Гисторграмма распределения стоимости заказов')\n",
    "plt.xlabel('Стоимость заказов')\n",
    "plt.ylabel('Количество заказов')\n",
    "plt.show()"
   ]
  },
  {
   "cell_type": "code",
   "execution_count": 48,
   "metadata": {
    "scrolled": true
   },
   "outputs": [
    {
     "data": {
      "image/png": "[encoded data removed]",
      "text/plain": [
       "<Figure size 640x480 with 1 Axes>"
      ]
     },
     "metadata": {},
     "output_type": "display_data"
    }
   ],
   "source": [
    "# строим диаграмму рассеяния стоимости заказов\n",
    "x_values = pd.Series(range(0, len(orders['revenue'])))\n",
    "plt.scatter(x_values, orders['revenue'])\n",
    "plt.title('Распределение стоимости заказов')\n",
    "plt.ylabel('Стоимость заказов')\n",
    "plt.xlabel('Количество заказов')\n",
    "plt.show()"
   ]
  },
  {
   "cell_type": "code",
   "execution_count": 49,
   "metadata": {},
   "outputs": [
    {
     "data": {
      "image/png": "[encoded data removed]",
      "text/plain": [
       "<Figure size 640x480 with 1 Axes>"
      ]
     },
     "metadata": {},
     "output_type": "display_data"
    }
   ],
   "source": [
    "# строим диаграмму рассеяния стоимости заказов\n",
    "x_values = pd.Series(range(0, len(orders['revenue'])))\n",
    "plt.scatter(x_values, orders['revenue'])\n",
    "plt.title('Распределение стоимости заказов')\n",
    "plt.ylabel('Стоимость заказов')\n",
    "plt.xlabel('Количество заказов')\n",
    "plt.ylim(0, 40000)\n",
    "plt.show()"
   ]
  },
  {
   "cell_type": "markdown",
   "metadata": {},
   "source": [
    "**Выводы:**\n",
    "- Основная часть пользователей делает заказ на сумму от 0 до 0.2. При этом на графике четко видно два заказа, которые вызвали рост кумулятивной выручки и среднего чека."
   ]
  },
  {
   "cell_type": "markdown",
   "metadata": {},
   "source": [
    "### 95 и 99 перцентили  стоимости заказов"
   ]
  },
  {
   "cell_type": "code",
   "execution_count": 50,
   "metadata": {},
   "outputs": [
    {
     "name": "stdout",
     "output_type": "stream",
     "text": [
      "[26785. 53904.]\n"
     ]
    }
   ],
   "source": [
    "print(np.percentile(orders['revenue'], [95,99]))\n",
    "order_sum = np.percentile(orders['revenue'], [95]) # создам переменную с уровнем выручки для отсеивания слишком больших заказов"
   ]
  },
  {
   "cell_type": "markdown",
   "metadata": {},
   "source": [
    "**Выводы:**\n",
    "- Не более 5% пользователей оформляли заказ дороже 26785.\n",
    "- Не более 1% пользователей оформляли заказ дороже 53904.\n",
    "- Выберем сумму заказа 26785 в качестве верхней границы и отсемим пользователей по ней."
   ]
  },
  {
   "cell_type": "markdown",
   "metadata": {},
   "source": [
    "### Статистическая значимость различий в среднем количестве заказов на посетителя между группами по «сырым» данным"
   ]
  },
  {
   "cell_type": "markdown",
   "metadata": {},
   "source": [
    "Воспользуемся критерием Манна-Уитни.<br>\n",
    "H0: Конверсия в группе A равна конверсии в группе B.<br>\n",
    "H1: Конверсия в группе A не равна конверсии в группе B.<br>\n"
   ]
  },
  {
   "cell_type": "code",
   "execution_count": 51,
   "metadata": {},
   "outputs": [
    {
     "name": "stdout",
     "output_type": "stream",
     "text": [
      "<class 'pandas.core.frame.DataFrame'>\n",
      "Index: 1016 entries, 0 to 1196\n",
      "Data columns (total 5 columns):\n",
      " #   Column         Non-Null Count  Dtype         \n",
      "---  ------         --------------  -----         \n",
      " 0   transactionid  1016 non-null   int64         \n",
      " 1   visitorid      1016 non-null   int64         \n",
      " 2   date           1016 non-null   datetime64[ns]\n",
      " 3   revenue        1016 non-null   int64         \n",
      " 4   group          1016 non-null   object        \n",
      "dtypes: datetime64[ns](1), int64(3), object(1)\n",
      "memory usage: 47.6+ KB\n",
      "\n",
      "<class 'pandas.core.frame.DataFrame'>\n",
      "RangeIndex: 62 entries, 0 to 61\n",
      "Data columns (total 3 columns):\n",
      " #   Column    Non-Null Count  Dtype         \n",
      "---  ------    --------------  -----         \n",
      " 0   date      62 non-null     datetime64[ns]\n",
      " 1   group     62 non-null     object        \n",
      " 2   visitors  62 non-null     int64         \n",
      "dtypes: datetime64[ns](1), int64(1), object(1)\n",
      "memory usage: 1.6+ KB\n"
     ]
    }
   ],
   "source": [
    "orders.info()\n",
    "print()\n",
    "visitors.info()"
   ]
  },
  {
   "cell_type": "code",
   "execution_count": 52,
   "metadata": {},
   "outputs": [],
   "source": [
    "visitorsADaily = visitors[visitors['group'] == 'A'][['date', 'visitors']]\n",
    "visitorsADaily.columns = ['date', 'visitorsPerDateA']\n",
    "\n",
    "visitorsACummulative = visitorsADaily.apply(\n",
    "    lambda x: visitorsADaily[visitorsADaily['date'] <= x['date']].agg(\n",
    "        {'date': 'max', 'visitorsPerDateA': 'sum'}\n",
    "    ),\n",
    "    axis=1,\n",
    ")\n",
    "visitorsACummulative.columns = ['date', 'visitorsCummulativeA']\n",
    "\n",
    "visitorsBDaily = visitors[visitors['group'] == 'B'][['date', 'visitors']]\n",
    "visitorsBDaily.columns = ['date', 'visitorsPerDateB']\n",
    "\n",
    "visitorsBCummulative = visitorsBDaily.apply(\n",
    "    lambda x: visitorsBDaily[visitorsBDaily['date'] <= x['date']].agg(\n",
    "        {'date': 'max', 'visitorsPerDateB': 'sum'}\n",
    "    ),\n",
    "    axis=1,\n",
    ")\n",
    "visitorsBCummulative.columns = ['date', 'visitorsCummulativeB']"
   ]
  },
  {
   "cell_type": "code",
   "execution_count": 53,
   "metadata": {},
   "outputs": [],
   "source": [
    "ordersADaily = (\n",
    "    orders[orders['group'] == 'A'][['date', 'transactionid', 'visitorid', 'revenue']]\n",
    "    .groupby('date', as_index=False)\n",
    "    .agg({'transactionid': pd.Series.nunique, 'revenue': 'sum'})\n",
    ")\n",
    "ordersADaily.columns = ['date', 'ordersPerDateA', 'revenuePerDateA']\n",
    "\n",
    "ordersACummulative = ordersADaily.apply(\n",
    "    lambda x: ordersADaily[ordersADaily['date'] <= x['date']].agg(\n",
    "        {'date': 'max', 'ordersPerDateA': 'sum', 'revenuePerDateA': 'sum'}\n",
    "    ),\n",
    "    axis=1,\n",
    ").sort_values(by=['date'])\n",
    "ordersACummulative.columns = [\n",
    "    'date',\n",
    "    'ordersCummulativeA',\n",
    "    'revenueCummulativeA',\n",
    "]\n",
    "\n",
    "ordersBDaily = (\n",
    "    orders[orders['group'] == 'B'][['date', 'transactionid', 'visitorid', 'revenue']]\n",
    "    .groupby('date', as_index=False)\n",
    "    .agg({'transactionid': pd.Series.nunique, 'revenue': 'sum'})\n",
    ")\n",
    "ordersBDaily.columns = ['date', 'ordersPerDateB', 'revenuePerDateB']\n",
    "\n",
    "ordersBCummulative = ordersBDaily.apply(\n",
    "    lambda x: ordersBDaily[ordersBDaily['date'] <= x['date']].agg(\n",
    "        {'date': 'max', 'ordersPerDateB': 'sum', 'revenuePerDateB': 'sum'}\n",
    "    ),\n",
    "    axis=1,\n",
    ").sort_values(by=['date'])\n",
    "ordersBCummulative.columns = [\n",
    "    'date',\n",
    "    'ordersCummulativeB',\n",
    "    'revenueCummulativeB',\n",
    "]"
   ]
  },
  {
   "cell_type": "code",
   "execution_count": 54,
   "metadata": {},
   "outputs": [
    {
     "name": "stdout",
     "output_type": "stream",
     "text": [
      "        date  ordersPerDateA  revenuePerDateA  ordersPerDateB  \\\n",
      "0 2019-08-01              23           142779              17   \n",
      "1 2019-08-02              19            91602              23   \n",
      "2 2019-08-03              24           112473              14   \n",
      "3 2019-08-04              11            41176              14   \n",
      "4 2019-08-05              22            86383              21   \n",
      "\n",
      "   revenuePerDateB  ordersCummulativeA  revenueCummulativeA  \\\n",
      "0            59758                  23               142779   \n",
      "1           162043                  42               234381   \n",
      "2            67049                  66               346854   \n",
      "3            96890                  77               388030   \n",
      "4            89908                  99               474413   \n",
      "\n",
      "   ordersCummulativeB  revenueCummulativeB  visitorsPerDateA  \\\n",
      "0                  17                59758               719   \n",
      "1                  40               221801               619   \n",
      "2                  54               288850               507   \n",
      "3                  68               385740               717   \n",
      "4                  89               475648               756   \n",
      "\n",
      "   visitorsPerDateB  visitorsCummulativeA  visitorsCummulativeB  \n",
      "0               713                   719                   713  \n",
      "1               581                  1338                  1294  \n",
      "2               509                  1845                  1803  \n",
      "3               770                  2562                  2573  \n",
      "4               707                  3318                  3280  \n"
     ]
    }
   ],
   "source": [
    "data = (\n",
    "    ordersADaily.merge(\n",
    "        ordersBDaily, left_on='date', right_on='date', how='left'\n",
    "    )\n",
    "    .merge(ordersACummulative, left_on='date', right_on='date', how='left')\n",
    "    .merge(ordersBCummulative, left_on='date', right_on='date', how='left')\n",
    "    .merge(visitorsADaily, left_on='date', right_on='date', how='left')\n",
    "    .merge(visitorsBDaily, left_on='date', right_on='date', how='left')\n",
    "    .merge(visitorsACummulative, left_on='date', right_on='date', how='left')\n",
    "    .merge(visitorsBCummulative, left_on='date', right_on='date', how='left')\n",
    ")\n",
    "\n",
    "print(data.head(5))"
   ]
  },
  {
   "cell_type": "code",
   "execution_count": 55,
   "metadata": {},
   "outputs": [
    {
     "name": "stdout",
     "output_type": "stream",
     "text": [
      "p-value: 0.011\n",
      "Различие средней конверсии между группами: 0.160\n"
     ]
    }
   ],
   "source": [
    "ordersByUsersA = (\n",
    "    orders[orders['group'] == 'A']\n",
    "    .groupby('visitorid', as_index=False)\n",
    "    .agg({'transactionid': pd.Series.nunique})\n",
    ")\n",
    "\n",
    "ordersByUsersA.columns = ['visitorid', 'orders']\n",
    "\n",
    "ordersByUsersB = (\n",
    "    orders[orders['group'] == 'B']\n",
    "    .groupby('visitorid', as_index=False)\n",
    "    .agg({'transactionid': pd.Series.nunique})\n",
    ")\n",
    "\n",
    "ordersByUsersB.columns = ['visitorid', 'orders']\n",
    "\n",
    "sampleA = pd.concat(\n",
    "    [\n",
    "            ordersByUsersA['orders'],\n",
    "            pd.Series(\n",
    "                0,\n",
    "                index=np.arange(\n",
    "                    data['visitorsPerDateA'].sum() - len(ordersByUsersA['orders'])\n",
    "                ),\n",
    "                name='orders',\n",
    "            ),\n",
    "    ],\n",
    "    axis=0,\n",
    ")\n",
    "\n",
    "sampleB = pd.concat(\n",
    "    [\n",
    "            ordersByUsersB['orders'],\n",
    "            pd.Series(\n",
    "                0,\n",
    "                index=np.arange(\n",
    "                    data['visitorsPerDateB'].sum() - len(ordersByUsersB['orders'])\n",
    "                ),\n",
    "                name='orders',\n",
    "            ),\n",
    "    ],\n",
    "    axis=0,\n",
    ")\n",
    "\n",
    "print('p-value:', \"{0:.3f}\".format(stats.mannwhitneyu(sampleA, sampleB)[1]))\n",
    "print('Различие средней конверсии между группами:',\"{0:.3f}\".format(sampleB.mean() / sampleA.mean() - 1))"
   ]
  },
  {
   "cell_type": "markdown",
   "metadata": {},
   "source": [
    "**Вывод:**\n",
    "- По «сырым» данным статистически значимые различия в конверсиях групп А и B есть. P-value = 0.011, меньше 0.05. Значит отверагем нулевую гипотезу о том, что статистически значимых различий в конверсии между группами нет.\n",
    "- Относительный проигрыш группы B равен 16%."
   ]
  },
  {
   "cell_type": "markdown",
   "metadata": {},
   "source": [
    "### Cтатистическая значимость различий в среднем чеке заказа между группами по «сырым» данным"
   ]
  },
  {
   "cell_type": "markdown",
   "metadata": {},
   "source": [
    "Проверим статистическую значимость различий в среднем чеке между группами.<br>\n",
    "H0: различий в среднем чеке между группами нет.<br>\n",
    "H1: различия в среднем чеке между группами есть. "
   ]
  },
  {
   "cell_type": "code",
   "execution_count": 56,
   "metadata": {},
   "outputs": [
    {
     "name": "stdout",
     "output_type": "stream",
     "text": [
      "p-value: 0.829\n",
      "Относительное различие среднего чека между группами: 0.287\n"
     ]
    }
   ],
   "source": [
    "print('p-value:','{0:.3f}'.format(stats.mannwhitneyu(orders[orders['group']=='A']['revenue'],\n",
    "                                          orders[orders['group']=='B']['revenue'])[1]))\n",
    "print('Относительное различие среднего чека между группами:','{0:.3f}'.format(orders[orders['group']=='B']['revenue']\\\n",
    "               .mean()/orders[orders['group']=='A']['revenue']\\\n",
    "               .mean() -1))"
   ]
  },
  {
   "cell_type": "markdown",
   "metadata": {},
   "source": [
    "**Выводы:**\n",
    "- P-value значительно больше 0,05, значит статистически значимых отличий в среднем чеке между группами нет.\n",
    "- При этом относительное различие среднего чека составляет почти 28.7%."
   ]
  },
  {
   "cell_type": "markdown",
   "metadata": {},
   "source": [
    "### Статистическая значимость различий в среднем количестве заказов на посетителя между группами по «очищенным» данным"
   ]
  },
  {
   "cell_type": "markdown",
   "metadata": {},
   "source": [
    "Оставим только тех пользователей, которые делают 1 заказ, а такжее ограничим сумму заказа 26785."
   ]
  },
  {
   "cell_type": "code",
   "execution_count": 57,
   "metadata": {},
   "outputs": [
    {
     "name": "stdout",
     "output_type": "stream",
     "text": [
      "568     113298937\n",
      "1099    148427295\n",
      "928     204675465\n",
      "33      249864742\n",
      "684     358944393\n",
      "Name: visitorid, dtype: int64\n",
      "Аномальных пользователей: 86\n"
     ]
    }
   ],
   "source": [
    "usersWithManyOrders = pd.concat(\n",
    "    [\n",
    "        ordersByUsersA[ordersByUsersA['orders'] > orders_cnt[0]]['visitorid'],\n",
    "        ordersByUsersB[ordersByUsersB['orders'] > orders_cnt[0]]['visitorid'],\n",
    "    ],\n",
    "    axis=0,\n",
    ")\n",
    "usersWithExpensiveOrders = orders[orders['revenue'] > order_sum[0]]['visitorid']\n",
    "abnormalUsers = (\n",
    "    pd.concat([usersWithManyOrders, usersWithExpensiveOrders], axis=0)\n",
    "    .drop_duplicates()\n",
    "    .sort_values()\n",
    ")\n",
    "print(abnormalUsers.head(5))\n",
    "print('Аномальных пользователей:', abnormalUsers.shape[0])"
   ]
  },
  {
   "cell_type": "code",
   "execution_count": 58,
   "metadata": {},
   "outputs": [],
   "source": [
    "sampleAFiltered = pd.concat(\n",
    "    [\n",
    "        ordersByUsersA[\n",
    "            np.logical_not(ordersByUsersA['visitorid'].isin(abnormalUsers))\n",
    "        ]['orders'],\n",
    "        pd.Series(\n",
    "            0,\n",
    "            index=np.arange(\n",
    "                data['visitorsPerDateA'].sum() - len(ordersByUsersA['orders'])\n",
    "            ),\n",
    "            name='orders',\n",
    "        ),\n",
    "    ],\n",
    "    axis=0,\n",
    ")\n",
    "\n",
    "sampleBFiltered = pd.concat(\n",
    "    [\n",
    "        ordersByUsersB[\n",
    "            np.logical_not(ordersByUsersB['visitorid'].isin(abnormalUsers))\n",
    "        ]['orders'],\n",
    "        pd.Series(\n",
    "            0,\n",
    "            index=np.arange(\n",
    "                data['visitorsPerDateB'].sum() - len(ordersByUsersB['orders'])\n",
    "            ),\n",
    "            name='orders',\n",
    "        ),\n",
    "    ],\n",
    "    axis=0,\n",
    ")"
   ]
  },
  {
   "cell_type": "code",
   "execution_count": 59,
   "metadata": {},
   "outputs": [
    {
     "name": "stdout",
     "output_type": "stream",
     "text": [
      "p-value: 0.016\n",
      "Относительная разница в конверсии между группами 0.174\n"
     ]
    }
   ],
   "source": [
    "print('p-value:','{0:.3f}'.format(stats.mannwhitneyu(sampleAFiltered, sampleBFiltered)[1]))\n",
    "print('Относительная разница в конверсии между группами','{0:.3f}'.format(sampleBFiltered.mean()/sampleAFiltered.mean()-1))"
   ]
  },
  {
   "cell_type": "markdown",
   "metadata": {},
   "source": [
    "**Выводы:**\n",
    "- P-value меньше 0,05, отвергаем нулевую гипотезу. Группа B значительно лучше группы A.\n",
    "- При этом относительное различие конверсии составляет 17.4%."
   ]
  },
  {
   "cell_type": "markdown",
   "metadata": {},
   "source": [
    "### Статистическая значимость различий в среднем чеке заказа между группами по «очищенным» данным"
   ]
  },
  {
   "cell_type": "markdown",
   "metadata": {},
   "source": [
    "Проверим статистическую значимость различий в среднем чеке между группами по очищенным данным.<br>\n",
    "H0: различий в среднем чеке между группами нет.<br>\n",
    "H1: различия в среднем чеке между группами есть. "
   ]
  },
  {
   "cell_type": "code",
   "execution_count": 60,
   "metadata": {},
   "outputs": [
    {
     "name": "stdout",
     "output_type": "stream",
     "text": [
      "p-value 0.727\n",
      "Относительная разница размера чека между группами -0.034\n"
     ]
    }
   ],
   "source": [
    "print('p-value',\n",
    "    '{0:.3f}'.format(\n",
    "        stats.mannwhitneyu(\n",
    "            orders[\n",
    "                np.logical_and(\n",
    "                    orders['group'] == 'A',\n",
    "                    np.logical_not(orders['visitorid'].isin(abnormalUsers)),\n",
    "                )\n",
    "            ]['revenue'],\n",
    "            orders[\n",
    "                np.logical_and(\n",
    "                    orders['group'] == 'B',\n",
    "                    np.logical_not(orders['visitorid'].isin(abnormalUsers)),\n",
    "                )\n",
    "            ]['revenue'],\n",
    "        )[1]\n",
    "    )\n",
    ")\n",
    "\n",
    "print('Относительная разница размера чека между группами',\n",
    "    \"{0:.3f}\".format(\n",
    "        orders[\n",
    "            np.logical_and(\n",
    "                orders['group'] == 'B',\n",
    "                np.logical_not(orders['visitorid'].isin(abnormalUsers)),\n",
    "            )\n",
    "        ]['revenue'].mean()\n",
    "        / orders[\n",
    "            np.logical_and(\n",
    "                orders['group'] == 'A',\n",
    "                np.logical_not(orders['visitorid'].isin(abnormalUsers)),\n",
    "            )\n",
    "        ]['revenue'].mean()\n",
    "        - 1\n",
    "    )\n",
    ")"
   ]
  },
  {
   "cell_type": "markdown",
   "metadata": {},
   "source": [
    "**Выводы:**\n",
    "- P-value значительно больше 0,05, значит статистически значимых отличий в среднем чеке между группами нет.\n",
    "- При этом относительное различие среднего чека составляет -3.4%."
   ]
  },
  {
   "cell_type": "markdown",
   "metadata": {},
   "source": [
    "[Оглавление](#section_id5)"
   ]
  },
  {
   "cell_type": "markdown",
   "metadata": {},
   "source": [
    "## Решение по результатам теста\n",
    "<a id='section_id4'></a>"
   ]
  },
  {
   "cell_type": "markdown",
   "metadata": {},
   "source": [
    "**Выводы:**\n",
    "- Есть статистически значимое различие по конверсии между группами как по сырым данным, так и после фильтрации аномалий.\n",
    "- По сырым данным и очищенным данным нет статистически значимого различия по среднему чеку между группами."
   ]
  },
  {
   "cell_type": "markdown",
   "metadata": {},
   "source": [
    "Предлагается остановить тест и зафиксировать победу группы В."
   ]
  },
  {
   "cell_type": "markdown",
   "metadata": {},
   "source": [
    "[Оглавление](#section_id5)"
   ]
  }
 ],
 "metadata": {
  "ExecuteTimeLog": [
   {
    "duration": 424,
    "start_time": "2023-02-18T09:31:53.147Z"
   },
   {
    "duration": 82,
    "start_time": "2023-02-18T09:32:28.782Z"
   },
   {
    "duration": 12,
    "start_time": "2023-02-18T09:32:40.028Z"
   },
   {
    "duration": 9,
    "start_time": "2023-02-18T09:32:46.428Z"
   },
   {
    "duration": 7,
    "start_time": "2023-02-18T09:32:51.573Z"
   },
   {
    "duration": 4,
    "start_time": "2023-02-18T09:34:30.091Z"
   },
   {
    "duration": 8,
    "start_time": "2023-02-18T09:34:50.830Z"
   },
   {
    "duration": 3,
    "start_time": "2023-02-18T09:35:00.994Z"
   },
   {
    "duration": 58,
    "start_time": "2023-02-18T09:35:02.531Z"
   },
   {
    "duration": 6,
    "start_time": "2023-02-18T09:35:12.183Z"
   },
   {
    "duration": 7,
    "start_time": "2023-02-18T09:36:58.950Z"
   },
   {
    "duration": 3,
    "start_time": "2023-02-18T09:37:03.690Z"
   },
   {
    "duration": 27,
    "start_time": "2023-02-18T09:37:04.095Z"
   },
   {
    "duration": 7,
    "start_time": "2023-02-18T09:37:05.430Z"
   },
   {
    "duration": 3,
    "start_time": "2023-02-18T09:37:05.980Z"
   },
   {
    "duration": 10,
    "start_time": "2023-02-18T09:37:07.324Z"
   },
   {
    "duration": 408,
    "start_time": "2023-02-18T09:37:16.428Z"
   },
   {
    "duration": 27,
    "start_time": "2023-02-18T09:37:16.839Z"
   },
   {
    "duration": 13,
    "start_time": "2023-02-18T09:37:16.867Z"
   },
   {
    "duration": 3,
    "start_time": "2023-02-18T09:37:16.881Z"
   },
   {
    "duration": 11,
    "start_time": "2023-02-18T09:37:16.886Z"
   },
   {
    "duration": 896,
    "start_time": "2023-02-18T09:37:16.899Z"
   },
   {
    "duration": 6,
    "start_time": "2023-02-18T09:38:11.237Z"
   },
   {
    "duration": 7,
    "start_time": "2023-02-18T09:38:19.971Z"
   },
   {
    "duration": 13,
    "start_time": "2023-02-18T09:38:22.036Z"
   },
   {
    "duration": 2,
    "start_time": "2023-02-18T09:38:52.074Z"
   },
   {
    "duration": 343,
    "start_time": "2023-02-18T09:38:57.985Z"
   },
   {
    "duration": 3,
    "start_time": "2023-02-18T09:38:58.329Z"
   },
   {
    "duration": 31,
    "start_time": "2023-02-18T09:38:58.333Z"
   },
   {
    "duration": 12,
    "start_time": "2023-02-18T09:38:58.365Z"
   },
   {
    "duration": 7,
    "start_time": "2023-02-18T09:38:58.379Z"
   },
   {
    "duration": 14,
    "start_time": "2023-02-18T09:38:58.387Z"
   },
   {
    "duration": 6,
    "start_time": "2023-02-18T09:38:58.403Z"
   },
   {
    "duration": 10,
    "start_time": "2023-02-18T09:38:58.410Z"
   },
   {
    "duration": 14,
    "start_time": "2023-02-18T09:39:48.148Z"
   },
   {
    "duration": 9,
    "start_time": "2023-02-18T09:39:52.796Z"
   },
   {
    "duration": 7,
    "start_time": "2023-02-18T09:43:26.954Z"
   },
   {
    "duration": 11,
    "start_time": "2023-02-18T09:44:14.539Z"
   },
   {
    "duration": 58,
    "start_time": "2023-02-18T09:44:27.329Z"
   },
   {
    "duration": 182,
    "start_time": "2023-02-18T09:44:32.195Z"
   },
   {
    "duration": 12,
    "start_time": "2023-02-18T09:44:35.063Z"
   },
   {
    "duration": 12,
    "start_time": "2023-02-18T09:44:48.670Z"
   },
   {
    "duration": 10,
    "start_time": "2023-02-18T09:45:03.366Z"
   },
   {
    "duration": 11,
    "start_time": "2023-02-18T09:45:11.629Z"
   },
   {
    "duration": 10,
    "start_time": "2023-02-18T09:45:20.459Z"
   },
   {
    "duration": 2,
    "start_time": "2023-02-18T09:50:27.619Z"
   },
   {
    "duration": 11,
    "start_time": "2023-02-18T09:50:36.304Z"
   },
   {
    "duration": 10,
    "start_time": "2023-02-18T09:50:49.076Z"
   },
   {
    "duration": 14,
    "start_time": "2023-02-18T09:51:51.942Z"
   },
   {
    "duration": 11,
    "start_time": "2023-02-18T09:52:13.223Z"
   },
   {
    "duration": 13,
    "start_time": "2023-02-18T09:52:38.478Z"
   },
   {
    "duration": 9,
    "start_time": "2023-02-18T09:52:54.291Z"
   },
   {
    "duration": 6,
    "start_time": "2023-02-18T09:53:54.239Z"
   },
   {
    "duration": 4,
    "start_time": "2023-02-18T09:54:06.374Z"
   },
   {
    "duration": 4,
    "start_time": "2023-02-18T09:54:22.383Z"
   },
   {
    "duration": 4,
    "start_time": "2023-02-18T09:54:30.666Z"
   },
   {
    "duration": 5,
    "start_time": "2023-02-18T09:54:41.001Z"
   },
   {
    "duration": 370,
    "start_time": "2023-02-18T09:56:15.306Z"
   },
   {
    "duration": 3,
    "start_time": "2023-02-18T09:56:15.678Z"
   },
   {
    "duration": 43,
    "start_time": "2023-02-18T09:56:15.682Z"
   },
   {
    "duration": 0,
    "start_time": "2023-02-18T09:56:15.727Z"
   },
   {
    "duration": 0,
    "start_time": "2023-02-18T09:56:15.728Z"
   },
   {
    "duration": 0,
    "start_time": "2023-02-18T09:56:15.729Z"
   },
   {
    "duration": 0,
    "start_time": "2023-02-18T09:56:15.730Z"
   },
   {
    "duration": 0,
    "start_time": "2023-02-18T09:56:15.731Z"
   },
   {
    "duration": 0,
    "start_time": "2023-02-18T09:56:15.733Z"
   },
   {
    "duration": 0,
    "start_time": "2023-02-18T09:56:15.734Z"
   },
   {
    "duration": 0,
    "start_time": "2023-02-18T09:56:15.735Z"
   },
   {
    "duration": 0,
    "start_time": "2023-02-18T09:56:15.736Z"
   },
   {
    "duration": 0,
    "start_time": "2023-02-18T09:56:15.737Z"
   },
   {
    "duration": 0,
    "start_time": "2023-02-18T09:56:15.738Z"
   },
   {
    "duration": 0,
    "start_time": "2023-02-18T09:56:15.739Z"
   },
   {
    "duration": 0,
    "start_time": "2023-02-18T09:56:15.740Z"
   },
   {
    "duration": 0,
    "start_time": "2023-02-18T09:56:15.742Z"
   },
   {
    "duration": 0,
    "start_time": "2023-02-18T09:56:15.743Z"
   },
   {
    "duration": 76,
    "start_time": "2023-02-18T09:56:39.662Z"
   },
   {
    "duration": 343,
    "start_time": "2023-02-18T09:56:47.395Z"
   },
   {
    "duration": 8,
    "start_time": "2023-02-18T09:56:47.740Z"
   },
   {
    "duration": 79,
    "start_time": "2023-02-18T09:56:47.750Z"
   },
   {
    "duration": 13,
    "start_time": "2023-02-18T09:56:47.831Z"
   },
   {
    "duration": 14,
    "start_time": "2023-02-18T09:56:47.846Z"
   },
   {
    "duration": 9,
    "start_time": "2023-02-18T09:56:47.862Z"
   },
   {
    "duration": 12,
    "start_time": "2023-02-18T09:56:47.873Z"
   },
   {
    "duration": 8,
    "start_time": "2023-02-18T09:56:47.887Z"
   },
   {
    "duration": 12,
    "start_time": "2023-02-18T09:56:47.897Z"
   },
   {
    "duration": 41,
    "start_time": "2023-02-18T09:56:47.910Z"
   },
   {
    "duration": 6,
    "start_time": "2023-02-18T09:56:47.953Z"
   },
   {
    "duration": 13,
    "start_time": "2023-02-18T09:56:47.961Z"
   },
   {
    "duration": 5,
    "start_time": "2023-02-18T09:56:47.976Z"
   },
   {
    "duration": 10,
    "start_time": "2023-02-18T09:56:47.983Z"
   },
   {
    "duration": 6,
    "start_time": "2023-02-18T09:56:47.995Z"
   },
   {
    "duration": 46,
    "start_time": "2023-02-18T09:56:48.002Z"
   },
   {
    "duration": 11,
    "start_time": "2023-02-18T09:56:48.050Z"
   },
   {
    "duration": 11,
    "start_time": "2023-02-18T09:56:48.063Z"
   },
   {
    "duration": 4,
    "start_time": "2023-02-18T10:00:46.118Z"
   },
   {
    "duration": 9,
    "start_time": "2023-02-18T10:00:52.298Z"
   },
   {
    "duration": 9,
    "start_time": "2023-02-18T10:01:22.031Z"
   },
   {
    "duration": 9,
    "start_time": "2023-02-18T10:01:35.721Z"
   },
   {
    "duration": 10,
    "start_time": "2023-02-18T10:03:26.218Z"
   },
   {
    "duration": 6,
    "start_time": "2023-02-18T10:03:31.342Z"
   },
   {
    "duration": 9,
    "start_time": "2023-02-18T10:03:40.089Z"
   },
   {
    "duration": 11,
    "start_time": "2023-02-18T10:04:13.899Z"
   },
   {
    "duration": 6,
    "start_time": "2023-02-18T10:04:22.626Z"
   },
   {
    "duration": 8,
    "start_time": "2023-02-18T10:04:27.796Z"
   },
   {
    "duration": 8,
    "start_time": "2023-02-18T10:04:33.807Z"
   },
   {
    "duration": 9,
    "start_time": "2023-02-18T10:04:41.610Z"
   },
   {
    "duration": 10,
    "start_time": "2023-02-18T10:08:33.924Z"
   },
   {
    "duration": 12,
    "start_time": "2023-02-18T10:09:47.781Z"
   },
   {
    "duration": 386,
    "start_time": "2023-02-18T10:10:23.045Z"
   },
   {
    "duration": 3,
    "start_time": "2023-02-18T10:10:23.433Z"
   },
   {
    "duration": 82,
    "start_time": "2023-02-18T10:10:23.437Z"
   },
   {
    "duration": 14,
    "start_time": "2023-02-18T10:10:23.521Z"
   },
   {
    "duration": 10,
    "start_time": "2023-02-18T10:10:23.538Z"
   },
   {
    "duration": 7,
    "start_time": "2023-02-18T10:10:23.550Z"
   },
   {
    "duration": 11,
    "start_time": "2023-02-18T10:10:23.559Z"
   },
   {
    "duration": 7,
    "start_time": "2023-02-18T10:10:23.572Z"
   },
   {
    "duration": 13,
    "start_time": "2023-02-18T10:10:23.581Z"
   },
   {
    "duration": 9,
    "start_time": "2023-02-18T10:10:23.596Z"
   },
   {
    "duration": 42,
    "start_time": "2023-02-18T10:10:23.607Z"
   },
   {
    "duration": 12,
    "start_time": "2023-02-18T10:10:23.650Z"
   },
   {
    "duration": 7,
    "start_time": "2023-02-18T10:10:23.664Z"
   },
   {
    "duration": 9,
    "start_time": "2023-02-18T10:10:23.673Z"
   },
   {
    "duration": 7,
    "start_time": "2023-02-18T10:10:23.683Z"
   },
   {
    "duration": 9,
    "start_time": "2023-02-18T10:10:23.691Z"
   },
   {
    "duration": 9,
    "start_time": "2023-02-18T10:10:23.701Z"
   },
   {
    "duration": 44,
    "start_time": "2023-02-18T10:10:23.711Z"
   },
   {
    "duration": 10,
    "start_time": "2023-02-18T10:10:23.756Z"
   },
   {
    "duration": 5,
    "start_time": "2023-02-18T10:11:46.127Z"
   },
   {
    "duration": 5,
    "start_time": "2023-02-18T10:11:58.135Z"
   },
   {
    "duration": 60,
    "start_time": "2023-02-18T10:12:53.827Z"
   },
   {
    "duration": 5,
    "start_time": "2023-02-18T10:13:00.011Z"
   },
   {
    "duration": 16,
    "start_time": "2023-02-18T10:13:02.079Z"
   },
   {
    "duration": 2,
    "start_time": "2023-02-18T10:13:22.873Z"
   },
   {
    "duration": 2,
    "start_time": "2023-02-18T10:13:26.979Z"
   },
   {
    "duration": 22,
    "start_time": "2023-02-18T10:13:34.222Z"
   },
   {
    "duration": 146,
    "start_time": "2023-02-18T10:14:12.161Z"
   },
   {
    "duration": 13,
    "start_time": "2023-02-18T10:14:56.865Z"
   },
   {
    "duration": 81,
    "start_time": "2023-02-18T10:15:21.924Z"
   },
   {
    "duration": 8,
    "start_time": "2023-02-18T10:15:30.764Z"
   },
   {
    "duration": 11,
    "start_time": "2023-02-18T10:15:36.189Z"
   },
   {
    "duration": 10,
    "start_time": "2023-02-18T10:15:51.698Z"
   },
   {
    "duration": 4,
    "start_time": "2023-02-18T10:15:54.346Z"
   },
   {
    "duration": 112,
    "start_time": "2023-02-18T10:16:13.830Z"
   },
   {
    "duration": 7,
    "start_time": "2023-02-18T10:16:35.084Z"
   },
   {
    "duration": 5,
    "start_time": "2023-02-18T10:16:41.387Z"
   },
   {
    "duration": 403,
    "start_time": "2023-02-18T10:18:01.882Z"
   },
   {
    "duration": 11,
    "start_time": "2023-02-18T10:18:13.013Z"
   },
   {
    "duration": 3,
    "start_time": "2023-02-18T10:18:15.527Z"
   },
   {
    "duration": 6,
    "start_time": "2023-02-18T10:18:57.184Z"
   },
   {
    "duration": 5,
    "start_time": "2023-02-18T10:19:07.131Z"
   },
   {
    "duration": 237,
    "start_time": "2023-02-18T10:19:16.498Z"
   },
   {
    "duration": 156,
    "start_time": "2023-02-18T10:19:22.786Z"
   },
   {
    "duration": 144,
    "start_time": "2023-02-18T10:19:46.112Z"
   },
   {
    "duration": 195,
    "start_time": "2023-02-18T10:19:57.117Z"
   },
   {
    "duration": 158,
    "start_time": "2023-02-18T10:20:27.541Z"
   },
   {
    "duration": 42,
    "start_time": "2023-02-18T10:20:46.304Z"
   },
   {
    "duration": 165,
    "start_time": "2023-02-18T10:20:55.092Z"
   },
   {
    "duration": 175,
    "start_time": "2023-02-18T10:21:00.687Z"
   },
   {
    "duration": 155,
    "start_time": "2023-02-18T10:21:06.396Z"
   },
   {
    "duration": 70,
    "start_time": "2023-02-18T10:21:18.012Z"
   },
   {
    "duration": 166,
    "start_time": "2023-02-18T10:21:24.133Z"
   },
   {
    "duration": 46,
    "start_time": "2023-02-18T10:21:32.887Z"
   },
   {
    "duration": 59,
    "start_time": "2023-02-18T10:21:39.117Z"
   },
   {
    "duration": 151,
    "start_time": "2023-02-18T10:21:45.612Z"
   },
   {
    "duration": 149,
    "start_time": "2023-02-18T10:21:53.697Z"
   },
   {
    "duration": 153,
    "start_time": "2023-02-18T10:22:19.626Z"
   },
   {
    "duration": 152,
    "start_time": "2023-02-18T10:22:23.709Z"
   },
   {
    "duration": 155,
    "start_time": "2023-02-18T10:22:30.944Z"
   },
   {
    "duration": 6,
    "start_time": "2023-02-18T10:23:23.930Z"
   },
   {
    "duration": 6,
    "start_time": "2023-02-18T10:23:25.710Z"
   },
   {
    "duration": 373,
    "start_time": "2023-02-18T10:23:44.908Z"
   },
   {
    "duration": 221,
    "start_time": "2023-02-18T10:23:51.194Z"
   },
   {
    "duration": 6,
    "start_time": "2023-02-18T10:26:44.044Z"
   },
   {
    "duration": 5,
    "start_time": "2023-02-18T10:26:45.751Z"
   },
   {
    "duration": 164,
    "start_time": "2023-02-18T10:26:58.236Z"
   },
   {
    "duration": 191,
    "start_time": "2023-02-18T10:27:04.382Z"
   },
   {
    "duration": 318,
    "start_time": "2023-02-18T10:27:21.883Z"
   },
   {
    "duration": 186,
    "start_time": "2023-02-18T10:27:33.140Z"
   },
   {
    "duration": 8,
    "start_time": "2023-02-18T10:28:06.338Z"
   },
   {
    "duration": 7,
    "start_time": "2023-02-18T10:28:08.280Z"
   },
   {
    "duration": 249,
    "start_time": "2023-02-18T10:28:20.921Z"
   },
   {
    "duration": 20,
    "start_time": "2023-02-18T10:36:33.757Z"
   },
   {
    "duration": 13,
    "start_time": "2023-02-18T10:36:55.208Z"
   },
   {
    "duration": 610,
    "start_time": "2023-02-18T10:37:19.403Z"
   },
   {
    "duration": 3,
    "start_time": "2023-02-18T10:37:20.015Z"
   },
   {
    "duration": 88,
    "start_time": "2023-02-18T10:37:20.020Z"
   },
   {
    "duration": 11,
    "start_time": "2023-02-18T10:37:20.110Z"
   },
   {
    "duration": 14,
    "start_time": "2023-02-18T10:37:20.123Z"
   },
   {
    "duration": 12,
    "start_time": "2023-02-18T10:37:20.138Z"
   },
   {
    "duration": 20,
    "start_time": "2023-02-18T10:37:20.152Z"
   },
   {
    "duration": 17,
    "start_time": "2023-02-18T10:37:20.174Z"
   },
   {
    "duration": 13,
    "start_time": "2023-02-18T10:37:20.192Z"
   },
   {
    "duration": 10,
    "start_time": "2023-02-18T10:37:20.207Z"
   },
   {
    "duration": 30,
    "start_time": "2023-02-18T10:37:20.219Z"
   },
   {
    "duration": 13,
    "start_time": "2023-02-18T10:37:20.250Z"
   },
   {
    "duration": 7,
    "start_time": "2023-02-18T10:37:20.265Z"
   },
   {
    "duration": 98,
    "start_time": "2023-02-18T10:37:20.274Z"
   },
   {
    "duration": 0,
    "start_time": "2023-02-18T10:37:20.374Z"
   },
   {
    "duration": 0,
    "start_time": "2023-02-18T10:37:20.375Z"
   },
   {
    "duration": 0,
    "start_time": "2023-02-18T10:37:20.376Z"
   },
   {
    "duration": 0,
    "start_time": "2023-02-18T10:37:20.378Z"
   },
   {
    "duration": 0,
    "start_time": "2023-02-18T10:37:20.379Z"
   },
   {
    "duration": 0,
    "start_time": "2023-02-18T10:37:20.380Z"
   },
   {
    "duration": 0,
    "start_time": "2023-02-18T10:37:20.381Z"
   },
   {
    "duration": 0,
    "start_time": "2023-02-18T10:37:20.383Z"
   },
   {
    "duration": 0,
    "start_time": "2023-02-18T10:37:20.384Z"
   },
   {
    "duration": 0,
    "start_time": "2023-02-18T10:37:20.385Z"
   },
   {
    "duration": 0,
    "start_time": "2023-02-18T10:37:20.386Z"
   },
   {
    "duration": 0,
    "start_time": "2023-02-18T10:37:20.387Z"
   },
   {
    "duration": 0,
    "start_time": "2023-02-18T10:37:20.388Z"
   },
   {
    "duration": 0,
    "start_time": "2023-02-18T10:37:20.393Z"
   },
   {
    "duration": 0,
    "start_time": "2023-02-18T10:37:20.394Z"
   },
   {
    "duration": 0,
    "start_time": "2023-02-18T10:37:20.396Z"
   },
   {
    "duration": 0,
    "start_time": "2023-02-18T10:37:20.397Z"
   },
   {
    "duration": 0,
    "start_time": "2023-02-18T10:37:20.399Z"
   },
   {
    "duration": 0,
    "start_time": "2023-02-18T10:37:20.400Z"
   },
   {
    "duration": 0,
    "start_time": "2023-02-18T10:37:20.401Z"
   },
   {
    "duration": 0,
    "start_time": "2023-02-18T10:37:20.402Z"
   },
   {
    "duration": 11,
    "start_time": "2023-02-18T10:37:41.145Z"
   },
   {
    "duration": 4,
    "start_time": "2023-02-18T10:37:45.677Z"
   },
   {
    "duration": 721,
    "start_time": "2023-02-18T10:37:51.047Z"
   },
   {
    "duration": 2,
    "start_time": "2023-02-18T10:37:51.770Z"
   },
   {
    "duration": 99,
    "start_time": "2023-02-18T10:37:51.774Z"
   },
   {
    "duration": 13,
    "start_time": "2023-02-18T10:37:51.876Z"
   },
   {
    "duration": 17,
    "start_time": "2023-02-18T10:37:51.891Z"
   },
   {
    "duration": 21,
    "start_time": "2023-02-18T10:37:51.910Z"
   },
   {
    "duration": 15,
    "start_time": "2023-02-18T10:37:51.932Z"
   },
   {
    "duration": 8,
    "start_time": "2023-02-18T10:37:51.949Z"
   },
   {
    "duration": 12,
    "start_time": "2023-02-18T10:37:51.959Z"
   },
   {
    "duration": 10,
    "start_time": "2023-02-18T10:37:51.973Z"
   },
   {
    "duration": 6,
    "start_time": "2023-02-18T10:37:51.984Z"
   },
   {
    "duration": 15,
    "start_time": "2023-02-18T10:37:51.992Z"
   },
   {
    "duration": 5,
    "start_time": "2023-02-18T10:37:52.008Z"
   },
   {
    "duration": 10,
    "start_time": "2023-02-18T10:37:52.048Z"
   },
   {
    "duration": 16,
    "start_time": "2023-02-18T10:37:52.060Z"
   },
   {
    "duration": 10,
    "start_time": "2023-02-18T10:37:52.078Z"
   },
   {
    "duration": 21,
    "start_time": "2023-02-18T10:37:52.089Z"
   },
   {
    "duration": 18,
    "start_time": "2023-02-18T10:37:52.111Z"
   },
   {
    "duration": 21,
    "start_time": "2023-02-18T10:37:52.131Z"
   },
   {
    "duration": 8,
    "start_time": "2023-02-18T10:37:52.153Z"
   },
   {
    "duration": 158,
    "start_time": "2023-02-18T10:37:52.163Z"
   },
   {
    "duration": 112,
    "start_time": "2023-02-18T10:37:52.323Z"
   },
   {
    "duration": 16,
    "start_time": "2023-02-18T10:37:52.436Z"
   },
   {
    "duration": 9,
    "start_time": "2023-02-18T10:37:52.454Z"
   },
   {
    "duration": 6,
    "start_time": "2023-02-18T10:37:52.465Z"
   },
   {
    "duration": 7,
    "start_time": "2023-02-18T10:37:52.473Z"
   },
   {
    "duration": 247,
    "start_time": "2023-02-18T10:37:52.482Z"
   },
   {
    "duration": 171,
    "start_time": "2023-02-18T10:37:52.733Z"
   },
   {
    "duration": 6,
    "start_time": "2023-02-18T10:37:52.906Z"
   },
   {
    "duration": 283,
    "start_time": "2023-02-18T10:37:52.913Z"
   },
   {
    "duration": 5,
    "start_time": "2023-02-18T10:37:53.198Z"
   },
   {
    "duration": 243,
    "start_time": "2023-02-18T10:37:53.204Z"
   },
   {
    "duration": 7,
    "start_time": "2023-02-18T10:37:53.449Z"
   },
   {
    "duration": 261,
    "start_time": "2023-02-18T10:37:53.458Z"
   },
   {
    "duration": 6,
    "start_time": "2023-02-18T10:37:53.721Z"
   },
   {
    "duration": 229,
    "start_time": "2023-02-18T10:38:57.816Z"
   },
   {
    "duration": 5,
    "start_time": "2023-02-18T10:39:36.038Z"
   },
   {
    "duration": 11,
    "start_time": "2023-02-18T10:40:14.184Z"
   },
   {
    "duration": 6,
    "start_time": "2023-02-18T10:40:23.620Z"
   },
   {
    "duration": 6,
    "start_time": "2023-02-18T10:40:25.339Z"
   },
   {
    "duration": 7,
    "start_time": "2023-02-18T10:40:42.258Z"
   },
   {
    "duration": 7,
    "start_time": "2023-02-18T10:40:54.007Z"
   },
   {
    "duration": 8,
    "start_time": "2023-02-18T10:40:55.256Z"
   },
   {
    "duration": 3,
    "start_time": "2023-02-18T10:40:56.233Z"
   },
   {
    "duration": 105,
    "start_time": "2023-02-18T10:40:56.832Z"
   },
   {
    "duration": 7,
    "start_time": "2023-02-18T10:41:08.339Z"
   },
   {
    "duration": 119,
    "start_time": "2023-02-18T10:41:21.810Z"
   },
   {
    "duration": 113,
    "start_time": "2023-02-18T10:41:24.066Z"
   },
   {
    "duration": 95,
    "start_time": "2023-02-18T10:41:29.263Z"
   },
   {
    "duration": 94,
    "start_time": "2023-02-18T10:41:35.792Z"
   },
   {
    "duration": 4,
    "start_time": "2023-02-18T10:42:07.493Z"
   },
   {
    "duration": 6,
    "start_time": "2023-02-18T10:42:12.239Z"
   },
   {
    "duration": 4,
    "start_time": "2023-02-18T10:42:19.136Z"
   },
   {
    "duration": 4,
    "start_time": "2023-02-18T10:42:28.449Z"
   },
   {
    "duration": 118,
    "start_time": "2023-02-18T10:43:27.236Z"
   },
   {
    "duration": 7,
    "start_time": "2023-02-18T10:43:36.262Z"
   },
   {
    "duration": 114,
    "start_time": "2023-02-18T10:44:17.126Z"
   },
   {
    "duration": 120,
    "start_time": "2023-02-18T10:44:22.946Z"
   },
   {
    "duration": 8,
    "start_time": "2023-02-18T10:44:51.260Z"
   },
   {
    "duration": 9,
    "start_time": "2023-02-18T10:44:56.931Z"
   },
   {
    "duration": 7,
    "start_time": "2023-02-18T10:45:04.730Z"
   },
   {
    "duration": 4,
    "start_time": "2023-02-18T10:45:10.602Z"
   },
   {
    "duration": 57,
    "start_time": "2023-02-19T13:56:01.764Z"
   },
   {
    "duration": 825,
    "start_time": "2023-02-19T13:56:10.489Z"
   },
   {
    "duration": 4,
    "start_time": "2023-02-19T13:56:11.316Z"
   },
   {
    "duration": 329,
    "start_time": "2023-02-19T13:56:11.321Z"
   },
   {
    "duration": 15,
    "start_time": "2023-02-19T13:56:11.652Z"
   },
   {
    "duration": 20,
    "start_time": "2023-02-19T13:56:11.669Z"
   },
   {
    "duration": 12,
    "start_time": "2023-02-19T13:56:11.691Z"
   },
   {
    "duration": 16,
    "start_time": "2023-02-19T13:56:11.704Z"
   },
   {
    "duration": 36,
    "start_time": "2023-02-19T13:56:11.722Z"
   },
   {
    "duration": 20,
    "start_time": "2023-02-19T13:56:11.760Z"
   },
   {
    "duration": 13,
    "start_time": "2023-02-19T13:56:11.783Z"
   },
   {
    "duration": 10,
    "start_time": "2023-02-19T13:56:11.798Z"
   },
   {
    "duration": 19,
    "start_time": "2023-02-19T13:56:11.810Z"
   },
   {
    "duration": 8,
    "start_time": "2023-02-19T13:56:11.830Z"
   },
   {
    "duration": 17,
    "start_time": "2023-02-19T13:56:11.856Z"
   },
   {
    "duration": 6,
    "start_time": "2023-02-19T13:56:11.875Z"
   },
   {
    "duration": 8,
    "start_time": "2023-02-19T13:56:11.883Z"
   },
   {
    "duration": 10,
    "start_time": "2023-02-19T13:56:11.893Z"
   },
   {
    "duration": 11,
    "start_time": "2023-02-19T13:56:11.904Z"
   },
   {
    "duration": 11,
    "start_time": "2023-02-19T13:56:11.917Z"
   },
   {
    "duration": 9,
    "start_time": "2023-02-19T13:56:11.954Z"
   },
   {
    "duration": 185,
    "start_time": "2023-02-19T13:56:11.965Z"
   },
   {
    "duration": 128,
    "start_time": "2023-02-19T13:56:12.156Z"
   },
   {
    "duration": 7,
    "start_time": "2023-02-19T13:56:12.287Z"
   },
   {
    "duration": 21,
    "start_time": "2023-02-19T13:56:12.295Z"
   },
   {
    "duration": 8,
    "start_time": "2023-02-19T13:56:12.319Z"
   },
   {
    "duration": 17,
    "start_time": "2023-02-19T13:56:12.329Z"
   },
   {
    "duration": 276,
    "start_time": "2023-02-19T13:56:12.348Z"
   },
   {
    "duration": 181,
    "start_time": "2023-02-19T13:56:12.628Z"
   },
   {
    "duration": 5,
    "start_time": "2023-02-19T13:56:12.811Z"
   },
   {
    "duration": 398,
    "start_time": "2023-02-19T13:56:12.818Z"
   },
   {
    "duration": 6,
    "start_time": "2023-02-19T13:56:13.217Z"
   },
   {
    "duration": 217,
    "start_time": "2023-02-19T13:56:13.224Z"
   },
   {
    "duration": 11,
    "start_time": "2023-02-19T13:56:13.443Z"
   },
   {
    "duration": 301,
    "start_time": "2023-02-19T13:56:13.456Z"
   },
   {
    "duration": 14,
    "start_time": "2023-02-19T13:56:13.760Z"
   },
   {
    "duration": 18,
    "start_time": "2023-02-19T13:56:13.776Z"
   },
   {
    "duration": 4,
    "start_time": "2023-02-19T13:56:13.797Z"
   },
   {
    "duration": 137,
    "start_time": "2023-02-19T13:56:13.802Z"
   },
   {
    "duration": 135,
    "start_time": "2023-02-19T13:56:13.940Z"
   },
   {
    "duration": 5,
    "start_time": "2023-02-19T13:56:14.076Z"
   },
   {
    "duration": 144,
    "start_time": "2023-02-19T13:56:14.082Z"
   },
   {
    "duration": 145,
    "start_time": "2023-02-19T13:56:14.228Z"
   },
   {
    "duration": 4,
    "start_time": "2023-02-19T13:56:14.375Z"
   },
   {
    "duration": 166,
    "start_time": "2023-02-19T13:57:07.344Z"
   },
   {
    "duration": 158,
    "start_time": "2023-02-19T13:57:11.848Z"
   },
   {
    "duration": 167,
    "start_time": "2023-02-19T13:57:16.600Z"
   },
   {
    "duration": 162,
    "start_time": "2023-02-19T13:57:39.433Z"
   },
   {
    "duration": 175,
    "start_time": "2023-02-19T13:57:45.261Z"
   },
   {
    "duration": 174,
    "start_time": "2023-02-19T13:57:51.498Z"
   },
   {
    "duration": 161,
    "start_time": "2023-02-19T13:58:00.377Z"
   },
   {
    "duration": 6,
    "start_time": "2023-02-19T14:00:38.034Z"
   },
   {
    "duration": 693,
    "start_time": "2023-02-19T14:04:09.332Z"
   },
   {
    "duration": 3,
    "start_time": "2023-02-19T14:04:10.027Z"
   },
   {
    "duration": 8,
    "start_time": "2023-02-19T14:04:10.032Z"
   },
   {
    "duration": 92,
    "start_time": "2023-02-19T14:04:10.048Z"
   },
   {
    "duration": 23,
    "start_time": "2023-02-19T14:04:10.142Z"
   },
   {
    "duration": 17,
    "start_time": "2023-02-19T14:04:10.166Z"
   },
   {
    "duration": 9,
    "start_time": "2023-02-19T14:04:10.185Z"
   },
   {
    "duration": 15,
    "start_time": "2023-02-19T14:04:10.195Z"
   },
   {
    "duration": 11,
    "start_time": "2023-02-19T14:04:10.211Z"
   },
   {
    "duration": 13,
    "start_time": "2023-02-19T14:04:10.225Z"
   },
   {
    "duration": 15,
    "start_time": "2023-02-19T14:04:10.248Z"
   },
   {
    "duration": 13,
    "start_time": "2023-02-19T14:04:10.264Z"
   },
   {
    "duration": 14,
    "start_time": "2023-02-19T14:04:10.278Z"
   },
   {
    "duration": 8,
    "start_time": "2023-02-19T14:04:10.294Z"
   },
   {
    "duration": 12,
    "start_time": "2023-02-19T14:04:10.304Z"
   },
   {
    "duration": 8,
    "start_time": "2023-02-19T14:04:10.317Z"
   },
   {
    "duration": 33,
    "start_time": "2023-02-19T14:04:10.326Z"
   },
   {
    "duration": 13,
    "start_time": "2023-02-19T14:04:10.362Z"
   },
   {
    "duration": 12,
    "start_time": "2023-02-19T14:04:10.377Z"
   },
   {
    "duration": 9,
    "start_time": "2023-02-19T14:04:10.390Z"
   },
   {
    "duration": 7,
    "start_time": "2023-02-19T14:04:10.401Z"
   },
   {
    "duration": 196,
    "start_time": "2023-02-19T14:04:10.409Z"
   },
   {
    "duration": 141,
    "start_time": "2023-02-19T14:04:10.607Z"
   },
   {
    "duration": 10,
    "start_time": "2023-02-19T14:04:10.758Z"
   },
   {
    "duration": 8,
    "start_time": "2023-02-19T14:04:10.770Z"
   },
   {
    "duration": 5,
    "start_time": "2023-02-19T14:04:10.780Z"
   },
   {
    "duration": 7,
    "start_time": "2023-02-19T14:04:10.787Z"
   },
   {
    "duration": 277,
    "start_time": "2023-02-19T14:04:10.797Z"
   },
   {
    "duration": 192,
    "start_time": "2023-02-19T14:04:11.076Z"
   },
   {
    "duration": 5,
    "start_time": "2023-02-19T14:04:11.270Z"
   },
   {
    "duration": 289,
    "start_time": "2023-02-19T14:04:11.277Z"
   },
   {
    "duration": 7,
    "start_time": "2023-02-19T14:04:11.568Z"
   },
   {
    "duration": 261,
    "start_time": "2023-02-19T14:04:11.576Z"
   },
   {
    "duration": 17,
    "start_time": "2023-02-19T14:04:11.838Z"
   },
   {
    "duration": 279,
    "start_time": "2023-02-19T14:04:11.856Z"
   },
   {
    "duration": 22,
    "start_time": "2023-02-19T14:04:12.138Z"
   },
   {
    "duration": 12,
    "start_time": "2023-02-19T14:04:12.162Z"
   },
   {
    "duration": 3,
    "start_time": "2023-02-19T14:04:12.176Z"
   },
   {
    "duration": 113,
    "start_time": "2023-02-19T14:04:12.181Z"
   },
   {
    "duration": 124,
    "start_time": "2023-02-19T14:04:12.296Z"
   },
   {
    "duration": 4,
    "start_time": "2023-02-19T14:04:12.421Z"
   },
   {
    "duration": 150,
    "start_time": "2023-02-19T14:04:12.427Z"
   },
   {
    "duration": 151,
    "start_time": "2023-02-19T14:04:12.579Z"
   },
   {
    "duration": 5,
    "start_time": "2023-02-19T14:04:12.731Z"
   },
   {
    "duration": 188,
    "start_time": "2023-02-19T14:08:09.596Z"
   },
   {
    "duration": 183,
    "start_time": "2023-02-19T14:09:50.905Z"
   },
   {
    "duration": 203,
    "start_time": "2023-02-19T14:09:54.512Z"
   },
   {
    "duration": 199,
    "start_time": "2023-02-19T14:10:30.214Z"
   },
   {
    "duration": 245,
    "start_time": "2023-02-19T14:11:08.761Z"
   },
   {
    "duration": 288,
    "start_time": "2023-02-19T14:11:23.182Z"
   },
   {
    "duration": 266,
    "start_time": "2023-02-19T14:12:47.324Z"
   },
   {
    "duration": 377,
    "start_time": "2023-02-19T14:15:36.428Z"
   },
   {
    "duration": 273,
    "start_time": "2023-02-19T14:16:37.502Z"
   },
   {
    "duration": 334,
    "start_time": "2023-02-19T14:16:45.533Z"
   },
   {
    "duration": 201,
    "start_time": "2023-02-19T14:16:50.226Z"
   },
   {
    "duration": 209,
    "start_time": "2023-02-19T14:16:55.324Z"
   },
   {
    "duration": 270,
    "start_time": "2023-02-19T14:18:31.903Z"
   },
   {
    "duration": 197,
    "start_time": "2023-02-19T14:19:31.619Z"
   },
   {
    "duration": 282,
    "start_time": "2023-02-19T14:24:36.177Z"
   },
   {
    "duration": 311,
    "start_time": "2023-02-19T14:26:09.519Z"
   },
   {
    "duration": 379,
    "start_time": "2023-02-19T14:26:34.047Z"
   },
   {
    "duration": 220,
    "start_time": "2023-02-19T14:26:42.771Z"
   },
   {
    "duration": 211,
    "start_time": "2023-02-19T14:26:59.650Z"
   },
   {
    "duration": 5,
    "start_time": "2023-02-19T14:30:11.770Z"
   },
   {
    "duration": 161,
    "start_time": "2023-02-19T14:31:24.833Z"
   },
   {
    "duration": 146,
    "start_time": "2023-02-19T14:31:30.836Z"
   },
   {
    "duration": 140,
    "start_time": "2023-02-19T14:31:36.842Z"
   },
   {
    "duration": 126,
    "start_time": "2023-02-19T14:32:06.873Z"
   },
   {
    "duration": 157,
    "start_time": "2023-02-19T14:37:58.011Z"
   },
   {
    "duration": 149,
    "start_time": "2023-02-19T14:38:22.420Z"
   },
   {
    "duration": 154,
    "start_time": "2023-02-19T14:39:30.434Z"
   },
   {
    "duration": 873,
    "start_time": "2023-02-22T08:42:55.870Z"
   },
   {
    "duration": 3,
    "start_time": "2023-02-22T08:42:56.746Z"
   },
   {
    "duration": 6,
    "start_time": "2023-02-22T08:42:56.750Z"
   },
   {
    "duration": 192,
    "start_time": "2023-02-22T08:42:56.758Z"
   },
   {
    "duration": 12,
    "start_time": "2023-02-22T08:42:56.952Z"
   },
   {
    "duration": 13,
    "start_time": "2023-02-22T08:42:56.965Z"
   },
   {
    "duration": 9,
    "start_time": "2023-02-22T08:42:56.980Z"
   },
   {
    "duration": 17,
    "start_time": "2023-02-22T08:42:56.990Z"
   },
   {
    "duration": 32,
    "start_time": "2023-02-22T08:42:57.009Z"
   },
   {
    "duration": 13,
    "start_time": "2023-02-22T08:42:57.044Z"
   },
   {
    "duration": 13,
    "start_time": "2023-02-22T08:42:57.059Z"
   },
   {
    "duration": 18,
    "start_time": "2023-02-22T08:42:57.074Z"
   },
   {
    "duration": 18,
    "start_time": "2023-02-22T08:42:57.093Z"
   },
   {
    "duration": 32,
    "start_time": "2023-02-22T08:42:57.112Z"
   },
   {
    "duration": 12,
    "start_time": "2023-02-22T08:42:57.147Z"
   },
   {
    "duration": 14,
    "start_time": "2023-02-22T08:42:57.161Z"
   },
   {
    "duration": 6,
    "start_time": "2023-02-22T08:42:57.177Z"
   },
   {
    "duration": 13,
    "start_time": "2023-02-22T08:42:57.185Z"
   },
   {
    "duration": 20,
    "start_time": "2023-02-22T08:42:57.200Z"
   },
   {
    "duration": 22,
    "start_time": "2023-02-22T08:42:57.222Z"
   },
   {
    "duration": 15,
    "start_time": "2023-02-22T08:42:57.245Z"
   },
   {
    "duration": 185,
    "start_time": "2023-02-22T08:42:57.262Z"
   },
   {
    "duration": 132,
    "start_time": "2023-02-22T08:42:57.448Z"
   },
   {
    "duration": 7,
    "start_time": "2023-02-22T08:42:57.581Z"
   },
   {
    "duration": 10,
    "start_time": "2023-02-22T08:42:57.589Z"
   },
   {
    "duration": 8,
    "start_time": "2023-02-22T08:42:57.600Z"
   },
   {
    "duration": 8,
    "start_time": "2023-02-22T08:42:57.610Z"
   },
   {
    "duration": 306,
    "start_time": "2023-02-22T08:42:57.622Z"
   },
   {
    "duration": 223,
    "start_time": "2023-02-22T08:42:57.930Z"
   },
   {
    "duration": 6,
    "start_time": "2023-02-22T08:42:58.154Z"
   },
   {
    "duration": 332,
    "start_time": "2023-02-22T08:42:58.162Z"
   },
   {
    "duration": 6,
    "start_time": "2023-02-22T08:42:58.496Z"
   },
   {
    "duration": 272,
    "start_time": "2023-02-22T08:42:58.503Z"
   },
   {
    "duration": 8,
    "start_time": "2023-02-22T08:42:58.776Z"
   },
   {
    "duration": 339,
    "start_time": "2023-02-22T08:42:58.786Z"
   },
   {
    "duration": 19,
    "start_time": "2023-02-22T08:42:59.127Z"
   },
   {
    "duration": 7,
    "start_time": "2023-02-22T08:42:59.147Z"
   },
   {
    "duration": 14,
    "start_time": "2023-02-22T08:42:59.156Z"
   },
   {
    "duration": 147,
    "start_time": "2023-02-22T08:42:59.172Z"
   },
   {
    "duration": 144,
    "start_time": "2023-02-22T08:42:59.321Z"
   },
   {
    "duration": 5,
    "start_time": "2023-02-22T08:42:59.466Z"
   },
   {
    "duration": 183,
    "start_time": "2023-02-22T08:42:59.473Z"
   },
   {
    "duration": 164,
    "start_time": "2023-02-22T08:42:59.658Z"
   },
   {
    "duration": 4,
    "start_time": "2023-02-22T08:42:59.824Z"
   },
   {
    "duration": 11,
    "start_time": "2023-02-22T08:43:57.723Z"
   },
   {
    "duration": 612,
    "start_time": "2023-02-22T08:44:13.282Z"
   },
   {
    "duration": 3,
    "start_time": "2023-02-22T08:44:14.293Z"
   },
   {
    "duration": 3,
    "start_time": "2023-02-22T08:44:15.731Z"
   },
   {
    "duration": 66,
    "start_time": "2023-02-22T08:44:16.112Z"
   },
   {
    "duration": 11,
    "start_time": "2023-02-22T08:44:17.722Z"
   },
   {
    "duration": 15,
    "start_time": "2023-02-22T08:44:19.544Z"
   },
   {
    "duration": 8,
    "start_time": "2023-02-22T08:44:23.792Z"
   },
   {
    "duration": 12,
    "start_time": "2023-02-22T08:44:26.052Z"
   },
   {
    "duration": 7,
    "start_time": "2023-02-22T08:44:27.577Z"
   },
   {
    "duration": 11,
    "start_time": "2023-02-22T08:44:33.268Z"
   },
   {
    "duration": 12,
    "start_time": "2023-02-22T08:44:36.711Z"
   },
   {
    "duration": 12,
    "start_time": "2023-02-22T08:44:52.215Z"
   },
   {
    "duration": 5,
    "start_time": "2023-02-22T08:44:52.865Z"
   },
   {
    "duration": 14,
    "start_time": "2023-02-22T08:44:54.750Z"
   },
   {
    "duration": 15,
    "start_time": "2023-02-22T08:45:03.376Z"
   },
   {
    "duration": 6,
    "start_time": "2023-02-22T08:45:04.998Z"
   },
   {
    "duration": 11,
    "start_time": "2023-02-22T08:45:08.151Z"
   },
   {
    "duration": 5,
    "start_time": "2023-02-22T08:45:08.421Z"
   },
   {
    "duration": 6,
    "start_time": "2023-02-22T08:45:13.400Z"
   },
   {
    "duration": 11,
    "start_time": "2023-02-22T08:45:14.494Z"
   },
   {
    "duration": 10,
    "start_time": "2023-02-22T08:45:18.046Z"
   },
   {
    "duration": 9,
    "start_time": "2023-02-22T08:45:23.933Z"
   },
   {
    "duration": 5,
    "start_time": "2023-02-22T08:46:07.341Z"
   },
   {
    "duration": 188,
    "start_time": "2023-02-22T08:48:43.736Z"
   },
   {
    "duration": 168,
    "start_time": "2023-02-22T08:49:50.628Z"
   },
   {
    "duration": 176,
    "start_time": "2023-02-22T08:50:07.885Z"
   },
   {
    "duration": 133,
    "start_time": "2023-02-22T08:51:55.925Z"
   },
   {
    "duration": 8,
    "start_time": "2023-02-22T08:52:19.700Z"
   },
   {
    "duration": 6,
    "start_time": "2023-02-22T08:52:21.434Z"
   },
   {
    "duration": 6,
    "start_time": "2023-02-22T08:57:11.983Z"
   },
   {
    "duration": 8,
    "start_time": "2023-02-22T08:57:55.717Z"
   },
   {
    "duration": 300,
    "start_time": "2023-02-22T08:58:12.876Z"
   },
   {
    "duration": 8,
    "start_time": "2023-02-22T08:59:42.255Z"
   },
   {
    "duration": 201,
    "start_time": "2023-02-22T09:01:32.486Z"
   },
   {
    "duration": 7,
    "start_time": "2023-02-22T09:02:05.488Z"
   },
   {
    "duration": 302,
    "start_time": "2023-02-22T09:02:33.558Z"
   },
   {
    "duration": 6,
    "start_time": "2023-02-22T09:03:39.664Z"
   },
   {
    "duration": 249,
    "start_time": "2023-02-22T09:04:42.599Z"
   },
   {
    "duration": 10,
    "start_time": "2023-02-22T09:06:00.251Z"
   },
   {
    "duration": 359,
    "start_time": "2023-02-22T09:06:01.638Z"
   },
   {
    "duration": 9,
    "start_time": "2023-02-22T09:06:38.731Z"
   },
   {
    "duration": 7,
    "start_time": "2023-02-22T09:06:48.172Z"
   },
   {
    "duration": 4,
    "start_time": "2023-02-22T09:06:55.185Z"
   },
   {
    "duration": 161,
    "start_time": "2023-02-22T09:06:59.135Z"
   },
   {
    "duration": 141,
    "start_time": "2023-02-22T09:07:17.594Z"
   },
   {
    "duration": 139,
    "start_time": "2023-02-22T09:08:15.723Z"
   },
   {
    "duration": 4,
    "start_time": "2023-02-22T09:08:26.277Z"
   },
   {
    "duration": 154,
    "start_time": "2023-02-22T09:08:44.856Z"
   },
   {
    "duration": 155,
    "start_time": "2023-02-22T09:08:51.049Z"
   },
   {
    "duration": 164,
    "start_time": "2023-02-22T09:09:09.513Z"
   },
   {
    "duration": 5,
    "start_time": "2023-02-22T09:09:13.744Z"
   },
   {
    "duration": 166,
    "start_time": "2023-02-22T10:04:22.418Z"
   },
   {
    "duration": 170,
    "start_time": "2023-02-22T10:04:45.939Z"
   },
   {
    "duration": 29,
    "start_time": "2023-02-22T10:09:11.284Z"
   },
   {
    "duration": 25,
    "start_time": "2023-02-22T10:09:16.282Z"
   },
   {
    "duration": 90,
    "start_time": "2023-02-22T10:10:43.990Z"
   },
   {
    "duration": 8,
    "start_time": "2023-02-22T10:10:56.661Z"
   },
   {
    "duration": 84,
    "start_time": "2023-02-22T10:12:26.192Z"
   },
   {
    "duration": 119,
    "start_time": "2023-02-22T10:12:51.149Z"
   },
   {
    "duration": 27,
    "start_time": "2023-02-22T10:13:12.462Z"
   },
   {
    "duration": 25,
    "start_time": "2023-02-22T10:13:38.348Z"
   },
   {
    "duration": 166,
    "start_time": "2023-02-22T10:14:46.423Z"
   },
   {
    "duration": 501,
    "start_time": "2023-02-22T10:15:17.056Z"
   },
   {
    "duration": 180,
    "start_time": "2023-02-22T10:15:25.461Z"
   },
   {
    "duration": 268,
    "start_time": "2023-02-22T10:15:28.841Z"
   },
   {
    "duration": 164,
    "start_time": "2023-02-22T10:15:39.366Z"
   },
   {
    "duration": 188,
    "start_time": "2023-02-22T10:15:41.721Z"
   },
   {
    "duration": 16,
    "start_time": "2023-02-22T10:23:26.888Z"
   },
   {
    "duration": 11,
    "start_time": "2023-02-22T10:23:52.512Z"
   },
   {
    "duration": 9,
    "start_time": "2023-02-22T10:43:23.248Z"
   },
   {
    "duration": 10,
    "start_time": "2023-02-22T10:43:59.125Z"
   },
   {
    "duration": 10,
    "start_time": "2023-02-22T10:44:54.029Z"
   },
   {
    "duration": 27,
    "start_time": "2023-02-22T10:45:14.868Z"
   },
   {
    "duration": 16,
    "start_time": "2023-02-22T10:58:45.259Z"
   },
   {
    "duration": 75,
    "start_time": "2023-02-22T11:00:36.729Z"
   },
   {
    "duration": 4,
    "start_time": "2023-02-22T11:23:47.253Z"
   },
   {
    "duration": 1142,
    "start_time": "2023-02-22T11:26:09.884Z"
   },
   {
    "duration": 4,
    "start_time": "2023-02-22T11:26:11.029Z"
   },
   {
    "duration": 3,
    "start_time": "2023-02-22T11:26:11.043Z"
   },
   {
    "duration": 67,
    "start_time": "2023-02-22T11:26:11.048Z"
   },
   {
    "duration": 11,
    "start_time": "2023-02-22T11:26:11.117Z"
   },
   {
    "duration": 11,
    "start_time": "2023-02-22T11:26:11.130Z"
   },
   {
    "duration": 13,
    "start_time": "2023-02-22T11:26:11.144Z"
   },
   {
    "duration": 16,
    "start_time": "2023-02-22T11:26:11.159Z"
   },
   {
    "duration": 9,
    "start_time": "2023-02-22T11:26:11.178Z"
   },
   {
    "duration": 26,
    "start_time": "2023-02-22T11:26:11.189Z"
   },
   {
    "duration": 24,
    "start_time": "2023-02-22T11:26:11.217Z"
   },
   {
    "duration": 4,
    "start_time": "2023-02-22T11:26:11.243Z"
   },
   {
    "duration": 20,
    "start_time": "2023-02-22T11:26:11.249Z"
   },
   {
    "duration": 26,
    "start_time": "2023-02-22T11:26:11.270Z"
   },
   {
    "duration": 20,
    "start_time": "2023-02-22T11:26:11.298Z"
   },
   {
    "duration": 39,
    "start_time": "2023-02-22T11:26:11.320Z"
   },
   {
    "duration": 33,
    "start_time": "2023-02-22T11:26:11.361Z"
   },
   {
    "duration": 23,
    "start_time": "2023-02-22T11:26:11.397Z"
   },
   {
    "duration": 23,
    "start_time": "2023-02-22T11:26:11.421Z"
   },
   {
    "duration": 10,
    "start_time": "2023-02-22T11:26:11.446Z"
   },
   {
    "duration": 192,
    "start_time": "2023-02-22T11:26:11.458Z"
   },
   {
    "duration": 138,
    "start_time": "2023-02-22T11:26:11.652Z"
   },
   {
    "duration": 7,
    "start_time": "2023-02-22T11:26:11.792Z"
   },
   {
    "duration": 8,
    "start_time": "2023-02-22T11:26:11.800Z"
   },
   {
    "duration": 11,
    "start_time": "2023-02-22T11:26:11.809Z"
   },
   {
    "duration": 24,
    "start_time": "2023-02-22T11:26:11.822Z"
   },
   {
    "duration": 9,
    "start_time": "2023-02-22T11:26:11.847Z"
   },
   {
    "duration": 302,
    "start_time": "2023-02-22T11:26:11.861Z"
   },
   {
    "duration": 228,
    "start_time": "2023-02-22T11:26:12.165Z"
   },
   {
    "duration": 7,
    "start_time": "2023-02-22T11:26:12.395Z"
   },
   {
    "duration": 356,
    "start_time": "2023-02-22T11:26:12.404Z"
   },
   {
    "duration": 6,
    "start_time": "2023-02-22T11:26:12.761Z"
   },
   {
    "duration": 206,
    "start_time": "2023-02-22T11:26:12.769Z"
   },
   {
    "duration": 8,
    "start_time": "2023-02-22T11:26:12.977Z"
   },
   {
    "duration": 296,
    "start_time": "2023-02-22T11:26:12.987Z"
   },
   {
    "duration": 9,
    "start_time": "2023-02-22T11:26:13.285Z"
   },
   {
    "duration": 14,
    "start_time": "2023-02-22T11:26:13.295Z"
   },
   {
    "duration": 4,
    "start_time": "2023-02-22T11:26:13.311Z"
   },
   {
    "duration": 153,
    "start_time": "2023-02-22T11:26:13.316Z"
   },
   {
    "duration": 149,
    "start_time": "2023-02-22T11:26:13.470Z"
   },
   {
    "duration": 4,
    "start_time": "2023-02-22T11:26:13.621Z"
   },
   {
    "duration": 170,
    "start_time": "2023-02-22T11:26:13.627Z"
   },
   {
    "duration": 240,
    "start_time": "2023-02-22T11:26:13.798Z"
   },
   {
    "duration": 5,
    "start_time": "2023-02-22T11:26:14.039Z"
   },
   {
    "duration": 21,
    "start_time": "2023-02-22T11:26:14.046Z"
   },
   {
    "duration": 108,
    "start_time": "2023-02-22T11:26:14.069Z"
   },
   {
    "duration": 124,
    "start_time": "2023-02-22T11:26:14.179Z"
   },
   {
    "duration": 40,
    "start_time": "2023-02-22T11:26:14.304Z"
   },
   {
    "duration": 170,
    "start_time": "2023-02-22T11:26:14.347Z"
   },
   {
    "duration": 21,
    "start_time": "2023-02-22T11:26:14.519Z"
   },
   {
    "duration": 18,
    "start_time": "2023-02-22T11:26:14.542Z"
   },
   {
    "duration": 18,
    "start_time": "2023-02-22T11:26:14.562Z"
   },
   {
    "duration": 30,
    "start_time": "2023-02-22T11:26:14.582Z"
   },
   {
    "duration": 27,
    "start_time": "2023-02-22T11:26:14.614Z"
   },
   {
    "duration": 1197,
    "start_time": "2023-02-22T20:18:42.331Z"
   },
   {
    "duration": 2,
    "start_time": "2023-02-22T20:18:43.531Z"
   },
   {
    "duration": 17,
    "start_time": "2023-02-22T20:18:43.535Z"
   },
   {
    "duration": 246,
    "start_time": "2023-02-22T20:18:43.554Z"
   },
   {
    "duration": 16,
    "start_time": "2023-02-22T20:18:43.803Z"
   },
   {
    "duration": 14,
    "start_time": "2023-02-22T20:18:43.822Z"
   },
   {
    "duration": 12,
    "start_time": "2023-02-22T20:18:43.839Z"
   },
   {
    "duration": 23,
    "start_time": "2023-02-22T20:18:43.853Z"
   },
   {
    "duration": 11,
    "start_time": "2023-02-22T20:18:43.879Z"
   },
   {
    "duration": 16,
    "start_time": "2023-02-22T20:18:43.894Z"
   },
   {
    "duration": 22,
    "start_time": "2023-02-22T20:18:43.913Z"
   },
   {
    "duration": 15,
    "start_time": "2023-02-22T20:18:43.937Z"
   },
   {
    "duration": 28,
    "start_time": "2023-02-22T20:18:43.954Z"
   },
   {
    "duration": 15,
    "start_time": "2023-02-22T20:18:43.987Z"
   },
   {
    "duration": 23,
    "start_time": "2023-02-22T20:18:44.004Z"
   },
   {
    "duration": 12,
    "start_time": "2023-02-22T20:18:44.030Z"
   },
   {
    "duration": 7,
    "start_time": "2023-02-22T20:18:44.049Z"
   },
   {
    "duration": 12,
    "start_time": "2023-02-22T20:18:44.058Z"
   },
   {
    "duration": 12,
    "start_time": "2023-02-22T20:18:44.072Z"
   },
   {
    "duration": 8,
    "start_time": "2023-02-22T20:18:44.086Z"
   },
   {
    "duration": 224,
    "start_time": "2023-02-22T20:18:44.096Z"
   },
   {
    "duration": 162,
    "start_time": "2023-02-22T20:18:44.323Z"
   },
   {
    "duration": 7,
    "start_time": "2023-02-22T20:18:44.486Z"
   },
   {
    "duration": 16,
    "start_time": "2023-02-22T20:18:44.494Z"
   },
   {
    "duration": 7,
    "start_time": "2023-02-22T20:18:44.512Z"
   },
   {
    "duration": 7,
    "start_time": "2023-02-22T20:18:44.520Z"
   },
   {
    "duration": 28,
    "start_time": "2023-02-22T20:18:44.529Z"
   },
   {
    "duration": 299,
    "start_time": "2023-02-22T20:18:44.559Z"
   },
   {
    "duration": 225,
    "start_time": "2023-02-22T20:18:44.860Z"
   },
   {
    "duration": 7,
    "start_time": "2023-02-22T20:18:45.086Z"
   },
   {
    "duration": 297,
    "start_time": "2023-02-22T20:18:45.095Z"
   },
   {
    "duration": 7,
    "start_time": "2023-02-22T20:18:45.395Z"
   },
   {
    "duration": 242,
    "start_time": "2023-02-22T20:18:45.404Z"
   },
   {
    "duration": 10,
    "start_time": "2023-02-22T20:18:45.648Z"
   },
   {
    "duration": 302,
    "start_time": "2023-02-22T20:18:45.661Z"
   },
   {
    "duration": 12,
    "start_time": "2023-02-22T20:18:45.965Z"
   },
   {
    "duration": 9,
    "start_time": "2023-02-22T20:18:45.979Z"
   },
   {
    "duration": 58,
    "start_time": "2023-02-22T20:18:45.990Z"
   },
   {
    "duration": 218,
    "start_time": "2023-02-22T20:18:46.050Z"
   },
   {
    "duration": 188,
    "start_time": "2023-02-22T20:18:46.270Z"
   },
   {
    "duration": 6,
    "start_time": "2023-02-22T20:18:46.463Z"
   },
   {
    "duration": 187,
    "start_time": "2023-02-22T20:18:46.471Z"
   },
   {
    "duration": 236,
    "start_time": "2023-02-22T20:18:46.660Z"
   },
   {
    "duration": 5,
    "start_time": "2023-02-22T20:18:46.897Z"
   },
   {
    "duration": 22,
    "start_time": "2023-02-22T20:18:46.905Z"
   },
   {
    "duration": 117,
    "start_time": "2023-02-22T20:18:46.948Z"
   },
   {
    "duration": 138,
    "start_time": "2023-02-22T20:18:47.067Z"
   },
   {
    "duration": 25,
    "start_time": "2023-02-22T20:18:47.207Z"
   },
   {
    "duration": 195,
    "start_time": "2023-02-22T20:18:47.234Z"
   },
   {
    "duration": 23,
    "start_time": "2023-02-22T20:18:47.431Z"
   },
   {
    "duration": 10,
    "start_time": "2023-02-22T20:18:47.456Z"
   },
   {
    "duration": 13,
    "start_time": "2023-02-22T20:18:47.468Z"
   },
   {
    "duration": 37,
    "start_time": "2023-02-22T20:18:47.483Z"
   },
   {
    "duration": 38,
    "start_time": "2023-02-22T20:18:47.522Z"
   },
   {
    "duration": 50,
    "start_time": "2023-02-23T07:09:02.364Z"
   },
   {
    "duration": 1239,
    "start_time": "2023-02-23T07:09:09.530Z"
   },
   {
    "duration": 3,
    "start_time": "2023-02-23T07:09:10.771Z"
   },
   {
    "duration": 8,
    "start_time": "2023-02-23T07:09:10.776Z"
   },
   {
    "duration": 183,
    "start_time": "2023-02-23T07:09:10.785Z"
   },
   {
    "duration": 11,
    "start_time": "2023-02-23T07:09:10.970Z"
   },
   {
    "duration": 15,
    "start_time": "2023-02-23T07:09:10.982Z"
   },
   {
    "duration": 15,
    "start_time": "2023-02-23T07:09:10.999Z"
   },
   {
    "duration": 12,
    "start_time": "2023-02-23T07:09:11.015Z"
   },
   {
    "duration": 13,
    "start_time": "2023-02-23T07:09:11.029Z"
   },
   {
    "duration": 15,
    "start_time": "2023-02-23T07:09:11.045Z"
   },
   {
    "duration": 18,
    "start_time": "2023-02-23T07:09:11.062Z"
   },
   {
    "duration": 6,
    "start_time": "2023-02-23T07:09:11.082Z"
   },
   {
    "duration": 19,
    "start_time": "2023-02-23T07:09:11.090Z"
   },
   {
    "duration": 28,
    "start_time": "2023-02-23T07:09:11.110Z"
   },
   {
    "duration": 10,
    "start_time": "2023-02-23T07:09:11.140Z"
   },
   {
    "duration": 12,
    "start_time": "2023-02-23T07:09:11.152Z"
   },
   {
    "duration": 8,
    "start_time": "2023-02-23T07:09:11.165Z"
   },
   {
    "duration": 16,
    "start_time": "2023-02-23T07:09:11.174Z"
   },
   {
    "duration": 14,
    "start_time": "2023-02-23T07:09:11.192Z"
   },
   {
    "duration": 32,
    "start_time": "2023-02-23T07:09:11.208Z"
   },
   {
    "duration": 5,
    "start_time": "2023-02-23T07:09:11.242Z"
   },
   {
    "duration": 173,
    "start_time": "2023-02-23T07:09:11.249Z"
   },
   {
    "duration": 132,
    "start_time": "2023-02-23T07:09:11.424Z"
   },
   {
    "duration": 6,
    "start_time": "2023-02-23T07:09:11.558Z"
   },
   {
    "duration": 12,
    "start_time": "2023-02-23T07:09:11.566Z"
   },
   {
    "duration": 5,
    "start_time": "2023-02-23T07:09:11.580Z"
   },
   {
    "duration": 7,
    "start_time": "2023-02-23T07:09:11.586Z"
   },
   {
    "duration": 10,
    "start_time": "2023-02-23T07:09:11.596Z"
   },
   {
    "duration": 287,
    "start_time": "2023-02-23T07:09:11.608Z"
   },
   {
    "duration": 204,
    "start_time": "2023-02-23T07:09:11.896Z"
   },
   {
    "duration": 6,
    "start_time": "2023-02-23T07:09:12.102Z"
   },
   {
    "duration": 433,
    "start_time": "2023-02-23T07:09:12.110Z"
   },
   {
    "duration": 6,
    "start_time": "2023-02-23T07:09:12.545Z"
   },
   {
    "duration": 218,
    "start_time": "2023-02-23T07:09:12.553Z"
   },
   {
    "duration": 8,
    "start_time": "2023-02-23T07:09:12.772Z"
   },
   {
    "duration": 260,
    "start_time": "2023-02-23T07:09:12.782Z"
   },
   {
    "duration": 8,
    "start_time": "2023-02-23T07:09:13.044Z"
   },
   {
    "duration": 8,
    "start_time": "2023-02-23T07:09:13.053Z"
   },
   {
    "duration": 4,
    "start_time": "2023-02-23T07:09:13.062Z"
   },
   {
    "duration": 137,
    "start_time": "2023-02-23T07:09:13.067Z"
   },
   {
    "duration": 124,
    "start_time": "2023-02-23T07:09:13.205Z"
   },
   {
    "duration": 9,
    "start_time": "2023-02-23T07:09:13.330Z"
   },
   {
    "duration": 141,
    "start_time": "2023-02-23T07:09:13.340Z"
   },
   {
    "duration": 211,
    "start_time": "2023-02-23T07:09:13.483Z"
   },
   {
    "duration": 4,
    "start_time": "2023-02-23T07:09:13.696Z"
   },
   {
    "duration": 21,
    "start_time": "2023-02-23T07:09:13.702Z"
   },
   {
    "duration": 87,
    "start_time": "2023-02-23T07:09:13.737Z"
   },
   {
    "duration": 141,
    "start_time": "2023-02-23T07:09:13.826Z"
   },
   {
    "duration": 28,
    "start_time": "2023-02-23T07:09:13.969Z"
   },
   {
    "duration": 200,
    "start_time": "2023-02-23T07:09:13.999Z"
   },
   {
    "duration": 12,
    "start_time": "2023-02-23T07:09:14.201Z"
   },
   {
    "duration": 29,
    "start_time": "2023-02-23T07:09:14.215Z"
   },
   {
    "duration": 13,
    "start_time": "2023-02-23T07:09:14.246Z"
   },
   {
    "duration": 26,
    "start_time": "2023-02-23T07:09:14.261Z"
   },
   {
    "duration": 15,
    "start_time": "2023-02-23T07:09:14.288Z"
   },
   {
    "duration": 4,
    "start_time": "2023-02-23T07:09:42.518Z"
   },
   {
    "duration": 5,
    "start_time": "2023-02-23T07:09:55.035Z"
   },
   {
    "duration": 5,
    "start_time": "2023-02-23T07:13:08.861Z"
   },
   {
    "duration": 5,
    "start_time": "2023-02-23T07:13:15.236Z"
   },
   {
    "duration": 7,
    "start_time": "2023-02-23T07:13:20.172Z"
   },
   {
    "duration": 5,
    "start_time": "2023-02-23T07:13:27.651Z"
   },
   {
    "duration": 103,
    "start_time": "2023-02-23T07:14:18.536Z"
   },
   {
    "duration": 7,
    "start_time": "2023-02-23T07:14:38.425Z"
   },
   {
    "duration": 10,
    "start_time": "2023-02-23T07:14:42.919Z"
   },
   {
    "duration": 11,
    "start_time": "2023-02-23T07:17:12.390Z"
   },
   {
    "duration": 10,
    "start_time": "2023-02-23T07:17:34.946Z"
   },
   {
    "duration": 17,
    "start_time": "2023-02-23T07:18:11.076Z"
   },
   {
    "duration": 19,
    "start_time": "2023-02-23T07:19:23.779Z"
   },
   {
    "duration": 1186,
    "start_time": "2023-02-23T07:22:54.012Z"
   },
   {
    "duration": 6,
    "start_time": "2023-02-23T07:23:34.874Z"
   },
   {
    "duration": 6,
    "start_time": "2023-02-23T07:23:47.955Z"
   },
   {
    "duration": 11,
    "start_time": "2023-02-23T07:23:56.427Z"
   },
   {
    "duration": 12,
    "start_time": "2023-02-23T07:24:08.069Z"
   },
   {
    "duration": 6,
    "start_time": "2023-02-23T07:24:16.387Z"
   },
   {
    "duration": 8,
    "start_time": "2023-02-23T07:24:32.263Z"
   },
   {
    "duration": 12,
    "start_time": "2023-02-23T07:25:33.341Z"
   },
   {
    "duration": 10,
    "start_time": "2023-02-23T07:25:42.396Z"
   },
   {
    "duration": 146,
    "start_time": "2023-02-23T07:32:11.811Z"
   },
   {
    "duration": 153,
    "start_time": "2023-02-23T07:35:50.627Z"
   },
   {
    "duration": 10,
    "start_time": "2023-02-23T07:36:43.823Z"
   },
   {
    "duration": 10,
    "start_time": "2023-02-23T07:37:07.044Z"
   },
   {
    "duration": 72,
    "start_time": "2023-02-23T07:38:14.543Z"
   },
   {
    "duration": 16,
    "start_time": "2023-02-23T07:38:30.906Z"
   },
   {
    "duration": 9,
    "start_time": "2023-02-23T07:38:48.590Z"
   },
   {
    "duration": 5,
    "start_time": "2023-02-23T07:40:35.812Z"
   },
   {
    "duration": 7,
    "start_time": "2023-02-23T07:40:42.506Z"
   },
   {
    "duration": 5,
    "start_time": "2023-02-23T07:41:03.556Z"
   },
   {
    "duration": 7,
    "start_time": "2023-02-23T07:41:09.833Z"
   },
   {
    "duration": 7,
    "start_time": "2023-02-23T07:41:16.976Z"
   },
   {
    "duration": 6,
    "start_time": "2023-02-23T07:42:07.540Z"
   },
   {
    "duration": 10,
    "start_time": "2023-02-23T07:42:25.457Z"
   },
   {
    "duration": 5,
    "start_time": "2023-02-23T07:43:45.345Z"
   },
   {
    "duration": 5,
    "start_time": "2023-02-23T07:43:53.773Z"
   },
   {
    "duration": 5,
    "start_time": "2023-02-23T07:43:57.870Z"
   },
   {
    "duration": 5,
    "start_time": "2023-02-23T07:44:42.759Z"
   },
   {
    "duration": 9,
    "start_time": "2023-02-23T07:45:09.681Z"
   },
   {
    "duration": 9,
    "start_time": "2023-02-23T07:45:17.299Z"
   },
   {
    "duration": 20,
    "start_time": "2023-02-23T07:47:29.715Z"
   },
   {
    "duration": 14,
    "start_time": "2023-02-23T07:47:50.069Z"
   },
   {
    "duration": 13,
    "start_time": "2023-02-23T07:48:30.062Z"
   },
   {
    "duration": 5,
    "start_time": "2023-02-23T07:49:20.221Z"
   },
   {
    "duration": 13,
    "start_time": "2023-02-23T09:55:27.303Z"
   },
   {
    "duration": 8,
    "start_time": "2023-02-23T09:59:09.625Z"
   },
   {
    "duration": 73,
    "start_time": "2023-02-23T09:59:49.338Z"
   },
   {
    "duration": 8,
    "start_time": "2023-02-23T10:00:30.680Z"
   },
   {
    "duration": 8,
    "start_time": "2023-02-23T10:00:58.985Z"
   },
   {
    "duration": 4,
    "start_time": "2023-02-23T10:01:08.530Z"
   },
   {
    "duration": 11,
    "start_time": "2023-02-23T10:02:13.636Z"
   },
   {
    "duration": 6,
    "start_time": "2023-02-23T10:02:25.425Z"
   },
   {
    "duration": 4,
    "start_time": "2023-02-23T10:02:40.339Z"
   },
   {
    "duration": 2,
    "start_time": "2023-02-23T10:07:00.524Z"
   },
   {
    "duration": 3,
    "start_time": "2023-02-23T10:07:30.575Z"
   },
   {
    "duration": 3,
    "start_time": "2023-02-23T10:07:42.645Z"
   },
   {
    "duration": 9,
    "start_time": "2023-02-23T10:07:52.848Z"
   },
   {
    "duration": 3,
    "start_time": "2023-02-23T10:08:00.118Z"
   },
   {
    "duration": 10,
    "start_time": "2023-02-23T10:08:04.891Z"
   },
   {
    "duration": 3,
    "start_time": "2023-02-23T10:08:11.059Z"
   },
   {
    "duration": 3,
    "start_time": "2023-02-23T10:09:10.707Z"
   },
   {
    "duration": 9,
    "start_time": "2023-02-23T10:09:28.025Z"
   },
   {
    "duration": 8,
    "start_time": "2023-02-23T10:09:35.720Z"
   },
   {
    "duration": 8,
    "start_time": "2023-02-23T10:09:46.267Z"
   },
   {
    "duration": 8,
    "start_time": "2023-02-23T10:18:59.515Z"
   },
   {
    "duration": 96,
    "start_time": "2023-02-23T10:19:06.723Z"
   },
   {
    "duration": 72,
    "start_time": "2023-02-23T10:19:18.352Z"
   },
   {
    "duration": 1096,
    "start_time": "2023-02-23T10:19:23.393Z"
   },
   {
    "duration": 3,
    "start_time": "2023-02-23T10:19:55.304Z"
   },
   {
    "duration": 9,
    "start_time": "2023-02-23T10:20:01.293Z"
   },
   {
    "duration": 67,
    "start_time": "2023-02-23T10:20:21.327Z"
   },
   {
    "duration": 3,
    "start_time": "2023-02-23T10:20:24.671Z"
   },
   {
    "duration": 4,
    "start_time": "2023-02-23T10:27:48.447Z"
   },
   {
    "duration": 3,
    "start_time": "2023-02-23T10:28:25.524Z"
   },
   {
    "duration": 10,
    "start_time": "2023-02-23T10:29:12.568Z"
   },
   {
    "duration": 8,
    "start_time": "2023-02-23T10:29:45.846Z"
   },
   {
    "duration": 68,
    "start_time": "2023-02-23T10:30:41.697Z"
   },
   {
    "duration": 9,
    "start_time": "2023-02-23T10:30:45.972Z"
   },
   {
    "duration": 11,
    "start_time": "2023-02-23T10:31:08.661Z"
   },
   {
    "duration": 5,
    "start_time": "2023-02-23T10:36:42.535Z"
   },
   {
    "duration": 4,
    "start_time": "2023-02-23T10:37:30.722Z"
   },
   {
    "duration": 11,
    "start_time": "2023-02-23T10:37:38.547Z"
   },
   {
    "duration": 65,
    "start_time": "2023-02-23T10:37:41.658Z"
   },
   {
    "duration": 10,
    "start_time": "2023-02-23T10:37:44.317Z"
   },
   {
    "duration": 4,
    "start_time": "2023-02-23T10:37:47.990Z"
   },
   {
    "duration": 4,
    "start_time": "2023-02-23T10:37:53.160Z"
   },
   {
    "duration": 71,
    "start_time": "2023-02-23T10:37:57.104Z"
   },
   {
    "duration": 5,
    "start_time": "2023-02-23T10:38:01.201Z"
   },
   {
    "duration": 10,
    "start_time": "2023-02-23T10:38:53.816Z"
   },
   {
    "duration": 18,
    "start_time": "2023-02-23T10:39:01.472Z"
   },
   {
    "duration": 16,
    "start_time": "2023-02-23T10:39:15.125Z"
   },
   {
    "duration": 5,
    "start_time": "2023-02-23T10:40:09.037Z"
   },
   {
    "duration": 5,
    "start_time": "2023-02-23T10:40:40.965Z"
   },
   {
    "duration": 9,
    "start_time": "2023-02-23T10:41:08.165Z"
   },
   {
    "duration": 13,
    "start_time": "2023-02-23T10:41:17.835Z"
   },
   {
    "duration": 14,
    "start_time": "2023-02-23T10:41:35.654Z"
   },
   {
    "duration": 8,
    "start_time": "2023-02-23T10:41:40.566Z"
   },
   {
    "duration": 7,
    "start_time": "2023-02-23T10:42:11.389Z"
   },
   {
    "duration": 4,
    "start_time": "2023-02-23T10:42:55.314Z"
   },
   {
    "duration": 4,
    "start_time": "2023-02-23T10:43:31.486Z"
   },
   {
    "duration": 3,
    "start_time": "2023-02-23T10:45:44.385Z"
   },
   {
    "duration": 1112,
    "start_time": "2023-02-23T10:47:35.597Z"
   },
   {
    "duration": 1108,
    "start_time": "2023-02-23T10:48:10.196Z"
   },
   {
    "duration": 3,
    "start_time": "2023-02-23T10:48:26.375Z"
   },
   {
    "duration": 4,
    "start_time": "2023-02-23T10:48:28.818Z"
   },
   {
    "duration": 11,
    "start_time": "2023-02-23T10:48:34.744Z"
   },
   {
    "duration": 4,
    "start_time": "2023-02-23T10:49:18.053Z"
   },
   {
    "duration": 4,
    "start_time": "2023-02-23T10:49:33.288Z"
   },
   {
    "duration": 5,
    "start_time": "2023-02-23T10:52:31.925Z"
   },
   {
    "duration": 4,
    "start_time": "2023-02-23T10:53:08.812Z"
   },
   {
    "duration": 1123,
    "start_time": "2023-02-23T10:54:43.927Z"
   },
   {
    "duration": 3,
    "start_time": "2023-02-23T10:54:45.052Z"
   },
   {
    "duration": 9,
    "start_time": "2023-02-23T10:54:45.056Z"
   },
   {
    "duration": 67,
    "start_time": "2023-02-23T10:54:45.066Z"
   },
   {
    "duration": 11,
    "start_time": "2023-02-23T10:54:45.136Z"
   },
   {
    "duration": 11,
    "start_time": "2023-02-23T10:54:45.149Z"
   },
   {
    "duration": 10,
    "start_time": "2023-02-23T10:54:45.161Z"
   },
   {
    "duration": 16,
    "start_time": "2023-02-23T10:54:45.172Z"
   },
   {
    "duration": 9,
    "start_time": "2023-02-23T10:54:45.190Z"
   },
   {
    "duration": 37,
    "start_time": "2023-02-23T10:54:45.200Z"
   },
   {
    "duration": 10,
    "start_time": "2023-02-23T10:54:45.239Z"
   },
   {
    "duration": 13,
    "start_time": "2023-02-23T10:54:45.251Z"
   },
   {
    "duration": 26,
    "start_time": "2023-02-23T10:54:45.266Z"
   },
   {
    "duration": 39,
    "start_time": "2023-02-23T10:54:45.297Z"
   },
   {
    "duration": 27,
    "start_time": "2023-02-23T10:54:45.338Z"
   },
   {
    "duration": 16,
    "start_time": "2023-02-23T10:54:45.366Z"
   },
   {
    "duration": 19,
    "start_time": "2023-02-23T10:54:45.384Z"
   },
   {
    "duration": 10,
    "start_time": "2023-02-23T10:54:45.405Z"
   },
   {
    "duration": 4,
    "start_time": "2023-02-23T10:54:45.417Z"
   },
   {
    "duration": 14,
    "start_time": "2023-02-23T10:54:45.423Z"
   },
   {
    "duration": 14,
    "start_time": "2023-02-23T10:54:45.440Z"
   },
   {
    "duration": 10,
    "start_time": "2023-02-23T10:54:45.456Z"
   },
   {
    "duration": 14,
    "start_time": "2023-02-23T10:54:45.468Z"
   },
   {
    "duration": 18,
    "start_time": "2023-02-23T10:54:45.484Z"
   },
   {
    "duration": 12,
    "start_time": "2023-02-23T10:54:45.504Z"
   },
   {
    "duration": 182,
    "start_time": "2023-02-23T10:54:45.517Z"
   },
   {
    "duration": 136,
    "start_time": "2023-02-23T10:54:45.701Z"
   },
   {
    "duration": 9,
    "start_time": "2023-02-23T10:54:45.838Z"
   },
   {
    "duration": 7,
    "start_time": "2023-02-23T10:54:45.848Z"
   },
   {
    "duration": 11,
    "start_time": "2023-02-23T10:54:45.857Z"
   },
   {
    "duration": 13,
    "start_time": "2023-02-23T10:54:45.870Z"
   },
   {
    "duration": 13,
    "start_time": "2023-02-23T10:54:45.885Z"
   },
   {
    "duration": 296,
    "start_time": "2023-02-23T10:54:45.900Z"
   },
   {
    "duration": 254,
    "start_time": "2023-02-23T10:54:46.197Z"
   },
   {
    "duration": 7,
    "start_time": "2023-02-23T10:54:46.453Z"
   },
   {
    "duration": 293,
    "start_time": "2023-02-23T10:54:46.461Z"
   },
   {
    "duration": 7,
    "start_time": "2023-02-23T10:54:46.755Z"
   },
   {
    "duration": 228,
    "start_time": "2023-02-23T10:54:46.764Z"
   },
   {
    "duration": 9,
    "start_time": "2023-02-23T10:54:46.994Z"
   },
   {
    "duration": 305,
    "start_time": "2023-02-23T10:54:47.005Z"
   },
   {
    "duration": 22,
    "start_time": "2023-02-23T10:54:47.315Z"
   },
   {
    "duration": 8,
    "start_time": "2023-02-23T10:54:47.340Z"
   },
   {
    "duration": 6,
    "start_time": "2023-02-23T10:54:47.350Z"
   },
   {
    "duration": 163,
    "start_time": "2023-02-23T10:54:47.357Z"
   },
   {
    "duration": 153,
    "start_time": "2023-02-23T10:54:47.522Z"
   },
   {
    "duration": 6,
    "start_time": "2023-02-23T10:54:47.677Z"
   },
   {
    "duration": 156,
    "start_time": "2023-02-23T10:54:47.685Z"
   },
   {
    "duration": 232,
    "start_time": "2023-02-23T10:54:47.843Z"
   },
   {
    "duration": 6,
    "start_time": "2023-02-23T10:54:48.077Z"
   },
   {
    "duration": 18,
    "start_time": "2023-02-23T10:54:48.085Z"
   },
   {
    "duration": 127,
    "start_time": "2023-02-23T10:54:48.104Z"
   },
   {
    "duration": 139,
    "start_time": "2023-02-23T10:54:48.233Z"
   },
   {
    "duration": 23,
    "start_time": "2023-02-23T10:54:48.373Z"
   },
   {
    "duration": 268,
    "start_time": "2023-02-23T10:54:48.398Z"
   },
   {
    "duration": 12,
    "start_time": "2023-02-23T10:54:48.668Z"
   },
   {
    "duration": 13,
    "start_time": "2023-02-23T10:54:48.682Z"
   },
   {
    "duration": 10,
    "start_time": "2023-02-23T10:54:48.697Z"
   },
   {
    "duration": 26,
    "start_time": "2023-02-23T10:54:48.736Z"
   },
   {
    "duration": 17,
    "start_time": "2023-02-23T10:54:48.764Z"
   },
   {
    "duration": 121,
    "start_time": "2023-02-23T11:04:39.612Z"
   },
   {
    "duration": 129,
    "start_time": "2023-02-23T11:05:08.498Z"
   },
   {
    "duration": 135,
    "start_time": "2023-02-23T11:05:15.304Z"
   },
   {
    "duration": 132,
    "start_time": "2023-02-23T11:05:19.556Z"
   },
   {
    "duration": 136,
    "start_time": "2023-02-23T11:05:30.995Z"
   },
   {
    "duration": 143,
    "start_time": "2023-02-23T11:05:36.269Z"
   },
   {
    "duration": 128,
    "start_time": "2023-02-23T11:05:53.398Z"
   },
   {
    "duration": 13,
    "start_time": "2023-02-23T11:11:48.799Z"
   },
   {
    "duration": 1126,
    "start_time": "2023-02-23T11:13:29.569Z"
   },
   {
    "duration": 2,
    "start_time": "2023-02-23T11:13:30.697Z"
   },
   {
    "duration": 19,
    "start_time": "2023-02-23T11:13:30.701Z"
   },
   {
    "duration": 75,
    "start_time": "2023-02-23T11:13:30.723Z"
   },
   {
    "duration": 12,
    "start_time": "2023-02-23T11:13:30.799Z"
   },
   {
    "duration": 14,
    "start_time": "2023-02-23T11:13:30.813Z"
   },
   {
    "duration": 18,
    "start_time": "2023-02-23T11:13:30.829Z"
   },
   {
    "duration": 26,
    "start_time": "2023-02-23T11:13:30.849Z"
   },
   {
    "duration": 28,
    "start_time": "2023-02-23T11:13:30.877Z"
   },
   {
    "duration": 28,
    "start_time": "2023-02-23T11:13:30.908Z"
   },
   {
    "duration": 26,
    "start_time": "2023-02-23T11:13:30.938Z"
   },
   {
    "duration": 20,
    "start_time": "2023-02-23T11:13:30.966Z"
   },
   {
    "duration": 15,
    "start_time": "2023-02-23T11:13:30.988Z"
   },
   {
    "duration": 25,
    "start_time": "2023-02-23T11:13:31.005Z"
   },
   {
    "duration": 22,
    "start_time": "2023-02-23T11:13:31.032Z"
   },
   {
    "duration": 13,
    "start_time": "2023-02-23T11:13:31.056Z"
   },
   {
    "duration": 13,
    "start_time": "2023-02-23T11:13:31.070Z"
   },
   {
    "duration": 15,
    "start_time": "2023-02-23T11:13:31.084Z"
   },
   {
    "duration": 12,
    "start_time": "2023-02-23T11:13:31.100Z"
   },
   {
    "duration": 20,
    "start_time": "2023-02-23T11:13:31.113Z"
   },
   {
    "duration": 27,
    "start_time": "2023-02-23T11:13:31.134Z"
   },
   {
    "duration": 26,
    "start_time": "2023-02-23T11:13:31.163Z"
   },
   {
    "duration": 32,
    "start_time": "2023-02-23T11:13:31.190Z"
   },
   {
    "duration": 26,
    "start_time": "2023-02-23T11:13:31.224Z"
   },
   {
    "duration": 9,
    "start_time": "2023-02-23T11:13:31.252Z"
   },
   {
    "duration": 158,
    "start_time": "2023-02-23T11:13:31.262Z"
   },
   {
    "duration": 120,
    "start_time": "2023-02-23T11:13:31.421Z"
   },
   {
    "duration": 6,
    "start_time": "2023-02-23T11:13:31.544Z"
   },
   {
    "duration": 16,
    "start_time": "2023-02-23T11:13:31.551Z"
   },
   {
    "duration": 24,
    "start_time": "2023-02-23T11:13:31.569Z"
   },
   {
    "duration": 7,
    "start_time": "2023-02-23T11:13:31.594Z"
   },
   {
    "duration": 11,
    "start_time": "2023-02-23T11:13:31.603Z"
   },
   {
    "duration": 243,
    "start_time": "2023-02-23T11:13:31.615Z"
   },
   {
    "duration": 210,
    "start_time": "2023-02-23T11:13:31.860Z"
   },
   {
    "duration": 7,
    "start_time": "2023-02-23T11:13:32.072Z"
   },
   {
    "duration": 275,
    "start_time": "2023-02-23T11:13:32.081Z"
   },
   {
    "duration": 6,
    "start_time": "2023-02-23T11:13:32.357Z"
   },
   {
    "duration": 240,
    "start_time": "2023-02-23T11:13:32.365Z"
   },
   {
    "duration": 11,
    "start_time": "2023-02-23T11:13:32.607Z"
   },
   {
    "duration": 293,
    "start_time": "2023-02-23T11:13:32.620Z"
   },
   {
    "duration": 8,
    "start_time": "2023-02-23T11:13:32.915Z"
   },
   {
    "duration": 15,
    "start_time": "2023-02-23T11:13:32.925Z"
   },
   {
    "duration": 5,
    "start_time": "2023-02-23T11:13:32.942Z"
   },
   {
    "duration": 141,
    "start_time": "2023-02-23T11:13:32.948Z"
   },
   {
    "duration": 139,
    "start_time": "2023-02-23T11:13:33.091Z"
   },
   {
    "duration": 6,
    "start_time": "2023-02-23T11:13:33.232Z"
   },
   {
    "duration": 135,
    "start_time": "2023-02-23T11:13:33.240Z"
   },
   {
    "duration": 218,
    "start_time": "2023-02-23T11:13:33.376Z"
   },
   {
    "duration": 145,
    "start_time": "2023-02-23T11:13:33.595Z"
   },
   {
    "duration": 4,
    "start_time": "2023-02-23T11:13:33.742Z"
   },
   {
    "duration": 22,
    "start_time": "2023-02-23T11:13:33.748Z"
   },
   {
    "duration": 94,
    "start_time": "2023-02-23T11:13:33.772Z"
   },
   {
    "duration": 115,
    "start_time": "2023-02-23T11:13:33.867Z"
   },
   {
    "duration": 22,
    "start_time": "2023-02-23T11:13:33.984Z"
   },
   {
    "duration": 154,
    "start_time": "2023-02-23T11:13:34.008Z"
   },
   {
    "duration": 9,
    "start_time": "2023-02-23T11:13:34.163Z"
   },
   {
    "duration": 8,
    "start_time": "2023-02-23T11:13:34.174Z"
   },
   {
    "duration": 8,
    "start_time": "2023-02-23T11:13:34.184Z"
   },
   {
    "duration": 44,
    "start_time": "2023-02-23T11:13:34.193Z"
   },
   {
    "duration": 12,
    "start_time": "2023-02-23T11:13:34.238Z"
   },
   {
    "duration": 1427,
    "start_time": "2023-02-24T07:21:50.017Z"
   },
   {
    "duration": 3,
    "start_time": "2023-02-24T07:21:51.446Z"
   },
   {
    "duration": 30,
    "start_time": "2023-02-24T07:21:51.450Z"
   },
   {
    "duration": 268,
    "start_time": "2023-02-24T07:21:51.483Z"
   },
   {
    "duration": 13,
    "start_time": "2023-02-24T07:21:51.752Z"
   },
   {
    "duration": 26,
    "start_time": "2023-02-24T07:21:51.766Z"
   },
   {
    "duration": 25,
    "start_time": "2023-02-24T07:21:51.794Z"
   },
   {
    "duration": 25,
    "start_time": "2023-02-24T07:21:51.821Z"
   },
   {
    "duration": 23,
    "start_time": "2023-02-24T07:21:51.847Z"
   },
   {
    "duration": 25,
    "start_time": "2023-02-24T07:21:51.873Z"
   },
   {
    "duration": 34,
    "start_time": "2023-02-24T07:21:51.899Z"
   },
   {
    "duration": 25,
    "start_time": "2023-02-24T07:21:51.935Z"
   },
   {
    "duration": 40,
    "start_time": "2023-02-24T07:21:51.962Z"
   },
   {
    "duration": 30,
    "start_time": "2023-02-24T07:21:52.003Z"
   },
   {
    "duration": 39,
    "start_time": "2023-02-24T07:21:52.035Z"
   },
   {
    "duration": 20,
    "start_time": "2023-02-24T07:21:52.077Z"
   },
   {
    "duration": 60,
    "start_time": "2023-02-24T07:21:52.100Z"
   },
   {
    "duration": 20,
    "start_time": "2023-02-24T07:21:52.161Z"
   },
   {
    "duration": 17,
    "start_time": "2023-02-24T07:21:52.184Z"
   },
   {
    "duration": 18,
    "start_time": "2023-02-24T07:21:52.203Z"
   },
   {
    "duration": 35,
    "start_time": "2023-02-24T07:21:52.223Z"
   },
   {
    "duration": 10,
    "start_time": "2023-02-24T07:21:52.260Z"
   },
   {
    "duration": 38,
    "start_time": "2023-02-24T07:21:52.271Z"
   },
   {
    "duration": 31,
    "start_time": "2023-02-24T07:21:52.311Z"
   },
   {
    "duration": 24,
    "start_time": "2023-02-24T07:21:52.344Z"
   },
   {
    "duration": 182,
    "start_time": "2023-02-24T07:21:52.371Z"
   },
   {
    "duration": 134,
    "start_time": "2023-02-24T07:21:52.554Z"
   },
   {
    "duration": 7,
    "start_time": "2023-02-24T07:21:52.692Z"
   },
   {
    "duration": 28,
    "start_time": "2023-02-24T07:21:52.701Z"
   },
   {
    "duration": 39,
    "start_time": "2023-02-24T07:21:52.730Z"
   },
   {
    "duration": 23,
    "start_time": "2023-02-24T07:21:52.771Z"
   },
   {
    "duration": 47,
    "start_time": "2023-02-24T07:21:52.796Z"
   },
   {
    "duration": 336,
    "start_time": "2023-02-24T07:21:52.845Z"
   },
   {
    "duration": 229,
    "start_time": "2023-02-24T07:21:53.183Z"
   },
   {
    "duration": 6,
    "start_time": "2023-02-24T07:21:53.414Z"
   },
   {
    "duration": 358,
    "start_time": "2023-02-24T07:21:53.421Z"
   },
   {
    "duration": 7,
    "start_time": "2023-02-24T07:21:53.781Z"
   },
   {
    "duration": 242,
    "start_time": "2023-02-24T07:21:53.790Z"
   },
   {
    "duration": 18,
    "start_time": "2023-02-24T07:21:54.034Z"
   },
   {
    "duration": 297,
    "start_time": "2023-02-24T07:21:54.054Z"
   },
   {
    "duration": 11,
    "start_time": "2023-02-24T07:21:54.352Z"
   },
   {
    "duration": 29,
    "start_time": "2023-02-24T07:21:54.365Z"
   },
   {
    "duration": 16,
    "start_time": "2023-02-24T07:21:54.396Z"
   },
   {
    "duration": 172,
    "start_time": "2023-02-24T07:21:54.413Z"
   },
   {
    "duration": 156,
    "start_time": "2023-02-24T07:21:54.587Z"
   },
   {
    "duration": 5,
    "start_time": "2023-02-24T07:21:54.748Z"
   },
   {
    "duration": 158,
    "start_time": "2023-02-24T07:21:54.755Z"
   },
   {
    "duration": 231,
    "start_time": "2023-02-24T07:21:54.915Z"
   },
   {
    "duration": 203,
    "start_time": "2023-02-24T07:21:55.148Z"
   },
   {
    "duration": 7,
    "start_time": "2023-02-24T07:21:55.353Z"
   },
   {
    "duration": 29,
    "start_time": "2023-02-24T07:21:55.364Z"
   },
   {
    "duration": 126,
    "start_time": "2023-02-24T07:21:55.396Z"
   },
   {
    "duration": 129,
    "start_time": "2023-02-24T07:21:55.525Z"
   },
   {
    "duration": 25,
    "start_time": "2023-02-24T07:21:55.656Z"
   },
   {
    "duration": 233,
    "start_time": "2023-02-24T07:21:55.683Z"
   },
   {
    "duration": 12,
    "start_time": "2023-02-24T07:21:55.918Z"
   },
   {
    "duration": 9,
    "start_time": "2023-02-24T07:21:55.949Z"
   },
   {
    "duration": 12,
    "start_time": "2023-02-24T07:21:55.960Z"
   },
   {
    "duration": 38,
    "start_time": "2023-02-24T07:21:55.974Z"
   },
   {
    "duration": 16,
    "start_time": "2023-02-24T07:21:56.013Z"
   }
  ],
  "kernelspec": {
   "display_name": "Python 3 (ipykernel)",
   "language": "python",
   "name": "python3"
  },
  "language_info": {
   "codemirror_mode": {
    "name": "ipython",
    "version": 3
   },
   "file_extension": ".py",
   "mimetype": "text/x-python",
   "name": "python",
   "nbconvert_exporter": "python",
   "pygments_lexer": "ipython3",
   "version": "3.11.4"
  },
  "toc": {
   "base_numbering": 1,
   "nav_menu": {},
   "number_sections": true,
   "sideBar": true,
   "skip_h1_title": true,
   "title_cell": "Table of Contents",
   "title_sidebar": "Contents",
   "toc_cell": false,
   "toc_position": {},
   "toc_section_display": true,
   "toc_window_display": false
  }
 },
 "nbformat": 4,
 "nbformat_minor": 4
}
